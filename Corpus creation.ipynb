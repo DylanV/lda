{
 "cells": [
  {
   "cell_type": "code",
   "execution_count": 1,
   "metadata": {
    "collapsed": true
   },
   "outputs": [],
   "source": [
    "import os\n",
    "import numpy as np\n",
    "import pandas as pd\n",
    "\n",
    "from sklearn.cross_validation import train_test_split\n",
    "\n",
    "def read_ratings(file_path, sep='::'):\n",
    "    \"\"\"\n",
    "    Reads the ratings file into a user x item DataFrame. Ratings are stored in 'database' form.\n",
    "    Where each line is in the form: <user_id><sep><item_id><sep><rating><sep><timestamp>\n",
    "    Unkown values are 0 and ratings are on a 1-5 scale\n",
    "    :param file_path: The ratings file path\n",
    "    :param sep: The separator between items\n",
    "    :return: The user x item ratings DataFrame\n",
    "    \"\"\"\n",
    "    ratings_file = os.path.abspath(file_path)\n",
    "    column_names = ['userId', 'movieId', 'rating', 'timestamp']\n",
    "    ratings = pd.read_csv(ratings_file, names=column_names, sep=sep, engine='python')\n",
    "    ratings = ratings.drop('timestamp', axis=1)\n",
    "    ratings[['userId', 'movieId']] = ratings[['userId', 'movieId']].astype('int32')\n",
    "    ratings[['rating']] = ratings[['rating']].astype('int8')\n",
    "    ratings = ratings.pivot('userId', 'movieId', 'rating').fillna(value=0)\n",
    "    return ratings\n",
    "\n",
    "def split_train_test(ratings, test_ratio=0.2):\n",
    "    \"\"\"\n",
    "    Split the ratings matrix into test and train matrices.\n",
    "    :param ratings: The original user x item ratings DataFrame\n",
    "    :type ratings: DataFrame\n",
    "    :param test_ratio: The ratio of ratings to take for the test dataset\n",
    "    :type test_ratio: float\n",
    "    :return: The train and test ratings dataFrames\n",
    "    \"\"\"\n",
    "    test = pd.DataFrame(np.zeros(ratings.shape), index=ratings.index, columns=ratings.columns)\n",
    "    train = pd.DataFrame(np.zeros(ratings.shape), index=ratings.index, columns=ratings.columns)\n",
    "\n",
    "    for user in xrange(ratings.shape[0]):\n",
    "        user_ratings_indexes = ratings.iloc[user, :].nonzero()[0]\n",
    "        train_indexes, test_indexes = train_test_split(user_ratings_indexes, test_size=test_ratio)\n",
    "        train.iloc[user, train_indexes] = ratings.iloc[user, train_indexes]\n",
    "        test.iloc[user, test_indexes] = ratings.iloc[user, test_indexes]\n",
    "\n",
    "    return train, test\n",
    "\n",
    "def get_sim(userId, movieId, gamma, pzw, movies, topics):\n",
    "    movie1 = pzw[movies.get_loc(movieId)]\n",
    "    user1 = gamma[userId]\n",
    "\n",
    "    top = user1.multiply(movie1)\n",
    "    user_tot = 0\n",
    "    movie_tot = 0\n",
    "    for i in xrange(topics):\n",
    "        user_tot += user1[i] * user1[i]\n",
    "        movie_tot += movie1[i] * movie1[i]\n",
    "    user_tot = np.sqrt(user_tot)\n",
    "    movie_tot = np.sqrt(movie_tot)\n",
    "    sim = top.sum() / (user_tot * movie_tot)\n",
    "    return sim"
   ]
  },
  {
   "cell_type": "code",
   "execution_count": 34,
   "metadata": {
    "collapsed": false
   },
   "outputs": [],
   "source": [
    "path = os.path.join(os.getcwd(), \"datasets_rating\", \"ml1m\", \"ratings.dat\")\n",
    "full = read_ratings(path)\n",
    "\n",
    "users= full.index\n",
    "movies = pd.Index(full.columns.unique())\n",
    "\n",
    "ratings, test = split_train_test(full)"
   ]
  },
  {
   "cell_type": "code",
   "execution_count": 3,
   "metadata": {
    "collapsed": false
   },
   "outputs": [],
   "source": [
    "ratings = ratings.replace(0, np.nan)\n",
    "user_means = pd.DataFrame(ratings.mean(axis=1), index=ratings.index, columns=['mean']).fillna(value=0)\n",
    "item_means = pd.DataFrame(ratings.mean(axis=0), index=ratings.columns, columns=['mean']).fillna(value=0)\n",
    "# user_offsets = ratings.subtract(item_means['mean'], 1).abs().mean(axis=1)\n",
    "user_offsets = ratings.subtract(item_means['mean'], 1).mean(axis=1)\n",
    "new = ratings.subtract(item_means['mean'], 1).divide(user_offsets, 0).transpose().unstack().dropna()"
   ]
  },
  {
   "cell_type": "code",
   "execution_count": 118,
   "metadata": {
    "collapsed": false
   },
   "outputs": [],
   "source": [
    "fo = open(\"rating.dat\", \"w\")\n",
    "\n",
    "line = str(len(movies)) + \" \"\n",
    "for movie in movies:\n",
    "    line += str(movies.get_loc(movie)) + \":1 \"\n",
    "line += \"\\n\"\n",
    "fo.write(line)\n",
    "\n",
    "neg_docs = \"\"\n",
    "\n",
    "for user in users:\n",
    "    pos_doc = \"\"\n",
    "    neg_doc = \"\"\n",
    "    \n",
    "    count = 0\n",
    "    neg_count = 0\n",
    "    \n",
    "    for item in new[user].iteritems():\n",
    "        rating = item[1]\n",
    "        if rating < 0:\n",
    "            score = 0\n",
    "            neg_count += 1\n",
    "            if rating > -1:\n",
    "                score = 1\n",
    "            else:\n",
    "                score = 2\n",
    "                \n",
    "            neg_doc += str(movies.get_loc(item[0])) + \":\" + str(score) + \" \"\n",
    "                \n",
    "        elif rating >= 0:\n",
    "            count += 1\n",
    "            score = 0\n",
    "            if rating < 1:\n",
    "                score = 1\n",
    "            else:\n",
    "                score = 2\n",
    "            \n",
    "            pos_doc += str(movies.get_loc(item[0])) + \":\" + str(score) + \" \"\n",
    "            \n",
    "    line = str(count) + \" \" + pos_doc + \"\\n\"\n",
    "    neg_docs += str(neg_count) + \" \" + neg_doc + \"\\n\"\n",
    "    fo.write(line)\n",
    "    \n",
    "fo.write(neg_docs)\n",
    "fo.close()"
   ]
  },
  {
   "cell_type": "code",
   "execution_count": 23,
   "metadata": {
    "collapsed": false
   },
   "outputs": [],
   "source": [
    "topics = 50\n",
    "# load gamma\n",
    "path = os.path.join(os.getcwd(), \"cpp\", \"params\", \"ratings\", str(topics), \"gamma.dat\")\n",
    "gamma = pd.read_table(path, sep=\" \", skiprows=1, header = None).transpose()\n",
    "\n",
    "#load beta and get p(z|w)\n",
    "path = os.path.join(os.getcwd(), \"cpp\", \"params\", \"ratings\", str(topics), \"beta.dat\")\n",
    "beta = pd.read_table(path, sep=\" \", skiprows=1, header = None)\n",
    "pw = beta.sum(0)\n",
    "pz = beta.sum(1)\n",
    "pw = pw / pw.sum()\n",
    "pz = pz / pz.sum()\n",
    "pzw = beta.multiply(pz, 0).divide(pw)"
   ]
  },
  {
   "cell_type": "code",
   "execution_count": 35,
   "metadata": {
    "collapsed": false
   },
   "outputs": [],
   "source": [
    "new_test = test.replace(0, np.nan).transpose().unstack().dropna()"
   ]
  },
  {
   "cell_type": "code",
   "execution_count": 88,
   "metadata": {
    "collapsed": true
   },
   "outputs": [],
   "source": [
    "def sim(movie, user, k):\n",
    "    enum = user.multiply(movie).sum()\n",
    "    denom = np.sqrt(user.multiply(user).sum()) * np.sqrt(movie.multiply(movie).sum())\n",
    "    return enum / denom"
   ]
  },
  {
   "cell_type": "code",
   "execution_count": 117,
   "metadata": {
    "collapsed": false
   },
   "outputs": [
    {
     "data": {
      "text/plain": [
       "array([[ 1.      ,  0.944831],\n",
       "       [ 0.944831,  1.      ]])"
      ]
     },
     "execution_count": 117,
     "metadata": {},
     "output_type": "execute_result"
    }
   ],
   "source": [
    "np.corrcoef(pzw[movies.get_loc(745)], gamma[0])"
   ]
  },
  {
   "cell_type": "code",
   "execution_count": 116,
   "metadata": {
    "collapsed": false
   },
   "outputs": [
    {
     "name": "stdout",
     "output_type": "stream",
     "text": [
      "745 0.92 3.0\n",
      "745 [[ 1.        0.944831]\n",
      " [ 0.944831  1.      ]] 3.0\n",
      "\n",
      "531 0.59 4.0\n",
      "531 [[ 1.          0.51708081]\n",
      " [ 0.51708081  1.        ]] 4.0\n",
      "\n",
      "594 0.9 4.0\n",
      "594 [[ 1.          0.96075886]\n",
      " [ 0.96075886  1.        ]] 4.0\n",
      "\n",
      "608 0.15 4.0\n",
      "608 [[ 1.          0.01637929]\n",
      " [ 0.01637929  1.        ]] 4.0\n",
      "\n",
      "783 0.9 4.0\n",
      "783 [[ 1.         0.9602857]\n",
      " [ 0.9602857  1.       ]] 4.0\n",
      "\n",
      "1207 0.12 4.0\n",
      "1207 [[ 1.         -0.05852308]\n",
      " [-0.05852308  1.        ]] 4.0\n",
      "\n",
      "2398 0.9 4.0\n",
      "2398 [[ 1.          0.94978414]\n",
      " [ 0.94978414  1.        ]] 4.0\n",
      "\n",
      "3114 0.51 4.0\n",
      "3114 [[ 1.          0.41492295]\n",
      " [ 0.41492295  1.        ]] 4.0\n",
      "\n",
      "1193 0.2 5.0\n",
      "1193 [[ 1.         -0.00291028]\n",
      " [-0.00291028  1.        ]] 5.0\n",
      "\n",
      "1270 0.35 5.0\n",
      "1270 [[ 1.          0.15226795]\n",
      " [ 0.15226795  1.        ]] 5.0\n",
      "\n",
      "2028 0.28 5.0\n",
      "2028 [[ 1.          0.17731344]\n",
      " [ 0.17731344  1.        ]] 5.0\n",
      "\n"
     ]
    }
   ],
   "source": [
    "for id, rating in new_test[1].sort_values().iteritems():\n",
    "    print id, sim(pzw[movies.get_loc(id)], gamma[0], 20).round(2), rating\n",
    "    print id, np.corrcoef(pzw[movies.get_loc(id)].values, gamma[0].values), rating\n",
    "    print \n"
   ]
  },
  {
   "cell_type": "code",
   "execution_count": 109,
   "metadata": {
    "collapsed": false
   },
   "outputs": [
    {
     "data": {
      "text/plain": [
       "0     0.1\n",
       "1     0.2\n",
       "2     0.1\n",
       "3     0.1\n",
       "4     0.1\n",
       "5     0.1\n",
       "6     0.1\n",
       "7     0.1\n",
       "8     1.0\n",
       "9     0.3\n",
       "10    0.1\n",
       "11    0.1\n",
       "12    0.1\n",
       "13    0.1\n",
       "14    0.1\n",
       "15    0.1\n",
       "16    0.1\n",
       "17    0.1\n",
       "18    0.1\n",
       "19    0.2\n",
       "Name: 0, dtype: float64"
      ]
     },
     "execution_count": 109,
     "metadata": {},
     "output_type": "execute_result"
    }
   ],
   "source": []
  },
  {
   "cell_type": "code",
   "execution_count": 105,
   "metadata": {
    "collapsed": false
   },
   "outputs": [
    {
     "data": {
      "text/plain": [
       "0     0.0\n",
       "1     0.0\n",
       "2     0.0\n",
       "3     0.0\n",
       "4     0.0\n",
       "5     0.1\n",
       "6     0.0\n",
       "7     0.0\n",
       "8     0.7\n",
       "9     0.1\n",
       "10    0.0\n",
       "11    0.0\n",
       "12    0.1\n",
       "13    0.0\n",
       "14    0.0\n",
       "15    0.1\n",
       "16    0.0\n",
       "17    0.0\n",
       "18    0.0\n",
       "19    0.0\n",
       "Name: 708, dtype: float64"
      ]
     },
     "execution_count": 105,
     "metadata": {},
     "output_type": "execute_result"
    }
   ],
   "source": [
    "pzw[movies.get_loc(745)].round(1)"
   ]
  },
  {
   "cell_type": "code",
   "execution_count": 18,
   "metadata": {
    "collapsed": false
   },
   "outputs": [
    {
     "ename": "KeyError",
     "evalue": "51L",
     "output_type": "error",
     "traceback": [
      "\u001b[1;31m---------------------------------------------------------------------------\u001b[0m",
      "\u001b[1;31mKeyError\u001b[0m                                  Traceback (most recent call last)",
      "\u001b[1;32m<ipython-input-18-96c17628b346>\u001b[0m in \u001b[0;36m<module>\u001b[1;34m()\u001b[0m\n\u001b[0;32m     15\u001b[0m     \u001b[1;32mfor\u001b[0m \u001b[0mmovie\u001b[0m \u001b[1;32min\u001b[0m \u001b[0mnew_test\u001b[0m\u001b[1;33m[\u001b[0m\u001b[0muserId\u001b[0m\u001b[1;33m]\u001b[0m\u001b[1;33m.\u001b[0m\u001b[0miteritems\u001b[0m\u001b[1;33m(\u001b[0m\u001b[1;33m)\u001b[0m\u001b[1;33m:\u001b[0m\u001b[1;33m\u001b[0m\u001b[0m\n\u001b[0;32m     16\u001b[0m         \u001b[0mmovieId\u001b[0m\u001b[1;33m,\u001b[0m \u001b[0mrating\u001b[0m \u001b[1;33m=\u001b[0m \u001b[0mmovie\u001b[0m\u001b[1;33m\u001b[0m\u001b[0m\n\u001b[1;32m---> 17\u001b[1;33m         \u001b[0mmovie_mean\u001b[0m \u001b[1;33m=\u001b[0m \u001b[0mitem_means\u001b[0m\u001b[1;33m[\u001b[0m\u001b[1;34m\"mean\"\u001b[0m\u001b[1;33m]\u001b[0m\u001b[1;33m[\u001b[0m\u001b[0mmovieId\u001b[0m\u001b[1;33m]\u001b[0m\u001b[1;33m\u001b[0m\u001b[0m\n\u001b[0m\u001b[0;32m     18\u001b[0m         \u001b[0msim\u001b[0m \u001b[1;33m=\u001b[0m \u001b[0mget_sim\u001b[0m\u001b[1;33m(\u001b[0m\u001b[0muserId\u001b[0m\u001b[1;33m,\u001b[0m \u001b[0mmovieId\u001b[0m\u001b[1;33m,\u001b[0m \u001b[0mgamma\u001b[0m\u001b[1;33m,\u001b[0m \u001b[0mpzw\u001b[0m\u001b[1;33m,\u001b[0m \u001b[0mmovies\u001b[0m\u001b[1;33m,\u001b[0m \u001b[0mtopics\u001b[0m\u001b[1;33m)\u001b[0m\u001b[1;33m\u001b[0m\u001b[0m\n\u001b[0;32m     19\u001b[0m \u001b[1;33m\u001b[0m\u001b[0m\n",
      "\u001b[1;32mD:\\Dev\\Python\\Anaconda\\lib\\site-packages\\pandas\\core\\series.pyc\u001b[0m in \u001b[0;36m__getitem__\u001b[1;34m(self, key)\u001b[0m\n\u001b[0;32m    555\u001b[0m     \u001b[1;32mdef\u001b[0m \u001b[0m__getitem__\u001b[0m\u001b[1;33m(\u001b[0m\u001b[0mself\u001b[0m\u001b[1;33m,\u001b[0m \u001b[0mkey\u001b[0m\u001b[1;33m)\u001b[0m\u001b[1;33m:\u001b[0m\u001b[1;33m\u001b[0m\u001b[0m\n\u001b[0;32m    556\u001b[0m         \u001b[1;32mtry\u001b[0m\u001b[1;33m:\u001b[0m\u001b[1;33m\u001b[0m\u001b[0m\n\u001b[1;32m--> 557\u001b[1;33m             \u001b[0mresult\u001b[0m \u001b[1;33m=\u001b[0m \u001b[0mself\u001b[0m\u001b[1;33m.\u001b[0m\u001b[0mindex\u001b[0m\u001b[1;33m.\u001b[0m\u001b[0mget_value\u001b[0m\u001b[1;33m(\u001b[0m\u001b[0mself\u001b[0m\u001b[1;33m,\u001b[0m \u001b[0mkey\u001b[0m\u001b[1;33m)\u001b[0m\u001b[1;33m\u001b[0m\u001b[0m\n\u001b[0m\u001b[0;32m    558\u001b[0m \u001b[1;33m\u001b[0m\u001b[0m\n\u001b[0;32m    559\u001b[0m             \u001b[1;32mif\u001b[0m \u001b[1;32mnot\u001b[0m \u001b[0mnp\u001b[0m\u001b[1;33m.\u001b[0m\u001b[0misscalar\u001b[0m\u001b[1;33m(\u001b[0m\u001b[0mresult\u001b[0m\u001b[1;33m)\u001b[0m\u001b[1;33m:\u001b[0m\u001b[1;33m\u001b[0m\u001b[0m\n",
      "\u001b[1;32mD:\\Dev\\Python\\Anaconda\\lib\\site-packages\\pandas\\core\\index.pyc\u001b[0m in \u001b[0;36mget_value\u001b[1;34m(self, series, key)\u001b[0m\n\u001b[0;32m   1788\u001b[0m \u001b[1;33m\u001b[0m\u001b[0m\n\u001b[0;32m   1789\u001b[0m         \u001b[1;32mtry\u001b[0m\u001b[1;33m:\u001b[0m\u001b[1;33m\u001b[0m\u001b[0m\n\u001b[1;32m-> 1790\u001b[1;33m             \u001b[1;32mreturn\u001b[0m \u001b[0mself\u001b[0m\u001b[1;33m.\u001b[0m\u001b[0m_engine\u001b[0m\u001b[1;33m.\u001b[0m\u001b[0mget_value\u001b[0m\u001b[1;33m(\u001b[0m\u001b[0ms\u001b[0m\u001b[1;33m,\u001b[0m \u001b[0mk\u001b[0m\u001b[1;33m)\u001b[0m\u001b[1;33m\u001b[0m\u001b[0m\n\u001b[0m\u001b[0;32m   1791\u001b[0m         \u001b[1;32mexcept\u001b[0m \u001b[0mKeyError\u001b[0m \u001b[1;32mas\u001b[0m \u001b[0me1\u001b[0m\u001b[1;33m:\u001b[0m\u001b[1;33m\u001b[0m\u001b[0m\n\u001b[0;32m   1792\u001b[0m             \u001b[1;32mif\u001b[0m \u001b[0mlen\u001b[0m\u001b[1;33m(\u001b[0m\u001b[0mself\u001b[0m\u001b[1;33m)\u001b[0m \u001b[1;33m>\u001b[0m \u001b[1;36m0\u001b[0m \u001b[1;32mand\u001b[0m \u001b[0mself\u001b[0m\u001b[1;33m.\u001b[0m\u001b[0minferred_type\u001b[0m \u001b[1;32min\u001b[0m \u001b[1;33m[\u001b[0m\u001b[1;34m'integer'\u001b[0m\u001b[1;33m,\u001b[0m\u001b[1;34m'boolean'\u001b[0m\u001b[1;33m]\u001b[0m\u001b[1;33m:\u001b[0m\u001b[1;33m\u001b[0m\u001b[0m\n",
      "\u001b[1;32mpandas\\index.pyx\u001b[0m in \u001b[0;36mpandas.index.IndexEngine.get_value (pandas\\index.c:3204)\u001b[1;34m()\u001b[0m\n",
      "\u001b[1;32mpandas\\index.pyx\u001b[0m in \u001b[0;36mpandas.index.IndexEngine.get_value (pandas\\index.c:2903)\u001b[1;34m()\u001b[0m\n",
      "\u001b[1;32mpandas\\index.pyx\u001b[0m in \u001b[0;36mpandas.index.IndexEngine.get_loc (pandas\\index.c:3843)\u001b[1;34m()\u001b[0m\n",
      "\u001b[1;32mpandas\\hashtable.pyx\u001b[0m in \u001b[0;36mpandas.hashtable.Int64HashTable.get_item (pandas\\hashtable.c:6525)\u001b[1;34m()\u001b[0m\n",
      "\u001b[1;32mpandas\\hashtable.pyx\u001b[0m in \u001b[0;36mpandas.hashtable.Int64HashTable.get_item (pandas\\hashtable.c:6463)\u001b[1;34m()\u001b[0m\n",
      "\u001b[1;31mKeyError\u001b[0m: 51L"
     ]
    }
   ],
   "source": [
    "# get rmse\n",
    "total = 0\n",
    "count = 0\n",
    "bl_total = 0\n",
    "new_test = test.replace(0, np.nan).transpose().unstack().dropna()\n",
    "\n",
    "for user in users:\n",
    "    userId = user\n",
    "    if userId % 500 == 0:\n",
    "        print userId, \n",
    "        \n",
    "    mean = user_means[\"mean\"][userId]\n",
    "    offset = user_offsets[userId]\n",
    "    \n",
    "    for movie in new_test[userId].iteritems():\n",
    "        movieId, rating = movie\n",
    "        movie_mean = item_means[\"mean\"][movieId]\n",
    "        sim = get_sim(userId, movieId, gamma, pzw, movies, topics)\n",
    "\n",
    "        if offset < 0:\n",
    "            pred = (movie_mean + offset - 2*sim*offset).clip(1,5).round(0)\n",
    "        else:\n",
    "            pred = (movie_mean - offset + 2*sim*offset).clip(1,5).round(0)\n",
    "        \n",
    "        error = rating - pred\n",
    "        bl_error = rating - (movie_mean+offset)\n",
    "        bl_total += bl_error * bl_error\n",
    "        total += error * error\n",
    "        count += 1\n",
    "        \n",
    "avg_error = total/count\n",
    "avg_bl_error = bl_total/count\n",
    "print \n",
    "print np.sqrt(avg_error)\n",
    "print np.sqrt(avg_bl_error)"
   ]
  }
 ],
 "metadata": {
  "kernelspec": {
   "display_name": "Python 2",
   "language": "python",
   "name": "python2"
  },
  "language_info": {
   "codemirror_mode": {
    "name": "ipython",
    "version": 2
   },
   "file_extension": ".py",
   "mimetype": "text/x-python",
   "name": "python",
   "nbconvert_exporter": "python",
   "pygments_lexer": "ipython2",
   "version": "2.7.11"
  }
 },
 "nbformat": 4,
 "nbformat_minor": 0
}

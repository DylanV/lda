{
 "cells": [
  {
   "cell_type": "code",
   "execution_count": 1,
   "metadata": {
    "collapsed": true
   },
   "outputs": [],
   "source": [
    "import os\n",
    "import numpy as np\n",
    "import pandas as pd\n",
    "\n",
    "from sklearn.cross_validation import train_test_split\n",
    "\n",
    "def read_ratings(file_path, sep='::'):\n",
    "    \"\"\"\n",
    "    Reads the ratings file into a user x item DataFrame. Ratings are stored in 'database' form.\n",
    "    Where each line is in the form: <user_id><sep><item_id><sep><rating><sep><timestamp>\n",
    "    Unkown values are 0 and ratings are on a 1-5 scale\n",
    "    :param file_path: The ratings file path\n",
    "    :param sep: The separator between items\n",
    "    :return: The user x item ratings DataFrame\n",
    "    \"\"\"\n",
    "    ratings_file = os.path.abspath(file_path)\n",
    "    column_names = ['userId', 'movieId', 'rating', 'timestamp']\n",
    "    ratings = pd.read_csv(ratings_file, names=column_names, sep=sep, engine='python')\n",
    "    ratings = ratings.drop('timestamp', axis=1)\n",
    "    ratings[['userId', 'movieId']] = ratings[['userId', 'movieId']].astype('int32')\n",
    "    ratings[['rating']] = ratings[['rating']].astype('int8')\n",
    "    ratings = ratings.pivot('userId', 'movieId', 'rating').fillna(value=0)\n",
    "    return ratings\n",
    "\n",
    "def split_train_test(ratings, test_ratio=0.2):\n",
    "    \"\"\"\n",
    "    Split the ratings matrix into test and train matrices.\n",
    "    :param ratings: The original user x item ratings DataFrame\n",
    "    :type ratings: DataFrame\n",
    "    :param test_ratio: The ratio of ratings to take for the test dataset\n",
    "    :type test_ratio: float\n",
    "    :return: The train and test ratings dataFrames\n",
    "    \"\"\"\n",
    "    test = pd.DataFrame(np.zeros(ratings.shape), index=ratings.index, columns=ratings.columns)\n",
    "    train = pd.DataFrame(np.zeros(ratings.shape), index=ratings.index, columns=ratings.columns)\n",
    "\n",
    "    for user in xrange(ratings.shape[0]):\n",
    "        user_ratings_indexes = ratings.iloc[user, :].nonzero()[0]\n",
    "        train_indexes, test_indexes = train_test_split(user_ratings_indexes, test_size=test_ratio)\n",
    "        train.iloc[user, train_indexes] = ratings.iloc[user, train_indexes]\n",
    "        test.iloc[user, test_indexes] = ratings.iloc[user, test_indexes]\n",
    "\n",
    "    return train, test\n",
    "\n",
    "def get_sim(userId, movieId, gamma, pzw, movies, topics):\n",
    "    movie1 = pzw[movies.get_loc(movieId)]\n",
    "    user1 = gamma[userId]\n",
    "\n",
    "    top = user1.multiply(movie1)\n",
    "    user_tot = 0\n",
    "    movie_tot = 0\n",
    "    for i in xrange(topics):\n",
    "        user_tot += user1[i] * user1[i]\n",
    "        movie_tot += movie1[i] * movie1[i]\n",
    "    user_tot = np.sqrt(user_tot)\n",
    "    movie_tot = np.sqrt(movie_tot)\n",
    "    sim = top.sum() / (user_tot * movie_tot)\n",
    "    return sim"
   ]
  },
  {
   "cell_type": "code",
   "execution_count": 6,
   "metadata": {
    "collapsed": false
   },
   "outputs": [],
   "source": [
    "path = os.path.join(os.getcwd(), \"datasets_rating\", \"ml1m\", \"ratings.dat\")\n",
    "full = read_ratings(path)\n",
    "\n",
    "users= full.index\n",
    "movies = pd.Index(full.columns.unique())\n",
    "\n",
    "ratings, test = split_train_test(full)"
   ]
  },
  {
   "cell_type": "code",
   "execution_count": 73,
   "metadata": {
    "collapsed": false
   },
   "outputs": [],
   "source": [
    "ratings = ratings.replace(0, np.nan)\n",
    "user_means = pd.DataFrame(ratings.mean(axis=1), index=ratings.index, columns=['mean']).fillna(value=0)\n",
    "item_means = pd.DataFrame(ratings.mean(axis=0), index=ratings.columns, columns=['mean']).fillna(value=0)\n",
    "# user_offsets = ratings.subtract(item_means['mean'], 1).abs().mean(axis=1)\n",
    "user_offsets = ratings.subtract(item_means['mean'], 1).mean(axis=1)\n",
    "new = ratings.subtract(item_means['mean'], 1).divide(user_offsets, 0).transpose().unstack().dropna()"
   ]
  },
  {
   "cell_type": "code",
   "execution_count": 12,
   "metadata": {
    "collapsed": false
   },
   "outputs": [],
   "source": [
    "fo = open(\"rating.dat\", \"w\")\n",
    "\n",
    "line = str(len(movies)) + \" \"\n",
    "for movie in movies:\n",
    "    line += str(movies.get_loc(movie)) + \":1 \"\n",
    "line += \"\\n\"\n",
    "fo.write(line)\n",
    "\n",
    "for user in users:\n",
    "    line =\"\"\n",
    "    count = 0\n",
    "    for item in new[user].iteritems():\n",
    "        rating = item[1]\n",
    "        score = 0\n",
    "        if rating < 0:\n",
    "            score = 1\n",
    "        elif rating >= 0:\n",
    "            if rating < 1:\n",
    "                score = 3\n",
    "            elif rating > 1:\n",
    "                score = 4\n",
    "            elif rating > 2:\n",
    "                score = 5\n",
    "        count += 1\n",
    "        line += str(movies.get_loc(item[0])) + \":\"\n",
    "        line += str(score)\n",
    "        line += \" \"\n",
    "    line = str(count) + \" \" + line + \"\\n\"\n",
    "    \n",
    "    fo.write(line)\n",
    "fo.close()"
   ]
  },
  {
   "cell_type": "code",
   "execution_count": 67,
   "metadata": {
    "collapsed": false
   },
   "outputs": [
    {
     "name": "stdout",
     "output_type": "stream",
     "text": [
      "\n"
     ]
    }
   ],
   "source": [
    "topics = 50\n",
    "# load gamma\n",
    "path = os.path.join(os.getcwd(), \"cpp\", \"params\", \"ratings\", str(topics), \"gamma.dat\")\n",
    "gamma = pd.read_table(path, sep=\" \", skiprows=1, header = None).transpose()\n",
    "\n",
    "#load beta and get p(z|w)\n",
    "path = os.path.join(os.getcwd(), \"cpp\", \"params\", \"ratings\", str(topics), \"beta.dat\")\n",
    "beta = pd.read_table(path, sep=\" \", skiprows=1, header = None)\n",
    "pw = beta.sum(0)\n",
    "pz = beta.sum(1)\n",
    "pw = pw / pw.sum()\n",
    "pz = pz / pz.sum()\n",
    "pzw = beta.multiply(pz, 0).divide(pw)"
   ]
  },
  {
   "cell_type": "code",
   "execution_count": 76,
   "metadata": {
    "collapsed": false
   },
   "outputs": [
    {
     "name": "stdout",
     "output_type": "stream",
     "text": [
      "500 1000 1500 2000 2500 3000 3500 4000 4500 5000 5500 6000\n",
      "1.07850146404\n",
      "0.910019050271\n"
     ]
    }
   ],
   "source": [
    "# get rmse\n",
    "total = 0\n",
    "count = 0\n",
    "bl_total = 0\n",
    "new_test = test.replace(0, np.nan).transpose().unstack().dropna()\n",
    "\n",
    "for user in users:\n",
    "    userId = user\n",
    "    if userId % 500 == 0:\n",
    "        print userId, \n",
    "        \n",
    "    mean = user_means[\"mean\"][userId]\n",
    "    offset = user_offsets[userId]\n",
    "    \n",
    "    for movie in new_test[userId].iteritems():\n",
    "        movieId, rating = movie\n",
    "        movie_mean = item_means[\"mean\"][movieId]\n",
    "        sim = get_sim(userId, movieId, gamma, pzw, movies, topics)\n",
    "\n",
    "        if offset < 0:\n",
    "            pred = (movie_mean + offset - 2*sim*offset).clip(1,5).round(0)\n",
    "        else:\n",
    "            pred = (movie_mean - offset + 2*sim*offset).clip(1,5).round(0)\n",
    "        \n",
    "        error = rating - pred\n",
    "        bl_error = rating - (movie_mean+offset)\n",
    "        bl_total += bl_error * bl_error\n",
    "        total += error * error\n",
    "        count += 1\n",
    "        \n",
    "avg_error = total/count\n",
    "avg_bl_error = bl_total/count\n",
    "print \n",
    "print np.sqrt(avg_error)\n",
    "print np.sqrt(avg_bl_error)"
   ]
  }
 ],
 "metadata": {
  "kernelspec": {
   "display_name": "Python 2",
   "language": "python",
   "name": "python2"
  },
  "language_info": {
   "codemirror_mode": {
    "name": "ipython",
    "version": 2
   },
   "file_extension": ".py",
   "mimetype": "text/x-python",
   "name": "python",
   "nbconvert_exporter": "python",
   "pygments_lexer": "ipython2",
   "version": "2.7.10"
  }
 },
 "nbformat": 4,
 "nbformat_minor": 0
}

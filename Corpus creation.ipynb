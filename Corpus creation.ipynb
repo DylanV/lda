{
 "cells": [
  {
   "cell_type": "code",
   "execution_count": 1,
   "metadata": {
    "collapsed": true
   },
   "outputs": [],
   "source": [
    "import os\n",
    "import numpy as np\n",
    "import pandas as pd\n",
    "\n",
    "from sklearn.cross_validation import train_test_split\n",
    "from sklearn.metrics import mean_squared_error\n",
    "\n",
    "def read_ratings(file_path, sep='::'):\n",
    "    ratings_file = os.path.abspath(file_path)\n",
    "    column_names = ['userId', 'movieId', 'rating', 'timestamp']\n",
    "    ratings = pd.read_csv(ratings_file, names=column_names, sep=sep, engine='python')\n",
    "    ratings = ratings.drop('timestamp', axis=1)\n",
    "    ratings[['userId', 'movieId']] = ratings[['userId', 'movieId']].astype('int32')\n",
    "    ratings[['rating']] = ratings[['rating']].astype('int8')\n",
    "    ratings = ratings.pivot('userId', 'movieId', 'rating').fillna(value=0)\n",
    "    return ratings\n",
    "\n",
    "def split_train_test(ratings, test_ratio=0.2):\n",
    "    test = pd.DataFrame(np.zeros(ratings.shape), index=ratings.index, columns=ratings.columns)\n",
    "    train = pd.DataFrame(np.zeros(ratings.shape), index=ratings.index, columns=ratings.columns)\n",
    "\n",
    "    for user in xrange(ratings.shape[0]):\n",
    "        user_ratings_indexes = ratings.iloc[user, :].nonzero()[0]\n",
    "        train_indexes, test_indexes = train_test_split(user_ratings_indexes, test_size=test_ratio)\n",
    "        train.iloc[user, train_indexes] = ratings.iloc[user, train_indexes]\n",
    "        test.iloc[user, test_indexes] = ratings.iloc[user, test_indexes]\n",
    "\n",
    "    return train, test\n",
    "\n",
    "def get_sim(userId, movieId, gamma, pzw, movies, topics):\n",
    "    movie1 = pzw[movies.get_loc(movieId)]\n",
    "    user1 = gamma[userId]\n",
    "\n",
    "    top = user1.multiply(movie1)\n",
    "    user_tot = 0\n",
    "    movie_tot = 0\n",
    "    for i in xrange(topics):\n",
    "        user_tot += user1[i] * user1[i]\n",
    "        movie_tot += movie1[i] * movie1[i]\n",
    "    user_tot = np.sqrt(user_tot)\n",
    "    movie_tot = np.sqrt(movie_tot)\n",
    "    sim = top.sum() / (user_tot * movie_tot)\n",
    "    return sim\n",
    "\n",
    "def get_similiarity_matrix(ratings):\n",
    "    user_similarity = ratings.dot(ratings.transpose())\n",
    "    normalisation_terms = pd.DataFrame(np.diagonal(user_similarity.values), index=ratings.index).apply(np.sqrt)\n",
    "    normalisation_terms = normalisation_terms.dot(normalisation_terms.transpose())\n",
    "    user_similarity = user_similarity.div(normalisation_terms)\n",
    "    return user_similarity\n",
    "\n",
    "def get_rmse(predicted, actual):\n",
    "    return np.sqrt(mean_squared_error(actual.values[actual.values.nonzero()].flatten(),\n",
    "                                      predicted.values[actual.values.nonzero()].flatten()))\n",
    "\n",
    "def adjust_user_similarity_knn(user_similarity, k):\n",
    "        adjusted_similarity = pd.DataFrame(np.zeros(user_similarity.shape),\n",
    "                                           index=user_similarity.index, columns=user_similarity.columns)\n",
    "\n",
    "        for user in user_similarity.iterrows():\n",
    "            top_k_indexes = user[1].sort_values(ascending=False).iloc[0:k+1].index.values\n",
    "            adjusted_similarity.loc[user[0], top_k_indexes] = user_similarity.loc[user[0], top_k_indexes]\n",
    "\n",
    "        return adjusted_similarity"
   ]
  },
  {
   "cell_type": "code",
   "execution_count": 3,
   "metadata": {
    "collapsed": false
   },
   "outputs": [],
   "source": [
    "path = os.path.join(os.getcwd(), \"datasets_rating\", \"ml1m\", \"ratings.dat\")\n",
    "ratings = read_ratings(path)\n",
    "\n",
    "users= ratings.index\n",
    "movies = pd.Index(ratings.columns.unique())\n",
    "\n",
    "# ratings, test = split_train_test(full)"
   ]
  },
  {
   "cell_type": "code",
   "execution_count": 4,
   "metadata": {
    "collapsed": false
   },
   "outputs": [],
   "source": [
    "ratings = ratings.replace(0, np.nan)\n",
    "user_means = pd.DataFrame(ratings.mean(axis=1), index=ratings.index, columns=['mean']).fillna(value=0)\n",
    "item_means = pd.DataFrame(ratings.mean(axis=0), index=ratings.columns, columns=['mean']).fillna(value=0)\n",
    "user_offsets = ratings.subtract(user_means['mean'], 0).abs().mean(axis=1)\n",
    "new = ratings.subtract(user_means['mean'], 0).divide(user_offsets, 0).transpose().unstack().dropna()"
   ]
  },
  {
   "cell_type": "code",
   "execution_count": 10,
   "metadata": {
    "collapsed": false
   },
   "outputs": [],
   "source": [
    "fo = open(\"rating.dat\", \"w\")\n",
    "\n",
    "line = str(len(movies)) + \" \"\n",
    "for movie in movies:\n",
    "    line += str(movies.get_loc(movie)) + \":1 \"\n",
    "line += \"\\n\"\n",
    "fo.write(line)\n",
    "\n",
    "neg_docs = \"\"\n",
    "\n",
    "for user in users:\n",
    "    pos_doc = \"\"\n",
    "    neg_doc = \"\"\n",
    "    \n",
    "    count = 0\n",
    "    neg_count = 0\n",
    "    \n",
    "    for item in new.loc[user].iteritems():\n",
    "        rating = item[1]\n",
    "        if rating < 0:\n",
    "            score = 0\n",
    "            neg_count += 1\n",
    "            if rating > -1:\n",
    "                score = 1\n",
    "            else:\n",
    "                score = 2\n",
    "                \n",
    "            neg_doc += str(movies.get_loc(item[0])) + \":\" + str(score) + \" \"\n",
    "                \n",
    "        elif rating >= 0:\n",
    "            count += 1\n",
    "            score = 0\n",
    "            if rating < 1:\n",
    "                score = 1\n",
    "            else:\n",
    "                score = 2\n",
    "            \n",
    "            pos_doc += str(movies.get_loc(item[0])) + \":\" + str(score) + \" \"\n",
    "            \n",
    "    line = str(count) + \" \" + pos_doc + \"\\n\"\n",
    "    neg_docs += str(neg_count) + \" \" + neg_doc + \"\\n\"\n",
    "    fo.write(line)\n",
    "    \n",
    "fo.write(neg_docs)\n",
    "fo.close()"
   ]
  },
  {
   "cell_type": "code",
   "execution_count": null,
   "metadata": {
    "collapsed": false
   },
   "outputs": [],
   "source": [
    "path = os.path.join(os.getcwd(), \"cpp\", \"param\", \"rating\", \"gamma.dat\")\n",
    "gamma = pd.read_table(path, sep=\" \", skiprows=1, header = None)\n",
    "\n",
    "path = os.path.join(os.getcwd(), \"cpp\", \"param\", \"rating\", \"beta.dat\")\n",
    "beta = pd.read_table(path, sep=\" \", header = None)\n",
    "\n",
    "path = os.path.join(os.getcwd(), \"cpp\", \"param\", \"rating\", \"alpha.dat\")\n",
    "alpha = pd.read_table(path, sep=\" \", header = None)"
   ]
  },
  {
   "cell_type": "code",
   "execution_count": null,
   "metadata": {
    "collapsed": false
   },
   "outputs": [],
   "source": [
    "alpha"
   ]
  },
  {
   "cell_type": "code",
   "execution_count": null,
   "metadata": {
    "collapsed": false
   },
   "outputs": [],
   "source": [
    "path = os.path.join(os.getcwd(), \"datasets_rating\", \"ml1m\", \"movies.dat\")\n",
    "movies = pd.read_table(path, sep=\"::\", header = None, engine='python')"
   ]
  },
  {
   "cell_type": "code",
   "execution_count": null,
   "metadata": {
    "collapsed": false
   },
   "outputs": [],
   "source": [
    "movies = movies.drop(0,1).drop(2,1)"
   ]
  },
  {
   "cell_type": "code",
   "execution_count": null,
   "metadata": {
    "collapsed": false
   },
   "outputs": [],
   "source": [
    "sorted_topics = alpha.transpose().index\n",
    "for topic in sorted_topics:\n",
    "    top_words = beta.loc[topic].sort_values(ascending=False).index\n",
    "    \n",
    "    if topic < 10:\n",
    "        print topic, \" :\" ,\n",
    "    else:\n",
    "        print topic , \":\" , \n",
    "        \n",
    "    for i in xrange(10):\n",
    "        print movies.loc[top_words[i]][1], \n",
    "    print\n",
    "    print"
   ]
  },
  {
   "cell_type": "code",
   "execution_count": null,
   "metadata": {
    "collapsed": true
   },
   "outputs": [],
   "source": []
  }
 ],
 "metadata": {
  "kernelspec": {
   "display_name": "Python 2",
   "language": "python",
   "name": "python2"
  },
  "language_info": {
   "codemirror_mode": {
    "name": "ipython",
    "version": 2
   },
   "file_extension": ".py",
   "mimetype": "text/x-python",
   "name": "python",
   "nbconvert_exporter": "python",
   "pygments_lexer": "ipython2",
   "version": "2.7.10"
  }
 },
 "nbformat": 4,
 "nbformat_minor": 0
}

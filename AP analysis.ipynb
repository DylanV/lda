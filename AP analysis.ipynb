{
 "cells": [
  {
   "cell_type": "code",
   "execution_count": 14,
   "metadata": {
    "collapsed": true
   },
   "outputs": [],
   "source": [
    "import os\n",
    "import numpy as np\n",
    "import pandas as pd"
   ]
  },
  {
   "cell_type": "code",
   "execution_count": 105,
   "metadata": {
    "collapsed": true
   },
   "outputs": [],
   "source": [
    "K = 50\n",
    "path = os.path.join(os.getcwd(), \"cpp\", \"param\", \"ap\", str(K))\n",
    "alpha_path = os.path.join(path, \"alpha.dat\")\n",
    "beta_path = os.path.join(path, \"beta.dat\")\n",
    "\n",
    "s = 0;\n",
    "file = open(alpha_path)\n",
    "s = float(file.readline())\n",
    "\n",
    "mean = file.readline().split()\n",
    "for i, val in enumerate(mean):\n",
    "    mean[i] = float(val)\n",
    "mean = pd.DataFrame(mean)\n",
    "\n",
    "alpha = file.readline().split()\n",
    "for i, val in enumerate(alpha):\n",
    "    alpha[i] = float(val)\n",
    "alpha = pd.DataFrame(alpha)\n",
    "\n",
    "beta = pd.read_table(beta_path, sep=\" \", skiprows=1, header = None)\n",
    "\n",
    "vocab_path = os.path.join(os.getcwd(), \"cpp\", \"datasets\", \"ap\", \"vocab.txt\" )\n",
    "vocab = pd.read_table(vocab_path, header=None)"
   ]
  },
  {
   "cell_type": "code",
   "execution_count": 106,
   "metadata": {
    "collapsed": false
   },
   "outputs": [
    {
     "name": "stdout",
     "output_type": "stream",
     "text": [
      "49 : percent year president government officials soviet national last police bush united south million found thursday party say time money billion\n",
      "\n",
      "12 : i percent new two people years president last soviet first government states state news thursday company court found today day\n",
      "\n",
      "22 : percent two president government people state million years american i new states day monday wednesday court say bush political reported\n",
      "\n",
      "21 : percent two million last i billion officials new day federal time government thursday news years national group american prices made\n",
      "\n",
      "20 : government million new state years two states president american house billion york city people national federal last defense percent military\n",
      "\n",
      "19 : i president government percent soviet first united state three billion states made just thursday reported people says bush house police\n",
      "\n",
      "18 : percent government new million police soviet state first i officials today week federal three house department states last market city\n",
      "\n",
      "17 : million president people years last bush soviet united new officials state news time two york billion national day city today\n",
      "\n",
      "16 : government million first police officials people years two percent time national year last city day house three today union monday\n",
      "\n",
      "15 : million i year police percent soviet bush last company people news two made time three department just american government week\n",
      "\n",
      "14 : year million people two i last united state time national new say wednesday monday tuesday house friday union going just\n",
      "\n",
      "13 : i police percent last year state united soviet time today first government court told bush billion say south years monday\n",
      "\n",
      "11 : new percent president two year million first billion i years soviet made told today party people report state months last\n",
      "\n",
      "48 : i years government president bush first new three year monday federal tuesday states york told market united national say make\n",
      "\n",
      "10 : people million first time officials federal last told state york national week thursday percent department reported report states military committee\n",
      "\n",
      "9  : year people last two first million police i years states time told percent city billion three week government south law\n",
      "\n",
      "8  : new president year i years united today three state two officials police told made people federal thursday soviet going day\n",
      "\n",
      "7  : new people i million bush today two states soviet president year day time percent tuesday court members friday world made\n",
      "\n",
      "6  : million government years year new first percent president two american three last officials people i state company bush monday york\n",
      "\n",
      "5  : new i million years state today last court united police states national told percent day say wednesday president time reported\n",
      "\n",
      "4  : new i government people president years bush time last week federal year officials just american tuesday news court group monday\n",
      "\n",
      "3  : percent two president government people i last states police bush thursday three united house court tuesday state make monday official\n",
      "\n",
      "2  : year percent million last i officials new states first three tuesday billion monday police wednesday group just president reported party\n",
      "\n",
      "1  : i new people government president year two soviet last made tuesday house today friday billion police states military south make\n",
      "\n",
      "23 : i last years two first states told time officials american president percent year house billion new bush million news wednesday\n",
      "\n",
      "24 : year new last people soviet president time told three billion bush company i state day first court tuesday today make\n",
      "\n",
      "25 : percent government people bush two united new police american workers group billion make national work made west say market spokesman\n",
      "\n",
      "26 : percent i police new soviet year states president people bush state day two years made today officials wednesday york american\n",
      "\n",
      "47 : year i years last two percent today bush states president soviet american new monday say first three day government made\n",
      "\n",
      "46 : police first year soviet government years national people told court billion united federal reported defense house report new spokesman tuesday\n",
      "\n",
      "45 : new percent two people police i last president year bush years told united million week thursday officials american company states\n",
      "\n",
      "44 : new two percent million year police national i president billion time tuesday bush first told friday say dukakis says years\n",
      "\n",
      "43 : i years president officials people state government percent national states thursday year told million last first make time american three\n",
      "\n",
      "42 : i new government states president people two time united percent american made first york say group tuesday congress billion week\n",
      "\n",
      "41 : i percent last million state united government national states first three say court today house billion york military people world\n",
      "\n",
      "40 : new people government year president first officials states last national years house told group wednesday today reported thursday union united\n",
      "\n",
      "39 : percent million years united new states time bush told state american government last week first i soviet president officials city\n",
      "\n",
      "38 : new president last people year soviet state police percent million states told officials federal thursday house bush tuesday dukakis today\n",
      "\n",
      "37 : i percent people police last million first three new state president two court south states company party federal years just\n",
      "\n",
      "36 : new million years two year percent state bush first i party today officials york week union three say soviet billion\n",
      "\n",
      "35 : i new million president officials people percent three american national federal government company united news wednesday week tuesday group going\n",
      "\n",
      "34 : people two year years i president government police bush last billion friday national market tuesday new just party members political\n",
      "\n",
      "33 : percent new year i million police last president state soviet united today house three news department city west first found\n",
      "\n",
      "32 : new i people two first soviet bush states year three week billion monday say national american group days court house\n",
      "\n",
      "31 : percent two million people united last time government today state three president week years new house department states court found\n",
      "\n",
      "30 : two people year years told american million states government united time house court bush new soviet military five world president\n",
      "\n",
      "29 : new two percent year government i last first officials soviet state today south years states report party department president market\n",
      "\n",
      "28 : people years government i time last police today united say week thursday news state reported million months day days year\n",
      "\n",
      "27 : government percent last police million united two state states officials three time news house told company today york south monday\n",
      "\n",
      "0  : i new percent people year two years million time united last soviet state federal news american bush friday wednesday told\n",
      "\n"
     ]
    }
   ],
   "source": [
    "sorted_topics = alpha[0].sort_values(ascending=False).index\n",
    "for topic in sorted_topics:\n",
    "    top_words = beta.loc[topic].sort_values(ascending=False).index\n",
    "    \n",
    "    if topic < 10:\n",
    "        print topic, \" :\" ,\n",
    "    else:\n",
    "        print topic , \":\" , \n",
    "        \n",
    "    for i in xrange(20):\n",
    "        print vocab[0].loc[top_words[i]], \n",
    "    print\n",
    "    print"
   ]
  },
  {
   "cell_type": "code",
   "execution_count": 104,
   "metadata": {
    "collapsed": false
   },
   "outputs": [
    {
     "data": {
      "text/plain": [
       "278947000.0"
      ]
     },
     "execution_count": 104,
     "metadata": {},
     "output_type": "execute_result"
    }
   ],
   "source": [
    "s"
   ]
  },
  {
   "cell_type": "code",
   "execution_count": null,
   "metadata": {
    "collapsed": true
   },
   "outputs": [],
   "source": []
  }
 ],
 "metadata": {
  "kernelspec": {
   "display_name": "Python 2",
   "language": "python",
   "name": "python2"
  },
  "language_info": {
   "codemirror_mode": {
    "name": "ipython",
    "version": 2
   },
   "file_extension": ".py",
   "mimetype": "text/x-python",
   "name": "python",
   "nbconvert_exporter": "python",
   "pygments_lexer": "ipython2",
   "version": "2.7.10"
  }
 },
 "nbformat": 4,
 "nbformat_minor": 0
}

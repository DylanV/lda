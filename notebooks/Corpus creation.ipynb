{
 "cells": [
  {
   "cell_type": "code",
   "execution_count": 18,
   "metadata": {
    "collapsed": true
   },
   "outputs": [],
   "source": [
    "import os\n",
    "import numpy as np\n",
    "import pandas as pd\n",
    "\n",
    "from sklearn.cross_validation import train_test_split\n",
    "from sklearn.metrics import mean_squared_error\n",
    "\n",
    "def read_ratings(file_path, sep='::'):\n",
    "    ratings_file = os.path.abspath(file_path)\n",
    "    column_names = ['userId', 'movieId', 'rating', 'timestamp']\n",
    "    ratings = pd.read_csv(ratings_file, names=column_names, sep=sep, engine='python')\n",
    "    ratings = ratings.drop('timestamp', axis=1)\n",
    "    ratings[['userId', 'movieId']] = ratings[['userId', 'movieId']].astype('int32')\n",
    "    ratings[['rating']] = ratings[['rating']].astype('int8')\n",
    "    ratings = ratings.pivot('userId', 'movieId', 'rating').fillna(value=0)\n",
    "    return ratings\n",
    "\n",
    "def split_train_test(ratings, test_ratio=0.2):\n",
    "    test = pd.DataFrame(np.zeros(ratings.shape), index=ratings.index, columns=ratings.columns)\n",
    "    train = pd.DataFrame(np.zeros(ratings.shape), index=ratings.index, columns=ratings.columns)\n",
    "\n",
    "    for user in xrange(ratings.shape[0]):\n",
    "        user_ratings_indexes = ratings.iloc[user, :].nonzero()[0]\n",
    "        train_indexes, test_indexes = train_test_split(user_ratings_indexes, test_size=test_ratio)\n",
    "        train.iloc[user, train_indexes] = ratings.iloc[user, train_indexes]\n",
    "        test.iloc[user, test_indexes] = ratings.iloc[user, test_indexes]\n",
    "\n",
    "    return train, test\n",
    "\n",
    "def get_similiarity_matrix(ratings):\n",
    "    user_similarity = ratings.dot(ratings.transpose())\n",
    "    normalisation_terms = pd.DataFrame(np.diagonal(user_similarity.values), index=ratings.index).apply(np.sqrt)\n",
    "    normalisation_terms = normalisation_terms.dot(normalisation_terms.transpose())\n",
    "    user_similarity = user_similarity.div(normalisation_terms)\n",
    "    return user_similarity\n",
    "\n",
    "def get_rmse(predicted, actual):\n",
    "    return np.sqrt(mean_squared_error(actual.values[actual.values.nonzero()].flatten(),\n",
    "                                      predicted.values[actual.values.nonzero()].flatten()))\n",
    "\n",
    "def adjust_user_similarity_knn(user_similarity, k):\n",
    "        adjusted_similarity = pd.DataFrame(np.zeros(user_similarity.shape),\n",
    "                                           index=user_similarity.index, columns=user_similarity.columns)\n",
    "\n",
    "        for user in user_similarity.iterrows():\n",
    "            top_k_indexes = user[1].sort_values(ascending=False).iloc[0:k+1].index.values\n",
    "            adjusted_similarity.loc[user[0], top_k_indexes] = user_similarity.loc[user[0], top_k_indexes]\n",
    "\n",
    "        return adjusted_similarity\n",
    "        \n",
    "def predict(ratings, user_similarity, user_means, user_std_devs):\n",
    "    predictions = user_similarity.dot(ratings)\n",
    "    denom = user_similarity.abs().sum().transpose()\n",
    "    predictions = predictions.div(denom, axis='index')\n",
    "    \n",
    "    adjusted_predictions_values = predicted.values * self.user_std_devs.values\n",
    "    adjusted_predicted_values = adjusted_predictions_values + self.user_means.values\n",
    "    predictions = pd.DataFrame(adjusted_predicted_values).fillna(value=0)\n",
    "    return predictions"
   ]
  },
  {
   "cell_type": "code",
   "execution_count": 2,
   "metadata": {
    "collapsed": false
   },
   "outputs": [],
   "source": [
    "path = os.path.join(os.getcwd(),\"..\",\"datasets\", \"ml1m\", \"ratings.dat\")\n",
    "full = read_ratings(path)\n",
    "\n",
    "users= full.index\n",
    "movies = pd.Index(full.columns.unique())\n",
    "\n",
    "ratings, test = split_train_test(full)"
   ]
  },
  {
   "cell_type": "code",
   "execution_count": 3,
   "metadata": {
    "collapsed": false
   },
   "outputs": [],
   "source": [
    "ratings = ratings.replace(0, np.nan)\n",
    "user_means = pd.DataFrame(ratings.mean(axis=1), index=ratings.index, columns=['mean']).fillna(value=0)\n",
    "item_means = pd.DataFrame(ratings.mean(axis=0), index=ratings.columns, columns=['mean']).fillna(value=0)\n",
    "user_offsets = ratings.subtract(user_means['mean'], 0).abs().mean(axis=1)\n",
    "new = ratings.subtract(user_means['mean'], 0).divide(user_offsets, 0).transpose().unstack().dropna()"
   ]
  },
  {
   "cell_type": "code",
   "execution_count": 4,
   "metadata": {
    "collapsed": false
   },
   "outputs": [],
   "source": [
    "fo = open(\"rating.dat\", \"w\")\n",
    "\n",
    "line = str(len(movies)) + \" \"\n",
    "for movie in movies:\n",
    "    line += str(movies.get_loc(movie)) + \":1 \"\n",
    "line += \"\\n\"\n",
    "fo.write(line)\n",
    "\n",
    "neg_docs = \"\"\n",
    "\n",
    "for user in users:\n",
    "    pos_doc = \"\"\n",
    "    neg_doc = \"\"\n",
    "    \n",
    "    count = 0\n",
    "    neg_count = 0\n",
    "    \n",
    "    for item in new.loc[user].iteritems():\n",
    "        rating = item[1]\n",
    "        if rating < 0:\n",
    "            score = 0\n",
    "            neg_count += 1\n",
    "            if rating > -1:\n",
    "                score = 1\n",
    "            else:\n",
    "                score = 2\n",
    "                \n",
    "            neg_doc += str(movies.get_loc(item[0])) + \":\" + str(score) + \" \"\n",
    "                \n",
    "        elif rating >= 0:\n",
    "            count += 1\n",
    "            score = 0\n",
    "            if rating < 1:\n",
    "                score = 1\n",
    "            else:\n",
    "                score = 2\n",
    "            \n",
    "            pos_doc += str(movies.get_loc(item[0])) + \":\" + str(score) + \" \"\n",
    "            \n",
    "    line = str(count) + \" \" + pos_doc + \"\\n\"\n",
    "    neg_docs += str(neg_count) + \" \" + neg_doc + \"\\n\"\n",
    "    fo.write(line)\n",
    "    \n",
    "fo.write(neg_docs)\n",
    "fo.close()"
   ]
  },
  {
   "cell_type": "code",
   "execution_count": 137,
   "metadata": {
    "collapsed": false
   },
   "outputs": [],
   "source": [
    "path = os.path.join(os.getcwd(), \"..\", \"param\", \"rating\", \"gamma.dat\")\n",
    "gamma = pd.read_table(path, sep=\" \", skiprows=1, header = None)\n",
    "\n",
    "path = os.path.join(os.getcwd(), \"..\", \"param\", \"rating\", \"beta.dat\")\n",
    "beta = pd.read_table(path, sep=\" \", header = None)\n",
    "\n",
    "path = os.path.join(os.getcwd(), \"..\", \"param\", \"rating\", \"alpha.dat\")\n",
    "alpha = pd.read_table(path, sep=\" \", header = None)"
   ]
  },
  {
   "cell_type": "code",
   "execution_count": 142,
   "metadata": {
    "collapsed": false
   },
   "outputs": [
    {
     "data": {
      "text/html": [
       "<div>\n",
       "<table border=\"1\" class=\"dataframe\">\n",
       "  <thead>\n",
       "    <tr style=\"text-align: right;\">\n",
       "      <th></th>\n",
       "      <th>0</th>\n",
       "      <th>1</th>\n",
       "      <th>2</th>\n",
       "      <th>3</th>\n",
       "      <th>4</th>\n",
       "      <th>5</th>\n",
       "      <th>6</th>\n",
       "      <th>7</th>\n",
       "      <th>8</th>\n",
       "      <th>9</th>\n",
       "      <th>...</th>\n",
       "      <th>90</th>\n",
       "      <th>91</th>\n",
       "      <th>92</th>\n",
       "      <th>93</th>\n",
       "      <th>94</th>\n",
       "      <th>95</th>\n",
       "      <th>96</th>\n",
       "      <th>97</th>\n",
       "      <th>98</th>\n",
       "      <th>99</th>\n",
       "    </tr>\n",
       "  </thead>\n",
       "  <tbody>\n",
       "    <tr>\n",
       "      <th>0</th>\n",
       "      <td>0.01</td>\n",
       "      <td>0.01</td>\n",
       "      <td>0.01</td>\n",
       "      <td>0.01</td>\n",
       "      <td>0.01</td>\n",
       "      <td>0.01</td>\n",
       "      <td>0.01</td>\n",
       "      <td>0.01</td>\n",
       "      <td>0.01</td>\n",
       "      <td>0.01</td>\n",
       "      <td>...</td>\n",
       "      <td>0.01</td>\n",
       "      <td>0.01</td>\n",
       "      <td>0.01</td>\n",
       "      <td>0.01</td>\n",
       "      <td>0.01</td>\n",
       "      <td>0.01</td>\n",
       "      <td>0.01</td>\n",
       "      <td>0.01</td>\n",
       "      <td>0.01</td>\n",
       "      <td>0.01</td>\n",
       "    </tr>\n",
       "  </tbody>\n",
       "</table>\n",
       "<p>1 rows × 100 columns</p>\n",
       "</div>"
      ],
      "text/plain": [
       "     0     1     2     3     4     5     6     7     8     9   ...     90  \\\n",
       "0  0.01  0.01  0.01  0.01  0.01  0.01  0.01  0.01  0.01  0.01  ...   0.01   \n",
       "\n",
       "     91    92    93    94    95    96    97    98    99  \n",
       "0  0.01  0.01  0.01  0.01  0.01  0.01  0.01  0.01  0.01  \n",
       "\n",
       "[1 rows x 100 columns]"
      ]
     },
     "execution_count": 142,
     "metadata": {},
     "output_type": "execute_result"
    }
   ],
   "source": [
    "alpha"
   ]
  },
  {
   "cell_type": "code",
   "execution_count": 138,
   "metadata": {
    "collapsed": false
   },
   "outputs": [],
   "source": [
    "adj_ratings = ratings.subtract(user_means['mean'], 0).divide(user_offsets, 0).fillna(value=0)\n",
    "gamma = gamma.replace(0.01000, 0).loc[adj_ratings.index]"
   ]
  },
  {
   "cell_type": "code",
   "execution_count": 139,
   "metadata": {
    "collapsed": false
   },
   "outputs": [],
   "source": [
    "sim = pd.DataFrame(get_similiarity_matrix(gamma), index=adj_ratings.index, columns=adj_ratings.index).fillna(value=0)"
   ]
  },
  {
   "cell_type": "code",
   "execution_count": 140,
   "metadata": {
    "collapsed": false
   },
   "outputs": [
    {
     "data": {
      "text/plain": [
       "1.0163537287527014"
      ]
     },
     "execution_count": 140,
     "metadata": {},
     "output_type": "execute_result"
    }
   ],
   "source": [
    "predictions = sim.dot(adj_ratings).div(sim.abs().sum(), 0)\n",
    "predictions = predictions.multiply(user_offsets, 0).add(user_means['mean'], 0).fillna(value=0)\n",
    "get_rmse(predictions, test)"
   ]
  },
  {
   "cell_type": "code",
   "execution_count": 141,
   "metadata": {
    "collapsed": false
   },
   "outputs": [],
   "source": [
    "k=10\n",
    "sim_topk = pd.DataFrame(np.zeros(sim.shape), index=sim.index, columns=sim.columns)\n",
    "\n",
    "for user in sim.iterrows():\n",
    "    top_k_indexes = user[1].sort_values(ascending=False).iloc[0:k+1].index.values\n",
    "    sim_topk.loc[user[0], top_k_indexes] = sim.loc[user[0], top_k_indexes]\n"
   ]
  },
  {
   "cell_type": "code",
   "execution_count": 136,
   "metadata": {
    "collapsed": false
   },
   "outputs": [
    {
     "data": {
      "text/plain": [
       "1.0346097562242511"
      ]
     },
     "execution_count": 136,
     "metadata": {},
     "output_type": "execute_result"
    }
   ],
   "source": [
    "predictions = sim_topk.dot(adj_ratings).div(sim.abs().sum(), 0)\n",
    "predictions = predictions.multiply(user_offsets, 0).add(user_means['mean'], 0).fillna(value=0)\n",
    "get_rmse(predictions, test)"
   ]
  },
  {
   "cell_type": "code",
   "execution_count": 13,
   "metadata": {
    "collapsed": false
   },
   "outputs": [],
   "source": [
    "path = os.path.join(os.getcwd(), \"datasets_rating\", \"ml1m\", \"movies.dat\")\n",
    "movies = pd.read_table(path, sep=\"::\", header = None, engine='python')"
   ]
  },
  {
   "cell_type": "code",
   "execution_count": 14,
   "metadata": {
    "collapsed": false
   },
   "outputs": [],
   "source": [
    "movies = movies.drop(0,1).drop(2,1)"
   ]
  },
  {
   "cell_type": "code",
   "execution_count": 28,
   "metadata": {
    "collapsed": false
   },
   "outputs": [
    {
     "name": "stdout",
     "output_type": "stream",
     "text": [
      "0  : Permanent Midnight  | Farinelli: il castrato  | Die Hard  | Victor/Victoria  | Peggy Sue Got Married  | Outrageous Fortune  | Midnight Cowboy  | Turbo: A Power Rangers Movie  | U.S. Marshalls  | Casper  | Splendor  | Return to Paradise  | American Dream  | Second Jungle Book: Mowgli & Baloo, The  | Pretty Woman  | Bride of Re-Animator  | Mortal Thoughts  | Mondo  | Saint of Fort Washington, The  | Everything Relative  | Pete's Dragon  | Madonna: Truth or Dare  | Preacher's Wife, The  | Good Will Hunting  | Dirty Work  | In & Out  | Alice and Martin (Alice et Martin)  | Dumb & Dumber  | Three Musketeers, The  | Hard Day's Night, A  |\n",
      "\n",
      "1  : Two Crimes  | Them!  | Fiendish Plot of Dr. Fu Manchu, The  | Secret Agent  | Dumbo  | King and I, The  | What Dreams May Come  | Bushwhacked  | Harvey  | Thing, The  | Blue Sky  | Road Trip  | Dune  | Working Girl  | Funny Bones  | Shampoo  | Living in Oblivion  | Overnight Delivery  | Seventh Sign, The  | Stupids, The  | Bull Durham  | Dave  | Nosferatu (Nosferatu, eine Symphonie des Grauens)  | Violets Are Blue...  | Star Trek V: The Final Frontier  | Thing From Another World, The  | Election  | Lawn Dogs  | Flying Saucer, The  | Perfect Murder, A  |\n",
      "\n",
      "2  : Inspector Gadget  | Don't Look in the Basement!  | Aces: Iron Eagle III  | One True Thing  | Edge of Seventeen  | Peggy Sue Got Married  | Boys on the Side  | Soft Fruit  | Empty Mirror, The  | Bowfinger  | Permanent Midnight  | I Stand Alone (Seul contre tous)  | Bride of Re-Animator  | Man Who Knew Too Much, The  | Go  | Gate II: Trespassers, The  | Rounders  | Minus Man, The  | Walk on the Moon, A  | Taming of the Shrew, The  | Bad Seed, The  | Love, etc.  | Lifeforce  | Dead Ringers  | Young and Innocent  | Love Bewitched, A (El Amor Brujo)  | Slaughterhouse 2  | Aladdin and the King of Thieves  | Black Mask (Hak hap)  | Battling Butler  |\n",
      "\n",
      "3  : Amateur  | Unforgotten: Twenty-Five Years After Willowbrook  | Pink Floyd - The Wall  | Condorman  | Virtuosity  | Day of the Beast, The (El D�a de la bestia)  | Ace Ventura: When Nature Calls  | Under Siege 2: Dark Territory  | With Friends Like These...  | Next Best Thing, The  | Merry War, A  | Land and Freedom (Tierra y libertad)  | Metisse (Caf� au Lait)  | Eight Days a Week  | Just the Ticket  | Bird of Prey  | Dumbo  | Fox and the Hound, The  | Back to the Future Part III  | Homage  | Yankee Zulu  | Wing Commander  | Blue Chips  | Clue  | Freedom for Us (� nous la libert� )  | Godfather: Part III, The  | Fantastic Planet, The (La Plan�te sauvage)  | Drop Zone  | Jumanji  | Air Bud  |\n",
      "\n",
      "4  : Monty Python and the Holy Grail  | Junior  | Plutonium Circus  | On Golden Pond  | Star Wars: Episode V - The Empire Strikes Back  | Perfect Candidate, A  | Ran  | Playing by Heart  | Unhook the Stars  | Toy Story  | Edge of Seventeen  | Fantastic Planet, The (La Plan�te sauvage)  | Armageddon  | Catwalk  | Go  | Bad Seed, The  | Kansas City  | Tie Me Up! Tie Me Down!  | Rounders  | Client, The  | Love Jones  | One True Thing  | Slaughterhouse 2  | Rising Sun  | Stuart Saves His Family  | House Party 3  | Hollywood Knights, The  | Minus Man, The  | Scorta, La  | Dear Diary (Caro Diario)  |\n",
      "\n",
      "5  : Tin Cup  | Gone Fishin'  | X-Files: Fight the Future, The  | Full Metal Jacket  | Bob Roberts  | Manny & Lo  | Sense and Sensibility  | Sting, The  | Bound  | Kramer Vs. Kramer  | 12 Angry Men  | Innocent Sleep, The  | Little Women  | Perfect Candidate, A  | Wife, The  | Days of Thunder  | Lightning Jack  | Roadside Prophets  | Gulliver's Travels  | City of Angels  | Gone with the Wind  | Spitfire Grill, The  | Small Faces  | One True Thing  | Bird of Prey  | Murder, My Sweet  | Home for the Holidays  | Sound of Music, The  | Sleepover  | Crossfire  |\n",
      "\n",
      "6  : Brother's Kiss, A  | Virtuosity  | Freddy's Dead: The Final Nightmare  | Aladdin and the King of Thieves  | Koyaanisqatsi  | Howling II: Your Sister Is a Werewolf  | Killer: A Journal of Murder  | Back to the Future Part III  | Faust  | Last Emperor, The  | Death Becomes Her  | Gone with the Wind  | Walk in the Sun, A  | Trigger Effect, The  | Entertaining Angels: The Dorothy Day Story  | Dune  | N�nette et Boni  | Escape from New York  | Inspector Gadget  | Henry Fool  | American Tail, An  | Big Trees, The  | Star Wars: Episode V - The Empire Strikes Back  | Clue  | Amazing Panda Adventure, The  | Murder at 1600  | Dead Calm  | Governess, The  | Ideal Husband, An  | Police Academy 3: Back in Training  |\n",
      "\n",
      "7  : Surf Nazis Must Die  | Rapture, The  | Planet of the Apes  | Once Upon a Time in America  | Swept Away (Travolti da un insolito destino nell'azzurro mare d'Agosto)  | Westworld  | Henry Fool  | Insider, The  | Bringing Up Baby  | Manxman, The  | Cool Dry Place, A  | Logan's Run  | Waking the Dead  | American Flyers  | Jawbreaker  | Hands on a Hard Body  | Grandview, U.S.A.  | Loaded Weapon 1  | Niagara  | Better Off Dead...  | Walk in the Sun, A  | Three Caballeros, The  | Total Recall  | Secret Agent, The  | And God Created Woman  | Enchanted April  | Rosie  | Pale Rider  | Land Girls, The  | House of Dracula  |\n",
      "\n",
      "8  : Island of Dr. Moreau, The  | Celestial Clockwork  | Night Porter, The (Il Portiere di notte)  | Bye-Bye  | Up in Smoke  | Mother Night  | Star Wars: Episode VI - Return of the Jedi  | Robin Hood: Prince of Thieves  | Talented Mr. Ripley, The  | Roman Holiday  | Dingo  | Breakfast at Tiffany's  | Rescuers, The  | Mille bolle blu  | First Kid  | Bad Lieutenant  | Funny Face  | Shaggy D.A., The  | Spitfire Grill, The  | Return to Oz  | Ballad of Narayama, The (Narayama Bushiko)  | Sweet Nothing  | Dadetown  | Police Story 4: Project S (Chao ji ji hua)  | Every Other Weekend  | Rescuers Down Under, The  | Godfather, The  | Aiqing wansui  | Gaslight  | Battle for the Planet of the Apes  |\n",
      "\n",
      "9  : Spy Who Loved Me, The  | Road Trip  | Fisher King, The  | Empire Records  | Idolmaker, The  | Romeo and Juliet  | One Tough Cop  | Quatermass and the Pit  | Anchors Aweigh  | Lords of Flatbush, The  | Kill, Baby... Kill! (Operazione Paura)  | Immortal Beloved  | Flying Tigers  | Curse of the Puppet Master  | Night of the Creeps  | Moonraker  | Flipper  | Story of G.I. Joe, The  | Held Up  | On Her Majesty's Secret Service  | Kicked in the Head  | Cool as Ice  | Time Masters (Les Ma�tres du Temps)  | Puppet Master  | Stupids, The  | Ugly, The  | Small Time Crooks  | Three Seasons  | Player, The  | Working Girl  |\n",
      "\n",
      "10 : Designated Mourner, The  | Permanent Midnight  | Peggy Sue Got Married  | Scream  | Don't Look in the Basement!  | Firelight  | One Man's Hero  | Tie Me Up! Tie Me Down!  | Paulie  | One True Thing  | N�nette et Boni  | Dangerous Beauty  | Clueless  | Under Capricorn  | D3: The Mighty Ducks  | Inspector Gadget  | Dumb & Dumber  | Chasing Amy  | Prophecy II, The  | U Turn  | Get Shorty  | Murder at 1600  | Toy Story  | Corrina, Corrina  | Return to Paradise  | Story of Us, The  | Poltergeist III  | Boys on the Side  | Trippin'  | Guardian Angel  |\n",
      "\n",
      "11 : Boys Don't Cry  | All About My Mother (Todo Sobre Mi Madre)  | Straight Story, The  | Love, etc.  | Rosetta  | Fantastic Planet, The (La Plan�te sauvage)  | Slaughterhouse 2  | Yards, The  | Random Hearts  | Legend of 1900, The (Leggenda del pianista sull'oceano)  | Caligula  | Easy Rider  | Ideal Husband, An  | Soldier's Story, A  | U2: Rattle and Hum  | Radio Days  | Otello  | Last Night  | Little Big Man  | Mystery Men  | Fitzcarraldo  | Great Muppet Caper, The  | Very Thought of You, The  | Summer of Sam  | Lady Eve, The  | Analyze This  | Communion (a.k.a. Alice, Sweet Alice/Holy Terror)  | Spiders, The (Die Spinnen, 1. Teil: Der Goldene See)  | Map of the World, A  | Trekkies  |\n",
      "\n",
      "12 : Edge of Seventeen  | Client, The  | Princess Mononoke, The (Mononoke Hime)  | Dear Diary (Caro Diario)  | Catwalk  | Stuart Saves His Family  | Money Talks  | Favor, The  | Armageddon  | Playing by Heart  | Romy and Michele's High School Reunion  | Seven (Se7en)  | Rising Sun  | Usual Suspects, The  | Scorta, La  | Amazing Panda Adventure, The  | Soft Fruit  | Princess Caraboo  | Raise the Red Lantern  | Toy Story  | Peacemaker, The  | House Party 3  | Higher Learning  | Intimate Relations  | Clan of the Cave Bear, The  | Truth About Cats & Dogs, The  | Breathing Room  | Commandments  | Canadian Bacon  | Paulie  |\n",
      "\n",
      "13 : Sullivan's Travels  | Little Women  | Home for the Holidays  | Sound of Music, The  | Sleepover  | Rich Man's Wife, The  | Bowfinger  | While You Were Sleeping  | MatchMaker, The  | Walking Dead, The  | Christmas Story, A  | Dangerous Beauty  | Drunks  | Dante's Peak  | Color of Night  | Wedding Gift, The  | Young and Innocent  | Professional, The (a.k.a. Leon: The Professional)  | Gordy  | Wild America  | Mr. Wonderful  | Lovers of the Arctic Circle, The (Los Amantes del C�rculo Polar)  | Second Jungle Book: Mowgli & Baloo, The  | Fools Rush In  | Bird of Prey  | Scout, The  | Six of a Kind  | Mondo  | Color of Money, The  | Last Summer in the Hamptons  |\n",
      "\n",
      "14 : Fatal Instinct  | Nightmare on Elm Street 3: Dream Warriors, A  | Night of the Living Dead  | They Made Me a Criminal  | West Side Story  | Foolish  | Herbie Goes Bananas  | Bat, The  | Belle de jour  | Leave It to Beaver  | Great Dictator, The  | Selena  | Hamlet  | Jefferson in Paris  | Jumanji  | Love and Other Catastrophes  | Cavalcade  | Confessional, The (Le Confessionnal)  | Koyaanisqatsi  | Excess Baggage  | Die Hard: With a Vengeance  | Yankee Zulu  | Rosetta  | Clear and Present Danger  | Chungking Express  | Around the World in 80 Days  | Band Wagon, The  | Wend Kuuni (God's Gift)  | Jack  | Relative Fear  |\n",
      "\n",
      "15 : Stepford Wives, The  | Pecker  | Princess Caraboo  | Gremlins  | Metisse (Caf� au Lait)  | Can't Hardly Wait  | Ran  | Love Jones  | Son in Law  | Breakfast of Champions  | Minus Man, The  | Tinseltown  | Unbearable Lightness of Being, The  | Land and Freedom (Tierra y libertad)  | Good, The Bad and The Ugly, The  | Young Frankenstein  | Monument Ave.  | Kansas City  | House Party 3  | Next Best Thing, The  | Aladdin and the King of Thieves  | Real Genius  | Truth About Cats & Dogs, The  | Richie Rich  | Slaughterhouse 2  | Parenthood  | Baby-Sitters Club, The  | Angel and the Badman  | 13th Warrior, The  | Mediterraneo  |\n",
      "\n",
      "16 : Lady of Burlesque  | Scarlet Letter, The  | Inspector General, The  | Best Years of Our Lives, The  | Mr. Smith Goes to Washington  | Broadway Melody, The  | Marie Baie Des Anges  | Halloween II  | 39 Steps, The  | Hav Plenty  | Lost Weekend, The  | Halloween 5: The Revenge of Michael Myers  | Father of the Bride Part II  | Moonlight Murder  | Little Lord Fauntleroy  | Zachariah  | Above the Rim  | Henry Fool  | Blue Angel, The (Blaue Engel, Der)  | Grand Hotel  | Wings  | Cimarron  | Condo Painting  | Misery  | Madeline  | Prom Night IV: Deliver Us From Evil  | Small Soldiers  | Forbidden Planet  | Desert Bloom  | There's Something About Mary  |\n",
      "\n",
      "17 : Sleepers  | Borrowers, The  | Ratchet  | Zero Effect  | Ready to Rumble  | Leather Jacket Love Story  | Raging Bull  | Return to Me  | I Married A Strange Person  | Live Flesh  | Mountain Eagle, The  | My Man Godfrey  | Pelican Brief, The  | Associate, The  | Nil By Mouth  | Heart Condition  | Lawnmower Man, The  | Night at the Roxbury, A  | Children of the Corn  | N�  | Best of the Best 3: No Turning Back  | X-Files: Fight the Future, The  | Julien Donkey-Boy  | 28 Days  | Parenthood  | Maximum Overdrive  | Desert Bloom  | General, The  | Dead Again  | Princess Caraboo  |\n",
      "\n",
      "18 : King and I, The  | Summer of Sam  | Cookie's Fortune  | Boy Who Could Fly, The  | Metroland  | Portrait of a Lady, The  | Goodbye, Lover  | 24 7: Twenty Four Seven  | Pink Flamingos  | Blue Velvet  | Violets Are Blue...  | Love Is the Devil  | King and I, The  | Tough Guys  | Out-of-Towners, The  | For Love of the Game  | Life  | Beauty  | Taming of the Shrew, The  | Six Ways to Sunday  | Village of the Damned  | Jumpin' Jack Flash  | Doug's 1st Movie  | Mummy, The  | Stiff Upper Lips  | Straight Story, The  | Powder  | Tess of the Storm Country  | Legend of 1900, The (Leggenda del pianista sull'oceano)  | Broken Vessels  |\n",
      "\n",
      "19 : Fantastic Planet, The (La Plan�te sauvage)  | Swimming with Sharks  | Young Frankenstein  | Stupids, The  | Gandhi  | Indecent Proposal  | Rent-a-Kid  | Underworld  | Crash  | Men in Black  | House Party 3  | Love Jones  | Cobra  | Men With Guns  | Real Genius  | Dear Jesse  | Room with a View, A  | Best Men  | Dark City  | McHale's Navy  | M*A*S*H  | Slaughterhouse 2  | Being There  | Scorta, La  | Everest  | I'm Not Rappaport  | Children of Heaven, The (Bacheha-Ye Aseman)  | Rosencrantz and Guildenstern Are Dead  | To Have, or Not  | Unbearable Lightness of Being, The  |\n",
      "\n",
      "20 : Romeo and Juliet  | Washington Square  | Big Lebowski, The  | Quatermass II  | Working Girl  | Field of Dreams  | Filth and the Fury, The  | Three Seasons  | Yankee Zulu  | Freedom for Us (� nous la libert� )  | Next Best Thing, The  | Friday the 13th Part 3: 3D  | Drive Me Crazy  | End of Days  | Madame Sousatzka  | Bogus  | Even Cowgirls Get the Blues  | New Age, The  | Color Purple, The  | My Life and Times With Antonin Artaud (En compagnie d'Antonin Artaud)  | Lion King, The  | Skin Game, The  | Father of the Bride Part II  | Player, The  | Clear and Present Danger  | Heart and Souls  | Quick and the Dead, The  | Nell  | Leaving Las Vegas  | Jungle Book, The  |\n",
      "\n",
      "21 : Sexual Life of the Belgians, The  | Swamp Thing  | Johnny 100 Pesos  | Perfect Candidate, A  | Death Becomes Her  | Paris Was a Woman  | Magic Hunter  | Stuart Saves His Family  | Wrong Trousers, The  | English Patient, The  | Plutonium Circus  | Alien  | Inspector Gadget  | When We Were Kings  | Bedknobs and Broomsticks  | People vs. Larry Flynt, The  | Faust  | Entertaining Angels: The Dorothy Day Story  | Dear Diary (Caro Diario)  | On Golden Pond  | Mediterraneo  | Heaven Can Wait  | Junior  | Rising Sun  | Manon of the Spring (Manon des sources)  | Howling II: Your Sister Is a Werewolf  | Angels in the Outfield  | Shaggy Dog, The  | Once Were Warriors  | Headless Body in Topless Bar  |\n",
      "\n",
      "22 : Mr. Nice Guy  | Character (Karakter)  | Taste of Cherry  | Wild Man Blues  | Junk Mail  | Big Hit, The  | Species II  | Sour Grapes  | Clockwatchers  | Still Breathing  | Tarzan and the Lost City  | Tales from the Crypt Presents: Bordello of Blood  | Truce, The  | Go Now  | Dancer, Texas Pop. 81  | Black Dog  | Belly  | Fear and Loathing in Las Vegas  | Metropolis  | Mis�rables, Les  | Major League: Back to the Minors  | Elizabeth  | Opposite of Sex, The  | Big Trouble in Little China  | Trouble in Paradise  | Love and a .45  | I Love Trouble  | Blood In, Blood Out (a.k.a. Bound by Honor)  | Blank Check  | Lulu on the Bridge  |\n",
      "\n",
      "23 : Madonna: Truth or Dare  | Abyss, The  | Blood Feast  | In Too Deep  | Outlaw Josey Wales, The  | Pit and the Pendulum  | Midnight Express  | Princess Caraboo  | Terminator 2: Judgment Day  | Tomb of Ligeia, The  | Somewhere in the City  | Black and White  | Splendor in the Grass  | So I Married an Axe Murderer  | Private Benjamin  | Once Upon a Time in the West  | Right Stuff, The  | Razor's Edge, The  | Black Sunday (La Maschera Del Demonio)  | New Rose Hotel  | Toxic Avenger, Part II, The  | Vibes  | Black Tar Heroin: The Dark End of the Street  | Strictly Ballroom  | Raise the Red Lantern  | Night of the Creeps  | Raiders of the Lost Ark  | Blues Brothers, The  | Glory Daze  | Killer: A Journal of Murder  |\n",
      "\n",
      "24 : Intimate Relations  | Taming of the Shrew, The  | U Turn  | Men With Guns  | Shiloh  | Fox and the Hound, The  | Air Force One  | Ace Ventura: Pet Detective  | McCullochs, The  | Woman in the Dunes (Suna no onna)  | Heavy  | Commandments  | Inventing the Abbotts  | Star Trek: The Motion Picture  | Mat' i syn  | Gulliver's Travels  | Mortal Thoughts  | Land and Freedom (Tierra y libertad)  | Congo  | To Have, or Not  | Chairman of the Board  | Stripes  | Bride of Frankenstein  | Newton Boys, The  | Windows  | Jaws 2  | U.S. Marshalls  | Devil's Advocate, The  | Devil's Own, The  | Fly, The  |\n",
      "\n",
      "25 : Magic Hunter  | When We Were Kings  | Mickey Blue Eyes  | GoodFellas  | Abyss, The  | Resurrection Man  | I Shot a Man in Vegas  | Right Stuff, The  | Universal Soldier  | On Golden Pond  | Junior  | Illtown  | Here Comes Cookie  | Entertaining Angels: The Dorothy Day Story  | Gone with the Wind  | Two or Three Things I Know About Her  | Postman Always Rings Twice, The  | Passion Fish  | Plutonium Circus  | Armageddon  | Catwalk  | Love Stinks  | Perfect Blue  | Wrong Trousers, The  | Madagascar Skin  | Slappy and the Stinkers  | Smoking/No Smoking  | In Too Deep  | Curtis's Charm  | First Blood  |\n",
      "\n",
      "26 : Return of the Pink Panther, The  | City of Lost Children, The  | Rebel Without a Cause  | Passion in the Desert  | Aliens  | Of Love and Shadows  | Haunted World of Edward D. Wood Jr., The  | 13th Warrior, The  | Newton Boys, The  | Three Lives and Only One Death  | Drunken Master (Zui quan)  | Secret Garden, The  | Yellow Submarine  | Cross of Iron  | Boat, The (Das Boot)  | Twelve Monkeys  | Army of Darkness  | Solo  | Room at the Top  | I Stand Alone (Seul contre tous)  | Shadow of Angels (Schatten der Engel)  | Happy Weekend  | Don't Look in the Basement!  | Kissing a Fool  | Hoogste tijd  | Crocodile Dundee  | Mutters Courage  | I Went Down  | Richard III  | Doctor Dolittle  |\n",
      "\n",
      "27 : Sunshine  | Paper Chase, The  | Magnolia  | Golden Voyage of Sinbad, The  | Wonder Boys  | Fatal Beauty  | House Party 2  | Fury, The  | Who's That Girl?  | Bride of Re-Animator  | Dreamscape  | Two Moon Juction  | Good Earth, The  | Regret to Inform  | Eraserhead  | Room at the Top  | Carnosaur 3: Primal Species  | Muppets Take Manhattan, The  | Malcolm X  | On the Ropes  | Blow-Out (La Grande Bouffe)  | Daughters of the Dust  | Myth of Fingerprints, The  | Bound for Glory  | Flatliners  | Raise the Titanic  | Lonely Are the Brave  | Running Free  | Prick Up Your Ears  | Abominable Snowman, The  |\n",
      "\n",
      "28 : Flatliners  | Porky's  | Babymother  | Sweet and Lowdown  | Charlie, the Lonesome Cougar  | Love's Labour's Lost  | Hot Spot, The  | Lonely Are the Brave  | Coming Home  | Braddock: Missing in Action III  | Mad Max  | Slipper and the Rose, The  | Cutter's Way  | Harry and the Hendersons  | Prince of the City  | Mummy, The  | Big Carnival, The  | Cleo From 5 to 7 (Cl�o de 5 � 7)  | Conversation, The  | Great Muppet Caper, The  | Light of Day  | Blind Date  | Hi-Yo Silver  | Fantastic Night, The (La Nuit Fantastique)  | Cabaret  | American Gigolo  | Easy Rider  | Auntie Mame  | Nine 1/2 Weeks  | Spaceballs  |\n",
      "\n",
      "29 : Universal Soldier  | Perfect Blue  | Hud  | Love Stinks  | Last Resort  | Public Access  | Lord of the Flies  | Heart and Souls  | Othello  | I Shot a Man in Vegas  | Insomnia  | Adventures of Milo and Otis, The  | Lady Eve, The  | Kill, Baby... Kill! (Operazione Paura)  | Little Boy Blue  | GoldenEye  | Right Stuff, The  | Stupids, The  | L.A. Confidential  | Topaz  | Unbearable Lightness of Being, The  | High Fidelity  | Even Cowgirls Get the Blues  | That Darn Cat!  | Something to Sing About  | Only Angels Have Wings  | Intimate Relations  | U Turn  | Hero  | Six of a Kind  |\n",
      "\n",
      "30 : I Dreamed of Africa  | Soft Fruit  | Shanghai Surprise  | Color Me Blood Red  | Human Traffic  | Dreamscape  | Here on Earth  | Sugarland Express, The  | Hollywood Knights, The  | Malcolm X  | Tess of the Storm Country  | Two Moon Juction  | Wonder Boys  | Land and Freedom (Tierra y libertad)  | Rough Night in Jericho  | Romeo Must Die  | Night Visitor, The  | Perils of Pauline, The  | Betrayed  | Carnosaur  | Hell in the Pacific  | Sister Act  | Sunshine  | Bridge at Remagen, The  | Great Muppet Caper, The  | City of the Living Dead (Paura nella citt� dei morti viventi)  | Shanghai Noon  | Peacemaker, The  | House Party 2  | Flatliners  |\n",
      "\n",
      "31 : Penitentiary  | Innocent Sleep, The  | Born Yesterday  | Madagascar Skin  | Never Talk to Strangers  | Two or Three Things I Know About Her  | Dogma  | Drop Dead Fred  | Bulworth  | Marcello Mastroianni: I Remember Yes, I Remember  | Penitentiary II  | Sting, The  | It Came from Outer Space  | I Love You, Don't Touch Me!  | Unhook the Stars  | Five Easy Pieces  | Groundhog Day  | Mighty Ducks, The  | JFK  | Vibes  | Star Wars: Episode V - The Empire Strikes Back  | Bedknobs and Broomsticks  | On Golden Pond  | Kill, Baby... Kill! (Operazione Paura)  | Austin Powers: The Spy Who Shagged Me  | Mountain Eagle, The  | Fox and the Hound, The  | Dear Diary (Caro Diario)  | Favor, The  | Sparrows  |\n",
      "\n",
      "32 : Stanley & Iris  | Before the Rain (Pred dozhdot)  | Nutty Professor, The  | Priest  | Children of a Lesser God  | Austin Powers: International Man of Mystery  | Willy Wonka and the Chocolate Factory  | Monkey Shines  | Malice  | Wes Craven's New Nightmare  | Beach, The  | Big Fella  | Portrait of a Lady, The  | Geronimo: An American Legend  | Bogus  | Chushingura  | Female Perversions  | Gentleman's Agreement  | Sabrina  | Filth and the Fury, The  | Marcello Mastroianni: I Remember Yes, I Remember  | What Happened Was...  | Highlander  | Cabinet of Dr. Ramirez, The  | Barefoot Executive, The  | Tommy Boy  | Amityville Horror, The  | Eat Drink Man Woman  | Alien Escape  | Addams Family, The  |\n",
      "\n",
      "33 : Dead Man Walking  | Money Talks  | Under Capricorn  | Man Who Knew Too Much, The  | League of Their Own, A  | Amazing Panda Adventure, The  | Rising Sun  | Stuart Saves His Family  | View to a Kill, A  | Sound of Music, The  | Sense and Sensibility  | One True Thing  | Bird of Prey  | Home Alone 2: Lost in New York  | Princess Caraboo  | Pretty Woman  | Hard Day's Night, A  | Babe  | North  | Armageddon  | Night on Earth  | Raise the Red Lantern  | Inspector Gadget  | Suburbans, The  | N�nette et Boni  | Perez Family, The  | Robocop 3  | Conspiracy Theory  | One Man's Hero  | Dead Ringers  |\n",
      "\n",
      "34 : Muriel's Wedding  | Chopping Mall (a.k.a. Killbots)  | French Connection, The  | Guardian Angel  | Ghost and Mrs. Muir, The  | Killing Zoe  | Mountain Eagle, The  | Dog of Flanders, A  | Full Metal Jacket  | Guardian, The  | Bad Moon  | League of Their Own, A  | Ogre, The (Der Unhold)  | Little Women  | Children of the Corn  | North  | Boys  | Preacher's Wife, The  | Lawnmower Man, The  | Ratchet  | Return to Paradise  | Associate, The  | Addams Family, The  | Hairspray  | Good Will Hunting  | Days of Thunder  | Get Shorty  | Wonder Boys  | Destiny Turns on the Radio  | Corrina, Corrina  |\n",
      "\n",
      "35 : Candidate, The  | Mouth to Mouth (Boca a boca)  | JLG/JLG - autoportrait de d�cembre  | Delta of Venus  | Two Moon Juction  | Man Bites Dog (C'est arriv� pr�s de chez vous)  | Toy Story  | Bad Seed, The  | Playing by Heart  | Black Mask (Hak hap)  | Don't Look in the Basement!  | Empty Mirror, The  | Perfect Candidate, A  | Blade Runner  | Rounders  | Under Capricorn  | On Golden Pond  | Wonder Boys  | Twelve Monkeys  | Sexual Life of the Belgians, The  | Dear God  | Paper Chase, The  | Secret Garden, The  | Dance with Me  | I Stand Alone (Seul contre tous)  | Sleepover  | Favor, The  | Battling Butler  | Go Fish  | Tales of Terror  |\n",
      "\n",
      "36 : Dr. Strangelove or: How I Learned to Stop Worrying and Love the Bomb  | Donnie Brasco  | Pocahontas  | My Boyfriend's Back  | King of New York  | Yankee Zulu  | Next Stop, Wonderland  | Friday the 13th Part VII: The New Blood  | Air Bud  | Happy Weekend  | Higher Learning  | Five Wives, Three Secretaries and Me  | Century of Cinema, A  | Friday the 13th: The Final Chapter  | Escape to Witch Mountain  | Brady Bunch Movie, The  | Bloodsport  | Ed Wood  | Amityville 3-D  | Man in the Iron Mask, The  | Hour of the Pig, The  | Back to the Future Part II  | In the Line of Duty 2  | Country Life  | Friday the 13th Part V: A New Beginning  | Moonlight Murder  | Judy Berlin  | East Palace West Palace (Dong gong xi gong)  | One Fine Day  | Pi  |\n",
      "\n",
      "37 : Midnight Cowboy  | Single Girl, A (La Fille Seule)  | Quiet Man, The  | Singles  | Klute  | Casper  | Trick  | Sommersby  | Downhill  | Associate, The  | Mina Tannenbaum  | X-Files: Fight the Future, The  | Kissing a Fool  | School of Flesh, The (L' �cole de la chair)  | Indochine  | Dog of Flanders, A  | Return of the Pink Panther, The  | Montana  | Thin Blue Line, The  | Godfather: Part II, The  | Frequency  | T-Men  | East-West (Est-ouest)  | Raven, The  | Far and Away  | Alien  | Brazil  | Predator  | Farinelli: il castrato  | Crossfire  |\n",
      "\n",
      "38 : Cocoon  | Romancing the Stone  | Rambo III  | Jewel of the Nile, The  | Class  | Parallel Sons  | First Blood  | Rocky II  | My Bodyguard  | Broadcast News  | Swept Away (Travolti da un insolito destino nell'azzurro mare d'Agosto)  | Whatever  | Simon Sez  | Being There  | Yankee Zulu  | Heart and Souls  | Gremlins 2: The New Batch  | Out-of-Towners, The  | Better Off Dead...  | Forbidden Planet  | Isn't She Great?  | Billy's Holiday  | Hands on a Hard Body  | Rambo: First Blood Part II  | Bandit Queen  | Misery  | With Friends Like These...  | Miracle on 34th Street  | Cimarron  | Earthquake  |\n",
      "\n",
      "39 : Manny & Lo  | Ballad of Narayama, The (Narayama Bushiko)  | Godfather, The  | Dingo  | Shadow of Angels (Schatten der Engel)  | Celestial Clockwork  | Snowriders  | Double Life of Veronique, The (La Double Vie de V�ronique)  | Haunted World of Edward D. Wood Jr., The  | Howling, The  | Magic Hunter  | Kansas City  | Killer: A Journal of Murder  | Paris Is Burning  | Junior  | Gone with the Wind  | On Golden Pond  | Dadetown  | Maybe, Maybe Not (Bewegte Mann, Der)  | Commandments  | People vs. Larry Flynt, The  | Secret Garden, The  | Escape from L.A.  | Talking About Sex  | Grosse Fatigue  | Gone Fishin'  | Bob Roberts  | Invitation, The (Zaproszenie)  | Right Stuff, The  | Pretty Woman  |\n",
      "\n",
      "40 : Quest for Camelot  | Operation Condor (Feiying gaiwak)  | Lethal Weapon 2  | Beauty and the Beast  | Lone Star  | Steam: The Turkish Bath (Hamam)  | Keeping the Faith  | Fathers' Day  | Almost Heroes  | Thomas Crown Affair, The  | Love and a .45  | Santa Claus: The Movie  | Badlands  | Dorado, El  | Acid House, The  | Frankenstein Meets the Wolf Man  | Hope Floats  | Candleshoe  | Broadcast News  | Polish Wedding  | Shadow of a Doubt  | Fear and Loathing in Las Vegas  | Velvet Goldmine  | Hideous Sun Demon, The  | Puppet Master 5: The Final Chapter  | Lulu on the Bridge  | Sixth Sense, The  | Hook  | I Still Know What You Did Last Summer  | Mr. Magoo  |\n",
      "\n",
      "41 : Under Siege 2: Dark Territory  | In the Name of the Father  | Unforgotten: Twenty-Five Years After Willowbrook  | C�r�monie, La  | Absolute Power  | Secrets & Lies  | Day of the Beast, The (El D�a de la bestia)  | Beautiful Girls  | Amateur  | Mortal Kombat  | Free Willy 2: The Adventure Home  | Tie That Binds, The  | Boondock Saints, The  | King and I, The  | Deconstructing Harry  | Month by the Lake, A  | American Buffalo  | Freaky Friday  | Pink Floyd - The Wall  | Condorman  | Spawn  | Midnight Dancers (Sibak)  | Blue in the Face  | Breaking the Waves  | Shooting Fish  | Ruby in Paradise  | Pompatus of Love, The  | Jaws  | Addams Family Values  | Female Perversions  |\n",
      "\n",
      "42 : Evil Dead II (Dead By Dawn)  | Bitter Moon  | Sound of Music, The  | Flipper  | Smoke Signals  | Little Princess, A  | League of Their Own, A  | Guy  | Mr. Wonderful  | Reckless  | Rules of Engagement  | Dance with Me  | Violets Are Blue...  | Come See the Paradise  | Immortal Beloved  | Addicted to Love  | Human Traffic  | Born American  | Paper, The  | Sliver  | Dumbo  | Wes Craven's New Nightmare  | Chairman of the Board  | Clueless  | Groundhog Day  | B. Monkey  | Jagged Edge  | Walk on the Moon, A  | Hurricane Streets  | Steal Big, Steal Little  |\n",
      "\n",
      "43 : Eve's Bayou  | Shooting Fish  | Free Willy 2: The Adventure Home  | Blue in the Face  | B*A*P*S  | Deconstructing Harry  | Black Cat, White Cat (Crna macka, beli macor)  | Cats Don't Dance  | King and I, The  | First Knight  | Thirteenth Floor, The  | High School High  | Show, The  | Pompatus of Love, The  | American Buffalo  | Arthur  | Simple Twist of Fate, A  | Mighty Morphin Power Rangers: The Movie  | In the Company of Men  | City Slickers II: The Legend of Curly's Gold  | Piano, The  | Everest  | Blue Sky  | Captives  | Red Rock West  | Hollow Reed  | Female Perversions  | McHale's Navy  | Desert Winds  | Flying Tigers  |\n",
      "\n",
      "44 : Saludos Amigos  | Shakes the Clown  | Gladiator  | Romeo Must Die  | Blood Spattered Bride, The (La Novia Ensangrentada)  | Funny Bones  | Time Code  | Map of the World, A  | Stalag 17  | Fantasia 2000  | Glass Bottom Boat, The  | Human Traffic  | Big Momma's House  | Mifune (Mifunes sidste sang)  | Fabulous Baker Boys, The  | Tumbleweeds  | Flatliners  | She's Gotta Have It  | Shanghai Noon  | Retroactive  | City of the Living Dead (Paura nella citt� dei morti viventi)  | Bound for Glory  | Hollywood Knights, The  | Anguish (Angustia)  | Tess of the Storm Country  | Not One Less (Yi ge dou bu neng shao)  | Falcon and the Snowman, The  | Eyes of Laura Mars  | Bloodsport  | Carnal Knowledge  |\n",
      "\n",
      "45 : Thousand Acres, A  | Chairman of the Board  | Mortal Thoughts  | My Man Godfrey  | Batman Returns  | Devil's Own, The  | Clan of the Cave Bear, The  | Slums of Beverly Hills, The  | Shiloh  | Chamber, The  | Scream  | Gate II: Trespassers, The  | Heat  | Seventh Sign, The  | Harlem  | Dead Men Don't Wear Plaid  | Friday  | Out of Sight  | Nina Takes a Lover  | Freaky Friday  | Starship Troopers  | Hush  | I'm Not Rappaport  | Rock, The  | Chushingura  | Black Beauty  | Truth or Consequences, N.M.  | Metisse (Caf� au Lait)  | Day of the Beast, The (El D�a de la bestia)  | White Balloon, The (Badkonake Sefid )  |\n",
      "\n",
      "46 : Papillon  | Children of the Corn  | Loser  | Poltergeist III  | To Die For  | In the Mouth of Madness  | Sound of Music, The  | Filth and the Fury, The  | Calendar Girl  | Born American  | Up Close and Personal  | Dumb & Dumber  | Leaving Las Vegas  | Governess, The  | Return to Me  | Believers, The  | Chasing Amy  | Anna  | Wings of Desire (Der Himmel �ber Berlin)  | Mummy, The  | Go Fish  | Get Shorty  | Fatal Beauty  | Return to Paradise  | U.S. Marshalls  | Geronimo: An American Legend  | Dance with Me  | Spy Who Loved Me, The  | Krippendorf's Tribe  | It's My Party  |\n",
      "\n",
      "47 : Cliffhanger  | Suture  | Hoodlum  | Friday  | Jumpin' Jack Flash  | Crumb  | Men With Guns  | Amityville Horror, The  | Backdraft  | Monkey Shines  | Hotel de Love  | Rent-a-Kid  | Go Fish  | Smoke  | Amityville 3-D  | Cube  | Fantastic Planet, The (La Plan�te sauvage)  | Bitter Moon  | Rosemary's Baby  | Temptress Moon (Feng Yue)  | Schindler's List  | Body Heat  | Even Cowgirls Get the Blues  | Windows  | Barb Wire  | Contact  | Transformers: The Movie, The  | FairyTale: A True Story  | In the Company of Men  | Freeway  |\n",
      "\n",
      "48 : Schizopolis  | Kiss Me, Guido  | Number Seventeen  | Tumbleweeds  | Out-of-Towners, The  | Best Man, The (Il Testimone dello sposo)  | Metroland  | Amityville: A New Generation  | Angus  | Cookie's Fortune  | Love Is the Devil  | Nothing But Trouble  | Soldier's Story, A  | Tinseltown  | Show, The  | Ransom  | Rocky Horror Picture Show, The  | Poltergeist II: The Other Side  | Friday  | Beyond Silence  | River, The  | Soul Man  | Diva  | Voyage to the Beginning of the World  | Saboteur  | Evil Dead II (Dead By Dawn)  | Strawberry and Chocolate (Fresa y chocolate)  | See the Sea (Regarde la mer)  | Love Bewitched, A (El Amor Brujo)  | Shiloh  |\n",
      "\n",
      "49 : Wing Commander  | Out-of-Towners, The  | Walk on the Moon, A  | Mummy, The  | Beauty  | Tough Guys  | Pushing Tin  | Aladdin and the King of Thieves  | Go  | Working Girl  | Borrowers, The  | King and I, The  | Minus Man, The  | Dream for an Insomniac  | Verdict, The  | Clubland  | Village of the Damned  | Inheritors, The (Die Siebtelbauern)  | Endurance  | Native Son  | Jumpin' Jack Flash  | Matrix, The  | Caligula  | Rounders  | Portrait of a Lady, The  | Freeway  | Dogma  | Malcolm X  | Vermont Is For Lovers  | Twilight  |\n",
      "\n",
      "50 : Dream for an Insomniac  | Miracle on 34th Street  | Prince of Egypt, The  | Birdy  | Carmen  | Mariachi, El  | If....  | Rushmore  | Color Purple, The  | Pale Rider  | Help!  | Slappy and the Stinkers  | Open Your Eyes (Abre los ojos)  | Shakespeare in Love  | Spartacus  | Bride of the Monster  | Hard 8 (a.k.a. Sydney, a.k.a. Hard Eight)  | Falling Down  | Champagne  | Melvin and Howard  | Rocky II  | Held Up  | Quatermass and the Pit  | Sunchaser, The  | Broadcast News  | Searchers, The  | Parallel Sons  | Breakfast of Champions  | Winnie the Pooh and the Blustery Day  | Something for Everyone  |\n",
      "\n",
      "51 : House Party 3  | Catwalk  | Inspector Gadget  | Dance with Me  | Scorta, La  | Mondo  | Howling II: Your Sister Is a Werewolf  | Mediterraneo  | Love Jones  | Bride of Re-Animator  | Cook the Thief His Wife & Her Lover, The  | Blade Runner  | Picnic  | Godfather, The  | Ref, The  | Wonder Boys  | Great Mouse Detective, The  | Little Princess, A  | Living Out Loud  | Love Stinks  | Apocalypse Now  | Towering Inferno, The  | Up in Smoke  | Kissing a Fool  | Happy Weekend  | Up Close and Personal  | Bedknobs and Broomsticks  | Tigger Movie, The  | Christmas Carol, A  | Star Wars: Episode VI - Return of the Jedi  |\n",
      "\n",
      "52 : Clay Pigeons  | Them!  | Eight Days a Week  | Finding North  | Ronin  | Strangeland  | Fiendish Plot of Dr. Fu Manchu, The  | Hype!  | Just the Ticket  | Floating  | What Dreams May Come  | Thing, The  | Mildred Pierce  | Time Masters (Les Ma�tres du Temps)  | Parallel Sons  | M*A*S*H  | My Blue Heaven  | Brother from Another Planet, The  | Where the Money Is  | Shattered Image  | Battlefield Earth  | Election  | Center Stage  | Free Enterprise  | Runaway Train  | Stop! Or My Mom Will Shoot  | Being There  | Lords of Flatbush, The  | Forever Young  | Breaks, The  |\n",
      "\n",
      "53 : Deep Rising  | Clubland  | Fletch Lives  | Jagged Edge  | Eat Drink Man Woman  | Willow  | Patch Adams  | Happy Gilmore  | Exotica  | Toy Story 2  | To Wong Foo, Thanks for Everything! Julie Newmar  | Sabrina  | Guy  | Prefontaine  | I Can't Sleep (J'ai pas sommeil)  | Snow White and the Seven Dwarfs  | Beetlejuice  | Grumpier Old Men  | Madness of King George, The  | Pretty in Pink  | Asphalt Jungle, The  | Houseguest  | Devil in a Blue Dress  | Amityville Horror, The  | Producers, The  | Highlander  | Adventures of Priscilla, Queen of the Desert, The  | Assassination  | New Jersey Drive  | Lay of the Land, The  |\n",
      "\n",
      "54 : Who's Harry Crumb?  | Hercules  | British Intelligence  | Howling II: Your Sister Is a Werewolf  | Romance  | It Came from Hollywood  | Heaven Can Wait  | Barefoot Executive, The  | Married to the Mob  | Go  | Marcello Mastroianni: I Remember Yes, I Remember  | Insomnia  | Death Becomes Her  | It Came from Outer Space  | Cool as Ice  | Real Blonde, The  | Dog Day Afternoon  | Star Wars: Episode V - The Empire Strikes Back  | ...And Justice for All  | Battle of the Sexes, The  | Beach, The  | Sting, The  | Last Temptation of Christ, The  | Hello Mary Lou: Prom Night II  | Curtis's Charm  | Pecker  | Governess, The  | Five Easy Pieces  | Swamp Thing  | Cool Runnings  |\n",
      "\n",
      "55 : Breaks, The  | Drive Me Crazy  | I Went Down  | All the King's Men  | Breakfast of Champions  | Sheltering Sky, The  | Prince of Tides, The  | All the Vermeers in New York  | Parenthood  | Best Laid Plans  | Living Out Loud  | Room with a View, A  | Children of Heaven, The (Bacheha-Ye Aseman)  | Billy's Holiday  | Heart and Souls  | Whatever  | Rambo: First Blood Part II  | Child's Play 3  | Bachelor Party  | Being There  | Eight Days a Week  | Towering Inferno, The  | 54  | Pale Rider  | Shall We Dance?  | Gremlins 2: The New Batch  | Drunken Master (Zui quan)  | Better Off Dead...  | American Graffiti  | Champagne  |\n",
      "\n",
      "56 : War Zone, The  | Blood and Sand (Sangre y Arena)  | Boiler Room  | Resurrection Man  | Hell Night  | Hear My Song  | To Kill a Mockingbird  | Idiots, The (Idioterne)  | Family Plot  | Guinevere  | Every Other Weekend  | Gaslight  | Maybe, Maybe Not (Bewegte Mann, Der)  | Flashdance  | Spitfire Grill, The  | Ruling Class, The  | Who Framed Roger Rabbit?  | Shadow of Angels (Schatten der Engel)  | Big  | Breakfast at Tiffany's  | Escape from L.A.  | Haunted World of Edward D. Wood Jr., The  | Invitation, The (Zaproszenie)  | Kansas City  | Sexual Life of the Belgians, The  | Twin Falls Idaho  | Talk of Angels  | My Left Foot  | Passion in the Desert  | Paths of Glory  |\n",
      "\n",
      "57 : Hoogste tijd  | Braveheart  | Hot Lead and Cold Feet  | Underworld  | Clockers  | How to Be a Player  | Gods Must Be Crazy II, The  | 'Night Mother  | Power 98  | Bitter Moon  | Slums of Beverly Hills, The  | Nina Takes a Lover  | King Kong vs. Godzilla (Kingukongu tai Gojira)  | Country  | Here on Earth  | Hollywood Knights, The  | Heat  | Aliens  | Best Men  | Harlem  | Line King: Al Hirschfeld, The  | Infinity  | Cat People  | Smoke  | Playing by Heart  | FairyTale: A True Story  | Men in Black  | I Stand Alone (Seul contre tous)  | Nell  | Life  |\n",
      "\n",
      "58 : Governess, The  | Little Mermaid, The  | Kurt & Courtney  | Happiest Millionaire, The  | Shaggy Dog, The  | Saving Private Ryan  | It Could Happen to You  | Six Days Seven Nights  | It Came from Outer Space  | $1,000,000 Duck  | Happy Go Lovely  | Jumanji  | Next Best Thing, The  | I Went Down  | Child's Play 3  | Mosquito Coast, The  | Hello Mary Lou: Prom Night II  | All the King's Men  | Fantastic Planet, The (La Plan�te sauvage)  | Relative Fear  | Sgt. Bilko  | Unhook the Stars  | Kim  | Boondock Saints, The  | 13th Warrior, The  | Who's Afraid of Virginia Woolf?  | Penny Serenade  | Johns  | Henry Fool  | Confessional, The (Le Confessionnal)  |\n",
      "\n",
      "59 : Quiz Show  | Picture Bride  | Queen Margot (La Reine Margot)  | In & Out  | Clockwork Orange, A  | Cool Hand Luke  | Simon Birch  | Color of Night  | Destiny Turns on the Radio  | Digging to China  | Grace of My Heart  | White Man's Burden  | Gordy  | Sullivan's Travels  | Race the Sun  | Varsity Blues  | Cook the Thief His Wife & Her Lover, The  | Nina Takes a Lover  | Man Without a Face, The  | Streetcar Named Desire, A  | Close Shave, A  | Dear God  | Second Jungle Book: Mowgli & Baloo, The  | Death and the Maiden  | Paradise Lost: The Child Murders at Robin Hood Hills  | Saint of Fort Washington, The  | Raise the Red Lantern  | Meet Wally Sparks  | Happiness  | Return to Paradise  |\n",
      "\n",
      "60 : Talking About Sex  | Rear Window  | Escape from New York  | From Russia with Love  | Faust  | Love Is All There Is  | It Happened One Night  | Shadow of Angels (Schatten der Engel)  | Kansas City  | Bob Roberts  | Bluebeard  | Stuart Saves His Family  | Dear Diary (Caro Diario)  | Rising Sun  | Surviving Picasso  | Mercury Rising  | Grosse Fatigue  | Joyriders, The  | Dangerous Liaisons  | Gone Fishin'  | GoodFellas  | Manny & Lo  | My Giant  | People vs. Larry Flynt, The  | Godfather, The  | Lilian's Story  | Odd Couple II, The  | Swamp Thing  | Withnail and I  | Sunset Blvd. (a.k.a. Sunset Boulevard)  |\n",
      "\n",
      "61 : I Love You, Don't Touch Me!  | Best of the Best 3: No Turning Back  | Raging Bull  | Unhook the Stars  | Last Detail, The  | Real Blonde, The  | Leather Jacket Love Story  | Farmer & Chase  | Mediterraneo  | Heaven Can Wait  | Fistful of Dollars, A  | Beach, The  | N�  | It Came from Outer Space  | Amazing Panda Adventure, The  | Naturally Native  | Clan of the Cave Bear, The  | Money Talks  | First Love, Last Rites  | Sting, The  | That Thing You Do!  | Princess Bride, The  | Faust  | Dog Day Afternoon  | Psycho  | Star Wars: Episode V - The Empire Strikes Back  | Conformist, The (Il Conformista)  | Rear Window  | G.I. Jane  | Under Capricorn  |\n",
      "\n",
      "62 : Best Laid Plans  | Bachelor Party  | All the Vermeers in New York  | Urban Legend  | Shall We Dance?  | That Thing You Do!  | Postman Always Rings Twice, The  | Gremlins  | Quiet Room, The  | Gendernauts  | Breakfast of Champions  | Smoking/No Smoking  | If....  | Bossa Nova  | Breaks, The  | Room with a View, A  | Adventures of Milo and Otis, The  | Little Mermaid, The  | Metisse (Caf� au Lait)  | Pecker  | Only Angels Have Wings  | Child's Play 3  | Real Genius  | Hero  | American Graffiti  | Slappy and the Stinkers  | Big Chill, The  | Brandon Teena Story, The  | Unbearable Lightness of Being, The  | First Blood  |\n",
      "\n",
      "63 : Picnic  | Something to Sing About  | City of Angels  | Wife, The  | Escape from L.A.  | Wilde  | Kansas City  | Forbidden Planet  | Apocalypse Now  | Cyclo  | Taking of Pelham One Two Three, The  | My Life  | Brady Bunch Movie, The  | Railroaded!  | Breakfast Club, The  | He Got Game  | African Queen, The  | I Don't Want to Talk About It (De eso no se habla)  | Dumbo  | Higher Learning  | Halloween III: Season of the Witch  | Tequila Sunrise  | 1-900  | Risky Business  | Farewell to Arms, A  | Friday the 13th Part 2  | Twin Falls Idaho  | Haunting, The  | Death in Brunswick  | Metropolitan  |\n",
      "\n",
      "64 : Honeymoon in Vegas  | Dead Zone, The  | Fright Night  | American Werewolf in Paris, An  | Astronaut's Wife, The  | Funhouse, The  | Hippie Revolution, The  | No Way Out  | Bambi  | Something to Talk About  | Bonnie and Clyde  | With Byrd at the South Pole  | Terms of Endearment  | Help!  | Ruling Class, The  | Fast Times at Ridgemont High  | Spanish Prisoner, The  | Nineteen Eighty-Four  | High Plains Drifter  | Sunset Blvd. (a.k.a. Sunset Boulevard)  | Final Conflict, The (a.k.a. Omen III: The Final Conflict)  | Apollo 13  | Tora! Tora! Tora!  | Odd Couple II, The  | Thin Blue Line, The  | Big Sleep, The  | Torn Curtain  | Open Your Eyes (Abre los ojos)  | Body Parts  | Marathon Man  |\n",
      "\n",
      "65 : Brother's Kiss, A  | Hotel de Love  | Truth About Cats & Dogs, The  | Stupids, The  | Indiana Jones and the Last Crusade  | Everest  | Paper, The  | Baby-Sitters Club, The  | Crimson Tide  | Richie Rich  | Flipper  | Best Men  | Land and Freedom (Tierra y libertad)  | Love Jones  | GoldenEye  | Pleasure Garden, The  | L.A. Confidential  | Lady Eve, The  | Fatal Attraction  | Nemesis 2: Nebula  | Beefcake  | Tinseltown  | Ugly, The  | Beautiful Girls  | Marty  | McHale's Navy  | Inventing the Abbotts  | Can't Hardly Wait  | Fantastic Planet, The (La Plan�te sauvage)  | House Party 3  |\n",
      "\n",
      "66 : McHale's Navy  | Private School  | Tarantula  | Tigger Movie, The  | Grumpier Old Men  | Boricua's Bond  | Me, Myself and Irene  | Trouble in Paradise  | Time Regained (Le Temps Retrouv�)  | Towering Inferno, The  | Class of Nuke 'Em High  | Match, The  | Friday  | Lion King, The  | Adventures of Rocky and Bullwinkle, The  | Bridge on the River Kwai, The  | Rough Night in Jericho  | Sex, Lies, and Videotape  | Big Trouble in Little China  | Picnic  | Hands on a Hard Body  | Howling II: Your Sister Is a Werewolf  | Mondo  | Communion  | Six-String Samurai  | Tess of the Storm Country  | Bound for Glory  | I Love Trouble  | Fun and Fancy Free  | Titan A.E.  |\n",
      "\n",
      "67 : Cabinet of Dr. Ramirez, The  | Me Myself I  | Alice in Wonderland  | Flying Saucer, The  | Friday the 13th Part 3: 3D  | Never Been Kissed  | Rugrats Movie, The  | Pope of Greenwich Village, The  | Choices  | Drive Me Crazy  | Mona Lisa  | Hellhounds on My Trail  | Bull Durham  | Say Anything...  | Monument Ave.  | Willy Wonka and the Chocolate Factory  | Tarantula  | Parasite  | Bell, Book and Candle  | Thing From Another World, The  | Young Doctors in Love  | Watership Down  | Election  | Bells, The  | Zed & Two Noughts, A  | Seven Chances  | No Small Affair  | Player, The  | Men Don't Leave  | Overnight Delivery  |\n",
      "\n",
      "68 : Madagascar Skin  | Scorta, La  | Two or Three Things I Know About Her  | Romy and Michele's High School Reunion  | Favor, The  | Insomnia  | Ran  | Catwalk  | Cobra  | On Golden Pond  | Drop Dead Fred  | Armageddon  | Playing by Heart  | Slappy and the Stinkers  | American Graffiti  | House Party 3  | Monty Python and the Holy Grail  | Paper, The  | Mighty Ducks, The  | Metisse (Caf� au Lait)  | Entertaining Angels: The Dorothy Day Story  | I Shot a Man in Vegas  | Plutonium Circus  | Fatal Attraction  | League of Their Own, A  | Gremlins  | Aladdin and the King of Thieves  | Perfect Candidate, A  | Hard Target  | Good, The Bad and The Ugly, The  |\n",
      "\n",
      "69 : Safe Passage  | Just Cause  | Face in the Crowd, A  | Babysitter, The  | Blob, The  | Miami Rhapsody  | Time to Kill, A  | Waiting to Exhale  | Gods Must Be Crazy, The  | Princess Bride, The  | Poseidon Adventure, The  | How to Make an American Quilt  | Shop Around the Corner, The  | Three to Tango  | Wes Craven's New Nightmare  | Immortal Beloved  | Marlene Dietrich: Shadow and Light  | Contact  | Love, etc.  | G.I. Jane  | Raising Arizona  | Suburbans, The  | Violets Are Blue...  | Awakenings  | Wild America  | Little Princess, A  | House of Yes, The  | Before the Rain (Pred dozhdot)  | Wings of the Dove, The  | Bird of Prey  |\n",
      "\n",
      "70 : Blue Hawaii  | Forbidden Christ, The (Cristo proibito, Il)  | Mary Reilly  | Texas Chainsaw Massacre, The  | Old Lady Who Walked in the Sea, The (Vieille qui marchait dans la mer, La)  | Getting Even with Dad  | Judgment Night  | Lost Son, The  | Puppet Master 4  | Hook  | All Over Me  | Little Voice  | Bio-Dome  | Dorado, El  | Dark Half, The  | Freedom for Us (� nous la libert� )  | Anchors Aweigh  | See the Sea (Regarde la mer)  | Boxing Helena  | Beautiful Thing  | Rocky Horror Picture Show, The  | When a Man Loves a Woman  | Grosse Pointe Blank  | Big Bully  | Steam: The Turkish Bath (Hamam)  | Johns  | Night Falls on Manhattan  | Absolute Power  | Jagged Edge  | Godzilla  |\n",
      "\n",
      "71 : Angels in the Outfield  | Curse of Frankenstein, The  | Exorcist, The  | Sexual Life of the Belgians, The  | Wings of Desire (Der Himmel �ber Berlin)  | Shaggy Dog, The  | Cat from Outer Space, The  | Midnight Express  | Dumb & Dumber  | Cat's Eye  | Cool as Ice  | 20,000 Leagues Under the Sea  | Sunchaser, The  | That Darn Cat!  | Lawrence of Arabia  | Blade Runner  | French Connection, The  | Towering Inferno, The  | Winslow Boy, The  | King in New York, A  | Kissing a Fool  | Twin Falls Idaho  | Go Fish  | Hear My Song  | Family Plot  | Idolmaker, The  | Howling II: Your Sister Is a Werewolf  | Love Walked In  | Moonraker  | Mutters Courage  |\n",
      "\n",
      "72 : Star Trek IV: The Voyage Home  | Conspiracy Theory  | Dream Man  | Harlem River Drive  | Basketball Diaries, The  | Beyond Rangoon  | American Werewolf in London, An  | Wolf  | Bride of Chucky  | To Die For  | Much Ado About Nothing  | Doug's 1st Movie  | In God's Hands  | Twin Peaks: Fire Walk with Me  | Devil's Own, The  | Miracle on 34th Street  | Batman Returns  | Mission, The  | Dream With the Fishes  | Black Beauty  | Story of Us, The  | Safe  | Jaws 2  | Alien�  | Blue Juice  | Dreaming of Joseph Lees  | Amityville 1992: It's About Time  | Crocodile Dundee  | Caught  | Adventures of Robin Hood, The  |\n",
      "\n",
      "73 : People vs. Larry Flynt, The  | Gingerbread Man, The  | Pal Joey  | Even Dwarfs Started Small (Auch Zwerge haben klein angefangen)  | Nil By Mouth  | Strictly Ballroom  | Faust  | Amadeus  | Illtown  | Johnny 100 Pesos  | Committed  | Children Are Watching us, The (Bambini ci guardano, I)  | Dead Calm  | Psycho  | Headless Body in Topless Bar  | Magic Hunter  | T-Men  | Bride of the Monster  | When We Were Kings  | City Lights  | Bob Roberts  | Palookaville  | Raiders of the Lost Ark  | Experience Preferred... But Not Essential  | Invitation, The (Zaproszenie)  | Light It Up  | Why Do Fools Fall In Love?  | Double Life of Veronique, The (La Double Vie de V�ronique)  | Killer, The (Die xue shuang xiong)  | Sword in the Stone, The  |\n",
      "\n",
      "74 : Firelight  | Next Stop, Wonderland  | Mummy, The  | Peacemaker, The  | Chasing Amy  | Homage  | Algiers  | Best Men  | Tinseltown  | Eye for an Eye  | Blade Runner  | To Have, or Not  | Higher Learning  | Pretty Woman  | Toy Story  | Out-of-Towners, The  | Go Fish  | Prophecy II, The  | Clueless  | Nashville  | Brady Bunch Movie, The  | Amityville: A New Generation  | Everest  | Paper, The  | Bird of Prey  | Fresh  | Schlafes Bruder (Brother of Sleep)  | Immortal Beloved  | House Party 3  | Shadow, The  |\n",
      "\n",
      "75 : Police Academy 3: Back in Training  | Maurice  | Mole People, The  | Mighty Morphin Power Rangers: The Movie  | Second Best  | Rules of Engagement  | Message to Love: The Isle of Wight Festival  | Castle Freak  | Man from Down Under, The  | An Unforgettable Summer  | Bride of Frankenstein  | Truth or Consequences, N.M.  | Eve's Bayou  | Village of the Damned  | Copycat  | Beautiful Girls  | Tough Guys  | Sabotage  | Even Cowgirls Get the Blues  | Assassins  | Matrix, The  | Freaky Friday  | Body Snatchers  | Body Heat  | Knock Off  | Mat' i syn  | Caligula  | Verdict, The  | Crossing Guard, The  | Absolute Power  |\n",
      "\n",
      "76 : Cinema Paradiso  | Double Life of Veronique, The (La Double Vie de V�ronique)  | Bad Lieutenant  | Aiqing wansui  | Headless Body in Topless Bar  | Paris Is Burning  | Frequency  | Invitation, The (Zaproszenie)  | Commandments  | Celestial Clockwork  | Night Porter, The (Il Portiere di notte)  | Delicatessen  | My Left Foot  | Secret Garden, The  | Bad Moon  | Jennifer 8  | Sword in the Stone, The  | Loser  | Torn Curtain  | Mercury Rising  | Leopard Son, The  | Star Wars: Episode VI - Return of the Jedi  | Love Is All There Is  | Gingerbread Man, The  | Dangerous Liaisons  | When We Were Kings  | Hideous Kinky  | Shadow of Angels (Schatten der Engel)  | Ruling Class, The  | Dadetown  |\n",
      "\n",
      "77 : Princess Mononoke, The (Mononoke Hime)  | Superstar  | Slaughterhouse  | Taming of the Shrew, The  | Face in the Crowd, A  | Little Big Man  | Love Bewitched, A (El Amor Brujo)  | Glass Bottom Boat, The  | Man of the Century  | Inspector Gadget  | Very Thought of You, The  | Suburbans, The  | Hard Day's Night, A  | Meatballs Part II  | Lady Eve, The  | Portraits Chinois  | Fantastic Planet, The (La Plan�te sauvage)  | Malcolm X  | Creepshow  | Repossessed  | Don't Look in the Basement!  | Alice and Martin (Alice et Martin)  | Two Jakes, The  | Slaughterhouse 2  | From the Hip  | Edge of Seventeen  | Dreaming of Joseph Lees  | Three to Tango  | Days of Heaven  | On the Ropes  |\n",
      "\n",
      "78 : Pretty Woman  | Dear Diary (Caro Diario)  | Once Were Warriors  | Commandments  | Usual Suspects, The  | Inspector Gadget  | Everything Relative  | Rising Sun  | Stuart Saves His Family  | Pete's Dragon  | Magic Hunter  | Armageddon  | Edge of Seventeen  | When We Were Kings  | Don't Look in the Basement!  | People vs. Larry Flynt, The  | Hard Day's Night, A  | Headless Body in Topless Bar  | Raise the Red Lantern  | Farinelli: il castrato  | Nina Takes a Lover  | Here Comes Cookie  | Seven (Se7en)  | Playing by Heart  | I Stand Alone (Seul contre tous)  | Loser  | Favor, The  | Crude Oasis, The  | U.S. Marshalls  | Purple Noon  |\n",
      "\n",
      "79 : Arsenic and Old Lace  | Bulworth  | Your Friends and Neighbors  | Friend of the Deceased, A  | Manhattan  | Waterboy, The  | McCullochs, The  | Out-of-Towners, The  | Perfect Murder, A  | Major League: Back to the Minors  | Amityville: A New Generation  | Lolita  | Pajama Game, The  | Excalibur  | Sex, Lies, and Videotape  | Immortal Beloved  | Three Seasons  | Jail Bait  | Damsel in Distress, A  | Hoogste tijd  | Simple Plan, A  | Shiloh  | Mask of Zorro, The  | Evil Dead II (Dead By Dawn)  | English Patient, The  | Hot Lead and Cold Feet  | Very Bad Things  | Living Out Loud  | Wizard of Oz, The  | Go  |\n",
      "\n",
      "80 : Love in Bloom  | Right Stuff, The  | Cool Runnings  | Lawrence of Arabia  | Blues Brothers, The  | Paris Was a Woman  | Dead Calm  | Invitation, The (Zaproszenie)  | Midnight Express  | Maybe, Maybe Not (Bewegte Mann, Der)  | Sting, The  | Star Wars: Episode V - The Empire Strikes Back  | Five Easy Pieces  | Death Becomes Her  | Six of a Kind  | Tie Me Up! Tie Me Down!  | Withnail and I  | Howling II: Your Sister Is a Werewolf  | Sexual Life of the Belgians, The  | Heaven Can Wait  | Hairspray  | One True Thing  | Go  | Family Plot  | Mediterraneo  | Alien  | Perfect Candidate, A  | It Came from Outer Space  | Toy Story  | Killer, The (Die xue shuang xiong)  |\n",
      "\n",
      "81 : Clan of the Cave Bear, The  | An Unforgettable Summer  | Marlene Dietrich: Shadow and Light  | Woman in the Dunes (Suna no onna)  | Grapes of Wrath, The  | Career Girls  | Gabbeh  | Mr. Jones  | Canadian Bacon  | Even Cowgirls Get the Blues  | Shop Around the Corner, The  | Eye for an Eye  | Peacemaker, The  | I Shot Andy Warhol  | Ref, The  | Midnight Run  | Milk Money  | Loaded  | Ace Ventura: Pet Detective  | I'm Not Rappaport  | All Dogs Go to Heaven 2  | Beefcake  | Home Alone 2: Lost in New York  | Breathing Room  | Chamber, The  | Casino  | Inheritors, The (Die Siebtelbauern)  | Dead Men Don't Wear Plaid  | G.I. Jane  | Bitter Sugar (Azucar Amargo)  |\n",
      "\n",
      "82 : Secret Garden, The  | Drop Dead Fred  | Killer: A Journal of Murder  | City Lights  | Two or Three Things I Know About Her  | Entertaining Angels: The Dorothy Day Story  | Playing by Heart  | Scorta, La  | Manon of the Spring (Manon des sources)  | Junior  | Twelve Monkeys  | Plutonium Circus  | Haunted World of Edward D. Wood Jr., The  | First Blood  | Unbearable Lightness of Being, The  | Postman Always Rings Twice, The  | Enchanted April  | Crash  | Unhook the Stars  | American Graffiti  | Monty Python and the Holy Grail  | Star Wars: Episode V - The Empire Strikes Back  | Cobra  | Smoking/No Smoking  | How to Be a Player  | To Have, or Not  | Once Upon a Time in America  | Love Jones  | Return of the Pink Panther, The  | Best Laid Plans  |\n",
      "\n",
      "83 : Close Shave, A  | Aces: Iron Eagle III  | Twelve Monkeys  | Mr. & Mrs. Smith  | Addicted to Love  | Once Were Warriors  | Pete's Dragon  | D3: The Mighty Ducks  | Mondo  | Leaving Las Vegas  | Seven (Se7en)  | Boys on the Side  | Money Talks  | Casino  | Harlem  | Tom & Viv  | Back to School  | Everything Relative  | Gate II: Trespassers, The  | Thousand Acres, A  | U Turn  | Nina Takes a Lover  | Bitter Sugar (Azucar Amargo)  | Paulie  | Outrageous Fortune  | Dance with Me  | Nell  | Manon of the Spring (Manon des sources)  | G.I. Jane  | Usual Suspects, The  |\n",
      "\n",
      "84 : Babe  | Bad Seed, The  | Wisdom  | Toy Story  | Black Mask (Hak hap)  | Two Moon Juction  | Tie Me Up! Tie Me Down!  | Unhook the Stars  | Meatballs Part II  | Kid in King Arthur's Court, A  | Somebody to Love  | Sweet and Lowdown  | Suicide Kings  | Brady Bunch Movie, The  | Coogan's Bluff  | Train Ride to Hollywood  | Real Blonde, The  | Band Wagon, The  | Fire on the Mountain  | Mary Shelley's Frankenstein  | Santitos  | I Love You, I Love You Not  | Bloodsport  | Meatballs  | Romeo Is Bleeding  | Paper, The  | Swamp Thing  | Let's Get Harry  | Star Trek: First Contact  | Bloody Child, The  |\n",
      "\n",
      "85 : Murder at 1600  | Unforgettable  | Walk on the Moon, A  | Paulie  | Wing Commander  | Natural, The  | Living in Oblivion  | Drop Zone  | Lifeforce  | Empty Mirror, The  | Tank Girl  | Superstar  | Boys on the Side  | Hurricane Streets  | French Twist (Gazon maudit)  | Heaven Can Wait  | Vermont Is For Lovers  | Bushwhacked  | Drive Me Crazy  | Carlito's Way  | Virtuosity  | Shadow, The  | Client, The  | D3: The Mighty Ducks  | Amityville 3-D  | Tie Me Up! Tie Me Down!  | I Know What You Did Last Summer  | Swamp Thing  | U Turn  | Under Siege  |\n",
      "\n",
      "86 : Gun Shy  | Beloved/Friend (Amigo/Amado)  | Master Ninja I  | Manhattan Murder Mystery  | Absolute Power  | Die Hard: With a Vengeance  | War of the Worlds, The  | Low Down Dirty Shame, A  | Blame It on Rio  | Lord of Illusions  | Night of the Living Dead  | C�r�monie, La  | With Honors  | Fatal Instinct  | Field of Dreams  | Unforgotten: Twenty-Five Years After Willowbrook  | Identification of a Woman (Identificazione di una donna)  | No Small Affair  | Guilty as Sin  | Reckless  | Hamlet  | Herbie Goes Bananas  | Somebody is Waiting  | Above the Rim  | Young Doctors in Love  | Rock, The  | Excess Baggage  | In the Name of the Father  | Simple Twist of Fate, A  | High School High  |\n",
      "\n",
      "87 : Mulan  | I Don't Want to Talk About It (De eso no se habla)  | Brady Bunch Movie, The  | Lolita  | Apocalypse Now  | Home Alone  | Metropolitan  | Hour of the Pig, The  | Breakfast Club, The  | Nightmare on Elm Street Part 2: Freddy's Revenge, A  | Higher Learning  | African Queen, The  | Freddy's Dead: The Final Nightmare  | Farewell to Arms, A  | Friday the 13th Part 2  | Nothing Personal  | Halloween III: Season of the Witch  | Mystery, Alaska  | Toy Story  | Mafia!  | Minus Man, The  | Rounders  | Something to Sing About  | Kansas City  | Last Time I Saw Paris, The  | Longest Day, The  | Train Ride to Hollywood  | Beat the Devil  | King of New York  | Battling Butler  |\n",
      "\n",
      "88 : Out of Sight  | Mystery Men  | Native Son  | Producers, The  | Skin Game, The  | Village of the Damned  | Ripe  | Three Days of the Condor  | Secret Agent  | Firestorm  | Romeo Must Die  | One Tough Cop  | Land and Freedom (Tierra y libertad)  | Guy  | Kicking and Screaming  | Yojimbo  | Endurance  | Breathing Room  | Crash  | Otello  | Not One Less (Yi ge dou bu neng shao)  | Century of Cinema, A  | Dancemaker  | King and I, The  | Slam  | Under Siege 2: Dark Territory  | Andre  | Out-of-Towners, The  | McHale's Navy  | Soul Food  |\n",
      "\n",
      "89 : Peacemaker, The  | Searching for Bobby Fischer  | Ghost  | Breathing Room  | Dancemaker  | Client, The  | One True Thing  | American President, The  | Corrina, Corrina  | Tie Me Up! Tie Me Down!  | Calendar Girl  | Clueless  | Booty Call  | Paper, The  | Sting, The  | Sense and Sensibility  | Tommy Boy  | Very Natural Thing, A  | Poseidon Adventure, The  | Andre  | Producers, The  | Dumbo  | Can't Hardly Wait  | Hello Mary Lou: Prom Night II  | Pecker  | Amityville II: The Possession  | It's My Party  | Bird of Prey  | Forbidden Planet  | Contact  |\n",
      "\n",
      "90 : Hard 8 (a.k.a. Sydney, a.k.a. Hard Eight)  | Deliverance  | Different for Girls  | Actor's Revenge, An (Yukinojo Henge)  | Land Girls, The  | Champagne  | Messenger: The Story of Joan of Arc, The  | Star Wars: Episode I - The Phantom Menace  | Great Mouse Detective, The  | Slaves to the Underground  | Caddyshack  | JFK  | With Friends Like These...  | Tin Cup  | Alan Smithee Film: Burn Hollywood Burn, An  | Purple Rose of Cairo, The  | Rambo: First Blood Part II  | Austin Powers: The Spy Who Shagged Me  | Working Girl  | Marathon Man  | Exorcist II: The Heretic  | 42 Up  | Virgin Suicides, The  | Brown's Requiem  | Monty Python and the Holy Grail  | Dead Again  | My Man Godfrey  | Forbidden Planet  | Bodyguard, The  | Postman Always Rings Twice, The  |\n",
      "\n",
      "91 : Love Is a Many-Splendored Thing  | Runaway Bride  | Volunteers  | Seven Beauties (Pasqualino Settebellezze)  | Happy, Texas  | Son of Dracula  | With Friends Like These...  | Critical Care  | Pump Up the Volume  | Rocky IV  | Friday the 13th Part 3: 3D  | Moonraker  | Drunken Master (Zui quan)  | Bug's Life, A  | Color Purple, The  | Rules of Engagement  | Shakespeare in Love  | Flying Saucer, The  | Weird Science  | Barcelona  | Bridge on the River Kwai, The  | Exorcist III, The  | Married to the Mob  | Rocky II  | Road Trip  | ...And Justice for All  | Asfour Stah  | Almost Heroes  | Woman in Question, The  | Working Girl  |\n",
      "\n",
      "92 : Nashville  | Blink  | Speed  | Jungle Book, The  | Rugrats Movie, The  | Dear Jesse  | Killing Fields, The  | My Life as a Dog (Mitt liv som hund)  | Little Princess, A  | Panther  | So I Married an Axe Murderer  | King and I, The  | Liar Liar  | Female Perversions  | Fresh  | Gendernauts  | Lost Horizon  | Amityville II: The Possession  | Basketball Diaries, The  | Ninth Gate, The  | All Dogs Go to Heaven 2  | Fearless  | Men in Black  | Canadian Bacon  | Stupids, The  | Federal Hill  | Sound of Music, The  | Bird of Prey  | Outrageous Fortune  | Identification of a Woman (Identificazione di una donna)  |\n",
      "\n",
      "93 : Another Man's Poison  | Coming Apart  | Final Destination  | Keeping the Faith  | Reckless  | Amityville Curse, The  | Other Sister, The  | Waiting to Exhale  | Mascara  | Shattered Image  | Strangeland  | This World, Then the Fireworks  | With Friends Like These...  | Road to Wellville, The  | Runaway Train  | Dolores Claiborne  | Diner  | Dave  | Impostors, The  | Wirey Spindell  | Doctor Dolittle  | Maximum Overdrive  | Bull Durham  | Wolf Man, The  | Thin Man, The  | Lost & Found  | Very Thought of You, The  | Children of Heaven, The (Bacheha-Ye Aseman)  | Trial by Jury  | Lethal Weapon 3  |\n",
      "\n",
      "94 : Raiders of the Lost Ark  | Grosse Fatigue  | Passion Fish  | Howling, The  | Blues Brothers, The  | Peter's Friends  | Johnny 100 Pesos  | Kramer Vs. Kramer  | High Fidelity  | Gone with the Wind  | Here Comes Cookie  | Three Kings  | Strictly Ballroom  | Mickey Blue Eyes  | Sword in the Stone, The  | Bedknobs and Broomsticks  | Haunted World of Edward D. Wood Jr., The  | Amadeus  | Total Recall  | Heaven's Burning  | Rising Sun  | Niagara, Niagara  | Client, The  | Two Girls and a Guy  | Gone Fishin'  | Paths of Glory  | Beyond the Poseidon Adventure  | Withnail and I  | Armageddon  | Love in Bloom  |\n",
      "\n",
      "95 : Henry V  | Curtis's Charm  | 13th Warrior, The  | Secret Garden, The  | Minus Man, The  | Wings of Desire (Der Himmel �ber Berlin)  | Good, The Bad and The Ugly, The  | Unbearable Lightness of Being, The  | Cool Runnings  | Paris Was a Woman  | Governess, The  | Cat from Outer Space, The  | Go  | Alien  | Drop Dead Fred  | Shooter, The  | Return of the Pink Panther, The  | Smoking/No Smoking  | Angels in the Outfield  | Singles  | Naked Man, The  | British Intelligence  | Perfect Candidate, A  | Bulworth  | Grand Day Out, A  | Metisse (Caf� au Lait)  | Drunken Master (Zui quan)  | Train Ride to Hollywood  | Romance  | Bedknobs and Broomsticks  |\n",
      "\n",
      "96 : Never Been Kissed  | All the King's Men  | What Dreams May Come  | Dune  | Children of Heaven, The (Bacheha-Ye Aseman)  | Little Rascals, The  | Stepford Wives, The  | Perfect Murder, A  | Fausto  | Pope of Greenwich Village, The  | Beyond Silence  | Shattered Image  | Rugrats Movie, The  | Shampoo  | Alice in Wonderland  | Choices  | Back to the Future Part III  | Last Temptation of Christ, The  | Cabinet of Dr. Ramirez, The  | Dear Jesse  | Hello Mary Lou: Prom Night II  | Three Seasons  | Boondock Saints, The  | Cool as Ice  | Hellhounds on My Trail  | Forbidden Planet  | Beauty  | Billy's Hollywood Screen Kiss  | Minus Man, The  | Harvey  |\n",
      "\n",
      "97 : Ace Ventura: When Nature Calls  | Careful  | Harvey  | Poetic Justice  | Bat, The  | Secret Agent  | Star Trek V: The Final Frontier  | Shampoo  | Blink  | Lion King, The  | Clear and Present Danger  | War of the Worlds, The  | Beverly Hillbillies, The  | Drop Zone  | Blue Sky  | Two if by Sea  | Navigator: A Mediaeval Odyssey, The  | McCabe & Mrs. Miller  | Little Rascals, The  | Stanley & Iris  | Ladybird Ladybird  | Feeling Minnesota  | In the Name of the Father  | Horseman on the Roof, The (Hussard sur le toit, Le)  | Two Crimes  | Dolores Claiborne  | Rock, The  | Fisher King, The  | Dunston Checks In  | Amateur  |\n",
      "\n",
      "98 : I Got the Hook Up  | Snowriders  | I Shot a Man in Vegas  | Entertaining Angels: The Dorothy Day Story  | Duck Soup  | Manchurian Candidate, The  | Great Mouse Detective, The  | English Patient, The  | Patton  | Friend of the Deceased, A  | Children of the Corn II: The Final Sacrifice  | Wizard of Oz, The  | Grandview, U.S.A.  | Lawrence of Arabia  | Long Goodbye, The  | Battle for the Planet of the Apes  | Jail Bait  | Hands on a Hard Body  | Great Escape, The  | Bulworth  | Manhattan  | Christmas Vacation  | Living Out Loud  | Go  | Airport 1975  | Winslow Boy, The  | Back to the Future  | Towering Inferno, The  | Amityville: A New Generation  | Mask of Zorro, The  |\n",
      "\n",
      "99 : Malice  | Citizen Ruth  | Ghost  | River Runs Through It, A  | Fausto  | Searching for Bobby Fischer  | Topaz  | Tigger Movie, The  | Andre  | Producers, The  | It Could Happen to You  | Booty Call  | Neon Bible, The  | Chushingura  | Clue  | N�nette et Boni  | Hurricane Streets  | Calendar Girl  | American President, The  | Client, The  | Firelight  | Virtuosity  | Natural, The  | Relative Fear  | Love Jones  | Tommy Boy  | Outlaw, The  | Hour of the Pig, The  | Fisher King, The  | Richie Rich  |\n",
      "\n"
     ]
    }
   ],
   "source": [
    "sorted_topics = alpha.transpose().index\n",
    "for topic in sorted_topics:\n",
    "    top_words = beta.loc[topic].sort_values(ascending=False).index\n",
    "    \n",
    "    if topic < 10:\n",
    "        print topic, \" :\" ,\n",
    "    else:\n",
    "        print topic , \":\" , \n",
    "        \n",
    "    for i in xrange(30):\n",
    "        print movies.loc[top_words[i]][1][:-7], ' |', \n",
    "    print\n",
    "    print"
   ]
  },
  {
   "cell_type": "code",
   "execution_count": null,
   "metadata": {
    "collapsed": true
   },
   "outputs": [],
   "source": []
  }
 ],
 "metadata": {
  "kernelspec": {
   "display_name": "Python 2",
   "language": "python",
   "name": "python2"
  },
  "language_info": {
   "codemirror_mode": {
    "name": "ipython",
    "version": 2
   },
   "file_extension": ".py",
   "mimetype": "text/x-python",
   "name": "python",
   "nbconvert_exporter": "python",
   "pygments_lexer": "ipython2",
   "version": "2.7.11"
  }
 },
 "nbformat": 4,
 "nbformat_minor": 0
}

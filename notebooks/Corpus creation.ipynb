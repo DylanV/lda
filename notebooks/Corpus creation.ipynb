{
 "cells": [
  {
   "cell_type": "code",
   "execution_count": 1,
   "metadata": {
    "collapsed": false
   },
   "outputs": [],
   "source": [
    "import os\n",
    "import numpy as np\n",
    "import pandas as pd\n",
    "\n",
    "import matplotlib.pyplot as plt\n",
    "\n",
    "%matplotlib inline\n",
    "\n",
    "from sklearn.cross_validation import train_test_split\n",
    "from sklearn.metrics import mean_squared_error\n",
    "\n",
    "def read_ratings(file_path, sep='::'):\n",
    "    ratings_file = os.path.abspath(file_path)\n",
    "    column_names = ['userId', 'movieId', 'rating', 'timestamp']\n",
    "    ratings = pd.read_csv(ratings_file, names=column_names, sep=sep, engine='python')\n",
    "    ratings = ratings.drop('timestamp', axis=1)\n",
    "    ratings[['userId', 'movieId']] = ratings[['userId', 'movieId']].astype('int32')\n",
    "    ratings[['rating']] = ratings[['rating']].astype('int8')\n",
    "    ratings = ratings.pivot('userId', 'movieId', 'rating').fillna(value=0)\n",
    "    return ratings\n",
    "\n",
    "def split_train_test(ratings, test_ratio=0.2):\n",
    "    test = pd.DataFrame(np.zeros(ratings.shape), index=ratings.index, columns=ratings.columns)\n",
    "    train = pd.DataFrame(np.zeros(ratings.shape), index=ratings.index, columns=ratings.columns)\n",
    "\n",
    "    for user in xrange(ratings.shape[0]):\n",
    "        user_ratings_indexes = ratings.iloc[user, :].nonzero()[0]\n",
    "        train_indexes, test_indexes = train_test_split(user_ratings_indexes, test_size=test_ratio)\n",
    "        train.iloc[user, train_indexes] = ratings.iloc[user, train_indexes]\n",
    "        test.iloc[user, test_indexes] = ratings.iloc[user, test_indexes]\n",
    "\n",
    "    return train, test\n",
    "\n",
    "def get_similiarity_matrix(ratings):\n",
    "    user_similarity = ratings.dot(ratings.transpose())\n",
    "    normalisation_terms = pd.DataFrame(np.diagonal(user_similarity.values), index=ratings.index).apply(np.sqrt)\n",
    "    normalisation_terms = normalisation_terms.dot(normalisation_terms.transpose())\n",
    "    user_similarity = user_similarity.div(normalisation_terms)\n",
    "    return user_similarity\n",
    "\n",
    "def get_rmse(predicted, actual):\n",
    "    return np.sqrt(mean_squared_error(actual.values[actual.values.nonzero()].flatten(),\n",
    "                                      predicted.values[actual.values.nonzero()].flatten()))\n",
    "\n",
    "def adjust_user_similarity_knn(user_similarity, k):\n",
    "        adjusted_similarity = pd.DataFrame(np.zeros(user_similarity.shape),\n",
    "                                           index=user_similarity.index, columns=user_similarity.columns)\n",
    "\n",
    "        for user in user_similarity.iterrows():\n",
    "            top_k_indexes = user[1].sort_values(ascending=False).iloc[0:k+1].index.values\n",
    "            adjusted_similarity.loc[user[0], top_k_indexes] = user_similarity.loc[user[0], top_k_indexes]\n",
    "\n",
    "        return adjusted_similarity\n",
    "        \n",
    "def predict(ratings, user_similarity, user_means, user_std_devs):\n",
    "    predictions = user_similarity.dot(ratings)\n",
    "    denom = user_similarity.abs().sum().transpose()\n",
    "    predictions = predictions.div(denom, axis='index')\n",
    "    \n",
    "    adjusted_predictions_values = predicted.values * self.user_std_devs.values\n",
    "    adjusted_predicted_values = adjusted_predictions_values + self.user_means.values\n",
    "    predictions = pd.DataFrame(adjusted_predicted_values).fillna(value=0)\n",
    "    return predictions"
   ]
  },
  {
   "cell_type": "code",
   "execution_count": 2,
   "metadata": {
    "collapsed": false
   },
   "outputs": [],
   "source": [
    "path = os.path.join(os.getcwd(),\"..\",\"datasets\", \"ml1m\", \"ratings.dat\")\n",
    "full = read_ratings(path)\n",
    "\n",
    "users= full.index\n",
    "movies = pd.Index(full.columns.unique())\n",
    "\n",
    "ratings, test = split_train_test(full)\n",
    "\n",
    "path = os.path.join(os.getcwd(), \"..\",\"datasets\", \"ml1m\", \"movies.dat\")\n",
    "movie_names = pd.read_table(path, sep=\"::\", index_col=0, names=['Title', 'Genre'], header = None, engine='python')"
   ]
  },
  {
   "cell_type": "code",
   "execution_count": 3,
   "metadata": {
    "collapsed": false
   },
   "outputs": [],
   "source": [
    "genres = set()\n",
    "for row in movie_names.iterrows():\n",
    "    for genre in row[1][1].split('|'):\n",
    "        genres.add(genre)"
   ]
  },
  {
   "cell_type": "code",
   "execution_count": 4,
   "metadata": {
    "collapsed": false
   },
   "outputs": [],
   "source": [
    "ratings = ratings.replace(0, np.nan)\n",
    "user_means = pd.DataFrame(ratings.mean(axis=1), index=ratings.index, columns=['mean']).fillna(value=0)\n",
    "item_means = pd.DataFrame(ratings.mean(axis=0), index=ratings.columns, columns=['mean']).fillna(value=0)\n",
    "user_offsets = ratings.subtract(user_means['mean'], 0).abs().mean(axis=1)\n",
    "new = ratings.subtract(user_means['mean'], 0).divide(user_offsets, 0).transpose().unstack().dropna()"
   ]
  },
  {
   "cell_type": "code",
   "execution_count": 5,
   "metadata": {
    "collapsed": false
   },
   "outputs": [],
   "source": [
    "rated = full.replace(0, np.nan).transpose().unstack().dropna()\n",
    "path = os.path.join(os.getcwd(),\"..\",\"datasets\", \"ml1m.dat\")\n",
    "fo = open(path, \"w\")\n",
    "\n",
    "line = str(len(movies)) + \" \"\n",
    "for movie in movies:\n",
    "    line += str(movies.get_loc(movie)) + \":1 \"\n",
    "line += \"\\n\"\n",
    "fo.write(line)\n",
    "\n",
    "for user in users:\n",
    "    doc = \"\"\n",
    "    count = 0\n",
    "    for item in rated.loc[user].iteritems():\n",
    "        doc = doc + str(movies.get_loc(item[0])) + \":\" + str(item[1]) + \" \"\n",
    "        count = count + 1\n",
    "    doc = str(count) + \" \" + doc + \"\\n\"\n",
    "    fo.write(doc)\n",
    "fo.close()"
   ]
  },
  {
   "cell_type": "code",
   "execution_count": 6,
   "metadata": {
    "collapsed": false
   },
   "outputs": [
    {
     "name": "stdout",
     "output_type": "stream",
     "text": [
      "0  : Casablanca  | Singin' in the Rain  | West Side Story  | Gone with the Wind  | My Fair Lady  | Shakespeare in Love  | Graduate, The  | African Queen, The  | Wizard of Oz, The  | Breakfast at Tiffany's  | Philadelphia Story, The  | When Harry Met Sally...  | Roman Holiday  | Sense and Sensibility  | Annie Hall  | Witness  | Room with a View, A  | Dangerous Liaisons  | Groundhog Day  | Some Like It Hot  | Princess Bride, The  | Doctor Zhivago  | To Kill a Mockingbird  | Sound of Music, The  | Romeo and Juliet  | Sabrina  | Crying Game, The  | Mary Poppins  | It's a Wonderful Life  | North by Northwest  |\n",
      "\n",
      "1  : What About Bob?  | F/X  | Kelly's Heroes  | Everything You Always Wanted to Know About Sex  | Steel Magnolias  | Air America  | American Gigolo  | Breaker Morant  | Carlito's Way  | Anatomy of a Murder  | Bronco Billy  | Footloose  | 2 Days in the Valley  | Serpico  | ...And Justice for All  | Bad Lieutenant  | Mulholland Falls  | Easy Money  | Thunderbolt and Lightfoot  | Donnie Brasco  | Once Upon a Time in America  | Kentucky Fried Movie, The  | Body Heat  | Bananas  | Love and Death  | 52 Pick-Up  | Blowup  | Angel Heart  | King of New York  | Naked Gun 2 1/2: The Smell of Fear, The  |\n",
      "\n",
      "2  : Sweet Hereafter, The  | In the Company of Men  | Ice Storm, The  | Buffalo 66  | Boys Don't Cry  | Sweet and Lowdown  | Welcome to the Dollhouse  | Short Cuts  | Spanish Prisoner, The  | Limey, The  | Magnolia  | Happiness  | Lone Star  | Affliction  | Big Night  | Glengarry Glen Ross  | Waiting for Guffman  | Hoop Dreams  | Insider, The  | Election  | American Movie  | Breaking the Waves  | Smoke  | Gods and Monsters  | Ulee's Gold  | Boogie Nights  | Straight Story, The  | Flirting With Disaster  | Simple Plan, A  | Cookie's Fortune  |\n",
      "\n",
      "3  : Jurassic Park  | Men in Black  | Matrix, The  | Rock, The  | Fugitive, The  | Hunt for Red October, The  | Terminator 2: Judgment Day  | Total Recall  | Speed  | Independence Day (ID4)  | Star Wars: Episode I - The Phantom Menace  | True Lies  | Mission: Impossible  | Braveheart  | Patriot Games  | Saving Private Ryan  | Clear and Present Danger  | Enemy of the State  | Face/Off  | Air Force One  | Star Trek: First Contact  | Die Hard 2  | Mask of Zorro, The  | Fifth Element, The  | GoldenEye  | Thomas Crown Affair, The  | Tomorrow Never Dies  | Negotiator, The  | Armageddon  | In the Line of Fire  |\n",
      "\n",
      "4  : Being John Malkovich  | American Beauty  | Talented Mr. Ripley, The  | Sixth Sense, The  | Boys Don't Cry  | Shakespeare in Love  | Elizabeth  | Eyes Wide Shut  | Gods and Monsters  | Red Violin, The (Le Violon rouge)  | Erin Brockovich  | Sleepy Hollow  | Run Lola Run (Lola rennt)  | Diner  | Out of Africa  | Election  | Man on the Moon  | Galaxy Quest  | Snow Falling on Cedars  | Fight Club  | Bringing Out the Dead  | Magnolia  | Maltese Falcon, The  | Ideal Husband, An  | Green Mile, The  | Girl, Interrupted  | Desperately Seeking Susan  | Ghostbusters  | Little Voice  | Dogma  |\n",
      "\n",
      "5  : Like Water for Chocolate (Como agua para chocolate)  | Postino, Il (The Postman)  | Sense and Sensibility  | Howards End  | Crying Game, The  | Remains of the Day, The  | Secrets & Lies  | English Patient, The  | Eat Drink Man Woman  | Elizabeth  | Raise the Red Lantern  | Piano, The  | Mrs. Brown (Her Majesty, Mrs. Brown)  | Farewell My Concubine  | Big Night  | Shine  | Madness of King George, The  | Three Colors: Red  | Central Station (Central do Brasil)  | Three Colors: Blue  | Edward Scissorhands  | Red Violin, The (Le Violon rouge)  | Strictly Ballroom  | Player, The  | Leaving Las Vegas  | Thelma & Louise  | Grifters, The  | Lone Star  | Three Colors: White  | In the Name of the Father  |\n",
      "\n",
      "6  : Lock, Stock & Two Smoking Barrels  | Reservoir Dogs  | Run Lola Run (Lola rennt)  | Professional, The (a.k.a. Leon: The Professional)  | City of Lost Children, The  | True Romance  | Usual Suspects, The  | Bound  | Hard-Boiled (Lashou shentan)  | Jackie Brown  | Mariachi, El  | Seven (Se7en)  | Heat  | Pi  | Delicatessen  | Big Lebowski, The  | Go  | Rumble in the Bronx  | Nikita (La Femme Nikita)  | Grosse Pointe Blank  | Killer, The (Die xue shuang xiong)  | Fight Club  | Dead Man  | Heavenly Creatures  | Man Bites Dog (C'est arriv� pr�s de chez vous)  | Pulp Fiction  | Ghost Dog: The Way of the Samurai  | Limey, The  | Shallow Grave  | Out of Sight  |\n",
      "\n",
      "7  : Ferris Bueller's Day Off  | Breakfast Club, The  | Christmas Story, A  | Airplane!  | Back to the Future  | Big  | Ghostbusters  | Princess Bride, The  | When Harry Met Sally...  | Raising Arizona  | Fish Called Wanda, A  | Stand by Me  | Fast Times at Ridgemont High  | Caddyshack  | Animal House  | Monty Python and the Holy Grail  | Beetlejuice  | Bull Durham  | Say Anything...  | Groundhog Day  | Blues Brothers, The  | Parenthood  | Sixteen Candles  | Lethal Weapon  | Vacation  | This Is Spinal Tap  | Trading Places  | Stripes  | Naked Gun: From the Files of Police Squad!, The  | Willy Wonka and the Chocolate Factory  |\n",
      "\n",
      "8  : Apollo 13  | Mr. Holland's Opus  | Good Will Hunting  | Shawshank Redemption, The  | Fried Green Tomatoes  | As Good As It Gets  | Truman Show, The  | Scent of a Woman  | Dances with Wolves  | Few Good Men, A  | Awakenings  | Schindler's List  | October Sky  | Philadelphia  | River Runs Through It, A  | Contact  | Dead Man Walking  | Titanic  | Quiz Show  | League of Their Own, A  | Jerry Maguire  | Rainmaker, The  | Thelma & Louise  | Amistad  | Life Is Beautiful (La Vita � bella)  | Firm, The  | Joy Luck Club, The  | Time to Kill, A  | Braveheart  | Green Mile, The  |\n",
      "\n",
      "9  : Citizen Kane  | One Flew Over the Cuckoo's Nest  | Godfather, The  | Midnight Cowboy  | Graduate, The  | Taxi Driver  | Casablanca  | To Kill a Mockingbird  | Amadeus  | Godfather: Part II, The  | Dr. Strangelove or: How I Learned to Stop Worrying and Love the Bomb  | Annie Hall  | Apocalypse Now  | Wizard of Oz, The  | Bonnie and Clyde  | Network  | Seven Samurai (The Magnificent Seven) (Shichinin no samurai)  | Streetcar Named Desire, A  | Hustler, The  | North by Northwest  | Chinatown  | Cool Hand Luke  | On the Waterfront  | Schindler's List  | Lawrence of Arabia  | Raging Bull  | Bridge on the River Kwai, The  | Manhattan  | 2001: A Space Odyssey  | Psycho  |\n",
      "\n",
      "10 : Psycho  | Exorcist, The  | Birds, The  | Invasion of the Body Snatchers  | Frankenstein  | Shining, The  | Jaws  | Alien  | Young Frankenstein  | King Kong  | Carrie  | Night of the Living Dead  | Rosemary's Baby  | Omen, The  | Dracula  | Halloween  | American Werewolf in London, An  | Bride of Frankenstein  | Thing, The  | Ghostbusters  | Fly, The  | Fly, The  | Misery  | Poltergeist  | Wolf Man, The  | War of the Worlds, The  | Nosferatu (Nosferatu, eine Symphonie des Grauens)  | Planet of the Apes  | Re-Animator  | Rocky Horror Picture Show, The  |\n",
      "\n",
      "11 : Dr. No  | Goldfinger  | Spy Who Loved Me, The  | Man with the Golden Gun, The  | Jaws  | From Russia with Love  | Lethal Weapon  | Star Trek: The Wrath of Khan  | On Her Majesty's Secret Service  | Thunderball  | Independence Day (ID4)  | Moonraker  | Butch Cassidy and the Sundance Kid  | Mary Poppins  | Lethal Weapon 2  | Platoon  | World Is Not Enough, The  | F/X  | Twister  | Searching for Bobby Fischer  | My Cousin Vinny  | Henry V  | Planet of the Apes  | Game, The  | Live and Let Die  | Name of the Rose, The  | 2001: A Space Odyssey  | Dr. Strangelove or: How I Learned to Stop Worrying and Love the Bomb  | Princess Bride, The  | Firm, The  |\n",
      "\n",
      "12 : Patriot, The  | Gladiator  | Erin Brockovich  | Perfect Storm, The  | U-571  | Frequency  | Mission: Impossible 2  | X-Men  | Chicken Run  | Remember the Titans  | Shanghai Noon  | Meet the Parents  | Rules of Engagement  | Space Cowboys  | Whole Nine Yards, The  | High Fidelity  | Keeping the Faith  | What Lies Beneath  | Gone in 60 Seconds  | Scary Movie  | Mission to Mars  | 28 Days  | Me, Myself and Irene  | Return to Me  | Almost Famous  | Shaft  | Road Trip  | Boiler Room  | Where the Heart Is  | Cider House Rules, The  |\n",
      "\n",
      "13 : 2001: A Space Odyssey  | Close Encounters of the Third Kind  | Blade Runner  | Star Trek: The Wrath of Khan  | Star Wars: Episode IV - A New Hope  | Terminator, The  | Back to the Future  | Star Wars: Episode V - The Empire Strikes Back  | Star Trek IV: The Voyage Home  | Alien  | Aliens  | E.T. the Extra-Terrestrial  | Planet of the Apes  | Star Wars: Episode VI - Return of the Jedi  | Matrix, The  | Dr. Strangelove or: How I Learned to Stop Worrying and Love the Bomb  | Contact  | Men in Black  | Day the Earth Stood Still, The  | Clockwork Orange, A  | Mad Max  | Twelve Monkeys  | Terminator 2: Judgment Day  | Predator  | Star Trek: First Contact  | Abyss, The  | Cocoon  | Superman  | Time Bandits  | Robocop  |\n",
      "\n",
      "14 : Wrong Trousers, The  | Close Shave, A  | Toy Story  | Toy Story 2  | Grand Day Out, A  | Shakespeare in Love  | Groundhog Day  | Babe  | Being John Malkovich  | American Beauty  | Full Monty, The  | Election  | Life Is Beautiful (La Vita � bella)  | Chicken Run  | Bug's Life, A  | Wallace & Gromit: The Best of Aardman Animation  | There's Something About Mary  | Pleasantville  | Creature Comforts  | Waking Ned Devine  | Rushmore  | Galaxy Quest  | Grosse Pointe Blank  | Clueless  | Aladdin  | As Good As It Gets  | Wayne's World  | Four Weddings and a Funeral  | Clerks  | Austin Powers: International Man of Mystery  |\n",
      "\n",
      "15 : Raiders of the Lost Ark  | Star Wars: Episode V - The Empire Strikes Back  | Star Wars: Episode IV - A New Hope  | Star Wars: Episode VI - Return of the Jedi  | Indiana Jones and the Last Crusade  | Terminator, The  | Die Hard  | E.T. the Extra-Terrestrial  | Back to the Future  | Saving Private Ryan  | Godfather, The  | Princess Bride, The  | Alien  | Schindler's List  | Aliens  | Braveheart  | Jaws  | Wizard of Oz, The  | Amadeus  | Glory  | Blade Runner  | Shawshank Redemption, The  | Silence of the Lambs, The  | Godfather: Part II, The  | Matrix, The  | Stand by Me  | Sixth Sense, The  | Terminator 2: Judgment Day  | Toy Story  | Fugitive, The  |\n",
      "\n",
      "16 : Notorious  | His Girl Friday  | Lady Vanishes, The  | Strangers on a Train  | Bringing Up Baby  | Shadow of a Doubt  | It Happened One Night  | Spellbound  | Rebecca  | Philadelphia Story, The  | Laura  | Suspicion  | Arsenic and Old Lace  | Double Indemnity  | Gaslight  | Lady Eve, The  | To Catch a Thief  | Third Man, The  | 39 Steps, The  | My Man Godfrey  | Maltese Falcon, The  | Big Sleep, The  | Charade  | Top Hat  | Dial M for Murder  | Sunset Blvd. (a.k.a. Sunset Boulevard)  | Sullivan's Travels  | Vertigo  | City Lights  | Thin Man, The  |\n",
      "\n",
      "17 : Devil's Advocate, The  | Wild Things  | Rounders  | Seven (Se7en)  | Few Good Men, A  | Kiss the Girls  | There's Something About Mary  | Sleepers  | Entrapment  | American History X  | Scream  | American Pie  | Game, The  | Tombstone  | Copycat  | Jackie Brown  | Basic Instinct  | Donnie Brasco  | Perfect Murder, A  | Happy Gilmore  | Casino  | Pulp Fiction  | Lethal Weapon 3  | Ransom  | Interview with the Vampire  | Three Kings  | Lion King, The  | Austin Powers: International Man of Mystery  | Arlington Road  | Austin Powers: The Spy Who Shagged Me  |\n",
      "\n",
      "18 : Austin Powers: The Spy Who Shagged Me  | American Pie  | Ghostbusters  | Sixth Sense, The  | Bug's Life, A  | Blair Witch Project, The  | Who Framed Roger Rabbit?  | Big Daddy  | American Beauty  | Abyss, The  | Clerks  | Entrapment  | Fight Club  | Bone Collector, The  | Bowfinger  | Double Jeopardy  | General's Daughter, The  | Cruel Intentions  | Kingpin  | Arachnophobia  | Arlington Road  | Office Space  | Thomas Crown Affair, The  | South Park: Bigger, Longer and Uncut  | Doors, The  | Gladiator  | 10 Things I Hate About You  | Payback  | Stir of Echoes  | Civil Action, A  |\n",
      "\n",
      "19 : Trainspotting  | Pulp Fiction  | Good Will Hunting  | American History X  | Boogie Nights  | Fight Club  | Twelve Monkeys  | Three Kings  | Truman Show, The  | GoodFellas  | Swingers  | Reservoir Dogs  | Fargo  | Edward Scissorhands  | Chasing Amy  | Clerks  | Leaving Las Vegas  | Usual Suspects, The  | Being John Malkovich  | Shawshank Redemption, The  | Silence of the Lambs, The  | Jerry Maguire  | Rushmore  | Election  | There's Something About Mary  | American Beauty  | Go  | Casino  | Apollo 13  | What's Eating Gilbert Grape  |\n",
      "\n",
      "20 : Basic Instinct  | Game, The  | Cape Fear  | Perfect Murder, A  | Client, The  | Absolute Power  | L.A. Confidential  | Sixth Sense, The  | Devil's Advocate, The  | Silence of the Lambs, The  | Talented Mr. Ripley, The  | Firm, The  | Seven (Se7en)  | Dead Again  | X-Files: Fight the Future, The  | Jacob's Ladder  | Fatal Attraction  | Conspiracy Theory  | Air Force One  | Murder at 1600  | Ransom  | Wild Things  | Primal Fear  | Arlington Road  | Fugitive, The  | Casino  | Witness  | Ghost  | Flatliners  | Fargo  |\n",
      "\n",
      "21 : Big Lebowski, The  | Rushmore  | Waiting for Guffman  | Hudsucker Proxy, The  | Dazed and Confused  | Singles  | Clerks  | L.A. Story  | Office Space  | Mighty Aphrodite  | Kingpin  | Jerk, The  | Deconstructing Harry  | Fisher King, The  | Swingers  | Reality Bites  | Bob Roberts  | Fear and Loathing in Las Vegas  | Kids in the Hall: Brain Candy  | Pee-wee's Big Adventure  | Ed Wood  | Heathers  | Flirting With Disaster  | Wayne's World  | Welcome to the Dollhouse  | To Die For  | Beavis and Butt-head Do America  | Austin Powers: International Man of Mystery  | Mallrats  | So I Married an Axe Murderer  |\n",
      "\n",
      "22 : Dangerous Liaisons  | Adventures of Priscilla, Queen of the Desert, The  | Color Purple, The  | Muriel's Wedding  | Pretty in Pink  | Say Anything...  | Driving Miss Daisy  | Boys on the Side  | Peggy Sue Got Married  | Terms of Endearment  | Room with a View, A  | Moonstruck  | Circle of Friends  | Some Kind of Wonderful  | Desperately Seeking Susan  | St. Elmo's Fire  | Amadeus  | Working Girl  | Benny & Joon  | Little Women  | Dead Again  | All About Eve  | Maurice  | Parenthood  | Corrina, Corrina  | Hairspray  | Breakfast Club, The  | Ordinary People  | Thelma & Louise  | Dead Poets Society  |\n",
      "\n",
      "23 : Scream  | Interview with the Vampire  | Misery  | Nightmare on Elm Street, A  | Blair Witch Project, The  | Bram Stoker's Dracula  | Scream 2  | Craft, The  | Sleepy Hollow  | Halloween  | Gremlins  | Candyman  | Shining, The  | Poltergeist  | Friday the 13th  | Devil's Advocate, The  | Pet Sematary  | Mummy, The  | I Know What You Did Last Summer  | Wes Craven's New Nightmare  | Creepshow  | Buffy the Vampire Slayer  | From Dusk Till Dawn  | Nightmare on Elm Street 3: Dream Warriors, A  | Child's Play  | Army of Darkness  | Evil Dead II (Dead By Dawn)  | Exorcist, The  | Jacob's Ladder  | Blade  |\n",
      "\n",
      "24 : Fargo  | Pulp Fiction  | Silence of the Lambs, The  | Usual Suspects, The  | Shawshank Redemption, The  | L.A. Confidential  | American Beauty  | Schindler's List  | GoodFellas  | Sixth Sense, The  | Saving Private Ryan  | Green Mile, The  | Sling Blade  | Reservoir Dogs  | Good Will Hunting  | Seven (Se7en)  | Braveheart  | Forrest Gump  | Shakespeare in Love  | Insider, The  | Matrix, The  | Fugitive, The  | Being John Malkovich  | One Flew Over the Cuckoo's Nest  | Terminator 2: Judgment Day  | Godfather, The  | Simple Plan, A  | Groundhog Day  | Professional, The (a.k.a. Leon: The Professional)  | Few Good Men, A  |\n",
      "\n",
      "25 : Hook  | Jumanji  | Willy Wonka and the Chocolate Factory  | NeverEnding Story, The  | Honey, I Shrunk the Kids  | Dragonheart  | Star Wars: Episode IV - A New Hope  | Star Wars: Episode I - The Phantom Menace  | Willow  | Goonies, The  | Dances with Wolves  | Indian in the Cupboard, The  | Crocodile Dundee  | Indiana Jones and the Last Crusade  | Santa Clause, The  | Indiana Jones and the Temple of Doom  | 20,000 Leagues Under the Sea  | Mask, The  | Big  | Beetlejuice  | Ladyhawke  | Raiders of the Lost Ark  | Batman  | Labyrinth  | E.T. the Extra-Terrestrial  | Flight of the Navigator  | Splash  | Who Framed Roger Rabbit?  | Tron  | Batman Returns  |\n",
      "\n",
      "26 : Sleepless in Seattle  | Pretty Woman  | You've Got Mail  | Notting Hill  | While You Were Sleeping  | My Best Friend's Wedding  | Four Weddings and a Funeral  | Forrest Gump  | American President, The  | Ghost  | Sabrina  | Shakespeare in Love  | Dave  | Jerry Maguire  | Truth About Cats & Dogs, The  | Titanic  | Wedding Singer, The  | Clueless  | Groundhog Day  | Runaway Bride  | Emma  | Tin Cup  | French Kiss  | Hope Floats  | Ever After: A Cinderella Story  | Speed  | True Lies  | Never Been Kissed  | City of Angels  | Sliding Doors  |\n",
      "\n",
      "27 : Mr. Mom  | Weird Science  | Fletch  | Crocodile Dundee  | Caddyshack  | Christmas Vacation  | Back to the Future Part II  | Police Academy  | Scrooged  | Three Amigos!  | Lethal Weapon 2  | Ghostbusters II  | Money Pit, The  | Airplane II: The Sequel  | History of the World: Part I  | Spaceballs  | Stripes  | European Vacation  | Weekend at Bernie's  | Gremlins  | Private Benjamin  | Back to School  | Adventures in Babysitting  | Arthur  | Jewel of the Nile, The  | Trading Places  | Bachelor Party  | Good Morning, Vietnam  | Cocoon  | Vacation  |\n",
      "\n",
      "28 : Best in Show  | Exorcist, The  | Shining, The  | Virgin Suicides, The  | William Shakespeare's Romeo and Juliet  | Almost Famous  | Heathers  | Beautiful Thing  | Dead Poets Society  | Requiem for a Dream  | Get Real  | Seven (Se7en)  | Goonies, The  | Election  | Run Lola Run (Lola rennt)  | Trainspotting  | Psycho  | Scream  | Go  | But I'm a Cheerleader  | Life Is Beautiful (La Vita � bella)  | Ferris Bueller's Day Off  | Waiting for Guffman  | Wizard of Oz, The  | Clockwork Orange, A  | Trick  | Breakfast Club, The  | Usual Suspects, The  | Citizen Kane  | NeverEnding Story, The  |\n",
      "\n",
      "29 : Beauty and the Beast  | Lion King, The  | Aladdin  | Snow White and the Seven Dwarfs  | Cinderella  | Dumbo  | Little Mermaid, The  | 101 Dalmatians  | Sleeping Beauty  | Jungle Book, The  | Bambi  | Alice in Wonderland  | Mulan  | Pinocchio  | Lady and the Tramp  | Fantasia  | Peter Pan  | Toy Story  | Mary Poppins  | Charlotte's Web  | Bug's Life, A  | Tarzan  | Antz  | Toy Story 2  | Hunchback of Notre Dame, The  | Wizard of Oz, The  | Hercules  | Robin Hood  | Sword in the Stone, The  | James and the Giant Peach  |\n",
      "\n",
      "30 : Seventh Seal, The (Sjunde inseglet, Det)  | M  | Nights of Cabiria (Le Notti di Cabiria)  | 400 Blows, The (Les Quatre cents coups)  | 8 1/2  | Badlands  | Bicycle Thief, The (Ladri di biciclette)  | Celebration, The (Festen)  | Touch of Evil  | Yojimbo  | Belle de jour  | Grand Illusion (Grande illusion, La)  | Jules and Jim (Jules et Jim)  | Solaris (Solyaris)  | Peeping Tom  | Woman in the Dunes (Suna no onna)  | Barry Lyndon  | Lolita  | Ran  | Paths of Glory  | Days of Heaven  | Repulsion  | Metropolis  | Fanny and Alexander  | Walkabout  | Safe  | Blowup  | Paris, Texas  | Vanya on 42nd Street  | Nashville  |\n",
      "\n",
      "31 : Driving Miss Daisy  | Ordinary People  | Chariots of Fire  | Rain Man  | On Golden Pond  | Big Chill, The  | Field of Dreams  | Right Stuff, The  | Dead Poets Society  | Gandhi  | Kramer Vs. Kramer  | Witness  | Color Purple, The  | Amadeus  | Natural, The  | Elephant Man, The  | Sophie's Choice  | Children of a Lesser God  | Verdict, The  | Broadcast News  | Terms of Endearment  | Hoosiers  | My Left Foot  | Killing Fields, The  | Sex, Lies, and Videotape  | Rocky  | E.T. the Extra-Terrestrial  | Dangerous Liaisons  | Last Emperor, The  | Year of Living Dangerously  |\n",
      "\n",
      "32 : Dogma  | Scary Movie  | Road Trip  | Mallrats  | Scream 3  | 10 Things I Hate About You  | Man on the Moon  | Me, Myself and Irene  | Chasing Amy  | Cell, The  | Whole Nine Yards, The  | American Psycho  | Final Destination  | Sleepy Hollow  | X-Men  | American Pie  | High Fidelity  | South Park: Bigger, Longer and Uncut  | Austin Powers: International Man of Mystery  | Ninth Gate, The  | Frighteners, The  | Blade  | Next Friday  | Office Space  | Scream  | Meet the Parents  | Half Baked  | Clerks  | Shaft  | Outside Providence  |\n",
      "\n",
      "33 : Roger & Me  | Crumb  | This Is Spinal Tap  | Hoop Dreams  | Stop Making Sense  | Do the Right Thing  | Women on the Verge of a Nervous Breakdown  | Cinema Paradiso  | Thin Blue Line, The  | Blood Simple  | Raising Arizona  | When We Were Kings  | Being John Malkovich  | Buena Vista Social Club  | Crimes and Misdemeanors  | Brazil  | Drugstore Cowboy  | Fargo  | Sex, Lies, and Videotape  | Election  | Diva  | My Life as a Dog (Mitt liv som hund)  | Annie Hall  | Wings of Desire (Der Himmel �ber Berlin)  | Player, The  | Koyaanisqatsi  | Blue Velvet  | Repo Man  | Heathers  | Tampopo  |\n",
      "\n",
      "34 : Sound of Music, The  | King and I, The  | My Fair Lady  | West Side Story  | Grease  | Mary Poppins  | South Pacific  | All That Jazz  | Guys and Dolls  | Goodbye Girl, The  | White Christmas  | Cabaret  | Odd Couple, The  | Victor/Victoria  | Guess Who's Coming to Dinner  | Holiday Inn  | American in Paris, An  | Dirty Dancing  | Oliver!  | Help!  | Gigi  | Great Race, The  | Singin' in the Rain  | Lady and the Tramp  | Hard Day's Night, A  | Barefoot in the Park  | Bonnie and Clyde  | Yellow Submarine  | Heaven Can Wait  | Funny Face  |\n",
      "\n",
      "35 : American Beauty  | Airplane!  | Jurassic Park  | Stand by Me  | Braveheart  | Terminator 2: Judgment Day  | Edward Scissorhands  | Men in Black  | Sound of Music, The  | Boogie Nights  | North by Northwest  | Grumpy Old Men  | Rosemary's Baby  | Nikita (La Femme Nikita)  | From Russia with Love  | Fly, The  | Lost World: Jurassic Park, The  | Rudy  | Nightmare Before Christmas, The  | Rocky Horror Picture Show, The  | Magnolia  | Airplane II: The Sequel  | High Fidelity  | From Dusk Till Dawn  | Patriot, The  | Legends of the Fall  | Repo Man  | Grumpier Old Men  | James and the Giant Peach  | Fantastic Voyage  |\n",
      "\n",
      "36 : Die Hard  | Goldfinger  | Lethal Weapon  | Raiders of the Lost Ark  | Rocky  | Indiana Jones and the Last Crusade  | Untouchables, The  | Terminator, The  | Jaws  | Godfather, The  | Good, The Bad and The Ugly, The  | Romancing the Stone  | Batman  | Blues Brothers, The  | Predator  | Dirty Dozen, The  | From Russia with Love  | Mad Max  | Star Trek: The Wrath of Khan  | Full Metal Jacket  | Dr. No  | Butch Cassidy and the Sundance Kid  | Godfather: Part II, The  | Star Wars: Episode V - The Empire Strikes Back  | Indiana Jones and the Temple of Doom  | Alien  | Highlander  | Top Gun  | Hunt for Red October, The  | Aliens  |\n",
      "\n",
      "37 : Sting, The  | M*A*S*H  | Fish Called Wanda, A  | Young Frankenstein  | Animal House  | American Graffiti  | Being There  | Bull Durham  | Annie Hall  | Blazing Saddles  | Moonstruck  | Raising Arizona  | Butch Cassidy and the Sundance Kid  | Airplane!  | Big Chill, The  | Monty Python and the Holy Grail  | When Harry Met Sally...  | Back to the Future  | Diner  | Producers, The  | Sleeper  | Network  | Ghostbusters  | This Is Spinal Tap  | Harold and Maude  | Broadcast News  | Little Big Man  | Monty Python's Life of Brian  | Risky Business  | Duck Soup  |\n",
      "\n",
      "38 : Chinatown  | Rear Window  | Maltese Falcon, The  | Vertigo  | L.A. Confidential  | Manchurian Candidate, The  | North by Northwest  | Double Indemnity  | Psycho  | Blade Runner  | Big Sleep, The  | Strangers on a Train  | Godfather, The  | Touch of Evil  | Third Man, The  | Sunset Blvd. (a.k.a. Sunset Boulevard)  | Blood Simple  | Grifters, The  | Godfather: Part II, The  | Citizen Kane  | Fargo  | Key Largo  | Dr. Strangelove or: How I Learned to Stop Worrying and Love the Bomb  | Casablanca  | 2001: A Space Odyssey  | Notorious  | Taxi Driver  | French Connection, The  | Who Framed Roger Rabbit?  | Usual Suspects, The  |\n",
      "\n",
      "39 : Almost Famous  | Best in Show  | Nurse Betty  | High Fidelity  | Contender, The  | Meet the Parents  | Wonder Boys  | Requiem for a Dream  | Magnolia  | Dancer in the Dark  | Virgin Suicides, The  | Tao of Steve, The  | Chicken Run  | Croupier  | Cell, The  | Saving Grace  | East is East  | Big Kahuna, The  | Ghost Dog: The Way of the Samurai  | Straight Story, The  | Jesus' Son  | Girlfight  | Remember the Titans  | Small Time Crooks  | American Beauty  | Me Myself I  | American Psycho  | Frequency  | Sunshine  | East-West (Est-ouest)  |\n",
      "\n",
      "40 : Die Hard: With a Vengeance  | Broken Arrow  | Eraser  | Die Hard 2  | Con Air  | Saint, The  | Under Siege  | U.S. Marshalls  | Lethal Weapon 4  | Lethal Weapon 3  | Outbreak  | Air Force One  | Rush Hour  | Executive Decision  | Backdraft  | Conspiracy Theory  | Tomorrow Never Dies  | Rock, The  | Twister  | GoldenEye  | Falling Down  | Cliffhanger  | Enemy of the State  | True Lies  | Jackal, The  | Waterworld  | Peacemaker, The  | Payback  | Mummy, The  | Mission: Impossible  |\n",
      "\n",
      "41 : Platoon  | Few Good Men, A  | Hoosiers  | Field of Dreams  | Untouchables, The  | Shining, The  | Dead Poets Society  | Die Hard  | Predator  | Full Metal Jacket  | Natural, The  | Rain Man  | Misery  | GoodFellas  | Fatal Attraction  | Rocky  | Poltergeist  | No Way Out  | Cape Fear  | Risky Business  | E.T. the Extra-Terrestrial  | Unforgiven  | Casino  | Reservoir Dogs  | Top Gun  | Aliens  | Raging Bull  | In the Line of Fire  | Karate Kid, The  | Glory  |\n",
      "\n",
      "42 : Dark Crystal, The  | Labyrinth  | Willow  | Beetlejuice  | Time Bandits  | Ladyhawke  | NeverEnding Story, The  | Highlander  | Excalibur  | Tron  | Star Trek: The Wrath of Khan  | Dune  | Goonies, The  | Star Trek IV: The Voyage Home  | Blade Runner  | Princess Bride, The  | Heavy Metal  | Big  | Who Framed Roger Rabbit?  | Indiana Jones and the Last Crusade  | Ghostbusters  | Legend  | Secret of NIMH, The  | Splash  | Monty Python and the Holy Grail  | Star Trek III: The Search for Spock  | Akira  | Willy Wonka and the Chocolate Factory  | Abyss, The  | Batman  |\n",
      "\n",
      "43 : Karate Kid, The  | Robin Hood: Prince of Thieves  | Rocky III  | Rocky IV  | Karate Kid, Part II, The  | Flatliners  | Dirty Dancing  | Footloose  | Rudy  | Rocky II  | Alive  | Man Without a Face, The  | Bamba, La  | Phenomenon  | Cocoon  | Rocky V  | Karate Kid III, The  | What Dreams May Come  | Dead Poets Society  | Indecent Proposal  | Police Academy  | Showgirls  | Harry and the Hendersons  | People vs. Larry Flynt, The  | Rocky  | Ransom  | Pelican Brief, The  | Field of Dreams  | St. Elmo's Fire  | Hand That Rocks the Cradle, The  |\n",
      "\n",
      "44 : Ace Ventura: Pet Detective  | Liar Liar  | Dumb & Dumber  | Mrs. Doubtfire  | Austin Powers: The Spy Who Shagged Me  | Austin Powers: International Man of Mystery  | Tommy Boy  | Home Alone  | Waterboy, The  | Happy Gilmore  | Grumpy Old Men  | Robin Hood: Men in Tights  | Wedding Singer, The  | Addams Family, The  | Wayne's World  | Big Daddy  | My Cousin Vinny  | Billy Madison  | There's Something About Mary  | White Men Can't Jump  | Cool Runnings  | What About Bob?  | League of Their Own, A  | Analyze This  | American Pie  | Pleasantville  | Brady Bunch Movie, The  | Naked Gun 33 1/3: The Final Insult  | Ace Ventura: When Nature Calls  | In & Out  |\n",
      "\n",
      "45 : American Werewolf in London, An  | Dead Zone, The  | Logan's Run  | Cat People  | Deliverance  | Howling, The  | Omen, The  | Westworld  | Christine  | King Kong  | Amityville Horror, The  | No Way Out  | Carrie  | Angel Heart  | Coma  | Escape from New York  | Beneath the Planet of the Apes  | Poseidon Adventure, The  | Halloween  | Battle for the Planet of the Apes  | Marathon Man  | Boys from Brazil, The  | Damien: Omen II  | Poltergeist  | Dead Calm  | Towering Inferno, The  | Dead Ringers  | Thing, The  | Hidden, The  | Earthquake  |\n",
      "\n",
      "46 : Best Years of Our Lives, The  | Mr. Smith Goes to Washington  | Mister Roberts  | African Queen, The  | Grapes of Wrath, The  | From Here to Eternity  | Ben-Hur  | Treasure of the Sierra Madre, The  | Miracle on 34th Street  | Stalag 17  | Day the Earth Stood Still, The  | High Noon  | On the Waterfront  | It's a Wonderful Life  | 12 Angry Men  | Key Largo  | Bridge on the River Kwai, The  | Inherit the Wind  | Mutiny on the Bounty  | Rebel Without a Cause  | In the Heat of the Night  | Adventures of Robin Hood, The  | Cat on a Hot Tin Roof  | All About Eve  | East of Eden  | Citizen Kane  | All Quiet on the Western Front  | Streetcar Named Desire, A  | How Green Was My Valley  | All the King's Men  |\n",
      "\n",
      "47 : Stargate  | Starship Troopers  | Lost in Space  | Star Trek: Insurrection  | Sphere  | Back to the Future Part III  | Star Trek: First Contact  | Star Trek: Generations  | Armageddon  | Fifth Element, The  | Independence Day (ID4)  | Lawnmower Man, The  | Spawn  | Species  | Mars Attacks!  | Event Horizon  | Predator 2  | Johnny Mnemonic  | Contact  | Alien�  | Deep Impact  | Alien: Resurrection  | Demolition Man  | Timecop  | Lost World: Jurassic Park, The  | X-Files: Fight the Future, The  | Star Wars: Episode I - The Phantom Menace  | Star Trek VI: The Undiscovered Country  | Judge Dredd  | Mimic  |\n",
      "\n",
      "48 : Matrix, The  | Terminator 2: Judgment Day  | Star Wars: Episode IV - A New Hope  | Alien  | X-Men  | Aliens  | Terminator, The  | Star Wars: Episode V - The Empire Strikes Back  | Twelve Monkeys  | Run Lola Run (Lola rennt)  | Dark City  | Princess Mononoke, The (Mononoke Hime)  | Clockwork Orange, A  | Blade Runner  | Akira  | Gladiator  | Total Recall  | Army of Darkness  | Dr. Strangelove or: How I Learned to Stop Worrying and Love the Bomb  | Brazil  | American Beauty  | 2001: A Space Odyssey  | Princess Bride, The  | Shanghai Noon  | Gattaca  | Ghost in the Shell (Kokaku kidotai)  | Fifth Element, The  | Star Wars: Episode VI - Return of the Jedi  | Pi  | South Park: Bigger, Longer and Uncut  |\n",
      "\n",
      "49 : Good, The Bad and The Ugly, The  | Patton  | Apocalypse Now  | Outlaw Josey Wales, The  | Great Escape, The  | Fistful of Dollars, A  | Unforgiven  | Dirty Dozen, The  | For a Few Dollars More  | Bridge on the River Kwai, The  | High Plains Drifter  | Deer Hunter, The  | M*A*S*H  | Platoon  | Blazing Saddles  | Dances with Wolves  | Butch Cassidy and the Sundance Kid  | Hang 'em High  | Lawrence of Arabia  | Pale Rider  | Tombstone  | Wild Bunch, The  | True Grit  | Guns of Navarone, The  | Longest Day, The  | Magnum Force  | High Noon  | Little Big Man  | Full Metal Jacket  | Kelly's Heroes  |\n",
      "\n"
     ]
    }
   ],
   "source": [
    "path = os.path.join(os.getcwd(), \"..\", \"param\", \"ml1m\", \"beta.dat\")\n",
    "beta = pd.read_table(path, sep=\" \", header = None)\n",
    "\n",
    "for topic in xrange(50):\n",
    "    top_words = beta.loc[topic].sort_values(ascending=False).index\n",
    "    genre_count = pd.DataFrame(np.zeros(len(genres)), index = genres)\n",
    "    \n",
    "    if topic < 10:\n",
    "        print topic, \" :\" ,\n",
    "    else:\n",
    "        print topic , \":\" , \n",
    "        \n",
    "    for i in xrange(30):\n",
    "        print movie_names.loc[movies[top_words[i]]][0][:-7], ' |', \n",
    "    \n",
    "    print\n",
    "    print"
   ]
  },
  {
   "cell_type": "code",
   "execution_count": 12,
   "metadata": {
    "collapsed": false
   },
   "outputs": [
    {
     "data": {
      "image/png": "[encoded data removed]",
      "text/plain": [
       "<matplotlib.figure.Figure at 0x1056d7f50>"
      ]
     },
     "metadata": {},
     "output_type": "display_data"
    },
    {
     "name": "stdout",
     "output_type": "stream",
     "text": [
      "Austin Powers: The Spy Who Shagged Me  | American Pie  | Ghostbusters  | Sixth Sense, The  | Bug's Life, A  | Blair Witch Project, The  | Who Framed Roger Rabbit?  | Big Daddy  | American Beauty  | Abyss, The  | Clerks  | Entrapment  | Fight Club  | Bone Collector, The  | Bowfinger  | Double Jeopardy  | General's Daughter, The  | Cruel Intentions  | Kingpin  | Arachnophobia  | Arlington Road  | Office Space  | Thomas Crown Affair, The  | South Park: Bigger, Longer and Uncut  | Doors, The  | Gladiator  | 10 Things I Hate About You  | Payback  | Stir of Echoes  | Civil Action, A  | Toy Story 2  | Romy and Michele's High School Reunion  | Rushmore  | Stigmata  | Never Been Kissed  | Doctor Dolittle  | Go  | 13th Warrior, The  | Shakespeare in Love  | Election  | Prince of Egypt, The  | Galaxy Quest  | Sleepy Hollow  | Mission: Impossible 2  | Powder  | Runaway Bride  | Pushing Tin  | Mystery Men  | Being John Malkovich  | Wild Wild West  |\n"
     ]
    }
   ],
   "source": [
    "fig, ax = plt.subplots(figsize=(20,10))\n",
    "\n",
    "ind = np.arange(len(genres)) \n",
    "width = 1.0\n",
    "\n",
    "topic = 18\n",
    "\n",
    "num_items = 50\n",
    "\n",
    "top_words = beta.loc[topic].sort_values(ascending=False).index\n",
    "genre_count = pd.DataFrame(np.zeros(len(genres)), index = genres)\n",
    "\n",
    "for i in xrange(num_items):\n",
    "    for gn in movie_names.loc[movies[top_words[i]]][1].split('|'):\n",
    "        genre_count.loc[gn] = genre_count.loc[gn] + 1\n",
    "\n",
    "ax.bar(ind, genre_count.values, width=width, color='r')\n",
    "ind = ind + width\n",
    "\n",
    "ax.set_ylabel('Count')\n",
    "ax.set_xlabel('Genre')\n",
    "ax.set_title('Genre Counts per Topic')\n",
    "ax.set_xticks(ind-0.5)\n",
    "xlabels = []\n",
    "for item in genres:\n",
    "    xlabels.append(item)\n",
    "ax.set_xticklabels(xlabels)\n",
    "plt.show()\n",
    "\n",
    "for i in xrange(num_items):\n",
    "        print movie_names.loc[movies[top_words[i]]][0][:-7], ' |', "
   ]
  },
  {
   "cell_type": "code",
   "execution_count": null,
   "metadata": {
    "collapsed": true
   },
   "outputs": [],
   "source": []
  }
 ],
 "metadata": {
  "kernelspec": {
   "display_name": "Python 2",
   "language": "python",
   "name": "python2"
  },
  "language_info": {
   "codemirror_mode": {
    "name": "ipython",
    "version": 2
   },
   "file_extension": ".py",
   "mimetype": "text/x-python",
   "name": "python",
   "nbconvert_exporter": "python",
   "pygments_lexer": "ipython2",
   "version": "2.7.10"
  }
 },
 "nbformat": 4,
 "nbformat_minor": 0
}

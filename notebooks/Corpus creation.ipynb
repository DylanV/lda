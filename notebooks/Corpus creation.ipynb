{
 "cells": [
  {
   "cell_type": "code",
   "execution_count": 1,
   "metadata": {
    "collapsed": false
   },
   "outputs": [],
   "source": [
    "import os\n",
    "import numpy as np\n",
    "import pandas as pd\n",
    "\n",
    "import matplotlib.pyplot as plt\n",
    "\n",
    "%matplotlib inline\n",
    "\n",
    "from sklearn.cross_validation import train_test_split\n",
    "from sklearn.metrics import mean_squared_error"
   ]
  },
  {
   "cell_type": "code",
   "execution_count": 2,
   "metadata": {
    "collapsed": false
   },
   "outputs": [],
   "source": [
    "path = os.path.join(os.getcwd(),\"..\",\"datasets\", \"ml1m\", \"ratings.dat\")\n",
    "ratings = pd.read_table(path, sep=\"::\",  names=[\"UserID\", 'MovieID', 'Rating', 'Timestamp'], header = None, engine='python').drop('Timestamp', axis=1)\n",
    "ratings = ratings.pivot('UserID', 'MovieID', 'Rating').replace(0, np.nan).transpose().unstack().dropna()\n",
    "\n",
    "path = os.path.join(os.getcwd(), \"..\",\"datasets\", \"ml1m\", \"movies.dat\")\n",
    "movies = pd.read_table(path, sep=\"::\",  names=[\"MovieID\", 'Title', 'Genre'], header = None, engine='python')\n",
    "\n",
    "path = os.path.join(os.getcwd(), \"..\",\"datasets\", \"ml1m\", \"users.dat\")\n",
    "users = pd.read_table(path, sep=\"::\", names=[\"UserID\", \"Gender\", \"Age\", \"Occupation\", 'Zip-code'], header = None, engine='python')"
   ]
  },
  {
   "cell_type": "code",
   "execution_count": 3,
   "metadata": {
    "collapsed": false
   },
   "outputs": [],
   "source": [
    "path = os.path.join(os.getcwd(),\"..\",\"datasets\", \"ml1m\", \"ratings.dat\")\n",
    "ratings = pd.read_table(path, sep=\"::\", index_col=[0,1], names=[\"UserID\",\"MovieID\", \"Rating\",\"Timestamp\" ], header = None, engine='python').drop('Timestamp', axis=1)"
   ]
  },
  {
   "cell_type": "code",
   "execution_count": 8,
   "metadata": {
    "collapsed": false
   },
   "outputs": [],
   "source": [
    "male_ages = [[0,\"Male\",\"\"], [0,\"Male - Under 18\", \"\"], [0,\"Male - 18-24\", \"\"], [0,\"Male - 25-34\", \"\"], \n",
    "             [0,\"Male - 35-44\", \"\"], [0,\"Male - 45-49\", \"\"], [0,\"Male - 50-55\", \"\"], [0,\"Male - 56+\", \"\"]]\n",
    "\n",
    "female_ages = [[0,\"Female\",\"\"], [0,\"Female - Under 18\", \"\"], [0,\"Female - 18-24\", \"\"], [0,\"Female - 25-34\", \"\"], \n",
    "               [0,\"Female - 35-44\", \"\"], [0,\"Female - 45-49\", \"\"], [0,\"Female - 50-55\", \"\"], [0,\"Female - 56+\", \"\"]]\n",
    "\n",
    "mov_id = movies['MovieID'].max()\n",
    "\n",
    "for ma in male_ages:\n",
    "    mov_id = mov_id + 1\n",
    "    ma[0] = mov_id\n",
    "    \n",
    "for fa in female_ages:\n",
    "    mov_id = mov_id + 1\n",
    "    fa[0] = mov_id\n",
    "\n",
    "movies = movies.append(pd.DataFrame(male_ages, columns = ['MovieID', \"Title\",\"Genre\"]), ignore_index=True)\n",
    "movies = movies.append(pd.DataFrame(female_ages, columns = [ 'MovieID', \"Title\",\"Genre\"]), ignore_index=True)"
   ]
  },
  {
   "cell_type": "code",
   "execution_count": 9,
   "metadata": {
    "collapsed": false
   },
   "outputs": [
    {
     "data": {
      "text/plain": [
       "'Male - 56+'"
      ]
     },
     "execution_count": 9,
     "metadata": {},
     "output_type": "execute_result"
    }
   ],
   "source": [
    "def get_gender_age_item(user_row):\n",
    "    item = \"\"\n",
    "    if(user_row[\"Gender\"] == \"M\"):\n",
    "        item = item + \"Male\"\n",
    "    elif(user_row[\"Gender\"] == \"F\"):\n",
    "        item = item + \"Female\"\n",
    "                \n",
    "    if(user_row[\"Age\"] == 1):\n",
    "        item = item + \" - Under 18\"\n",
    "    elif(user_row[\"Age\"] == 18):\n",
    "        item = item + \" - 18-24\"\n",
    "    elif(user_row[\"Age\"] == 25):\n",
    "        item = item + \" - 25-34\"\n",
    "    elif(user_row[\"Age\"] == 35):\n",
    "        item = item + \" - 35-44\"\n",
    "    elif(user_row[\"Age\"] == 45):\n",
    "        item = item + \" - 45-49\"\n",
    "    elif(user_row[\"Age\"] == 50):\n",
    "        item = item + \" - 50-55\"\n",
    "    elif(user_row[\"Age\"] == 56):\n",
    "        item = item + \" - 56+\"\n",
    "        \n",
    "    return item\n",
    "get_gender_age_item(users.loc[1])"
   ]
  },
  {
   "cell_type": "code",
   "execution_count": 10,
   "metadata": {
    "collapsed": false
   },
   "outputs": [],
   "source": [
    "genres = set()\n",
    "for row in movies.iterrows():\n",
    "    for genre in row[1]['Genre'].split('|'):\n",
    "        genres.add(genre)"
   ]
  },
  {
   "cell_type": "code",
   "execution_count": 75,
   "metadata": {
    "collapsed": false
   },
   "outputs": [],
   "source": [
    "path = os.path.join(os.getcwd(),\"..\",\"datasets\", \"ml1m.dat\")\n",
    "fo = open(path, \"w\")\n",
    "\n",
    "line = str(movies.shape[0]) + \" \"\n",
    "for movie in movies.iterrows():\n",
    "    line += str(movie[0]) + \":\" + str(1.0) + ' '\n",
    "line += \"\\n\"\n",
    "fo.write(line)\n",
    "\n",
    "gender_docs = dict()\n",
    "doc_num = 0\n",
    "for ma in male_ages:\n",
    "    line = str(1) + \" \" + str(movies[(movies[\"Title\"] == ma[1])].index[0]) + \":\" + str(5.0) + \"\\n\"\n",
    "    gender_docs[ma[1]] = doc_num\n",
    "    doc_num = doc_num + 1\n",
    "    fo.write(line)\n",
    "    \n",
    "for fa in female_ages:\n",
    "    line = str(1) + \" \" + str(movies[(movies[\"Title\"] == fa[1])].index[0]) + \":\" + str(5.0) + \"\\n\"\n",
    "    gender_docs[fa[1]] = doc_num\n",
    "    doc_num = doc_num + 1\n",
    "    fo.write(line)\n",
    "\n",
    "for user in users.iterrows():\n",
    "    user_index = user[0]\n",
    "    user_id = user[1]['UserID']\n",
    "    \n",
    "    count = 1\n",
    "    gender_age = movies[(movies[\"Title\"] == get_gender_age_item(users.loc[user_index]))].index[0] \n",
    "    doc = str(gender_age) + \":\" + str(5.0) + ' '\n",
    "    \n",
    "    user_ratings = ratings.loc[user_id]\n",
    "    for movie_id in user_ratings.index:\n",
    "        movie_index = movies[movies[\"MovieID\"] == movie_id].index[0]\n",
    "        doc = doc + str(movie_index) + ':' + str(user_ratings.loc[movie_id][\"Rating\"]) + \" \"\n",
    "        count = count + 1\n",
    "    doc = str(count) + \" \" + doc + \"\\n\"\n",
    "\n",
    "    fo.write(doc)\n",
    "fo.close()"
   ]
  },
  {
   "cell_type": "code",
   "execution_count": 78,
   "metadata": {
    "collapsed": false
   },
   "outputs": [
    {
     "name": "stdout",
     "output_type": "stream",
     "text": [
      "0  : One Flew Over the Cuckoo's Nest ( 0.011 ) | Graduate, The ( 0.01 ) | Godfather, The ( 0.01 ) | Taxi Driver ( 0.01 ) | Midnight Cowboy ( 0.01 ) | Godfather: Part II, The ( 0.009 ) | To Kill a Mockingbird ( 0.009 ) | Citizen Kane ( 0.009 ) | Casablanca ( 0.008 ) | Apocalypse Now ( 0.008 ) | Psycho ( 0.008 ) | Amadeus ( 0.008 ) | Bonnie and Clyde ( 0.008 ) | Chinatown ( 0.008 ) | Fargo ( 0.007 ) | GoodFellas ( 0.007 ) | Dr. Strangelove or: How I Learned to Stop Worrying and Love the Bomb ( 0.007 ) | Network ( 0.007 ) | Cool Hand Luke ( 0.007 ) | North by Northwest ( 0.007 ) | Wizard of Oz, The ( 0.007 ) | Bridge on the River Kwai, The ( 0.007 ) | 2001: A Space Odyssey ( 0.007 ) | Schindler's List ( 0.007 ) | Raging Bull ( 0.007 ) | French Connection, The ( 0.006 ) | Deer Hunter, The ( 0.006 ) | Hustler, The ( 0.006 ) | Shawshank Redemption, The ( 0.006 ) | Silence of the Lambs, The ( 0.006 ) | Rear Window ( 0.006 ) | Dog Day Afternoon ( 0.006 ) | Serpico ( 0.006 ) | Annie Hall ( 0.006 ) | American Graffiti ( 0.006 ) | American Beauty ( 0.006 ) | Jaws ( 0.006 ) | Raiders of the Lost Ark ( 0.006 ) | Lawrence of Arabia ( 0.005 ) | Star Wars: Episode IV - A New Hope ( 0.005 ) | On the Waterfront ( 0.005 ) | Killing Fields, The ( 0.005 ) | Manhattan ( 0.005 ) | Sting, The ( 0.005 ) | Butch Cassidy and the Sundance Kid ( 0.005 ) | Breaking Away ( 0.005 ) | Pulp Fiction ( 0.005 ) | Close Encounters of the Third Kind ( 0.005 ) | Right Stuff, The ( 0.005 ) | M*A*S*H ( 0.005 ) |\n",
      "\n",
      "1  : Sixth Sense, The ( 0.017 ) | Ghostbusters ( 0.016 ) | Austin Powers: The Spy Who Shagged Me ( 0.015 ) | American Beauty ( 0.014 ) | American Pie ( 0.014 ) | Shakespeare in Love ( 0.014 ) | Bug's Life, A ( 0.013 ) | Who Framed Roger Rabbit? ( 0.013 ) | General's Daughter, The ( 0.012 ) | Blair Witch Project, The ( 0.011 ) | Erin Brockovich ( 0.011 ) | Double Jeopardy ( 0.011 ) | Gladiator ( 0.01 ) | Being John Malkovich ( 0.01 ) | Elizabeth ( 0.01 ) | Abyss, The ( 0.01 ) | Thomas Crown Affair, The ( 0.01 ) | Entrapment ( 0.01 ) | Bowfinger ( 0.01 ) | Talented Mr. Ripley, The ( 0.009 ) | Election ( 0.009 ) | Arlington Road ( 0.009 ) | Out of Africa ( 0.009 ) | Civil Action, A ( 0.009 ) | Bone Collector, The ( 0.009 ) | Clerks ( 0.009 ) | Fight Club ( 0.009 ) | Arachnophobia ( 0.009 ) | Galaxy Quest ( 0.008 ) | Poseidon Adventure, The ( 0.008 ) | Big Daddy ( 0.008 ) | Runaway Bride ( 0.008 ) | Mission: Impossible 2 ( 0.008 ) | Toy Story 2 ( 0.008 ) | Eyes Wide Shut ( 0.007 ) | Mosquito Coast, The ( 0.007 ) | Maltese Falcon, The ( 0.007 ) | Dead Calm ( 0.007 ) | Doors, The ( 0.007 ) | Romy and Michele's High School Reunion ( 0.007 ) | Cruel Intentions ( 0.007 ) | Doctor Dolittle ( 0.007 ) | Pushing Tin ( 0.007 ) | Rushmore ( 0.007 ) | Desperately Seeking Susan ( 0.007 ) | South Park: Bigger, Longer and Uncut ( 0.006 ) | Pacific Heights ( 0.006 ) | Sleepy Hollow ( 0.006 ) | Never Been Kissed ( 0.006 ) | 13th Warrior, The ( 0.006 ) |\n",
      "\n",
      "2  : Independence Day (ID4) ( 0.008 ) | Armageddon ( 0.007 ) | Con Air ( 0.007 ) | Die Hard 2 ( 0.007 ) | Lost World: Jurassic Park, The ( 0.007 ) | Die Hard: With a Vengeance ( 0.007 ) | Rock, The ( 0.007 ) | Stargate ( 0.007 ) | Fifth Element, The ( 0.006 ) | Air Force One ( 0.006 ) | Mummy, The ( 0.006 ) | True Lies ( 0.006 ) | Mission: Impossible ( 0.006 ) | Twister ( 0.006 ) | Lethal Weapon 3 ( 0.006 ) | Face/Off ( 0.006 ) | Broken Arrow ( 0.006 ) | GoldenEye ( 0.006 ) | Terminator 2: Judgment Day ( 0.006 ) | Conspiracy Theory ( 0.006 ) | Blade ( 0.006 ) | Under Siege ( 0.006 ) | Enemy of the State ( 0.006 ) | Speed ( 0.006 ) | Waterworld ( 0.006 ) | Lethal Weapon 4 ( 0.006 ) | Crow, The ( 0.006 ) | Mask of Zorro, The ( 0.006 ) | Starship Troopers ( 0.006 ) | Deep Impact ( 0.006 ) | Star Wars: Episode I - The Phantom Menace ( 0.006 ) | Backdraft ( 0.005 ) | Cliffhanger ( 0.005 ) | Outbreak ( 0.005 ) | Total Recall ( 0.005 ) | Tomorrow Never Dies ( 0.005 ) | Saint, The ( 0.005 ) | Fugitive, The ( 0.005 ) | Eraser ( 0.005 ) | Rush Hour ( 0.005 ) | Matrix, The ( 0.005 ) | Star Trek: First Contact ( 0.005 ) | Jurassic Park ( 0.005 ) | Hunt for Red October, The ( 0.005 ) | Clear and Present Danger ( 0.005 ) | Batman Returns ( 0.005 ) | Demolition Man ( 0.005 ) | Star Trek: Generations ( 0.005 ) | Men in Black ( 0.005 ) | Braveheart ( 0.005 ) |\n",
      "\n",
      "3  : Beauty and the Beast ( 0.007 ) | Lion King, The ( 0.007 ) | Little Mermaid, The ( 0.007 ) | Mary Poppins ( 0.007 ) | Aladdin ( 0.006 ) | Wizard of Oz, The ( 0.006 ) | Back to the Future ( 0.006 ) | Snow White and the Seven Dwarfs ( 0.006 ) | Toy Story ( 0.006 ) | Lady and the Tramp ( 0.006 ) | Star Wars: Episode IV - A New Hope ( 0.005 ) | Cinderella ( 0.005 ) | Apollo 13 ( 0.005 ) | Ghost ( 0.005 ) | Dead Poets Society ( 0.005 ) | Ghostbusters ( 0.005 ) | Ferris Bueller's Day Off ( 0.005 ) | Truman Show, The ( 0.005 ) | Bambi ( 0.005 ) | Bug's Life, A ( 0.005 ) | Peter Pan ( 0.005 ) | Sound of Music, The ( 0.005 ) | Princess Bride, The ( 0.005 ) | Who Framed Roger Rabbit? ( 0.005 ) | E.T. the Extra-Terrestrial ( 0.005 ) | Dumbo ( 0.005 ) | Big ( 0.005 ) | Forrest Gump ( 0.004 ) | It's a Wonderful Life ( 0.004 ) | Sixth Sense, The ( 0.004 ) | Toy Story 2 ( 0.004 ) | Sleepless in Seattle ( 0.004 ) | Fantasia ( 0.004 ) | Babe ( 0.004 ) | Pretty Woman ( 0.004 ) | Titanic ( 0.004 ) | Star Wars: Episode V - The Empire Strikes Back ( 0.004 ) | Sleeping Beauty ( 0.004 ) | Raiders of the Lost Ark ( 0.004 ) | Jerry Maguire ( 0.004 ) | Jungle Book, The ( 0.004 ) | Willy Wonka and the Chocolate Factory ( 0.004 ) | Jurassic Park ( 0.004 ) | Charlotte's Web ( 0.004 ) | Groundhog Day ( 0.004 ) | Christmas Story, A ( 0.004 ) | Back to the Future Part II ( 0.004 ) | Star Wars: Episode VI - Return of the Jedi ( 0.004 ) | NeverEnding Story, The ( 0.004 ) | League of Their Own, A ( 0.004 ) |\n",
      "\n",
      "4  : Weird Science ( 0.009 ) | Fletch ( 0.008 ) | Christmas Vacation ( 0.008 ) | Scrooged ( 0.008 ) | Police Academy ( 0.008 ) | Caddyshack ( 0.008 ) | Spaceballs ( 0.007 ) | Crocodile Dundee ( 0.007 ) | Ferris Bueller's Day Off ( 0.007 ) | Three Amigos! ( 0.007 ) | Mr. Mom ( 0.007 ) | Gremlins ( 0.007 ) | Trading Places ( 0.007 ) | Money Pit, The ( 0.007 ) | European Vacation ( 0.007 ) | Weekend at Bernie's ( 0.006 ) | Back to the Future Part II ( 0.006 ) | Good Morning, Vietnam ( 0.006 ) | Stripes ( 0.006 ) | Airplane! ( 0.006 ) | Romancing the Stone ( 0.006 ) | Real Genius ( 0.006 ) | Ghostbusters II ( 0.006 ) | Adventures in Babysitting ( 0.006 ) | Sixteen Candles ( 0.006 ) | Vacation ( 0.006 ) | Fast Times at Ridgemont High ( 0.006 ) | Lethal Weapon 2 ( 0.006 ) | Lethal Weapon ( 0.006 ) | Splash ( 0.006 ) | Ghostbusters ( 0.006 ) | Breakfast Club, The ( 0.006 ) | Pee-wee's Big Adventure ( 0.006 ) | Airplane II: The Sequel ( 0.006 ) | Back to School ( 0.005 ) | Cocoon ( 0.005 ) | Pretty in Pink ( 0.005 ) | Golden Child, The ( 0.005 ) | Jewel of the Nile, The ( 0.005 ) | Back to the Future ( 0.005 ) | Little Shop of Horrors ( 0.005 ) | Risky Business ( 0.005 ) | Funny Farm ( 0.005 ) | Better Off Dead... ( 0.005 ) | Beetlejuice ( 0.005 ) | Parenthood ( 0.005 ) | Christmas Story, A ( 0.005 ) | History of the World: Part I ( 0.005 ) | Gods Must Be Crazy, The ( 0.005 ) | Raising Arizona ( 0.005 ) |\n",
      "\n",
      "5  : Pulp Fiction ( 0.014 ) | Shawshank Redemption, The ( 0.012 ) | Good Will Hunting ( 0.011 ) | Fargo ( 0.011 ) | Silence of the Lambs, The ( 0.011 ) | GoodFellas ( 0.011 ) | Saving Private Ryan ( 0.01 ) | American Beauty ( 0.01 ) | Usual Suspects, The ( 0.009 ) | Schindler's List ( 0.009 ) | Boogie Nights ( 0.009 ) | Dead Man Walking ( 0.008 ) | Twelve Monkeys ( 0.008 ) | L.A. Confidential ( 0.008 ) | Fight Club ( 0.008 ) | Sling Blade ( 0.008 ) | Apollo 13 ( 0.007 ) | What's Eating Gilbert Grape ( 0.007 ) | Leaving Las Vegas ( 0.007 ) | Trainspotting ( 0.007 ) | American History X ( 0.007 ) | Braveheart ( 0.007 ) | Swingers ( 0.007 ) | Being John Malkovich ( 0.007 ) | Chasing Amy ( 0.007 ) | Three Kings ( 0.007 ) | Edward Scissorhands ( 0.007 ) | Babe ( 0.007 ) | Jerry Maguire ( 0.007 ) | Sixth Sense, The ( 0.006 ) | Quiz Show ( 0.006 ) | Donnie Brasco ( 0.006 ) | Truman Show, The ( 0.006 ) | Insider, The ( 0.006 ) | Thelma & Louise ( 0.006 ) | Reservoir Dogs ( 0.006 ) | Seven (Se7en) ( 0.006 ) | Boys Don't Cry ( 0.006 ) | Glengarry Glen Ross ( 0.006 ) | As Good As It Gets ( 0.006 ) | Life Is Beautiful (La Vita � bella) ( 0.006 ) | Searching for Bobby Fischer ( 0.006 ) | Crying Game, The ( 0.006 ) | Jackie Brown ( 0.005 ) | Matrix, The ( 0.005 ) | Dances with Wolves ( 0.005 ) | Professional, The (a.k.a. Leon: The Professional) ( 0.005 ) | Ice Storm, The ( 0.005 ) | Fugitive, The ( 0.005 ) | Magnolia ( 0.005 ) |\n",
      "\n",
      "6  : Air Force One ( 0.009 ) | 2001: A Space Odyssey ( 0.009 ) | African Queen, The ( 0.009 ) | Amadeus ( 0.009 ) | Airplane! ( 0.008 ) | Ace Ventura: Pet Detective ( 0.008 ) | Alien ( 0.008 ) | As Good As It Gets ( 0.008 ) | 101 Dalmatians ( 0.008 ) | Apollo 13 ( 0.007 ) | American Beauty ( 0.007 ) | Abyss, The ( 0.007 ) | 12 Angry Men ( 0.007 ) | Addams Family, The ( 0.006 ) | Back to the Future ( 0.006 ) | Animal House ( 0.006 ) | Adventures in Babysitting ( 0.006 ) | 20,000 Leagues Under the Sea ( 0.006 ) | Austin Powers: International Man of Mystery ( 0.006 ) | Aliens ( 0.006 ) | Aladdin ( 0.006 ) | All That Jazz ( 0.005 ) | American President, The ( 0.005 ) | Analyze This ( 0.005 ) | Absolute Power ( 0.005 ) | Absent Minded Professor, The ( 0.005 ) | Addams Family Values ( 0.005 ) | American Graffiti ( 0.005 ) | Back to the Future Part II ( 0.005 ) | Ace Ventura: When Nature Calls ( 0.005 ) | American Werewolf in London, An ( 0.005 ) | Austin Powers: The Spy Who Shagged Me ( 0.005 ) | Beetlejuice ( 0.005 ) | Apocalypse Now ( 0.004 ) | Arthur ( 0.004 ) | ...And Justice for All ( 0.004 ) | 8MM ( 0.004 ) | Basic Instinct ( 0.004 ) | 101 Dalmatians ( 0.004 ) | Amistad ( 0.004 ) | Affair to Remember, An ( 0.004 ) | American Gigolo ( 0.004 ) | About Last Night... ( 0.004 ) | Babe ( 0.004 ) | American Pie ( 0.004 ) | Annie Hall ( 0.004 ) | 'burbs, The ( 0.004 ) | 13th Warrior, The ( 0.004 ) | Blazing Saddles ( 0.004 ) | Airplane II: The Sequel ( 0.004 ) |\n",
      "\n",
      "7  : Almost Famous ( 0.009 ) | Requiem for a Dream ( 0.008 ) | Wonder Boys ( 0.007 ) | Dancer in the Dark ( 0.006 ) | All About My Mother (Todo Sobre Mi Madre) ( 0.006 ) | Boys Don't Cry ( 0.006 ) | Virgin Suicides, The ( 0.006 ) | High Fidelity ( 0.006 ) | Best in Show ( 0.005 ) | Nurse Betty ( 0.005 ) | Magnolia ( 0.005 ) | Straight Story, The ( 0.005 ) | Sweet Hereafter, The ( 0.005 ) | Breaking the Waves ( 0.005 ) | Erin Brockovich ( 0.005 ) | Central Station (Central do Brasil) ( 0.005 ) | Hilary and Jackie ( 0.004 ) | Contender, The ( 0.004 ) | Secrets & Lies ( 0.004 ) | Tao of Steve, The ( 0.004 ) | Talented Mr. Ripley, The ( 0.004 ) | Gods and Monsters ( 0.004 ) | Run Lola Run (Lola rennt) ( 0.004 ) | Red Violin, The (Le Violon rouge) ( 0.004 ) | Girlfight ( 0.004 ) | Jesus' Son ( 0.004 ) | Ice Storm, The ( 0.004 ) | Topsy-Turvy ( 0.004 ) | Meet the Parents ( 0.004 ) | Croupier ( 0.004 ) | Chicken Run ( 0.004 ) | Gladiator ( 0.004 ) | Sweet and Lowdown ( 0.003 ) | Dreamlife of Angels, The (La Vie r�v�e des anges) ( 0.003 ) | Opposite of Sex, The ( 0.003 ) | Cider House Rules, The ( 0.003 ) | Elizabeth ( 0.003 ) | Big Kahuna, The ( 0.003 ) | Keeping the Faith ( 0.003 ) | Winslow Boy, The ( 0.003 ) | Chuck & Buck ( 0.003 ) | East is East ( 0.003 ) | Me Myself I ( 0.003 ) | Wings of the Dove, The ( 0.003 ) | Sunshine ( 0.003 ) | Celebration, The (Festen) ( 0.003 ) | Boiler Room ( 0.003 ) | Boogie Nights ( 0.003 ) | Titus ( 0.003 ) | Saving Grace ( 0.003 ) |\n",
      "\n",
      "8  : What About Bob? ( 0.016 ) | Lethal Weapon ( 0.015 ) | Jaws ( 0.014 ) | My Cousin Vinny ( 0.013 ) | F/X ( 0.012 ) | Steel Magnolias ( 0.012 ) | Lethal Weapon 2 ( 0.011 ) | Green Mile, The ( 0.011 ) | Butch Cassidy and the Sundance Kid ( 0.011 ) | Independence Day (ID4) ( 0.011 ) | Twister ( 0.01 ) | Princess Bride, The ( 0.01 ) | Everything You Always Wanted to Know About Sex ( 0.009 ) | Star Trek: The Wrath of Khan ( 0.009 ) | White Men Can't Jump ( 0.009 ) | Kelly's Heroes ( 0.009 ) | Mary Poppins ( 0.009 ) | Game, The ( 0.008 ) | Annie Hall ( 0.008 ) | Big Lebowski, The ( 0.008 ) | Harold and Maude ( 0.008 ) | Lethal Weapon 3 ( 0.007 ) | Bug's Life, A ( 0.007 ) | Interview with the Vampire ( 0.007 ) | Footloose ( 0.007 ) | Chasing Amy ( 0.007 ) | Firm, The ( 0.007 ) | Kentucky Fried Movie, The ( 0.007 ) | Platoon ( 0.007 ) | Fargo ( 0.006 ) | Searching for Bobby Fischer ( 0.006 ) | Sleeper ( 0.006 ) | Anatomy of a Murder ( 0.006 ) | Dr. No ( 0.006 ) | Air America ( 0.006 ) | Man with the Golden Gun, The ( 0.006 ) | X-Men ( 0.006 ) | Patch Adams ( 0.006 ) | Conan the Barbarian ( 0.006 ) | Little Shop of Horrors ( 0.006 ) | Manhattan ( 0.006 ) | Cliffhanger ( 0.006 ) | Bronco Billy ( 0.005 ) | Guns of Navarone, The ( 0.005 ) | F/X 2 ( 0.005 ) | Naked Gun 2 1/2: The Smell of Fear, The ( 0.005 ) | Desperately Seeking Susan ( 0.005 ) | Moonraker ( 0.005 ) | World Is Not Enough, The ( 0.005 ) | Spy Who Loved Me, The ( 0.005 ) |\n",
      "\n",
      "9  : Usual Suspects, The ( 0.011 ) | Wrong Trousers, The ( 0.01 ) | Pulp Fiction ( 0.01 ) | Reservoir Dogs ( 0.01 ) | Fargo ( 0.009 ) | Brazil ( 0.009 ) | Blade Runner ( 0.009 ) | Close Shave, A ( 0.009 ) | Run Lola Run (Lola rennt) ( 0.009 ) | Being John Malkovich ( 0.008 ) | Princess Bride, The ( 0.008 ) | Matrix, The ( 0.007 ) | Professional, The (a.k.a. Leon: The Professional) ( 0.007 ) | L.A. Confidential ( 0.007 ) | Monty Python and the Holy Grail ( 0.007 ) | Dr. Strangelove or: How I Learned to Stop Worrying and Love the Bomb ( 0.007 ) | Terminator, The ( 0.007 ) | City of Lost Children, The ( 0.007 ) | Star Wars: Episode V - The Empire Strikes Back ( 0.006 ) | Fight Club ( 0.006 ) | Alien ( 0.006 ) | American Beauty ( 0.006 ) | Hard-Boiled (Lashou shentan) ( 0.006 ) | Star Wars: Episode IV - A New Hope ( 0.006 ) | Silence of the Lambs, The ( 0.006 ) | Shawshank Redemption, The ( 0.006 ) | Grand Day Out, A ( 0.006 ) | 2001: A Space Odyssey ( 0.005 ) | Aliens ( 0.005 ) | Clockwork Orange, A ( 0.005 ) | This Is Spinal Tap ( 0.005 ) | Raiders of the Lost Ark ( 0.005 ) | Godfather, The ( 0.005 ) | Nikita (La Femme Nikita) ( 0.005 ) | Terminator 2: Judgment Day ( 0.005 ) | GoodFellas ( 0.005 ) | Wallace & Gromit: The Best of Aardman Animation ( 0.005 ) | Twelve Monkeys ( 0.005 ) | Seven (Se7en) ( 0.005 ) | Delicatessen ( 0.005 ) | Monty Python's Life of Brian ( 0.005 ) | Pi ( 0.005 ) | Chicken Run ( 0.005 ) | Trainspotting ( 0.005 ) | Killer, The (Die xue shuang xiong) ( 0.005 ) | Sixth Sense, The ( 0.005 ) | South Park: Bigger, Longer and Uncut ( 0.005 ) | Apocalypse Now ( 0.005 ) | Taxi Driver ( 0.005 ) | Seven Samurai (The Magnificent Seven) (Shichinin no samurai) ( 0.004 ) |\n",
      "\n",
      "10 : Platoon ( 0.005 ) | Rocky ( 0.005 ) | Jaws ( 0.005 ) | Untouchables, The ( 0.004 ) | Top Gun ( 0.004 ) | Die Hard ( 0.004 ) | Rocky II ( 0.004 ) | Spy Who Loved Me, The ( 0.004 ) | Predator ( 0.004 ) | First Blood ( 0.004 ) | Alien ( 0.004 ) | Indiana Jones and the Temple of Doom ( 0.004 ) | Terminator, The ( 0.004 ) | Full Metal Jacket ( 0.004 ) | Blade Runner ( 0.004 ) | Mad Max ( 0.004 ) | Mad Max 2 (a.k.a. The Road Warrior) ( 0.004 ) | Caddyshack ( 0.004 ) | Excalibur ( 0.004 ) | Escape from New York ( 0.004 ) | Robocop ( 0.004 ) | Superman ( 0.004 ) | F/X ( 0.004 ) | Aliens ( 0.004 ) | Indiana Jones and the Last Crusade ( 0.004 ) | Blues Brothers, The ( 0.004 ) | Godfather: Part II, The ( 0.004 ) | Star Trek: The Wrath of Khan ( 0.003 ) | Godfather, The ( 0.003 ) | Live and Let Die ( 0.003 ) | For Your Eyes Only ( 0.003 ) | Animal House ( 0.003 ) | Rocky III ( 0.003 ) | Close Encounters of the Third Kind ( 0.003 ) | Red Dawn ( 0.003 ) | Stripes ( 0.003 ) | Planet of the Apes ( 0.003 ) | Moonraker ( 0.003 ) | Lethal Weapon 2 ( 0.003 ) | Raiders of the Lost Ark ( 0.003 ) | Apocalypse Now ( 0.003 ) | Star Wars: Episode IV - A New Hope ( 0.003 ) | Deer Hunter, The ( 0.003 ) | Romancing the Stone ( 0.003 ) | Dead Zone, The ( 0.003 ) | Hoosiers ( 0.003 ) | Lethal Weapon ( 0.003 ) | Witness ( 0.003 ) | Natural, The ( 0.003 ) | Mad Max Beyond Thunderdome ( 0.003 ) |\n",
      "\n",
      "11 : Pulp Fiction ( 0.029 ) | Shawshank Redemption, The ( 0.029 ) | American Beauty ( 0.028 ) | Silence of the Lambs, The ( 0.026 ) | Usual Suspects, The ( 0.023 ) | Fargo ( 0.023 ) | GoodFellas ( 0.022 ) | Saving Private Ryan ( 0.021 ) | Schindler's List ( 0.019 ) | L.A. Confidential ( 0.017 ) | Sixth Sense, The ( 0.015 ) | Reservoir Dogs ( 0.014 ) | Godfather, The ( 0.013 ) | Star Wars: Episode V - The Empire Strikes Back ( 0.013 ) | Matrix, The ( 0.013 ) | Good Will Hunting ( 0.013 ) | Braveheart ( 0.013 ) | Star Wars: Episode IV - A New Hope ( 0.012 ) | Being John Malkovich ( 0.012 ) | One Flew Over the Cuckoo's Nest ( 0.011 ) | Godfather: Part II, The ( 0.011 ) | Terminator 2: Judgment Day ( 0.011 ) | Star Wars: Episode VI - Return of the Jedi ( 0.01 ) | Fight Club ( 0.01 ) | Raiders of the Lost Ark ( 0.008 ) | Male - 25-34  | ( 0.008 ) | Gladiator ( 0.008 ) | Toy Story ( 0.008 ) | Shakespeare in Love ( 0.008 ) | Male - 18-24  | ( 0.007 ) | Seven (Se7en) ( 0.007 ) | Christmas Story, A ( 0.007 ) | Back to the Future ( 0.007 ) | Toy Story 2 ( 0.007 ) | Groundhog Day ( 0.006 ) | Sling Blade ( 0.006 ) | Green Mile, The ( 0.006 ) | Insider, The ( 0.006 ) | Election ( 0.006 ) | Princess Bride, The ( 0.006 ) | American History X ( 0.005 ) | Run Lola Run (Lola rennt) ( 0.005 ) | Terminator, The ( 0.005 ) | Monty Python and the Holy Grail ( 0.005 ) | Twelve Monkeys ( 0.005 ) | Taxi Driver ( 0.005 ) | Breakfast Club, The ( 0.005 ) | Fugitive, The ( 0.005 ) | Out of Sight ( 0.005 ) | Forrest Gump ( 0.004 ) |\n",
      "\n",
      "12 : Sleepless in Seattle ( 0.008 ) | Forrest Gump ( 0.007 ) | Titanic ( 0.007 ) | Pretty Woman ( 0.007 ) | American President, The ( 0.007 ) | While You Were Sleeping ( 0.006 ) | Jerry Maguire ( 0.006 ) | As Good As It Gets ( 0.006 ) | You've Got Mail ( 0.006 ) | Shawshank Redemption, The ( 0.005 ) | My Best Friend's Wedding ( 0.005 ) | League of Their Own, A ( 0.005 ) | Notting Hill ( 0.005 ) | Mr. Holland's Opus ( 0.005 ) | Firm, The ( 0.005 ) | Good Will Hunting ( 0.005 ) | Four Weddings and a Funeral ( 0.005 ) | Few Good Men, A ( 0.005 ) | Mrs. Doubtfire ( 0.005 ) | Legends of the Fall ( 0.005 ) | Phenomenon ( 0.005 ) | Ghost ( 0.005 ) | Schindler's List ( 0.005 ) | Apollo 13 ( 0.005 ) | Ransom ( 0.005 ) | Groundhog Day ( 0.005 ) | Scent of a Woman ( 0.005 ) | Dances with Wolves ( 0.004 ) | Fried Green Tomatoes ( 0.004 ) | Shakespeare in Love ( 0.004 ) | Time to Kill, A ( 0.004 ) | Saving Private Ryan ( 0.004 ) | Dave ( 0.004 ) | Contact ( 0.004 ) | Far and Away ( 0.004 ) | Braveheart ( 0.004 ) | Sense and Sensibility ( 0.004 ) | Truman Show, The ( 0.004 ) | October Sky ( 0.004 ) | Truth About Cats & Dogs, The ( 0.004 ) | Rainmaker, The ( 0.004 ) | Birdcage, The ( 0.004 ) | Sommersby ( 0.004 ) | Hope Floats ( 0.004 ) | Waking Ned Devine ( 0.004 ) | Thelma & Louise ( 0.004 ) | There's Something About Mary ( 0.004 ) | Backdraft ( 0.004 ) | Bridges of Madison County, The ( 0.004 ) | Sabrina ( 0.004 ) |\n",
      "\n",
      "13 : Austin Powers: International Man of Mystery ( 0.007 ) | American Pie ( 0.007 ) | There's Something About Mary ( 0.007 ) | Pulp Fiction ( 0.007 ) | Forrest Gump ( 0.007 ) | Clerks ( 0.007 ) | Dogma ( 0.007 ) | Fight Club ( 0.006 ) | American Beauty ( 0.006 ) | Happy Gilmore ( 0.006 ) | Chasing Amy ( 0.006 ) | Good Will Hunting ( 0.006 ) | South Park: Bigger, Longer and Uncut ( 0.006 ) | Sixth Sense, The ( 0.006 ) | Matrix, The ( 0.006 ) | Usual Suspects, The ( 0.006 ) | Shawshank Redemption, The ( 0.006 ) | Office Space ( 0.005 ) | Austin Powers: The Spy Who Shagged Me ( 0.005 ) | Seven (Se7en) ( 0.005 ) | Gladiator ( 0.005 ) | Mallrats ( 0.005 ) | American History X ( 0.005 ) | Swingers ( 0.005 ) | Being John Malkovich ( 0.005 ) | Wayne's World ( 0.005 ) | Saving Private Ryan ( 0.005 ) | Groundhog Day ( 0.005 ) | Reservoir Dogs ( 0.005 ) | Truman Show, The ( 0.005 ) | Toy Story ( 0.005 ) | Wedding Singer, The ( 0.004 ) | X-Men ( 0.004 ) | Aladdin ( 0.004 ) | Silence of the Lambs, The ( 0.004 ) | Braveheart ( 0.004 ) | Green Mile, The ( 0.004 ) | Jerry Maguire ( 0.004 ) | Dazed and Confused ( 0.004 ) | Big Lebowski, The ( 0.004 ) | Three Kings ( 0.004 ) | Star Wars: Episode V - The Empire Strikes Back ( 0.004 ) | Rushmore ( 0.004 ) | Clueless ( 0.004 ) | Dumb & Dumber ( 0.004 ) | Fargo ( 0.004 ) | Scream ( 0.004 ) | Pleasantville ( 0.004 ) | As Good As It Gets ( 0.004 ) | Terminator 2: Judgment Day ( 0.004 ) |\n",
      "\n",
      "14 : Nighthawks ( 0.002 ) | Man with the Golden Gun, The ( 0.002 ) | Bedroom Window, The ( 0.002 ) | Eyes of Laura Mars ( 0.002 ) | Someone to Watch Over Me ( 0.002 ) | Long Walk Home, The ( 0.002 ) | F/X ( 0.002 ) | Sugarland Express, The ( 0.002 ) | My Favorite Season ( 0.001 ) | Mike's Murder ( 0.001 ) | Escape from L.A. ( 0.001 ) | Presidio, The ( 0.001 ) | Running Scared ( 0.001 ) | One False Move ( 0.001 ) | No Mercy ( 0.001 ) | Fallen ( 0.001 ) | Peacemaker, The ( 0.001 ) | White Sands ( 0.001 ) | Spy Who Loved Me, The ( 0.001 ) | Atlantic City ( 0.001 ) | Prince of the City ( 0.001 ) | City of Industry ( 0.001 ) | Name of the Rose, The ( 0.001 ) | Romancing the Stone ( 0.001 ) | Mis�rables, Les ( 0.001 ) | Jennifer 8 ( 0.001 ) | Disclosure ( 0.001 ) | Firestarter ( 0.001 ) | Tequila Sunrise ( 0.001 ) | Fatal Beauty ( 0.001 ) | Birdy ( 0.001 ) | Cutter's Way ( 0.001 ) | Runaway Train ( 0.001 ) | Conversation, The ( 0.001 ) | Get Carter ( 0.001 ) | Gloria ( 0.001 ) | Assault on Precinct 13 ( 0.001 ) | King Kong ( 0.001 ) | Hamlet ( 0.001 ) | Assassination ( 0.001 ) | Thieves (Voleurs, Les) ( 0.001 ) | Matewan ( 0.001 ) | Gung Ho ( 0.001 ) | Hidden, The ( 0.001 ) | Sheltering Sky, The ( 0.001 ) | F/X 2 ( 0.001 ) | Missing in Action ( 0.001 ) | Dr. No ( 0.001 ) | From Russia with Love ( 0.001 ) | Night Falls on Manhattan ( 0.001 ) |\n",
      "\n",
      "15 : True Romance ( 0.005 ) | Glengarry Glen Ross ( 0.004 ) | Jackie Brown ( 0.004 ) | Miller's Crossing ( 0.004 ) | Reservoir Dogs ( 0.004 ) | Donnie Brasco ( 0.004 ) | Bound ( 0.004 ) | Rushmore ( 0.003 ) | In the Company of Men ( 0.003 ) | Simple Plan, A ( 0.003 ) | Heat ( 0.003 ) | Boogie Nights ( 0.003 ) | Out of Sight ( 0.003 ) | Cop Land ( 0.003 ) | Crumb ( 0.003 ) | Trainspotting ( 0.003 ) | Casino ( 0.003 ) | Carlito's Way ( 0.003 ) | Big Lebowski, The ( 0.003 ) | Go ( 0.003 ) | Drugstore Cowboy ( 0.003 ) | Limey, The ( 0.003 ) | Hard 8 (a.k.a. Sydney, a.k.a. Hard Eight) ( 0.003 ) | Lone Star ( 0.003 ) | Bad Lieutenant ( 0.003 ) | Zero Effect ( 0.003 ) | Smoke ( 0.003 ) | Hudsucker Proxy, The ( 0.003 ) | Short Cuts ( 0.003 ) | Professional, The (a.k.a. Leon: The Professional) ( 0.003 ) | Welcome to the Dollhouse ( 0.003 ) | Spanish Prisoner, The ( 0.003 ) | Quiz Show ( 0.003 ) | Seven (Se7en) ( 0.003 ) | Waiting for Guffman ( 0.003 ) | Malcolm X ( 0.003 ) | People vs. Larry Flynt, The ( 0.003 ) | Mighty Aphrodite ( 0.003 ) | Cape Fear ( 0.003 ) | Twelve Monkeys ( 0.003 ) | Happiness ( 0.003 ) | Big Night ( 0.003 ) | Blood Simple ( 0.003 ) | Ice Storm, The ( 0.003 ) | Flirting With Disaster ( 0.003 ) | Kingpin ( 0.003 ) | Doors, The ( 0.003 ) | Shallow Grave ( 0.003 ) | Magnolia ( 0.003 ) | Get Shorty ( 0.003 ) |\n",
      "\n",
      "16 : Like Water for Chocolate (Como agua para chocolate) ( 0.011 ) | Sense and Sensibility ( 0.01 ) | Postino, Il (The Postman) ( 0.01 ) | Secrets & Lies ( 0.009 ) | Crying Game, The ( 0.009 ) | Strictly Ballroom ( 0.008 ) | Fargo ( 0.008 ) | Shakespeare in Love ( 0.008 ) | Howards End ( 0.008 ) | Eat Drink Man Woman ( 0.008 ) | Elizabeth ( 0.007 ) | Big Night ( 0.007 ) | American Beauty ( 0.007 ) | Remains of the Day, The ( 0.007 ) | Raise the Red Lantern ( 0.007 ) | Good Will Hunting ( 0.007 ) | Life Is Beautiful (La Vita � bella) ( 0.007 ) | Being John Malkovich ( 0.007 ) | Lone Star ( 0.007 ) | Babe ( 0.007 ) | Cinema Paradiso ( 0.007 ) | Three Colors: Red ( 0.006 ) | Schindler's List ( 0.006 ) | Shall We Dance? (Shall We Dansu?) ( 0.006 ) | Shawshank Redemption, The ( 0.006 ) | Full Monty, The ( 0.006 ) | All About My Mother (Todo Sobre Mi Madre) ( 0.006 ) | Thelma & Louise ( 0.006 ) | Central Station (Central do Brasil) ( 0.006 ) | Red Violin, The (Le Violon rouge) ( 0.005 ) | Four Weddings and a Funeral ( 0.005 ) | Player, The ( 0.005 ) | Room with a View, A ( 0.005 ) | Dead Man Walking ( 0.005 ) | Edward Scissorhands ( 0.005 ) | Piano, The ( 0.005 ) | English Patient, The ( 0.005 ) | Topsy-Turvy ( 0.005 ) | Run Lola Run (Lola rennt) ( 0.005 ) | Shine ( 0.005 ) | Pulp Fiction ( 0.005 ) | Madness of King George, The ( 0.005 ) | Boys Don't Cry ( 0.005 ) | Kolya ( 0.005 ) | Three Colors: Blue ( 0.005 ) | Leaving Las Vegas ( 0.004 ) | Bullets Over Broadway ( 0.004 ) | Women on the Verge of a Nervous Breakdown ( 0.004 ) | Waking Ned Devine ( 0.004 ) | Silence of the Lambs, The ( 0.004 ) |\n",
      "\n",
      "17 : Raiders of the Lost Ark ( 0.016 ) | Die Hard ( 0.016 ) | Indiana Jones and the Last Crusade ( 0.014 ) | Terminator, The ( 0.014 ) | Goldfinger ( 0.014 ) | Star Wars: Episode IV - A New Hope ( 0.014 ) | Jaws ( 0.013 ) | Star Wars: Episode V - The Empire Strikes Back ( 0.013 ) | Lethal Weapon ( 0.012 ) | Fugitive, The ( 0.012 ) | Hunt for Red October, The ( 0.012 ) | Godfather, The ( 0.011 ) | Star Wars: Episode VI - Return of the Jedi ( 0.011 ) | Rocky ( 0.011 ) | Alien ( 0.011 ) | Terminator 2: Judgment Day ( 0.011 ) | Aliens ( 0.011 ) | Untouchables, The ( 0.011 ) | From Russia with Love ( 0.01 ) | Saving Private Ryan ( 0.01 ) | Matrix, The ( 0.01 ) | Batman ( 0.01 ) | Dr. No ( 0.01 ) | Braveheart ( 0.009 ) | Blues Brothers, The ( 0.009 ) | Full Metal Jacket ( 0.009 ) | Good, The Bad and The Ugly, The ( 0.009 ) | Romancing the Stone ( 0.009 ) | Star Trek: The Wrath of Khan ( 0.009 ) | Predator ( 0.009 ) | Godfather: Part II, The ( 0.009 ) | Total Recall ( 0.009 ) | Butch Cassidy and the Sundance Kid ( 0.009 ) | Indiana Jones and the Temple of Doom ( 0.009 ) | Mad Max ( 0.008 ) | Princess Bride, The ( 0.008 ) | Jurassic Park ( 0.008 ) | Dirty Dozen, The ( 0.008 ) | Glory ( 0.008 ) | Speed ( 0.008 ) | Planet of the Apes ( 0.008 ) | Mad Max 2 (a.k.a. The Road Warrior) ( 0.007 ) | Robocop ( 0.007 ) | Highlander ( 0.007 ) | Top Gun ( 0.007 ) | Thunderball ( 0.007 ) | Spy Who Loved Me, The ( 0.007 ) | Abyss, The ( 0.007 ) | Man with the Golden Gun, The ( 0.007 ) | Patriot Games ( 0.007 ) |\n",
      "\n",
      "18 : Driving Miss Daisy ( 0.008 ) | On Golden Pond ( 0.007 ) | Color Purple, The ( 0.007 ) | Sophie's Choice ( 0.006 ) | Kramer Vs. Kramer ( 0.006 ) | Ordinary People ( 0.006 ) | Field of Dreams ( 0.006 ) | Dead Poets Society ( 0.006 ) | Terms of Endearment ( 0.005 ) | Rain Man ( 0.005 ) | Children of a Lesser God ( 0.005 ) | Dances with Wolves ( 0.005 ) | Big Chill, The ( 0.005 ) | Fried Green Tomatoes ( 0.005 ) | Out of Africa ( 0.005 ) | Close Encounters of the Third Kind ( 0.005 ) | To Kill a Mockingbird ( 0.004 ) | Awakenings ( 0.004 ) | Good Morning, Vietnam ( 0.004 ) | It's a Wonderful Life ( 0.004 ) | Chariots of Fire ( 0.004 ) | Elephant Man, The ( 0.004 ) | Amadeus ( 0.004 ) | Witness ( 0.004 ) | Gandhi ( 0.004 ) | One Flew Over the Cuckoo's Nest ( 0.004 ) | Rocky ( 0.004 ) | Places in the Heart ( 0.004 ) | Natural, The ( 0.004 ) | Good Will Hunting ( 0.004 ) | Sex, Lies, and Videotape ( 0.004 ) | Few Good Men, A ( 0.004 ) | To Sir with Love ( 0.004 ) | Joy Luck Club, The ( 0.004 ) | My Left Foot ( 0.004 ) | Stand and Deliver ( 0.004 ) | Working Girl ( 0.004 ) | River Runs Through It, A ( 0.004 ) | E.T. the Extra-Terrestrial ( 0.004 ) | Right Stuff, The ( 0.004 ) | Broadcast News ( 0.003 ) | Guess Who's Coming to Dinner ( 0.003 ) | Breaking Away ( 0.003 ) | Hoosiers ( 0.003 ) | Agnes of God ( 0.003 ) | Platoon ( 0.003 ) | Stand by Me ( 0.003 ) | Shawshank Redemption, The ( 0.003 ) | Rebel Without a Cause ( 0.003 ) | Streetcar Named Desire, A ( 0.003 ) |\n",
      "\n",
      "19 : Blade Runner ( 0.02 ) | Alien ( 0.018 ) | 2001: A Space Odyssey ( 0.017 ) | Close Encounters of the Third Kind ( 0.016 ) | Aliens ( 0.016 ) | Clockwork Orange, A ( 0.016 ) | Terminator, The ( 0.015 ) | Dr. Strangelove or: How I Learned to Stop Worrying and Love the Bomb ( 0.015 ) | Star Wars: Episode IV - A New Hope ( 0.015 ) | Star Wars: Episode V - The Empire Strikes Back ( 0.014 ) | Terminator 2: Judgment Day ( 0.014 ) | Day the Earth Stood Still, The ( 0.014 ) | Brazil ( 0.013 ) | Twelve Monkeys ( 0.013 ) | Matrix, The ( 0.013 ) | Mad Max ( 0.012 ) | Back to the Future ( 0.012 ) | Planet of the Apes ( 0.012 ) | Forbidden Planet ( 0.012 ) | Time Bandits ( 0.011 ) | E.T. the Extra-Terrestrial ( 0.011 ) | Invasion of the Body Snatchers ( 0.011 ) | Star Trek: The Wrath of Khan ( 0.011 ) | Mad Max 2 (a.k.a. The Road Warrior) ( 0.011 ) | Star Wars: Episode VI - Return of the Jedi ( 0.01 ) | Sleeper ( 0.01 ) | Men in Black ( 0.01 ) | Total Recall ( 0.01 ) | Thing, The ( 0.009 ) | Fly, The ( 0.009 ) | Repo Man ( 0.009 ) | Predator ( 0.009 ) | Contact ( 0.009 ) | War of the Worlds, The ( 0.009 ) | Metropolis ( 0.008 ) | Night of the Living Dead ( 0.008 ) | Starman ( 0.008 ) | Westworld ( 0.008 ) | Them! ( 0.007 ) | Soylent Green ( 0.007 ) | Rocky Horror Picture Show, The ( 0.007 ) | Gattaca ( 0.007 ) | Galaxy Quest ( 0.007 ) | Jurassic Park ( 0.007 ) | Star Trek IV: The Voyage Home ( 0.007 ) | Abyss, The ( 0.006 ) | Robocop ( 0.006 ) | Cocoon ( 0.006 ) | Escape from New York ( 0.006 ) | 20,000 Leagues Under the Sea ( 0.006 ) |\n",
      "\n",
      "20 : Wrong Trousers, The ( 0.015 ) | Groundhog Day ( 0.015 ) | Being John Malkovich ( 0.014 ) | American Beauty ( 0.014 ) | Full Monty, The ( 0.014 ) | Rushmore ( 0.014 ) | Election ( 0.014 ) | Toy Story ( 0.013 ) | Grosse Pointe Blank ( 0.012 ) | There's Something About Mary ( 0.012 ) | Close Shave, A ( 0.012 ) | Shakespeare in Love ( 0.012 ) | Babe ( 0.012 ) | Clerks ( 0.011 ) | Clueless ( 0.01 ) | Pleasantville ( 0.01 ) | Waiting for Guffman ( 0.01 ) | Life Is Beautiful (La Vita � bella) ( 0.009 ) | Swingers ( 0.009 ) | As Good As It Gets ( 0.009 ) | Austin Powers: International Man of Mystery ( 0.009 ) | Wayne's World ( 0.009 ) | Toy Story 2 ( 0.009 ) | South Park: Bigger, Longer and Uncut ( 0.009 ) | Four Weddings and a Funeral ( 0.008 ) | Grand Day Out, A ( 0.008 ) | Get Shorty ( 0.008 ) | Ed Wood ( 0.008 ) | Waking Ned Devine ( 0.008 ) | Nightmare Before Christmas, The ( 0.008 ) | Men in Black ( 0.008 ) | Wag the Dog ( 0.008 ) | Fisher King, The ( 0.007 ) | Galaxy Quest ( 0.007 ) | Player, The ( 0.007 ) | High Fidelity ( 0.007 ) | Bug's Life, A ( 0.007 ) | Big Lebowski, The ( 0.007 ) | Opposite of Sex, The ( 0.007 ) | Dazed and Confused ( 0.007 ) | L.A. Story ( 0.007 ) | Dogma ( 0.007 ) | Flirting With Disaster ( 0.007 ) | Chicken Run ( 0.007 ) | Mighty Aphrodite ( 0.006 ) | Hudsucker Proxy, The ( 0.006 ) | Commitments, The ( 0.006 ) | Welcome to the Dollhouse ( 0.006 ) | Muriel's Wedding ( 0.006 ) | Bulworth ( 0.006 ) |\n",
      "\n",
      "21 : Beauty and the Beast ( 0.022 ) | Lion King, The ( 0.022 ) | Aladdin ( 0.02 ) | Toy Story ( 0.02 ) | Mulan ( 0.019 ) | Tarzan ( 0.016 ) | Toy Story 2 ( 0.016 ) | Bug's Life, A ( 0.016 ) | Wrong Trousers, The ( 0.014 ) | Little Mermaid, The ( 0.014 ) | Iron Giant, The ( 0.013 ) | Who Framed Roger Rabbit? ( 0.013 ) | Hercules ( 0.013 ) | Antz ( 0.013 ) | Fantasia ( 0.013 ) | Snow White and the Seven Dwarfs ( 0.013 ) | Bambi ( 0.012 ) | Close Shave, A ( 0.012 ) | Jungle Book, The ( 0.011 ) | Pinocchio ( 0.011 ) | Wallace & Gromit: The Best of Aardman Animation ( 0.011 ) | Dumbo ( 0.011 ) | 101 Dalmatians ( 0.011 ) | Charlotte's Web ( 0.011 ) | Cinderella ( 0.01 ) | Chicken Run ( 0.01 ) | Grand Day Out, A ( 0.01 ) | Prince of Egypt, The ( 0.01 ) | South Park: Bigger, Longer and Uncut ( 0.01 ) | James and the Giant Peach ( 0.01 ) | Secret of NIMH, The ( 0.01 ) | Robin Hood ( 0.01 ) | Hunchback of Notre Dame, The ( 0.009 ) | Sleeping Beauty ( 0.009 ) | Lady and the Tramp ( 0.009 ) | Sword in the Stone, The ( 0.009 ) | Batman: Mask of the Phantasm ( 0.009 ) | Peter Pan ( 0.009 ) | Fantasia 2000 ( 0.008 ) | Alice in Wonderland ( 0.008 ) | Princess Mononoke, The (Mononoke Hime) ( 0.008 ) | Akira ( 0.007 ) | Fox and the Hound, The ( 0.007 ) | Rescuers Down Under, The ( 0.007 ) | Titan A.E. ( 0.007 ) | Ghost in the Shell (Kokaku kidotai) ( 0.007 ) | X-Men ( 0.006 ) | Anastasia ( 0.006 ) | Pocahontas ( 0.006 ) | Rescuers, The ( 0.006 ) |\n",
      "\n",
      "22 : Monty Python and the Holy Grail ( 0.012 ) | Young Frankenstein ( 0.012 ) | Fish Called Wanda, A ( 0.012 ) | Animal House ( 0.011 ) | Blazing Saddles ( 0.011 ) | Annie Hall ( 0.011 ) | Sting, The ( 0.011 ) | M*A*S*H ( 0.011 ) | Raising Arizona ( 0.01 ) | American Graffiti ( 0.01 ) | Back to the Future ( 0.01 ) | Butch Cassidy and the Sundance Kid ( 0.01 ) | Airplane! ( 0.009 ) | When Harry Met Sally... ( 0.009 ) | Producers, The ( 0.009 ) | Monty Python's Life of Brian ( 0.009 ) | Some Like It Hot ( 0.009 ) | Harold and Maude ( 0.009 ) | Being There ( 0.009 ) | Groundhog Day ( 0.008 ) | This Is Spinal Tap ( 0.008 ) | Bull Durham ( 0.008 ) | Sleeper ( 0.008 ) | Manhattan ( 0.008 ) | Duck Soup ( 0.008 ) | Princess Bride, The ( 0.008 ) | Ferris Bueller's Day Off ( 0.008 ) | Ghostbusters ( 0.008 ) | Moonstruck ( 0.008 ) | Toy Story ( 0.007 ) | Cool Hand Luke ( 0.007 ) | Shakespeare in Love ( 0.007 ) | Network ( 0.007 ) | Babe ( 0.007 ) | Big ( 0.006 ) | Diner ( 0.006 ) | Little Big Man ( 0.006 ) | Hard Day's Night, A ( 0.006 ) | Stand by Me ( 0.006 ) | Local Hero ( 0.006 ) | Being John Malkovich ( 0.006 ) | Philadelphia Story, The ( 0.006 ) | Roger & Me ( 0.006 ) | And Now for Something Completely Different ( 0.006 ) | Arsenic and Old Lace ( 0.006 ) | American Beauty ( 0.006 ) | Toy Story 2 ( 0.006 ) | Big Chill, The ( 0.005 ) | Risky Business ( 0.005 ) | Bananas ( 0.005 ) |\n",
      "\n",
      "23 : Star Wars: Episode IV - A New Hope ( 0.026 ) | Raiders of the Lost Ark ( 0.022 ) | Star Wars: Episode V - The Empire Strikes Back ( 0.021 ) | Godfather, The ( 0.016 ) | Saving Private Ryan ( 0.016 ) | Star Wars: Episode VI - Return of the Jedi ( 0.016 ) | Terminator 2: Judgment Day ( 0.016 ) | Matrix, The ( 0.015 ) | Fugitive, The ( 0.015 ) | Terminator, The ( 0.014 ) | Silence of the Lambs, The ( 0.014 ) | Braveheart ( 0.013 ) | Sixth Sense, The ( 0.012 ) | L.A. Confidential ( 0.012 ) | Alien ( 0.012 ) | Jurassic Park ( 0.012 ) | Die Hard ( 0.011 ) | Indiana Jones and the Last Crusade ( 0.011 ) | Jaws ( 0.011 ) | Schindler's List ( 0.011 ) | Fargo ( 0.011 ) | Princess Bride, The ( 0.01 ) | Shawshank Redemption, The ( 0.01 ) | Aliens ( 0.01 ) | Casablanca ( 0.01 ) | Back to the Future ( 0.01 ) | African Queen, The ( 0.009 ) | Hunt for Red October, The ( 0.009 ) | 2001: A Space Odyssey ( 0.009 ) | Forrest Gump ( 0.009 ) | Wizard of Oz, The ( 0.008 ) | E.T. the Extra-Terrestrial ( 0.008 ) | Star Wars: Episode I - The Phantom Menace ( 0.008 ) | Godfather: Part II, The ( 0.008 ) | Rear Window ( 0.008 ) | Blade Runner ( 0.008 ) | Dances with Wolves ( 0.008 ) | Toy Story ( 0.007 ) | Total Recall ( 0.007 ) | American Beauty ( 0.007 ) | Butch Cassidy and the Sundance Kid ( 0.007 ) | North by Northwest ( 0.006 ) | Psycho ( 0.006 ) | Men in Black ( 0.006 ) | Vertigo ( 0.006 ) | Stand by Me ( 0.006 ) | Witness ( 0.005 ) | Chinatown ( 0.005 ) | Usual Suspects, The ( 0.005 ) | Pulp Fiction ( 0.005 ) |\n",
      "\n",
      "24 : Ace Ventura: Pet Detective ( 0.009 ) | Liar Liar ( 0.008 ) | Dumb & Dumber ( 0.008 ) | Mrs. Doubtfire ( 0.008 ) | Wedding Singer, The ( 0.008 ) | Austin Powers: International Man of Mystery ( 0.008 ) | Austin Powers: The Spy Who Shagged Me ( 0.007 ) | Forrest Gump ( 0.007 ) | Tommy Boy ( 0.007 ) | There's Something About Mary ( 0.007 ) | Happy Gilmore ( 0.007 ) | League of Their Own, A ( 0.006 ) | My Cousin Vinny ( 0.006 ) | Wayne's World ( 0.006 ) | American Pie ( 0.006 ) | Waterboy, The ( 0.006 ) | Addams Family, The ( 0.006 ) | Grumpy Old Men ( 0.006 ) | Home Alone ( 0.006 ) | As Good As It Gets ( 0.006 ) | Mask, The ( 0.006 ) | Toy Story ( 0.006 ) | Groundhog Day ( 0.006 ) | You've Got Mail ( 0.005 ) | Big Daddy ( 0.005 ) | Sister Act ( 0.005 ) | Birdcage, The ( 0.005 ) | Pretty Woman ( 0.005 ) | Nutty Professor, The ( 0.005 ) | Pleasantville ( 0.005 ) | Sleepless in Seattle ( 0.005 ) | Clueless ( 0.005 ) | Ghost ( 0.005 ) | Billy Madison ( 0.005 ) | Analyze This ( 0.005 ) | Kingpin ( 0.005 ) | My Best Friend's Wedding ( 0.005 ) | What About Bob? ( 0.005 ) | Back to the Future Part III ( 0.005 ) | Wayne's World 2 ( 0.005 ) | Office Space ( 0.005 ) | Naked Gun 33 1/3: The Final Insult ( 0.005 ) | White Men Can't Jump ( 0.005 ) | Bowfinger ( 0.005 ) | Men in Black ( 0.004 ) | Robin Hood: Men in Tights ( 0.004 ) | Cable Guy, The ( 0.004 ) | Ace Ventura: When Nature Calls ( 0.004 ) | So I Married an Axe Murderer ( 0.004 ) | Cool Runnings ( 0.004 ) |\n",
      "\n",
      "25 : Ferris Bueller's Day Off ( 0.008 ) | Big ( 0.006 ) | Trading Places ( 0.006 ) | Sixteen Candles ( 0.006 ) | Good Morning, Vietnam ( 0.006 ) | Caddyshack ( 0.006 ) | Lethal Weapon ( 0.006 ) | Airplane! ( 0.006 ) | Ghostbusters ( 0.006 ) | Romancing the Stone ( 0.006 ) | Stripes ( 0.006 ) | Mr. Mom ( 0.006 ) | Fish Called Wanda, A ( 0.006 ) | Back to the Future ( 0.006 ) | When Harry Met Sally... ( 0.006 ) | Cocoon ( 0.006 ) | Beetlejuice ( 0.005 ) | Blues Brothers, The ( 0.005 ) | Raising Arizona ( 0.005 ) | Splash ( 0.005 ) | Crocodile Dundee ( 0.005 ) | Dave ( 0.005 ) | Scrooged ( 0.005 ) | Parenthood ( 0.005 ) | Working Girl ( 0.005 ) | Breakfast Club, The ( 0.005 ) | Fletch ( 0.005 ) | Back to the Future Part II ( 0.005 ) | Little Shop of Horrors ( 0.005 ) | Young Frankenstein ( 0.005 ) | Bull Durham ( 0.005 ) | My Cousin Vinny ( 0.005 ) | Jerk, The ( 0.005 ) | Animal House ( 0.005 ) | Fast Times at Ridgemont High ( 0.005 ) | Christmas Story, A ( 0.005 ) | Ruthless People ( 0.005 ) | Weird Science ( 0.005 ) | Lethal Weapon 2 ( 0.005 ) | Monty Python and the Holy Grail ( 0.005 ) | Stand by Me ( 0.004 ) | Pretty in Pink ( 0.004 ) | Forrest Gump ( 0.004 ) | Vacation ( 0.004 ) | Risky Business ( 0.004 ) | Groundhog Day ( 0.004 ) | Pretty Woman ( 0.004 ) | Christmas Vacation ( 0.004 ) | Pee-wee's Big Adventure ( 0.004 ) | Little Mermaid, The ( 0.004 ) |\n",
      "\n",
      "26 : Four Weddings and a Funeral ( 0.011 ) | Shakespeare in Love ( 0.011 ) | Sleepless in Seattle ( 0.011 ) | When Harry Met Sally... ( 0.011 ) | Jerry Maguire ( 0.01 ) | Notting Hill ( 0.01 ) | Forrest Gump ( 0.01 ) | Pretty Woman ( 0.01 ) | Groundhog Day ( 0.01 ) | Sense and Sensibility ( 0.01 ) | Titanic ( 0.009 ) | You've Got Mail ( 0.009 ) | Clueless ( 0.009 ) | My Best Friend's Wedding ( 0.009 ) | American President, The ( 0.008 ) | While You Were Sleeping ( 0.008 ) | Emma ( 0.008 ) | English Patient, The ( 0.008 ) | Ghost ( 0.008 ) | Gone with the Wind ( 0.007 ) | Princess Bride, The ( 0.007 ) | Speed ( 0.007 ) | Dave ( 0.007 ) | Witness ( 0.007 ) | Ever After: A Cinderella Story ( 0.007 ) | Edward Scissorhands ( 0.006 ) | Truth About Cats & Dogs, The ( 0.006 ) | Sabrina ( 0.006 ) | Sliding Doors ( 0.006 ) | Dirty Dancing ( 0.006 ) | Romancing the Stone ( 0.006 ) | Say Anything... ( 0.006 ) | Like Water for Chocolate (Como agua para chocolate) ( 0.006 ) | Dangerous Liaisons ( 0.006 ) | Breakfast at Tiffany's ( 0.006 ) | Much Ado About Nothing ( 0.006 ) | Runaway Bride ( 0.006 ) | Piano, The ( 0.006 ) | My Fair Lady ( 0.006 ) | Roman Holiday ( 0.006 ) | Circle of Friends ( 0.006 ) | Sabrina ( 0.006 ) | Top Gun ( 0.006 ) | Wedding Singer, The ( 0.006 ) | Casablanca ( 0.005 ) | Splash ( 0.005 ) | Crying Game, The ( 0.005 ) | Graduate, The ( 0.005 ) | Pretty in Pink ( 0.005 ) | French Kiss ( 0.005 ) |\n",
      "\n",
      "27 : Twelve Monkeys ( 0.009 ) | Star Trek: First Contact ( 0.008 ) | Dark Crystal, The ( 0.008 ) | Tron ( 0.008 ) | Blade Runner ( 0.007 ) | Dune ( 0.007 ) | Time Bandits ( 0.007 ) | Dark City ( 0.007 ) | Labyrinth ( 0.007 ) | Fifth Element, The ( 0.007 ) | Contact ( 0.007 ) | Star Trek: The Wrath of Khan ( 0.007 ) | Star Trek VI: The Undiscovered Country ( 0.007 ) | Gattaca ( 0.007 ) | NeverEnding Story, The ( 0.007 ) | Galaxy Quest ( 0.007 ) | Beetlejuice ( 0.006 ) | Willow ( 0.006 ) | Star Trek: Generations ( 0.006 ) | Star Wars: Episode IV - A New Hope ( 0.006 ) | Matrix, The ( 0.006 ) | X-Files: Fight the Future, The ( 0.006 ) | Star Trek IV: The Voyage Home ( 0.006 ) | Army of Darkness ( 0.006 ) | Star Trek: Insurrection ( 0.006 ) | Sneakers ( 0.006 ) | Ladyhawke ( 0.006 ) | Stargate ( 0.006 ) | Akira ( 0.006 ) | Brazil ( 0.006 ) | Total Recall ( 0.006 ) | Back to the Future Part III ( 0.005 ) | Star Wars: Episode I - The Phantom Menace ( 0.005 ) | Pi ( 0.005 ) | Star Trek III: The Search for Spock ( 0.005 ) | Ghost in the Shell (Kokaku kidotai) ( 0.005 ) | Robocop ( 0.005 ) | City of Lost Children, The ( 0.005 ) | Men in Black ( 0.005 ) | Willy Wonka and the Chocolate Factory ( 0.005 ) | Aliens ( 0.005 ) | Starship Troopers ( 0.005 ) | Mars Attacks! ( 0.005 ) | Star Trek: The Motion Picture ( 0.005 ) | Legend ( 0.005 ) | Abyss, The ( 0.005 ) | Heavy Metal ( 0.005 ) | 2001: A Space Odyssey ( 0.005 ) | Spaceballs ( 0.005 ) | E.T. the Extra-Terrestrial ( 0.005 ) |\n",
      "\n",
      "28 : Crumb ( 0.006 ) | Thin Blue Line, The ( 0.005 ) | Roger & Me ( 0.005 ) | Stop Making Sense ( 0.005 ) | Hoop Dreams ( 0.004 ) | Seventh Seal, The (Sjunde inseglet, Det) ( 0.004 ) | 400 Blows, The (Les Quatre cents coups) ( 0.004 ) | Wings of Desire (Der Himmel �ber Berlin) ( 0.004 ) | Nashville ( 0.004 ) | Manhattan ( 0.004 ) | My Life as a Dog (Mitt liv som hund) ( 0.004 ) | Bicycle Thief, The (Ladri di biciclette) ( 0.004 ) | 8 1/2 ( 0.004 ) | Brazil ( 0.004 ) | Women on the Verge of a Nervous Breakdown ( 0.004 ) | Do the Right Thing ( 0.004 ) | Annie Hall ( 0.004 ) | Fargo ( 0.004 ) | Ran ( 0.004 ) | Midnight Cowboy ( 0.004 ) | Taxi Driver ( 0.004 ) | Koyaanisqatsi ( 0.004 ) | Citizen Kane ( 0.004 ) | Drugstore Cowboy ( 0.004 ) | Blood Simple ( 0.004 ) | Diva ( 0.004 ) | Fast, Cheap & Out of Control ( 0.004 ) | When We Were Kings ( 0.004 ) | This Is Spinal Tap ( 0.004 ) | Heavenly Creatures ( 0.004 ) | M ( 0.003 ) | Nights of Cabiria (Le Notti di Cabiria) ( 0.003 ) | Mystery Train ( 0.003 ) | Down by Law ( 0.003 ) | Raging Bull ( 0.003 ) | Graduate, The ( 0.003 ) | Blue Velvet ( 0.003 ) | Apocalypse Now ( 0.003 ) | Player, The ( 0.003 ) | Battleship Potemkin, The (Bronenosets Potyomkin) ( 0.003 ) | Thirty-Two Short Films About Glenn Gould ( 0.003 ) | Five Easy Pieces ( 0.003 ) | Tampopo ( 0.003 ) | Gold Rush, The ( 0.003 ) | Sex, Lies, and Videotape ( 0.003 ) | Chinatown ( 0.003 ) | Grand Illusion (Grande illusion, La) ( 0.003 ) | Pulp Fiction ( 0.003 ) | Room with a View, A ( 0.003 ) | Three Colors: Red ( 0.003 ) |\n",
      "\n",
      "29 : When Harry Met Sally... ( 0.011 ) | Amadeus ( 0.01 ) | Witness ( 0.01 ) | Big Chill, The ( 0.01 ) | Bull Durham ( 0.01 ) | Dead Poets Society ( 0.01 ) | Ferris Bueller's Day Off ( 0.009 ) | Dangerous Liaisons ( 0.009 ) | Fish Called Wanda, A ( 0.009 ) | Broadcast News ( 0.009 ) | Rain Man ( 0.009 ) | Raiders of the Lost Ark ( 0.009 ) | E.T. the Extra-Terrestrial ( 0.009 ) | Right Stuff, The ( 0.009 ) | Gandhi ( 0.009 ) | Raising Arizona ( 0.009 ) | Moonstruck ( 0.008 ) | Stand by Me ( 0.008 ) | Driving Miss Daisy ( 0.008 ) | Parenthood ( 0.008 ) | Ghostbusters ( 0.008 ) | Say Anything... ( 0.008 ) | Field of Dreams ( 0.008 ) | Star Wars: Episode V - The Empire Strikes Back ( 0.008 ) | Back to the Future ( 0.008 ) | Platoon ( 0.008 ) | Chariots of Fire ( 0.008 ) | Breakfast Club, The ( 0.007 ) | Big ( 0.007 ) | Risky Business ( 0.007 ) | Princess Bride, The ( 0.007 ) | Killing Fields, The ( 0.007 ) | Indiana Jones and the Last Crusade ( 0.007 ) | Fast Times at Ridgemont High ( 0.007 ) | Do the Right Thing ( 0.006 ) | Sex, Lies, and Videotape ( 0.006 ) | Airplane! ( 0.006 ) | Untouchables, The ( 0.006 ) | Blade Runner ( 0.006 ) | Natural, The ( 0.006 ) | My Left Foot ( 0.006 ) | Lethal Weapon ( 0.006 ) | Hoosiers ( 0.006 ) | Good Morning, Vietnam ( 0.006 ) | Children of a Lesser God ( 0.006 ) | Glory ( 0.006 ) | Ordinary People ( 0.006 ) | This Is Spinal Tap ( 0.006 ) | Romancing the Stone ( 0.006 ) | Last Emperor, The ( 0.006 ) |\n",
      "\n",
      "30 : Welcome to the Dollhouse ( 0.004 ) | Opposite of Sex, The ( 0.004 ) | Heathers ( 0.004 ) | Adventures of Priscilla, Queen of the Desert, The ( 0.004 ) | Muriel's Wedding ( 0.004 ) | Election ( 0.004 ) | Rushmore ( 0.003 ) | Mighty Aphrodite ( 0.003 ) | Trainspotting ( 0.003 ) | Waiting for Guffman ( 0.003 ) | My Own Private Idaho ( 0.003 ) | Six Degrees of Separation ( 0.003 ) | House of Yes, The ( 0.003 ) | To Die For ( 0.003 ) | Ice Storm, The ( 0.003 ) | Clueless ( 0.003 ) | Crying Game, The ( 0.003 ) | Reality Bites ( 0.003 ) | Strictly Ballroom ( 0.003 ) | In & Out ( 0.003 ) | Thelma & Louise ( 0.003 ) | Flirting With Disaster ( 0.003 ) | Truth About Cats & Dogs, The ( 0.003 ) | Boogie Nights ( 0.003 ) | Romy and Michele's High School Reunion ( 0.003 ) | Celluloid Closet, The ( 0.003 ) | Ed Wood ( 0.003 ) | Soapdish ( 0.003 ) | Slums of Beverly Hills, The ( 0.003 ) | Joy Luck Club, The ( 0.003 ) | Birdcage, The ( 0.003 ) | Cold Comfort Farm ( 0.003 ) | Grosse Pointe Blank ( 0.003 ) | Singles ( 0.003 ) | Bullets Over Broadway ( 0.003 ) | Everyone Says I Love You ( 0.003 ) | Benny & Joon ( 0.003 ) | Brady Bunch Movie, The ( 0.003 ) | Harold and Maude ( 0.003 ) | Heavenly Creatures ( 0.003 ) | Ideal Husband, An ( 0.003 ) | Dead Again ( 0.003 ) | Four Weddings and a Funeral ( 0.002 ) | Elizabeth ( 0.002 ) | Clockwatchers ( 0.002 ) | L.A. Story ( 0.002 ) | Bob Roberts ( 0.002 ) | Pump Up the Volume ( 0.002 ) | Swingers ( 0.002 ) | Sense and Sensibility ( 0.002 ) |\n",
      "\n",
      "31 : Ferris Bueller's Day Off ( 0.012 ) | Monty Python and the Holy Grail ( 0.01 ) | Back to the Future ( 0.01 ) | Raising Arizona ( 0.009 ) | Princess Bride, The ( 0.009 ) | Animal House ( 0.009 ) | Stand by Me ( 0.009 ) | Airplane! ( 0.009 ) | Star Wars: Episode IV - A New Hope ( 0.009 ) | Christmas Story, A ( 0.009 ) | Breakfast Club, The ( 0.009 ) | Star Wars: Episode V - The Empire Strikes Back ( 0.009 ) | Ghostbusters ( 0.008 ) | Raiders of the Lost Ark ( 0.008 ) | Fish Called Wanda, A ( 0.008 ) | When Harry Met Sally... ( 0.008 ) | Big ( 0.008 ) | Groundhog Day ( 0.007 ) | Star Wars: Episode VI - Return of the Jedi ( 0.007 ) | Lethal Weapon ( 0.007 ) | Shawshank Redemption, The ( 0.007 ) | Godfather, The ( 0.007 ) | Fast Times at Ridgemont High ( 0.007 ) | Die Hard ( 0.007 ) | E.T. the Extra-Terrestrial ( 0.007 ) | Blues Brothers, The ( 0.007 ) | Caddyshack ( 0.006 ) | Indiana Jones and the Last Crusade ( 0.006 ) | Bull Durham ( 0.006 ) | Terminator, The ( 0.006 ) | Silence of the Lambs, The ( 0.006 ) | Beetlejuice ( 0.006 ) | Fargo ( 0.006 ) | Jaws ( 0.006 ) | Pulp Fiction ( 0.006 ) | Godfather: Part II, The ( 0.006 ) | Full Metal Jacket ( 0.006 ) | American Beauty ( 0.006 ) | This Is Spinal Tap ( 0.006 ) | Close Encounters of the Third Kind ( 0.006 ) | Platoon ( 0.006 ) | Blazing Saddles ( 0.005 ) | Monty Python's Life of Brian ( 0.005 ) | Usual Suspects, The ( 0.005 ) | Sixth Sense, The ( 0.005 ) | Young Frankenstein ( 0.005 ) | GoodFellas ( 0.005 ) | Apocalypse Now ( 0.005 ) | Alien ( 0.005 ) | Untouchables, The ( 0.005 ) |\n",
      "\n",
      "32 : Shining, The ( 0.013 ) | Exorcist, The ( 0.012 ) | Scream ( 0.012 ) | Halloween ( 0.012 ) | Misery ( 0.011 ) | Carrie ( 0.01 ) | Psycho ( 0.01 ) | Jaws ( 0.01 ) | Nightmare on Elm Street, A ( 0.01 ) | Poltergeist ( 0.01 ) | American Werewolf in London, An ( 0.009 ) | Interview with the Vampire ( 0.009 ) | Night of the Living Dead ( 0.009 ) | Birds, The ( 0.009 ) | Ghostbusters ( 0.009 ) | Alien ( 0.009 ) | Omen, The ( 0.009 ) | Bram Stoker's Dracula ( 0.008 ) | Fly, The ( 0.008 ) | Blair Witch Project, The ( 0.008 ) | Evil Dead II (Dead By Dawn) ( 0.008 ) | Gremlins ( 0.008 ) | Thing, The ( 0.008 ) | Young Frankenstein ( 0.008 ) | Rosemary's Baby ( 0.008 ) | Jacob's Ladder ( 0.007 ) | Sleepy Hollow ( 0.007 ) | Army of Darkness ( 0.007 ) | Scream 2 ( 0.007 ) | Devil's Advocate, The ( 0.007 ) | Craft, The ( 0.007 ) | Texas Chainsaw Massacre, The ( 0.006 ) | Fright Night ( 0.006 ) | Friday the 13th ( 0.006 ) | Frankenstein ( 0.006 ) | Mummy, The ( 0.006 ) | Candyman ( 0.006 ) | Dead Zone, The ( 0.006 ) | Re-Animator ( 0.006 ) | Creepshow ( 0.006 ) | Amityville Horror, The ( 0.006 ) | Little Shop of Horrors ( 0.006 ) | Phantasm ( 0.006 ) | Pet Sematary ( 0.006 ) | Blade ( 0.006 ) | Howling, The ( 0.005 ) | Dracula ( 0.005 ) | I Know What You Did Last Summer ( 0.005 ) | From Dusk Till Dawn ( 0.005 ) | Wes Craven's New Nightmare ( 0.005 ) |\n",
      "\n",
      "33 : Being John Malkovich ( 0.027 ) | Sixth Sense, The ( 0.024 ) | American Beauty ( 0.024 ) | Dogma ( 0.02 ) | Green Mile, The ( 0.018 ) | Galaxy Quest ( 0.017 ) | Sleepy Hollow ( 0.016 ) | Insider, The ( 0.016 ) | World Is Not Enough, The ( 0.014 ) | Talented Mr. Ripley, The ( 0.014 ) | Girl, Interrupted ( 0.013 ) | Star Wars: Episode I - The Phantom Menace ( 0.012 ) | Fight Club ( 0.012 ) | Boys Don't Cry ( 0.011 ) | Man on the Moon ( 0.01 ) | Straight Story, The ( 0.009 ) | Bringing Out the Dead ( 0.009 ) | Cradle Will Rock, The ( 0.008 ) | Mystery, Alaska ( 0.008 ) | End of the Affair, The ( 0.008 ) | Snow Falling on Cedars ( 0.007 ) | Limey, The ( 0.007 ) | Gladiator ( 0.006 ) | Caddyshack ( 0.006 ) | American Movie ( 0.006 ) | Anna and the King ( 0.006 ) | Topsy-Turvy ( 0.006 ) | Pee-wee's Big Adventure ( 0.006 ) | Eyes Wide Shut ( 0.006 ) | Sweet and Lowdown ( 0.005 ) | Whole Nine Yards, The ( 0.005 ) | Birds, The ( 0.005 ) | Bicentennial Man ( 0.005 ) | Mr. Mom ( 0.005 ) | Liberty Heights ( 0.005 ) | Stuart Little ( 0.005 ) | Blue Velvet ( 0.005 ) | Star Wars: Episode VI - Return of the Jedi ( 0.004 ) | Eye of the Beholder ( 0.004 ) | Happy, Texas ( 0.004 ) | End of Days ( 0.004 ) | Messenger: The Story of Joan of Arc, The ( 0.004 ) | For Love of the Game ( 0.004 ) | Firm, The ( 0.004 ) | Diner ( 0.004 ) | Butch Cassidy and the Sundance Kid ( 0.004 ) | Bone Collector, The ( 0.004 ) | Little Shop of Horrors ( 0.004 ) | Male - 25-34  | ( 0.004 ) | Mumford ( 0.004 ) |\n",
      "\n",
      "34 : Austin Powers: The Spy Who Shagged Me ( 0.02 ) | American Pie ( 0.019 ) | American Beauty ( 0.019 ) | Sixth Sense, The ( 0.018 ) | Being John Malkovich ( 0.016 ) | Fight Club ( 0.014 ) | Ghostbusters ( 0.014 ) | Blair Witch Project, The ( 0.014 ) | Clerks ( 0.014 ) | Bug's Life, A ( 0.012 ) | Who Framed Roger Rabbit? ( 0.012 ) | Eyes Wide Shut ( 0.012 ) | Bowfinger ( 0.012 ) | Shakespeare in Love ( 0.012 ) | Big Daddy ( 0.011 ) | Election ( 0.011 ) | Abyss, The ( 0.011 ) | Office Space ( 0.01 ) | Kingpin ( 0.01 ) | Talented Mr. Ripley, The ( 0.01 ) | Rushmore ( 0.01 ) | Gladiator ( 0.01 ) | Sleepy Hollow ( 0.009 ) | South Park: Bigger, Longer and Uncut ( 0.009 ) | Bone Collector, The ( 0.009 ) | Entrapment ( 0.009 ) | Galaxy Quest ( 0.009 ) | Cruel Intentions ( 0.008 ) | Arachnophobia ( 0.008 ) | Doors, The ( 0.008 ) | Man on the Moon ( 0.008 ) | Boys Don't Cry ( 0.008 ) | Elizabeth ( 0.008 ) | Go ( 0.008 ) | Stir of Echoes ( 0.008 ) | Thomas Crown Affair, The ( 0.008 ) | Arlington Road ( 0.008 ) | General's Daughter, The ( 0.008 ) | Double Jeopardy ( 0.008 ) | Payback ( 0.007 ) | Romy and Michele's High School Reunion ( 0.007 ) | Erin Brockovich ( 0.007 ) | 10 Things I Hate About You ( 0.007 ) | Civil Action, A ( 0.007 ) | X-Men ( 0.007 ) | Magnolia ( 0.007 ) | Pushing Tin ( 0.007 ) | Toy Story 2 ( 0.007 ) | Stigmata ( 0.007 ) | Run Lola Run (Lola rennt) ( 0.007 ) |\n",
      "\n",
      "35 : Matrix, The ( 0.014 ) | Independence Day (ID4) ( 0.012 ) | Star Wars: Episode IV - A New Hope ( 0.012 ) | Contact ( 0.011 ) | Jurassic Park ( 0.011 ) | Star Trek: First Contact ( 0.011 ) | Terminator 2: Judgment Day ( 0.011 ) | Fifth Element, The ( 0.011 ) | Blade Runner ( 0.011 ) | Star Wars: Episode V - The Empire Strikes Back ( 0.01 ) | Men in Black ( 0.01 ) | Stargate ( 0.01 ) | Terminator, The ( 0.01 ) | Total Recall ( 0.01 ) | Back to the Future ( 0.01 ) | 2001: A Space Odyssey ( 0.01 ) | Star Wars: Episode VI - Return of the Jedi ( 0.01 ) | Aliens ( 0.01 ) | Star Trek: The Wrath of Khan ( 0.01 ) | Twelve Monkeys ( 0.01 ) | Star Wars: Episode I - The Phantom Menace ( 0.01 ) | Close Encounters of the Third Kind ( 0.01 ) | Alien ( 0.009 ) | Star Trek IV: The Voyage Home ( 0.009 ) | Gattaca ( 0.009 ) | Star Trek: Generations ( 0.009 ) | E.T. the Extra-Terrestrial ( 0.009 ) | Starship Troopers ( 0.009 ) | Galaxy Quest ( 0.009 ) | Star Trek: Insurrection ( 0.009 ) | X-Files: Fight the Future, The ( 0.008 ) | Star Trek III: The Search for Spock ( 0.008 ) | Star Trek VI: The Undiscovered Country ( 0.008 ) | Predator ( 0.008 ) | Back to the Future Part III ( 0.008 ) | Back to the Future Part II ( 0.008 ) | Superman ( 0.008 ) | Abyss, The ( 0.008 ) | Robocop ( 0.008 ) | Planet of the Apes ( 0.007 ) | Sneakers ( 0.007 ) | Dune ( 0.007 ) | Cocoon ( 0.007 ) | Dr. Strangelove or: How I Learned to Stop Worrying and Love the Bomb ( 0.007 ) | Face/Off ( 0.007 ) | Lost World: Jurassic Park, The ( 0.007 ) | Clockwork Orange, A ( 0.007 ) | Dark City ( 0.006 ) | Deep Impact ( 0.006 ) | Tron ( 0.006 ) |\n",
      "\n",
      "36 : American Graffiti ( 0.005 ) | French Connection, The ( 0.005 ) | Deliverance ( 0.005 ) | Goldfinger ( 0.005 ) | Papillon ( 0.004 ) | Little Big Man ( 0.004 ) | Blazing Saddles ( 0.004 ) | Serpico ( 0.004 ) | Three Days of the Condor ( 0.004 ) | M*A*S*H ( 0.004 ) | Odd Couple, The ( 0.004 ) | Patton ( 0.004 ) | Bonnie and Clyde ( 0.004 ) | Westworld ( 0.004 ) | Stepford Wives, The ( 0.004 ) | Sting, The ( 0.004 ) | Apocalypse Now ( 0.004 ) | Dog Day Afternoon ( 0.004 ) | Dr. No ( 0.004 ) | Marathon Man ( 0.004 ) | Soylent Green ( 0.004 ) | From Russia with Love ( 0.004 ) | Easy Rider ( 0.004 ) | Chinatown ( 0.004 ) | Dirty Dozen, The ( 0.004 ) | Magnum Force ( 0.004 ) | Heaven Can Wait ( 0.004 ) | Animal House ( 0.004 ) | Paper Chase, The ( 0.003 ) | Good, The Bad and The Ugly, The ( 0.003 ) | Exorcist, The ( 0.003 ) | True Grit ( 0.003 ) | Poseidon Adventure, The ( 0.003 ) | Close Encounters of the Third Kind ( 0.003 ) | Cool Hand Luke ( 0.003 ) | Superman ( 0.003 ) | Thunderball ( 0.003 ) | Midnight Express ( 0.003 ) | Mad Max ( 0.003 ) | Young Frankenstein ( 0.003 ) | Being There ( 0.003 ) | Guns of Navarone, The ( 0.003 ) | Rocky ( 0.003 ) | Network ( 0.003 ) | Butch Cassidy and the Sundance Kid ( 0.003 ) | Live and Let Die ( 0.003 ) | Hustler, The ( 0.003 ) | Ben-Hur ( 0.003 ) | Spartacus ( 0.003 ) | Birds, The ( 0.003 ) |\n",
      "\n",
      "37 : Schindler's List ( 0.014 ) | Amadeus ( 0.014 ) | Casablanca ( 0.014 ) | Bridge on the River Kwai, The ( 0.013 ) | Shawshank Redemption, The ( 0.013 ) | One Flew Over the Cuckoo's Nest ( 0.012 ) | Godfather, The ( 0.012 ) | Graduate, The ( 0.011 ) | Wizard of Oz, The ( 0.011 ) | Star Wars: Episode IV - A New Hope ( 0.011 ) | To Kill a Mockingbird ( 0.011 ) | Silence of the Lambs, The ( 0.01 ) | Raiders of the Lost Ark ( 0.01 ) | Saving Private Ryan ( 0.01 ) | Star Wars: Episode V - The Empire Strikes Back ( 0.009 ) | Godfather: Part II, The ( 0.009 ) | Fargo ( 0.008 ) | African Queen, The ( 0.008 ) | Gone with the Wind ( 0.008 ) | Lawrence of Arabia ( 0.008 ) | E.T. the Extra-Terrestrial ( 0.008 ) | Great Escape, The ( 0.007 ) | Close Encounters of the Third Kind ( 0.007 ) | It's a Wonderful Life ( 0.007 ) | Citizen Kane ( 0.007 ) | Cool Hand Luke ( 0.007 ) | Right Stuff, The ( 0.007 ) | Butch Cassidy and the Sundance Kid ( 0.007 ) | Chariots of Fire ( 0.007 ) | Patton ( 0.007 ) | 2001: A Space Odyssey ( 0.007 ) | Apocalypse Now ( 0.007 ) | Sting, The ( 0.007 ) | Dr. Strangelove or: How I Learned to Stop Worrying and Love the Bomb ( 0.006 ) | Boat, The (Das Boot) ( 0.006 ) | Gandhi ( 0.006 ) | North by Northwest ( 0.006 ) | Back to the Future ( 0.006 ) | Shakespeare in Love ( 0.006 ) | Doctor Zhivago ( 0.006 ) | Apollo 13 ( 0.006 ) | Christmas Story, A ( 0.006 ) | Rear Window ( 0.006 ) | Killing Fields, The ( 0.006 ) | Psycho ( 0.006 ) | 12 Angry Men ( 0.006 ) | M*A*S*H ( 0.005 ) | Forrest Gump ( 0.005 ) | Spartacus ( 0.005 ) | Star Wars: Episode VI - Return of the Jedi ( 0.005 ) |\n",
      "\n",
      "38 : Chinatown ( 0.019 ) | Double Indemnity ( 0.015 ) | Maltese Falcon, The ( 0.014 ) | Manchurian Candidate, The ( 0.013 ) | North by Northwest ( 0.013 ) | Rear Window ( 0.012 ) | Sunset Blvd. (a.k.a. Sunset Boulevard) ( 0.012 ) | Casablanca ( 0.012 ) | Big Sleep, The ( 0.012 ) | Touch of Evil ( 0.012 ) | Strangers on a Train ( 0.012 ) | Citizen Kane ( 0.012 ) | Godfather, The ( 0.011 ) | L.A. Confidential ( 0.011 ) | Vertigo ( 0.011 ) | Annie Hall ( 0.011 ) | Third Man, The ( 0.011 ) | Notorious ( 0.01 ) | Some Like It Hot ( 0.009 ) | Dr. Strangelove or: How I Learned to Stop Worrying and Love the Bomb ( 0.009 ) | Blade Runner ( 0.008 ) | Psycho ( 0.008 ) | Wizard of Oz, The ( 0.008 ) | Taxi Driver ( 0.007 ) | Godfather: Part II, The ( 0.007 ) | Seven Samurai (The Magnificent Seven) (Shichinin no samurai) ( 0.007 ) | M ( 0.007 ) | Key Largo ( 0.007 ) | Treasure of the Sierra Madre, The ( 0.007 ) | Philadelphia Story, The ( 0.007 ) | Schindler's List ( 0.006 ) | Blood Simple ( 0.006 ) | Fargo ( 0.006 ) | To Kill a Mockingbird ( 0.006 ) | American Beauty ( 0.006 ) | Conversation, The ( 0.006 ) | Graduate, The ( 0.006 ) | Lawrence of Arabia ( 0.006 ) | Laura ( 0.006 ) | Singin' in the Rain ( 0.006 ) | Star Wars: Episode IV - A New Hope ( 0.005 ) | Duck Soup ( 0.005 ) | On the Waterfront ( 0.005 ) | Shadow of a Doubt ( 0.005 ) | Grifters, The ( 0.005 ) | Producers, The ( 0.005 ) | Rebecca ( 0.005 ) | City Lights ( 0.005 ) | One Flew Over the Cuckoo's Nest ( 0.005 ) | Usual Suspects, The ( 0.005 ) |\n",
      "\n",
      "39 : Arsenic and Old Lace ( 0.008 ) | Maltese Falcon, The ( 0.008 ) | Notorious ( 0.008 ) | Strangers on a Train ( 0.008 ) | Dial M for Murder ( 0.008 ) | Rear Window ( 0.007 ) | Rebecca ( 0.007 ) | Key Largo ( 0.007 ) | Philadelphia Story, The ( 0.007 ) | Laura ( 0.007 ) | Big Sleep, The ( 0.007 ) | His Girl Friday ( 0.007 ) | To Catch a Thief ( 0.007 ) | Double Indemnity ( 0.007 ) | Spellbound ( 0.006 ) | It Happened One Night ( 0.006 ) | Vertigo ( 0.006 ) | Suspicion ( 0.006 ) | Thin Man, The ( 0.006 ) | Charade ( 0.006 ) | Roman Holiday ( 0.006 ) | Gaslight ( 0.006 ) | African Queen, The ( 0.006 ) | Third Man, The ( 0.005 ) | All About Eve ( 0.005 ) | Shadow of a Doubt ( 0.005 ) | North by Northwest ( 0.005 ) | Sunset Blvd. (a.k.a. Sunset Boulevard) ( 0.005 ) | Citizen Kane ( 0.005 ) | Bringing Up Baby ( 0.005 ) | Best Years of Our Lives, The ( 0.005 ) | Lady Vanishes, The ( 0.005 ) | Manchurian Candidate, The ( 0.005 ) | 39 Steps, The ( 0.005 ) | Singin' in the Rain ( 0.005 ) | From Here to Eternity ( 0.005 ) | Some Like It Hot ( 0.005 ) | Mr. Smith Goes to Washington ( 0.005 ) | Lifeboat ( 0.004 ) | Ghost and Mrs. Muir, The ( 0.004 ) | Mister Roberts ( 0.004 ) | Treasure of the Sierra Madre, The ( 0.004 ) | High Noon ( 0.004 ) | Casablanca ( 0.004 ) | My Man Godfrey ( 0.004 ) | Gone with the Wind ( 0.004 ) | Grapes of Wrath, The ( 0.004 ) | Miracle on 34th Street ( 0.004 ) | Anatomy of a Murder ( 0.004 ) | In the Heat of the Night ( 0.004 ) |\n",
      "\n",
      "40 : Rudy ( 0.003 ) | Robin Hood: Prince of Thieves ( 0.003 ) | Time to Kill, A ( 0.003 ) | Interview with the Vampire ( 0.003 ) | Ransom ( 0.003 ) | Phenomenon ( 0.003 ) | Pelican Brief, The ( 0.003 ) | Murder in the First ( 0.003 ) | Primal Fear ( 0.003 ) | Man Without a Face, The ( 0.003 ) | Copycat ( 0.003 ) | It Could Happen to You ( 0.003 ) | Flatliners ( 0.003 ) | Cruel Intentions ( 0.003 ) | Shawshank Redemption, The ( 0.003 ) | City of Angels ( 0.003 ) | Apollo 13 ( 0.002 ) | Scent of a Woman ( 0.002 ) | Hand That Rocks the Cradle, The ( 0.002 ) | Firm, The ( 0.002 ) | Few Good Men, A ( 0.002 ) | Net, The ( 0.002 ) | People vs. Larry Flynt, The ( 0.002 ) | Mr. Holland's Opus ( 0.002 ) | Courage Under Fire ( 0.002 ) | Kiss the Girls ( 0.002 ) | Craft, The ( 0.002 ) | Waterboy, The ( 0.002 ) | What Dreams May Come ( 0.002 ) | Good Will Hunting ( 0.002 ) | Philadelphia ( 0.002 ) | Rainmaker, The ( 0.002 ) | Devil's Own, The ( 0.002 ) | With Honors ( 0.002 ) | Tombstone ( 0.002 ) | Outbreak ( 0.002 ) | Truman Show, The ( 0.002 ) | Amistad ( 0.002 ) | Far and Away ( 0.002 ) | Sleepers ( 0.002 ) | Three Kings ( 0.002 ) | Dangerous Minds ( 0.002 ) | Volcano ( 0.002 ) | Client, The ( 0.002 ) | Primary Colors ( 0.002 ) | Murder at 1600 ( 0.002 ) | Girl, Interrupted ( 0.002 ) | White Men Can't Jump ( 0.002 ) | Alive ( 0.002 ) | Fried Green Tomatoes ( 0.002 ) |\n",
      "\n",
      "41 : Almost Famous ( 0.025 ) | High Fidelity ( 0.019 ) | Meet the Parents ( 0.019 ) | Gladiator ( 0.018 ) | Best in Show ( 0.016 ) | Chicken Run ( 0.016 ) | Nurse Betty ( 0.015 ) | X-Men ( 0.015 ) | Erin Brockovich ( 0.015 ) | Patriot, The ( 0.015 ) | Perfect Storm, The ( 0.014 ) | Contender, The ( 0.013 ) | Cell, The ( 0.013 ) | Wonder Boys ( 0.013 ) | Frequency ( 0.012 ) | Shanghai Noon ( 0.012 ) | U-571 ( 0.012 ) | Mission: Impossible 2 ( 0.011 ) | Scary Movie ( 0.01 ) | Remember the Titans ( 0.009 ) | American Psycho ( 0.009 ) | Keeping the Faith ( 0.009 ) | Me, Myself and Irene ( 0.009 ) | Requiem for a Dream ( 0.009 ) | Whole Nine Yards, The ( 0.008 ) | Road Trip ( 0.008 ) | Small Time Crooks ( 0.008 ) | What Lies Beneath ( 0.008 ) | Shaft ( 0.007 ) | Space Cowboys ( 0.007 ) | Virgin Suicides, The ( 0.007 ) | Boiler Room ( 0.007 ) | Gone in 60 Seconds ( 0.007 ) | Magnolia ( 0.007 ) | Rules of Engagement ( 0.007 ) | 28 Days ( 0.007 ) | Return to Me ( 0.006 ) | Titan A.E. ( 0.006 ) | Big Kahuna, The ( 0.006 ) | Bring It On ( 0.006 ) | Ghost Dog: The Way of the Samurai ( 0.006 ) | Mission to Mars ( 0.005 ) | Pitch Black ( 0.005 ) | Tao of Steve, The ( 0.005 ) | Final Destination ( 0.005 ) | Replacements, The ( 0.005 ) | My Dog Skip ( 0.005 ) | Skulls, The ( 0.005 ) | Saving Grace ( 0.005 ) | Hollow Man ( 0.005 ) |\n",
      "\n",
      "42 : 101 Dalmatians ( 0.008 ) | Beauty and the Beast ( 0.008 ) | Lion King, The ( 0.007 ) | Mary Poppins ( 0.007 ) | Toy Story ( 0.007 ) | Cinderella ( 0.007 ) | Alice in Wonderland ( 0.007 ) | Sleeping Beauty ( 0.007 ) | Lady and the Tramp ( 0.007 ) | Aladdin ( 0.006 ) | Babe ( 0.006 ) | Snow White and the Seven Dwarfs ( 0.006 ) | Mulan ( 0.006 ) | Jungle Book, The ( 0.006 ) | Toy Story 2 ( 0.006 ) | Bambi ( 0.006 ) | Peter Pan ( 0.006 ) | Willy Wonka and the Chocolate Factory ( 0.006 ) | Charlotte's Web ( 0.006 ) | 101 Dalmatians ( 0.006 ) | Aristocats, The ( 0.006 ) | Dumbo ( 0.006 ) | Robin Hood ( 0.006 ) | Bug's Life, A ( 0.006 ) | Home Alone ( 0.006 ) | Hercules ( 0.006 ) | Rescuers, The ( 0.006 ) | Sword in the Stone, The ( 0.006 ) | Pinocchio ( 0.006 ) | Rescuers Down Under, The ( 0.005 ) | Jumanji ( 0.005 ) | Casper ( 0.005 ) | Tarzan ( 0.005 ) | Antz ( 0.005 ) | Wizard of Oz, The ( 0.005 ) | Indian in the Cupboard, The ( 0.005 ) | Parent Trap, The ( 0.005 ) | Swiss Family Robinson ( 0.005 ) | Santa Clause, The ( 0.005 ) | Muppet Christmas Carol, The ( 0.005 ) | Little Mermaid, The ( 0.005 ) | Flubber ( 0.005 ) | Parent Trap, The ( 0.005 ) | James and the Giant Peach ( 0.005 ) | Stuart Little ( 0.005 ) | Hunchback of Notre Dame, The ( 0.005 ) | Fly Away Home ( 0.005 ) | George of the Jungle ( 0.005 ) | Jungle Book, The ( 0.005 ) | Pete's Dragon ( 0.004 ) |\n",
      "\n",
      "43 : Unforgiven ( 0.015 ) | Good, The Bad and The Ugly, The ( 0.014 ) | Fistful of Dollars, A ( 0.013 ) | Outlaw Josey Wales, The ( 0.013 ) | Dances with Wolves ( 0.013 ) | High Plains Drifter ( 0.012 ) | For a Few Dollars More ( 0.012 ) | Tombstone ( 0.011 ) | Platoon ( 0.011 ) | Apocalypse Now ( 0.011 ) | Butch Cassidy and the Sundance Kid ( 0.01 ) | Patton ( 0.01 ) | Bridge on the River Kwai, The ( 0.01 ) | Pale Rider ( 0.01 ) | Dirty Dozen, The ( 0.01 ) | Great Escape, The ( 0.01 ) | M*A*S*H ( 0.01 ) | Hang 'em High ( 0.01 ) | High Noon ( 0.009 ) | Blazing Saddles ( 0.009 ) | Saving Private Ryan ( 0.009 ) | Lawrence of Arabia ( 0.009 ) | True Grit ( 0.009 ) | Full Metal Jacket ( 0.008 ) | Deer Hunter, The ( 0.008 ) | Longest Day, The ( 0.008 ) | Braveheart ( 0.008 ) | Wild Bunch, The ( 0.008 ) | Little Big Man ( 0.008 ) | Last of the Mohicans, The ( 0.008 ) | Maverick ( 0.007 ) | Searchers, The ( 0.007 ) | Glory ( 0.007 ) | Boat, The (Das Boot) ( 0.007 ) | Schindler's List ( 0.007 ) | Guns of Navarone, The ( 0.007 ) | Wyatt Earp ( 0.007 ) | Forrest Gump ( 0.007 ) | Killing Fields, The ( 0.007 ) | African Queen, The ( 0.006 ) | Casablanca ( 0.006 ) | Jeremiah Johnson ( 0.006 ) | Kelly's Heroes ( 0.006 ) | Where Eagles Dare ( 0.006 ) | Dr. Strangelove or: How I Learned to Stop Worrying and Love the Bomb ( 0.006 ) | Good Morning, Vietnam ( 0.006 ) | Thin Red Line, The ( 0.006 ) | Legends of the Fall ( 0.006 ) | Star Wars: Episode V - The Empire Strikes Back ( 0.006 ) | Three Kings ( 0.006 ) |\n",
      "\n",
      "44 : American Beauty ( 0.023 ) | Jurassic Park ( 0.021 ) | Airplane! ( 0.019 ) | Braveheart ( 0.018 ) | Terminator 2: Judgment Day ( 0.018 ) | Patriot, The ( 0.017 ) | Stand by Me ( 0.016 ) | High Fidelity ( 0.016 ) | Men in Black ( 0.016 ) | Edward Scissorhands ( 0.015 ) | U-571 ( 0.014 ) | Boogie Nights ( 0.014 ) | Sound of Music, The ( 0.013 ) | Frequency ( 0.013 ) | North by Northwest ( 0.013 ) | Magnolia ( 0.012 ) | Shanghai Noon ( 0.012 ) | Gladiator ( 0.011 ) | Grumpy Old Men ( 0.011 ) | Lost World: Jurassic Park, The ( 0.01 ) | Rosemary's Baby ( 0.01 ) | Nightmare Before Christmas, The ( 0.009 ) | Nikita (La Femme Nikita) ( 0.009 ) | From Russia with Love ( 0.009 ) | Rudy ( 0.009 ) | Any Given Sunday ( 0.009 ) | Rocky Horror Picture Show, The ( 0.009 ) | Fly, The ( 0.009 ) | From Dusk Till Dawn ( 0.008 ) | Final Destination ( 0.008 ) | Mission to Mars ( 0.008 ) | X-Men ( 0.008 ) | Almost Famous ( 0.008 ) | Rules of Engagement ( 0.007 ) | Mission: Impossible ( 0.007 ) | Legends of the Fall ( 0.007 ) | Erin Brockovich ( 0.007 ) | Repo Man ( 0.007 ) | Perfect Storm, The ( 0.007 ) | Airplane II: The Sequel ( 0.007 ) | Meet the Parents ( 0.007 ) | American Psycho ( 0.006 ) | Grumpier Old Men ( 0.006 ) | Pitch Black ( 0.006 ) | Return to Me ( 0.006 ) | 28 Days ( 0.006 ) | Fantastic Voyage ( 0.006 ) | Remember the Titans ( 0.006 ) | Brothers McMullen, The ( 0.006 ) | Star Wars: Episode VI - Return of the Jedi ( 0.006 ) |\n",
      "\n",
      "45 : Schindler's List ( 0.014 ) | Shawshank Redemption, The ( 0.014 ) | Apollo 13 ( 0.013 ) | Good Will Hunting ( 0.013 ) | Silence of the Lambs, The ( 0.011 ) | Saving Private Ryan ( 0.011 ) | As Good As It Gets ( 0.011 ) | Titanic ( 0.01 ) | Green Mile, The ( 0.01 ) | Dances with Wolves ( 0.01 ) | Forrest Gump ( 0.01 ) | Braveheart ( 0.01 ) | Shakespeare in Love ( 0.01 ) | Sixth Sense, The ( 0.009 ) | American Beauty ( 0.009 ) | Jerry Maguire ( 0.009 ) | Fargo ( 0.009 ) | Life Is Beautiful (La Vita � bella) ( 0.008 ) | Sling Blade ( 0.008 ) | Truman Show, The ( 0.008 ) | Toy Story ( 0.008 ) | Few Good Men, A ( 0.008 ) | Thelma & Louise ( 0.008 ) | Hunt for Red October, The ( 0.007 ) | Fugitive, The ( 0.007 ) | Babe ( 0.007 ) | Groundhog Day ( 0.007 ) | English Patient, The ( 0.007 ) | Pulp Fiction ( 0.007 ) | Jurassic Park ( 0.006 ) | Dead Man Walking ( 0.006 ) | Cider House Rules, The ( 0.006 ) | L.A. Confidential ( 0.006 ) | Contact ( 0.006 ) | Awakenings ( 0.006 ) | Mr. Holland's Opus ( 0.006 ) | October Sky ( 0.006 ) | American President, The ( 0.006 ) | Toy Story 2 ( 0.006 ) | Erin Brockovich ( 0.005 ) | Elizabeth ( 0.005 ) | Sense and Sensibility ( 0.005 ) | Crying Game, The ( 0.005 ) | Usual Suspects, The ( 0.005 ) | Philadelphia ( 0.005 ) | River Runs Through It, A ( 0.005 ) | Scent of a Woman ( 0.005 ) | Full Monty, The ( 0.005 ) | Matrix, The ( 0.005 ) | Four Weddings and a Funeral ( 0.005 ) |\n",
      "\n",
      "46 : Willy Wonka and the Chocolate Factory ( 0.015 ) | Star Wars: Episode IV - A New Hope ( 0.015 ) | Indiana Jones and the Last Crusade ( 0.014 ) | Raiders of the Lost Ark ( 0.014 ) | NeverEnding Story, The ( 0.013 ) | Star Wars: Episode V - The Empire Strikes Back ( 0.012 ) | Willow ( 0.012 ) | Star Wars: Episode I - The Phantom Menace ( 0.012 ) | Goonies, The ( 0.011 ) | Beetlejuice ( 0.011 ) | Indiana Jones and the Temple of Doom ( 0.01 ) | Star Wars: Episode VI - Return of the Jedi ( 0.01 ) | Ladyhawke ( 0.01 ) | Batman ( 0.01 ) | Hook ( 0.01 ) | Labyrinth ( 0.01 ) | Princess Bride, The ( 0.01 ) | Dances with Wolves ( 0.01 ) | Star Trek: The Wrath of Khan ( 0.009 ) | Jumanji ( 0.009 ) | Tron ( 0.009 ) | Star Trek IV: The Voyage Home ( 0.009 ) | Big ( 0.009 ) | Who Framed Roger Rabbit? ( 0.009 ) | Time Bandits ( 0.009 ) | E.T. the Extra-Terrestrial ( 0.008 ) | Star Trek: First Contact ( 0.008 ) | Jurassic Park ( 0.008 ) | Honey, I Shrunk the Kids ( 0.008 ) | Dragonheart ( 0.008 ) | Excalibur ( 0.008 ) | Mask, The ( 0.008 ) | Romancing the Stone ( 0.008 ) | Wizard of Oz, The ( 0.008 ) | Men in Black ( 0.007 ) | Crocodile Dundee ( 0.007 ) | Abyss, The ( 0.007 ) | Dark Crystal, The ( 0.007 ) | Highlander ( 0.007 ) | Star Trek III: The Search for Spock ( 0.007 ) | Star Trek VI: The Undiscovered Country ( 0.007 ) | Splash ( 0.007 ) | Mission: Impossible ( 0.007 ) | Dune ( 0.006 ) | Galaxy Quest ( 0.006 ) | Stand by Me ( 0.006 ) | 20,000 Leagues Under the Sea ( 0.006 ) | Superman ( 0.006 ) | Santa Clause, The ( 0.006 ) | Rock, The ( 0.006 ) |\n",
      "\n",
      "47 : West Side Story ( 0.021 ) | Singin' in the Rain ( 0.02 ) | Mary Poppins ( 0.02 ) | My Fair Lady ( 0.019 ) | Sound of Music, The ( 0.019 ) | Wizard of Oz, The ( 0.018 ) | Fantasia ( 0.016 ) | Snow White and the Seven Dwarfs ( 0.015 ) | Beauty and the Beast ( 0.013 ) | King and I, The ( 0.013 ) | Lady and the Tramp ( 0.012 ) | Lion King, The ( 0.012 ) | Aladdin ( 0.011 ) | American in Paris, An ( 0.011 ) | Cinderella ( 0.011 ) | Little Mermaid, The ( 0.01 ) | Grease ( 0.01 ) | Dumbo ( 0.01 ) | Sleeping Beauty ( 0.01 ) | Cabaret ( 0.01 ) | Jungle Book, The ( 0.009 ) | Guys and Dolls ( 0.009 ) | Peter Pan ( 0.009 ) | Alice in Wonderland ( 0.009 ) | Dirty Dancing ( 0.008 ) | Oliver! ( 0.008 ) | Gigi ( 0.008 ) | Little Shop of Horrors ( 0.008 ) | White Christmas ( 0.008 ) | Rocky Horror Picture Show, The ( 0.008 ) | Holiday Inn ( 0.008 ) | Hard Day's Night, A ( 0.008 ) | Yellow Submarine ( 0.007 ) | South Pacific ( 0.007 ) | Casablanca ( 0.007 ) | Victor/Victoria ( 0.007 ) | All That Jazz ( 0.007 ) | Blues Brothers, The ( 0.007 ) | Shakespeare in Love ( 0.006 ) | Meet Me in St. Louis ( 0.006 ) | Gone with the Wind ( 0.006 ) | This Is Spinal Tap ( 0.006 ) | Producers, The ( 0.005 ) | Top Hat ( 0.005 ) | Help! ( 0.005 ) | Nightmare Before Christmas, The ( 0.005 ) | E.T. the Extra-Terrestrial ( 0.005 ) | Funny Face ( 0.005 ) | Graduate, The ( 0.005 ) | Evita ( 0.005 ) |\n",
      "\n",
      "48 : Rock, The ( 0.015 ) | Fugitive, The ( 0.014 ) | Independence Day (ID4) ( 0.014 ) | Mission: Impossible ( 0.013 ) | Matrix, The ( 0.013 ) | Die Hard 2 ( 0.013 ) | Air Force One ( 0.013 ) | Clear and Present Danger ( 0.012 ) | Terminator 2: Judgment Day ( 0.012 ) | True Lies ( 0.012 ) | Men in Black ( 0.012 ) | Hunt for Red October, The ( 0.012 ) | Speed ( 0.011 ) | Braveheart ( 0.011 ) | Jurassic Park ( 0.011 ) | Saving Private Ryan ( 0.011 ) | Con Air ( 0.011 ) | Patriot Games ( 0.011 ) | Enemy of the State ( 0.011 ) | Total Recall ( 0.01 ) | GoldenEye ( 0.01 ) | Face/Off ( 0.01 ) | Fifth Element, The ( 0.01 ) | Star Wars: Episode I - The Phantom Menace ( 0.01 ) | Die Hard: With a Vengeance ( 0.01 ) | Tomorrow Never Dies ( 0.009 ) | Thomas Crown Affair, The ( 0.009 ) | Mask of Zorro, The ( 0.009 ) | World Is Not Enough, The ( 0.008 ) | Negotiator, The ( 0.008 ) | Twister ( 0.008 ) | Armageddon ( 0.008 ) | In the Line of Fire ( 0.008 ) | Mummy, The ( 0.008 ) | Rush Hour ( 0.007 ) | Gladiator ( 0.007 ) | Backdraft ( 0.007 ) | Conspiracy Theory ( 0.007 ) | Get Shorty ( 0.007 ) | Stargate ( 0.007 ) | Lethal Weapon 3 ( 0.007 ) | Outbreak ( 0.007 ) | Ronin ( 0.006 ) | Thelma & Louise ( 0.006 ) | Lost World: Jurassic Park, The ( 0.006 ) | Mission: Impossible 2 ( 0.006 ) | Heat ( 0.006 ) | Last of the Mohicans, The ( 0.005 ) | Maverick ( 0.005 ) | Star Trek: First Contact ( 0.005 ) |\n",
      "\n",
      "49 : L.A. Confidential ( 0.013 ) | Seven (Se7en) ( 0.012 ) | Usual Suspects, The ( 0.012 ) | Game, The ( 0.012 ) | Fargo ( 0.01 ) | Devil's Advocate, The ( 0.01 ) | Basic Instinct ( 0.01 ) | Silence of the Lambs, The ( 0.01 ) | Reservoir Dogs ( 0.01 ) | Sixth Sense, The ( 0.009 ) | Wild Things ( 0.008 ) | Cape Fear ( 0.008 ) | Simple Plan, A ( 0.008 ) | Fugitive, The ( 0.008 ) | Heat ( 0.008 ) | Professional, The (a.k.a. Leon: The Professional) ( 0.008 ) | Hunt for Red October, The ( 0.007 ) | Speed ( 0.007 ) | Big Lebowski, The ( 0.007 ) | Perfect Murder, A ( 0.007 ) | Firm, The ( 0.007 ) | Talented Mr. Ripley, The ( 0.006 ) | Patriot Games ( 0.006 ) | Sling Blade ( 0.006 ) | Client, The ( 0.006 ) | Jacob's Ladder ( 0.006 ) | X-Files: Fight the Future, The ( 0.006 ) | Face/Off ( 0.006 ) | Casino ( 0.006 ) | In the Line of Fire ( 0.006 ) | Enemy of the State ( 0.006 ) | Rock, The ( 0.006 ) | Ronin ( 0.006 ) | Clear and Present Danger ( 0.006 ) | Green Mile, The ( 0.006 ) | Absolute Power ( 0.006 ) | Cop Land ( 0.006 ) | Pulp Fiction ( 0.005 ) | Negotiator, The ( 0.005 ) | Primal Fear ( 0.005 ) | Kiss the Girls ( 0.005 ) | Ransom ( 0.005 ) | Jackie Brown ( 0.005 ) | Scream ( 0.005 ) | Terminator 2: Judgment Day ( 0.005 ) | Midnight in the Garden of Good and Evil ( 0.005 ) | Dead Again ( 0.005 ) | Matrix, The ( 0.005 ) | Conspiracy Theory ( 0.005 ) | Die Hard 2 ( 0.005 ) |\n",
      "\n"
     ]
    }
   ],
   "source": [
    "path = os.path.join(os.getcwd(), \"..\", \"param\", \"ml1m\", \"beta.dat\")\n",
    "beta = pd.read_table(path, sep=\" \", header = None)\n",
    "\n",
    "for topic in xrange(50):\n",
    "    top_words = beta.loc[topic].sort_values(ascending=False).index\n",
    "    genre_count = pd.DataFrame(np.zeros(len(genres)), index = genres)\n",
    "    \n",
    "    if topic < 10:\n",
    "        print topic, \" :\" ,\n",
    "    else:\n",
    "        print topic , \":\" , \n",
    "        \n",
    "    for i in xrange(50):\n",
    "        movie_name =  movies.loc[top_words[i]][\"Title\"]\n",
    "        if movie_name[-1] == ')':\n",
    "            print movie_name[:-7], '(', beta.loc[topic][top_words[i]].round(3),  ') |', \n",
    "        else:\n",
    "            print movie_name, ' |', '(', beta.loc[topic][top_words[i]].round(3),  ') |',\n",
    "    \n",
    "    print\n",
    "    print"
   ]
  },
  {
   "cell_type": "code",
   "execution_count": 69,
   "metadata": {
    "collapsed": false
   },
   "outputs": [
    {
     "data": {
      "text/plain": [
       "{'Female': 8,\n",
       " 'Female - 18-24': 10,\n",
       " 'Female - 25-34': 11,\n",
       " 'Female - 35-44': 12,\n",
       " 'Female - 45-49': 13,\n",
       " 'Female - 50-55': 14,\n",
       " 'Female - 56+': 15,\n",
       " 'Female - Under 18': 9,\n",
       " 'Male': 0,\n",
       " 'Male - 18-24': 2,\n",
       " 'Male - 25-34': 3,\n",
       " 'Male - 35-44': 4,\n",
       " 'Male - 45-49': 5,\n",
       " 'Male - 50-55': 6,\n",
       " 'Male - 56+': 7,\n",
       " 'Male - Under 18': 1}"
      ]
     },
     "execution_count": 69,
     "metadata": {},
     "output_type": "execute_result"
    }
   ],
   "source": [
    "gender_docs"
   ]
  },
  {
   "cell_type": "code",
   "execution_count": 81,
   "metadata": {
    "collapsed": false
   },
   "outputs": [
    {
     "data": {
      "text/plain": [
       "8"
      ]
     },
     "execution_count": 81,
     "metadata": {},
     "output_type": "execute_result"
    }
   ],
   "source": [
    "path = os.path.join(os.getcwd(), \"..\", \"param\", \"ml1m\", \"theta.dat\")\n",
    "gamma = pd.read_table(path, sep=\" \", header = None)\n",
    "gamma.loc[8].argmax()"
   ]
  },
  {
   "cell_type": "code",
   "execution_count": 80,
   "metadata": {
    "collapsed": false
   },
   "outputs": [
    {
     "name": "stdout",
     "output_type": "stream",
     "text": [
      "7  : Male - 56+  : \n",
      "Almost Famous  | Requiem for a Dream  | Wonder Boys  | Dancer in the Dark  | All About My Mother (Todo Sobre Mi Madre)  | Boys Don't Cry  | Virgin Suicides, The  | High Fidelity  | Best in Show  | Nurse Betty  | Magnolia  | Straight Story, The  | Sweet Hereafter, The  | Breaking the Waves  | Erin Brockovich  | Central Station (Central do Brasil)  | Hilary and Jackie  | Contender, The  | Secrets & Lies  | Tao of Steve, The  | Talented Mr. Ripley, The  | Gods and Monsters  | Run Lola Run (Lola rennt)  | Red Violin, The (Le Violon rouge)  | Girlfight  | Jesus' Son  | Ice Storm, The  | Topsy-Turvy  | Meet the Parents  | Croupier  | Chicken Run  | Gladiator  | Sweet and Lowdown  | Dreamlife of Angels, The (La Vie r�v�e des anges)  | Opposite of Sex, The  | Cider House Rules, The  | Elizabeth  | Big Kahuna, The  | Keeping the Faith  | Winslow Boy, The  | Chuck & Buck  | East is East  | Me Myself I  | Wings of the Dove, The  | Sunshine  | Celebration, The (Festen)  | Boiler Room  | Boogie Nights  | Titus  | Saving Grace  |\n",
      "\n",
      "9  : Female - Under 18  : \n",
      "Usual Suspects, The  | Wrong Trousers, The  | Pulp Fiction  | Reservoir Dogs  | Fargo  | Brazil  | Blade Runner  | Close Shave, A  | Run Lola Run (Lola rennt)  | Being John Malkovich  | Princess Bride, The  | Matrix, The  | Professional, The (a.k.a. Leon: The Professional)  | L.A. Confidential  | Monty Python and the Holy Grail  | Dr. Strangelove or: How I Learned to Stop Worrying and Love the Bomb  | Terminator, The  | City of Lost Children, The  | Star Wars: Episode V - The Empire Strikes Back  | Fight Club  | Alien  | American Beauty  | Hard-Boiled (Lashou shentan)  | Star Wars: Episode IV - A New Hope  | Silence of the Lambs, The  | Shawshank Redemption, The  | Grand Day Out, A  | 2001: A Space Odyssey  | Aliens  | Clockwork Orange, A  | This Is Spinal Tap  | Raiders of the Lost Ark  | Godfather, The  | Nikita (La Femme Nikita)  | Terminator 2: Judgment Day  | GoodFellas  | Wallace & Gromit: The Best of Aardman Animation  | Twelve Monkeys  | Seven (Se7en)  | Delicatessen  | Monty Python's Life of Brian  | Pi  | Chicken Run  | Trainspotting  | Killer, The (Die xue shuang xiong)  | Sixth Sense, The  | South Park: Bigger, Longer and Uncut  | Apocalypse Now  | Taxi Driver  | Seven Samurai (The Magnificent Seven) (Shichinin no samurai)  |\n",
      "\n",
      "11 : Female - 25-34  : \n",
      "Pulp Fiction  | Shawshank Redemption, The  | American Beauty  | Silence of the Lambs, The  | Usual Suspects, The  | Fargo  | GoodFellas  | Saving Private Ryan  | Schindler's List  | L.A. Confidential  | Sixth Sense, The  | Reservoir Dogs  | Godfather, The  | Star Wars: Episode V - The Empire Strikes Back  | Matrix, The  | Good Will Hunting  | Braveheart  | Star Wars: Episode IV - A New Hope  | Being John Malkovich  | One Flew Over the Cuckoo's Nest  | Godfather: Part II, The  | Terminator 2: Judgment Day  | Star Wars: Episode VI - Return of the Jedi  | Fight Club  | Raiders of the Lost Ark  | Male - 25-34  | Gladiator  | Toy Story  | Shakespeare in Love  | Male - 18-24  | Seven (Se7en)  | Christmas Story, A  | Back to the Future  | Toy Story 2  | Groundhog Day  | Sling Blade  | Green Mile, The  | Insider, The  | Election  | Princess Bride, The  | American History X  | Run Lola Run (Lola rennt)  | Terminator, The  | Monty Python and the Holy Grail  | Twelve Monkeys  | Taxi Driver  | Breakfast Club, The  | Fugitive, The  | Out of Sight  | Forrest Gump  |\n",
      "\n",
      "1  : Male - Under 18  : \n",
      "Sixth Sense, The  | Ghostbusters  | Austin Powers: The Spy Who Shagged Me  | American Beauty  | American Pie  | Shakespeare in Love  | Bug's Life, A  | Who Framed Roger Rabbit?  | General's Daughter, The  | Blair Witch Project, The  | Erin Brockovich  | Double Jeopardy  | Gladiator  | Being John Malkovich  | Elizabeth  | Abyss, The  | Thomas Crown Affair, The  | Entrapment  | Bowfinger  | Talented Mr. Ripley, The  | Election  | Arlington Road  | Out of Africa  | Civil Action, A  | Bone Collector, The  | Clerks  | Fight Club  | Arachnophobia  | Galaxy Quest  | Poseidon Adventure, The  | Big Daddy  | Runaway Bride  | Mission: Impossible 2  | Toy Story 2  | Eyes Wide Shut  | Mosquito Coast, The  | Maltese Falcon, The  | Dead Calm  | Doors, The  | Romy and Michele's High School Reunion  | Cruel Intentions  | Doctor Dolittle  | Pushing Tin  | Rushmore  | Desperately Seeking Susan  | South Park: Bigger, Longer and Uncut  | Pacific Heights  | Sleepy Hollow  | Never Been Kissed  | 13th Warrior, The  |\n",
      "\n",
      "5  : Male - 45-49  : \n",
      "Pulp Fiction  | Shawshank Redemption, The  | Good Will Hunting  | Fargo  | Silence of the Lambs, The  | GoodFellas  | Saving Private Ryan  | American Beauty  | Usual Suspects, The  | Schindler's List  | Boogie Nights  | Dead Man Walking  | Twelve Monkeys  | L.A. Confidential  | Fight Club  | Sling Blade  | Apollo 13  | What's Eating Gilbert Grape  | Leaving Las Vegas  | Trainspotting  | American History X  | Braveheart  | Swingers  | Being John Malkovich  | Chasing Amy  | Three Kings  | Edward Scissorhands  | Babe  | Jerry Maguire  | Sixth Sense, The  | Quiz Show  | Donnie Brasco  | Truman Show, The  | Insider, The  | Thelma & Louise  | Reservoir Dogs  | Seven (Se7en)  | Boys Don't Cry  | Glengarry Glen Ross  | As Good As It Gets  | Life Is Beautiful (La Vita � bella)  | Searching for Bobby Fischer  | Crying Game, The  | Jackie Brown  | Matrix, The  | Dances with Wolves  | Professional, The (a.k.a. Leon: The Professional)  | Ice Storm, The  | Fugitive, The  | Magnolia  |\n",
      "\n",
      "4  : Male - 35-44  : \n",
      "Weird Science  | Fletch  | Christmas Vacation  | Scrooged  | Police Academy  | Caddyshack  | Spaceballs  | Crocodile Dundee  | Ferris Bueller's Day Off  | Three Amigos!  | Mr. Mom  | Gremlins  | Trading Places  | Money Pit, The  | European Vacation  | Weekend at Bernie's  | Back to the Future Part II  | Good Morning, Vietnam  | Stripes  | Airplane!  | Romancing the Stone  | Real Genius  | Ghostbusters II  | Adventures in Babysitting  | Sixteen Candles  | Vacation  | Fast Times at Ridgemont High  | Lethal Weapon 2  | Lethal Weapon  | Splash  | Ghostbusters  | Breakfast Club, The  | Pee-wee's Big Adventure  | Airplane II: The Sequel  | Back to School  | Cocoon  | Pretty in Pink  | Golden Child, The  | Jewel of the Nile, The  | Back to the Future  | Little Shop of Horrors  | Risky Business  | Funny Farm  | Better Off Dead...  | Beetlejuice  | Parenthood  | Christmas Story, A  | History of the World: Part I  | Gods Must Be Crazy, The  | Raising Arizona  |\n",
      "\n",
      "13 : Female - 45-49  : \n",
      "Austin Powers: International Man of Mystery  | American Pie  | There's Something About Mary  | Pulp Fiction  | Forrest Gump  | Clerks  | Dogma  | Fight Club  | American Beauty  | Happy Gilmore  | Chasing Amy  | Good Will Hunting  | South Park: Bigger, Longer and Uncut  | Sixth Sense, The  | Matrix, The  | Usual Suspects, The  | Shawshank Redemption, The  | Office Space  | Austin Powers: The Spy Who Shagged Me  | Seven (Se7en)  | Gladiator  | Mallrats  | American History X  | Swingers  | Being John Malkovich  | Wayne's World  | Saving Private Ryan  | Groundhog Day  | Reservoir Dogs  | Truman Show, The  | Toy Story  | Wedding Singer, The  | X-Men  | Aladdin  | Silence of the Lambs, The  | Braveheart  | Green Mile, The  | Jerry Maguire  | Dazed and Confused  | Big Lebowski, The  | Three Kings  | Star Wars: Episode V - The Empire Strikes Back  | Rushmore  | Clueless  | Dumb & Dumber  | Fargo  | Scream  | Pleasantville  | As Good As It Gets  | Terminator 2: Judgment Day  |\n",
      "\n",
      "14 : Female - 50-55  : \n",
      "Nighthawks  | Man with the Golden Gun, The  | Bedroom Window, The  | Eyes of Laura Mars  | Someone to Watch Over Me  | Long Walk Home, The  | F/X  | Sugarland Express, The  | My Favorite Season  | Mike's Murder  | Escape from L.A.  | Presidio, The  | Running Scared  | One False Move  | No Mercy  | Fallen  | Peacemaker, The  | White Sands  | Spy Who Loved Me, The  | Atlantic City  | Prince of the City  | City of Industry  | Name of the Rose, The  | Romancing the Stone  | Mis�rables, Les  | Jennifer 8  | Disclosure  | Firestarter  | Tequila Sunrise  | Fatal Beauty  | Birdy  | Cutter's Way  | Runaway Train  | Conversation, The  | Get Carter  | Gloria  | Assault on Precinct 13  | King Kong  | Hamlet  | Assassination  | Thieves (Voleurs, Les)  | Matewan  | Gung Ho  | Hidden, The  | Sheltering Sky, The  | F/X 2  | Missing in Action  | Dr. No  | From Russia with Love  | Night Falls on Manhattan  |\n",
      "\n",
      "3  : Male - 25-34  : \n",
      "Beauty and the Beast  | Lion King, The  | Little Mermaid, The  | Mary Poppins  | Aladdin  | Wizard of Oz, The  | Back to the Future  | Snow White and the Seven Dwarfs  | Toy Story  | Lady and the Tramp  | Star Wars: Episode IV - A New Hope  | Cinderella  | Apollo 13  | Ghost  | Dead Poets Society  | Ghostbusters  | Ferris Bueller's Day Off  | Truman Show, The  | Bambi  | Bug's Life, A  | Peter Pan  | Sound of Music, The  | Princess Bride, The  | Who Framed Roger Rabbit?  | E.T. the Extra-Terrestrial  | Dumbo  | Big  | Forrest Gump  | It's a Wonderful Life  | Sixth Sense, The  | Toy Story 2  | Sleepless in Seattle  | Fantasia  | Babe  | Pretty Woman  | Titanic  | Star Wars: Episode V - The Empire Strikes Back  | Sleeping Beauty  | Raiders of the Lost Ark  | Jerry Maguire  | Jungle Book, The  | Willy Wonka and the Chocolate Factory  | Jurassic Park  | Charlotte's Web  | Groundhog Day  | Christmas Story, A  | Back to the Future Part II  | Star Wars: Episode VI - Return of the Jedi  | NeverEnding Story, The  | League of Their Own, A  |\n",
      "\n",
      "2  : Male - 18-24  : \n",
      "Independence Day (ID4)  | Armageddon  | Con Air  | Die Hard 2  | Lost World: Jurassic Park, The  | Die Hard: With a Vengeance  | Rock, The  | Stargate  | Fifth Element, The  | Air Force One  | Mummy, The  | True Lies  | Mission: Impossible  | Twister  | Lethal Weapon 3  | Face/Off  | Broken Arrow  | GoldenEye  | Terminator 2: Judgment Day  | Conspiracy Theory  | Blade  | Under Siege  | Enemy of the State  | Speed  | Waterworld  | Lethal Weapon 4  | Crow, The  | Mask of Zorro, The  | Starship Troopers  | Deep Impact  | Star Wars: Episode I - The Phantom Menace  | Backdraft  | Cliffhanger  | Outbreak  | Total Recall  | Tomorrow Never Dies  | Saint, The  | Fugitive, The  | Eraser  | Rush Hour  | Matrix, The  | Star Trek: First Contact  | Jurassic Park  | Hunt for Red October, The  | Clear and Present Danger  | Batman Returns  | Demolition Man  | Star Trek: Generations  | Men in Black  | Braveheart  |\n",
      "\n",
      "15 : Female - 56+  : \n",
      "True Romance  | Glengarry Glen Ross  | Jackie Brown  | Miller's Crossing  | Reservoir Dogs  | Donnie Brasco  | Bound  | Rushmore  | In the Company of Men  | Simple Plan, A  | Heat  | Boogie Nights  | Out of Sight  | Cop Land  | Crumb  | Trainspotting  | Casino  | Carlito's Way  | Big Lebowski, The  | Go  | Drugstore Cowboy  | Limey, The  | Hard 8 (a.k.a. Sydney, a.k.a. Hard Eight)  | Lone Star  | Bad Lieutenant  | Zero Effect  | Smoke  | Hudsucker Proxy, The  | Short Cuts  | Professional, The (a.k.a. Leon: The Professional)  | Welcome to the Dollhouse  | Spanish Prisoner, The  | Quiz Show  | Seven (Se7en)  | Waiting for Guffman  | Malcolm X  | People vs. Larry Flynt, The  | Mighty Aphrodite  | Cape Fear  | Twelve Monkeys  | Happiness  | Big Night  | Blood Simple  | Ice Storm, The  | Flirting With Disaster  | Kingpin  | Doors, The  | Shallow Grave  | Magnolia  | Get Shorty  |\n",
      "\n",
      "8  : Female  : \n",
      "What About Bob?  | Lethal Weapon  | Jaws  | My Cousin Vinny  | F/X  | Steel Magnolias  | Lethal Weapon 2  | Green Mile, The  | Butch Cassidy and the Sundance Kid  | Independence Day (ID4)  | Twister  | Princess Bride, The  | Everything You Always Wanted to Know About Sex  | Star Trek: The Wrath of Khan  | White Men Can't Jump  | Kelly's Heroes  | Mary Poppins  | Game, The  | Annie Hall  | Big Lebowski, The  | Harold and Maude  | Lethal Weapon 3  | Bug's Life, A  | Interview with the Vampire  | Footloose  | Chasing Amy  | Firm, The  | Kentucky Fried Movie, The  | Platoon  | Fargo  | Searching for Bobby Fischer  | Sleeper  | Anatomy of a Murder  | Dr. No  | Air America  | Man with the Golden Gun, The  | X-Men  | Patch Adams  | Conan the Barbarian  | Little Shop of Horrors  | Manhattan  | Cliffhanger  | Bronco Billy  | Guns of Navarone, The  | F/X 2  | Naked Gun 2 1/2: The Smell of Fear, The  | Desperately Seeking Susan  | Moonraker  | World Is Not Enough, The  | Spy Who Loved Me, The  |\n",
      "\n",
      "10 : Female - 18-24  : \n",
      "Platoon  | Rocky  | Jaws  | Untouchables, The  | Top Gun  | Die Hard  | Rocky II  | Spy Who Loved Me, The  | Predator  | First Blood  | Alien  | Indiana Jones and the Temple of Doom  | Terminator, The  | Full Metal Jacket  | Blade Runner  | Mad Max  | Mad Max 2 (a.k.a. The Road Warrior)  | Caddyshack  | Excalibur  | Escape from New York  | Robocop  | Superman  | F/X  | Aliens  | Indiana Jones and the Last Crusade  | Blues Brothers, The  | Godfather: Part II, The  | Star Trek: The Wrath of Khan  | Godfather, The  | Live and Let Die  | For Your Eyes Only  | Animal House  | Rocky III  | Close Encounters of the Third Kind  | Red Dawn  | Stripes  | Planet of the Apes  | Moonraker  | Lethal Weapon 2  | Raiders of the Lost Ark  | Apocalypse Now  | Star Wars: Episode IV - A New Hope  | Deer Hunter, The  | Romancing the Stone  | Dead Zone, The  | Hoosiers  | Lethal Weapon  | Witness  | Natural, The  | Mad Max Beyond Thunderdome  |\n",
      "\n",
      "6  : Male - 50-55  : \n",
      "Air Force One  | 2001: A Space Odyssey  | African Queen, The  | Amadeus  | Airplane!  | Ace Ventura: Pet Detective  | Alien  | As Good As It Gets  | 101 Dalmatians  | Apollo 13  | American Beauty  | Abyss, The  | 12 Angry Men  | Addams Family, The  | Back to the Future  | Animal House  | Adventures in Babysitting  | 20,000 Leagues Under the Sea  | Austin Powers: International Man of Mystery  | Aliens  | Aladdin  | All That Jazz  | American President, The  | Analyze This  | Absolute Power  | Absent Minded Professor, The  | Addams Family Values  | American Graffiti  | Back to the Future Part II  | Ace Ventura: When Nature Calls  | American Werewolf in London, An  | Austin Powers: The Spy Who Shagged Me  | Beetlejuice  | Apocalypse Now  | Arthur  | ...And Justice for All  | 8MM  | Basic Instinct  | 101 Dalmatians  | Amistad  | Affair to Remember, An  | American Gigolo  | About Last Night...  | Babe  | American Pie  | Annie Hall  | 'burbs, The  | 13th Warrior, The  | Blazing Saddles  | Airplane II: The Sequel  |\n",
      "\n",
      "0  : Male  : \n",
      "One Flew Over the Cuckoo's Nest  | Graduate, The  | Godfather, The  | Taxi Driver  | Midnight Cowboy  | Godfather: Part II, The  | To Kill a Mockingbird  | Citizen Kane  | Casablanca  | Apocalypse Now  | Psycho  | Amadeus  | Bonnie and Clyde  | Chinatown  | Fargo  | GoodFellas  | Dr. Strangelove or: How I Learned to Stop Worrying and Love the Bomb  | Network  | Cool Hand Luke  | North by Northwest  | Wizard of Oz, The  | Bridge on the River Kwai, The  | 2001: A Space Odyssey  | Schindler's List  | Raging Bull  | French Connection, The  | Deer Hunter, The  | Hustler, The  | Shawshank Redemption, The  | Silence of the Lambs, The  | Rear Window  | Dog Day Afternoon  | Serpico  | Annie Hall  | American Graffiti  | American Beauty  | Jaws  | Raiders of the Lost Ark  | Lawrence of Arabia  | Star Wars: Episode IV - A New Hope  | On the Waterfront  | Killing Fields, The  | Manhattan  | Sting, The  | Butch Cassidy and the Sundance Kid  | Breaking Away  | Pulp Fiction  | Close Encounters of the Third Kind  | Right Stuff, The  | M*A*S*H  |\n",
      "\n",
      "12 : Female - 35-44  : \n",
      "Sleepless in Seattle  | Forrest Gump  | Titanic  | Pretty Woman  | American President, The  | While You Were Sleeping  | Jerry Maguire  | As Good As It Gets  | You've Got Mail  | Shawshank Redemption, The  | My Best Friend's Wedding  | League of Their Own, A  | Notting Hill  | Mr. Holland's Opus  | Firm, The  | Good Will Hunting  | Four Weddings and a Funeral  | Few Good Men, A  | Mrs. Doubtfire  | Legends of the Fall  | Phenomenon  | Ghost  | Schindler's List  | Apollo 13  | Ransom  | Groundhog Day  | Scent of a Woman  | Dances with Wolves  | Fried Green Tomatoes  | Shakespeare in Love  | Time to Kill, A  | Saving Private Ryan  | Dave  | Contact  | Far and Away  | Braveheart  | Sense and Sensibility  | Truman Show, The  | October Sky  | Truth About Cats & Dogs, The  | Rainmaker, The  | Birdcage, The  | Sommersby  | Hope Floats  | Waking Ned Devine  | Thelma & Louise  | There's Something About Mary  | Backdraft  | Bridges of Madison County, The  | Sabrina  |\n",
      "\n"
     ]
    }
   ],
   "source": [
    "for gen_doc in gender_docs:\n",
    "    topic = gender_docs[gen_doc]\n",
    "    \n",
    "    top_words = beta.loc[topic].sort_values(ascending=False).index\n",
    "    genre_count = pd.DataFrame(np.zeros(len(genres)), index = genres)\n",
    "\n",
    "    if topic < 10:\n",
    "        print topic, \" :\" ,\n",
    "    else:\n",
    "        print topic , \":\" , \n",
    "        \n",
    "    print gen_doc, \" : \"\n",
    "\n",
    "    for i in xrange(50):\n",
    "        movie_name =  movies.loc[top_words[i]][\"Title\"]\n",
    "        if movie_name[-1] == ')':\n",
    "            print movie_name[:-7], ' |', \n",
    "        else:\n",
    "            print movie_name, ' |', \n",
    "\n",
    "    print\n",
    "    print"
   ]
  },
  {
   "cell_type": "code",
   "execution_count": 74,
   "metadata": {
    "collapsed": false
   },
   "outputs": [
    {
     "name": "stdout",
     "output_type": "stream",
     "text": [
      "6  : Toy Story 2 ( 0.011 ) | Bug's Life, A ( 0.011 ) | Toy Story ( 0.011 ) | Titanic ( 0.01 ) | Lion King, The ( 0.01 ) | Apollo 13 ( 0.009 ) | Aladdin ( 0.009 ) | Beauty and the Beast ( 0.009 ) | Men in Black ( 0.008 ) | Forrest Gump ( 0.008 ) | Truman Show, The ( 0.008 ) | Babe ( 0.008 ) | You've Got Mail ( 0.007 ) | Mulan ( 0.007 ) | Sleepless in Seattle ( 0.007 ) | Jurassic Park ( 0.007 ) | Ghost ( 0.007 ) | Galaxy Quest ( 0.007 ) | Antz ( 0.006 ) | Mrs. Doubtfire ( 0.006 ) | Groundhog Day ( 0.006 ) | Pleasantville ( 0.006 ) | While You Were Sleeping ( 0.006 ) | October Sky ( 0.006 ) | Parent Trap, The ( 0.006 ) | As Good As It Gets ( 0.006 ) | Mr. Holland's Opus ( 0.006 ) | Braveheart ( 0.005 ) | Hunchback of Notre Dame, The ( 0.005 ) | Good Will Hunting ( 0.005 ) | Sixth Sense, The ( 0.005 ) | Tarzan ( 0.005 ) | Shakespeare in Love ( 0.005 ) | League of Their Own, A ( 0.005 ) | Star Wars: Episode I - The Phantom Menace ( 0.005 ) | Edward Scissorhands ( 0.005 ) | Ever After: A Cinderella Story ( 0.005 ) | Contact ( 0.005 ) | Independence Day (ID4) ( 0.005 ) | Liar Liar ( 0.005 ) | Iron Giant, The ( 0.004 ) | Santa Clause, The ( 0.004 ) | Dave ( 0.004 ) | Hercules ( 0.004 ) | American President, The ( 0.004 ) | Jerry Maguire ( 0.004 ) | Cool Runnings ( 0.004 ) | Back to the Future Part III ( 0.004 ) | Home Alone ( 0.004 ) | Stuart Little ( 0.004 ) | Sister Act ( 0.004 ) | Dances with Wolves ( 0.004 ) | Mask of Zorro, The ( 0.004 ) | Patch Adams ( 0.004 ) | Prince of Egypt, The ( 0.004 ) | Wayne's World ( 0.004 ) | Jumanji ( 0.004 ) | James and the Giant Peach ( 0.004 ) | Babe: Pig in the City ( 0.004 ) | Sense and Sensibility ( 0.004 ) | Austin Powers: International Man of Mystery ( 0.004 ) | Pocahontas ( 0.004 ) | Star Trek: First Contact ( 0.004 ) | Little Princess, A ( 0.004 ) | Mask, The ( 0.003 ) | Pretty Woman ( 0.003 ) | Notting Hill ( 0.003 ) | Mission: Impossible ( 0.003 ) | That Thing You Do! ( 0.003 ) | My Best Friend's Wedding ( 0.003 ) | Little Women ( 0.003 ) | Shawshank Redemption, The ( 0.003 ) | Anastasia ( 0.003 ) | Chicken Run ( 0.003 ) | 101 Dalmatians ( 0.003 ) | Speed ( 0.003 ) | Armageddon ( 0.003 ) | Emma ( 0.003 ) | Birdcage, The ( 0.003 ) | Saving Private Ryan ( 0.003 ) | George of the Jungle ( 0.003 ) | Fifth Element, The ( 0.003 ) | Wedding Singer, The ( 0.003 ) | Nightmare Before Christmas, The ( 0.003 ) | Back to the Future ( 0.003 ) | Austin Powers: The Spy Who Shagged Me ( 0.003 ) | Clueless ( 0.003 ) | Englishman Who Went Up a Hill, But Came Down a Mountain, The ( 0.003 ) | Quiz Show ( 0.003 ) | Dinosaur ( 0.002 ) | Addams Family, The ( 0.002 ) | Twister ( 0.002 ) | Star Wars: Episode IV - A New Hope ( 0.002 ) | Philadelphia ( 0.002 ) | Fried Green Tomatoes ( 0.002 ) | Air Force One ( 0.002 ) | Arachnophobia ( 0.002 ) | Secret Garden, The ( 0.002 ) | Hamlet ( 0.002 ) | Blast from the Past ( 0.002 ) | Schindler's List ( 0.002 ) | Runaway Bride ( 0.002 ) | Waking Ned Devine ( 0.002 ) | What Dreams May Come ( 0.002 ) | Hunt for Red October, The ( 0.002 ) | Total Recall ( 0.002 ) | Full Monty, The ( 0.002 ) | Searching for Bobby Fischer ( 0.002 ) | Matrix, The ( 0.002 ) | Gattaca ( 0.002 ) | City of Angels ( 0.002 ) | Star Trek: Insurrection ( 0.002 ) | Star Trek: Generations ( 0.002 ) | What About Bob? ( 0.002 ) | Jungle Book, The ( 0.002 ) | Sabrina ( 0.002 ) | Star Wars: Episode V - The Empire Strikes Back ( 0.002 ) | Lost World: Jurassic Park, The ( 0.002 ) | Deep Impact ( 0.002 ) | Casper ( 0.002 ) | True Lies ( 0.002 ) | Fugitive, The ( 0.002 ) | Robin Hood: Prince of Thieves ( 0.002 ) | Awakenings ( 0.002 ) | Green Mile, The ( 0.002 ) | Firm, The ( 0.002 ) | Star Wars: Episode VI - Return of the Jedi ( 0.002 ) | E.T. the Extra-Terrestrial ( 0.002 ) | William Shakespeare's Romeo and Juliet ( 0.002 ) | Wag the Dog ( 0.002 ) | Four Weddings and a Funeral ( 0.002 ) | Joy Luck Club, The ( 0.002 ) | Dragonheart ( 0.002 ) | Thelma & Louise ( 0.002 ) | Fly Away Home ( 0.002 ) | Mighty Ducks, The ( 0.002 ) | Far and Away ( 0.002 ) | Client, The ( 0.002 ) | Silence of the Lambs, The ( 0.002 ) | Sliding Doors ( 0.002 ) | Interview with the Vampire ( 0.002 ) | Face/Off ( 0.002 ) | I.Q. ( 0.002 ) | Homeward Bound: The Incredible Journey ( 0.002 ) | Sneakers ( 0.002 ) | Phenomenon ( 0.002 ) | Frequency ( 0.002 ) | There's Something About Mary ( 0.002 ) | Ransom ( 0.002 ) | Six Days Seven Nights ( 0.002 ) | Rob Roy ( 0.002 ) | Stargate ( 0.002 ) | Crimson Tide ( 0.002 ) | Seven Years in Tibet ( 0.002 ) | Indian in the Cupboard, The ( 0.002 ) | Few Good Men, A ( 0.002 ) | Rock, The ( 0.002 ) | Home Alone 2: Lost in New York ( 0.002 ) | Bicentennial Man ( 0.002 ) | Angels in the Outfield ( 0.002 ) | Immortal Beloved ( 0.002 ) | Princess Bride, The ( 0.002 ) | My Cousin Vinny ( 0.002 ) | Mystery Science Theater 3000: The Movie ( 0.002 ) | Space Jam ( 0.002 ) | Tomorrow Never Dies ( 0.002 ) | Field of Dreams ( 0.001 ) | Horse Whisperer, The ( 0.001 ) | Civil Action, A ( 0.001 ) | Backdraft ( 0.001 ) | Primary Colors ( 0.001 ) | Life Is Beautiful (La Vita � bella) ( 0.001 ) | GoldenEye ( 0.001 ) | Kid, The ( 0.001 ) | Muppet Christmas Carol, The ( 0.001 ) | Hope Floats ( 0.001 ) | Last of the Mohicans, The ( 0.001 ) | Amistad ( 0.001 ) | Anna and the King ( 0.001 ) | Rainmaker, The ( 0.001 ) | Amadeus ( 0.001 ) | Inspector Gadget ( 0.001 ) | Truth About Cats & Dogs, The ( 0.001 ) | First Wives Club, The ( 0.001 ) | Gone with the Wind ( 0.001 ) | Patriot Games ( 0.001 ) | Grumpy Old Men ( 0.001 ) | Three Musketeers, The ( 0.001 ) | Free Willy ( 0.001 ) | Terminator 2: Judgment Day ( 0.001 ) | Aladdin and the King of Thieves ( 0.001 ) | Jungle2Jungle (a.k.a. Jungle 2 Jungle) ( 0.001 ) | Get Shorty ( 0.001 ) | Citizen Kane ( 0.001 ) | Mighty Joe Young ( 0.001 ) | Man Who Knew Too Little, The ( 0.001 ) | Shadowlands ( 0.001 ) | Mouse Hunt ( 0.001 ) | City Slickers II: The Legend of Curly's Gold ( 0.001 ) | Rudy ( 0.001 ) |\n",
      "\n"
     ]
    }
   ],
   "source": [
    "topic = 6\n",
    "top_words = beta.loc[topic].sort_values(ascending=False).index\n",
    "genre_count = pd.DataFrame(np.zeros(len(genres)), index = genres)\n",
    "\n",
    "if topic < 10:\n",
    "    print topic, \" :\" ,\n",
    "else:\n",
    "    print topic , \":\" , \n",
    "\n",
    "for i in xrange(200):\n",
    "    movie_name =  movies.loc[top_words[i]][\"Title\"]\n",
    "    if movie_name[-1] == ')':\n",
    "        print movie_name[:-7], '(', beta.loc[topic][top_words[i]].round(3),  ') |', \n",
    "    else:\n",
    "        print movie_name, ' |', \n",
    "\n",
    "print\n",
    "print"
   ]
  },
  {
   "cell_type": "code",
   "execution_count": null,
   "metadata": {
    "collapsed": false
   },
   "outputs": [],
   "source": [
    "fig, ax = plt.subplots(figsize=(20,10))\n",
    "\n",
    "ind = np.arange(len(genres)) \n",
    "width = 1.0\n",
    "\n",
    "topic = 29\n",
    "\n",
    "num_items = 50\n",
    "\n",
    "top_words = beta.loc[topic].sort_values(ascending=False).index\n",
    "genre_count = pd.DataFrame(np.zeros(len(genres)), index = genres)\n",
    "\n",
    "for i in xrange(num_items):\n",
    "    for gn in movie_names.loc[movies[top_words[i]]][1].split('|'):\n",
    "        genre_count.loc[gn] = genre_count.loc[gn] + 1\n",
    "\n",
    "ax.bar(ind, genre_count.values, width=width, color='r')\n",
    "ind = ind + width\n",
    "\n",
    "ax.set_ylabel('Count')\n",
    "ax.set_xlabel('Genre')\n",
    "ax.set_title('Genre Counts per Topic')\n",
    "ax.set_xticks(ind-0.5)\n",
    "xlabels = []\n",
    "for item in genres:\n",
    "    xlabels.append(item)\n",
    "ax.set_xticklabels(xlabels)\n",
    "plt.show()\n",
    "\n",
    "for i in xrange(num_items):\n",
    "        print movie_names.loc[movies[top_words[i]]][0][:-7], ' |', "
   ]
  },
  {
   "cell_type": "code",
   "execution_count": null,
   "metadata": {
    "collapsed": true
   },
   "outputs": [],
   "source": []
  }
 ],
 "metadata": {
  "kernelspec": {
   "display_name": "Python 2",
   "language": "python",
   "name": "python2"
  },
  "language_info": {
   "codemirror_mode": {
    "name": "ipython",
    "version": 2
   },
   "file_extension": ".py",
   "mimetype": "text/x-python",
   "name": "python",
   "nbconvert_exporter": "python",
   "pygments_lexer": "ipython2",
   "version": "2.7.10"
  }
 },
 "nbformat": 4,
 "nbformat_minor": 0
}

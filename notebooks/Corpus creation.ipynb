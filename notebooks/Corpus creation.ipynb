{
 "cells": [
  {
   "cell_type": "code",
   "execution_count": 1,
   "metadata": {
    "collapsed": false
   },
   "outputs": [],
   "source": [
    "import os\n",
    "import numpy as np\n",
    "import pandas as pd\n",
    "\n",
    "import matplotlib.pyplot as plt\n",
    "\n",
    "%matplotlib inline\n",
    "\n",
    "from sklearn.cross_validation import train_test_split\n",
    "from sklearn.metrics import mean_squared_error"
   ]
  },
  {
   "cell_type": "markdown",
   "metadata": {},
   "source": [
    "Load the ratings"
   ]
  },
  {
   "cell_type": "code",
   "execution_count": 2,
   "metadata": {
    "collapsed": true
   },
   "outputs": [],
   "source": [
    "path = os.path.join(os.getcwd(),\"..\",\"datasets\", \"ml1m\", \"ratings.dat\")\n",
    "ratings = pd.read_table(path, sep=\"::\",  names=[\"UserID\", 'MovieID', 'Rating', 'Timestamp'], header = None, engine='python').drop('Timestamp', axis=1)\n",
    "ratings = ratings.pivot('UserID', 'MovieID', 'Rating').replace(0, np.nan).transpose().unstack().dropna()"
   ]
  },
  {
   "cell_type": "markdown",
   "metadata": {},
   "source": [
    "Load the movie data"
   ]
  },
  {
   "cell_type": "code",
   "execution_count": 3,
   "metadata": {
    "collapsed": false
   },
   "outputs": [],
   "source": [
    "path = os.path.join(os.getcwd(), \"..\",\"datasets\", \"ml1m\", \"movies.dat\")\n",
    "movies = pd.read_table(path, sep=\"::\",  names=[\"MovieID\", 'Title', 'Genre'], header = None, engine='python')"
   ]
  },
  {
   "cell_type": "markdown",
   "metadata": {},
   "source": [
    "Load the user data"
   ]
  },
  {
   "cell_type": "code",
   "execution_count": 4,
   "metadata": {
    "collapsed": false
   },
   "outputs": [],
   "source": [
    "path = os.path.join(os.getcwd(), \"..\",\"datasets\", \"ml1m\", \"users.dat\")\n",
    "users = pd.read_table(path, sep=\"::\", names=[\"UserID\", \"Gender\", \"Age\", \"Occupation\", 'Zip-code'], header = None, engine='python')"
   ]
  },
  {
   "cell_type": "markdown",
   "metadata": {},
   "source": [
    "Functions for adding metadata"
   ]
  },
  {
   "cell_type": "code",
   "execution_count": 5,
   "metadata": {
    "collapsed": false
   },
   "outputs": [],
   "source": [
    "def add_gender_metadata(movies):\n",
    "    genders = [[0,'Male',''],[0,'Female','']]\n",
    "    mov_id = movies['MovieID'].max()\n",
    "    for g in genders:\n",
    "        mov_id = mov_id + 1\n",
    "        g[0] = mov_id\n",
    "    return movies.append(pd.DataFrame(genders, columns = ['MovieID', \"Title\",\"Genre\"]), ignore_index=True)\n",
    "\n",
    "def add_age_metadata(movies):\n",
    "    ages = [[0,\"Under 18\", \"\"], [0,\"18-24\", \"\"], [0,\"25-34\", \"\"], [0,\"35-44\", \"\"], \n",
    "        [0,\"45-49\", \"\"], [0,\"50-55\", \"\"], [0,\"56+\", \"\"]]\n",
    "    mov_id = movies['MovieID'].max()\n",
    "    for a in ages:\n",
    "        mov_id = mov_id + 1\n",
    "        a[0] = mov_id\n",
    "    return movies.append(pd.DataFrame(ages, columns = ['MovieID', \"Title\",\"Genre\"]), ignore_index=True)\n",
    "\n",
    "def add_gender_age_metadata(movies):\n",
    "    gender_ages = [[0,\"Male\",\"\"], [0,\"Male - Under 18\", \"\"], [0,\"Male - 18-24\", \"\"], [0,\"Male - 25-34\", \"\"], \n",
    "            [0,\"Male - 35-44\", \"\"], [0,\"Male - 45-49\", \"\"], [0,\"Male - 50-55\", \"\"], [0,\"Male - 56+\", \"\"],\n",
    "            [0,\"Female\",\"\"], [0,\"Female - Under 18\", \"\"], [0,\"Female - 18-24\", \"\"], [0,\"Female - 25-34\", \"\"], \n",
    "            [0,\"Female - 35-44\", \"\"], [0,\"Female - 45-49\", \"\"], [0,\"Female - 50-55\", \"\"], [0,\"Female - 56+\", \"\"]]\n",
    "\n",
    "    mov_id = movies['MovieID'].max()\n",
    "\n",
    "    for ma in gender_ages:\n",
    "        mov_id = mov_id + 1\n",
    "        ma[0] = mov_id\n",
    "                  \n",
    "    return movies.append(pd.DataFrame(gender_ages, columns = ['MovieID', \"Title\",\"Genre\"]), ignore_index=True)\n",
    "\n",
    "def get_gender_item(user_row):\n",
    "    if(user_row[\"Gender\"] == \"M\"):\n",
    "        return \"Male\"\n",
    "    elif(user_row[\"Gender\"] == \"F\"):\n",
    "        return \"Female\"\n",
    "\n",
    "def get_age_item(user_row):\n",
    "    if(user_row[\"Age\"] == 1):\n",
    "        return \"Under 18\"\n",
    "    elif(user_row[\"Age\"] == 18):\n",
    "        return \"18-24\"\n",
    "    elif(user_row[\"Age\"] == 25):\n",
    "        return \"25-34\"\n",
    "    elif(user_row[\"Age\"] == 35):\n",
    "        return \"35-44\"\n",
    "    elif(user_row[\"Age\"] == 45):\n",
    "        return \"45-49\"\n",
    "    elif(user_row[\"Age\"] == 50):\n",
    "        return \"50-55\"\n",
    "    elif(user_row[\"Age\"] == 56):\n",
    "        return \"56+\"\n",
    "    else:\n",
    "        return None\n",
    "\n",
    "def get_gender_age_item(user_row):\n",
    "    item = get_gender_item(user_row)\n",
    "    if get_age_item(user_row):\n",
    "        item += ' - ' + get_age_item(user_row)\n",
    "    return item"
   ]
  },
  {
   "cell_type": "markdown",
   "metadata": {},
   "source": [
    "Get a set of all the genres"
   ]
  },
  {
   "cell_type": "code",
   "execution_count": 7,
   "metadata": {
    "collapsed": false
   },
   "outputs": [],
   "source": [
    "genres = set()\n",
    "for row in movies.iterrows():\n",
    "    for genre in row[1]['Genre'].split('|'):\n",
    "        genres.add(genre)"
   ]
  },
  {
   "cell_type": "markdown",
   "metadata": {},
   "source": [
    "Create a corpus"
   ]
  },
  {
   "cell_type": "code",
   "execution_count": 62,
   "metadata": {
    "collapsed": false
   },
   "outputs": [],
   "source": [
    "include_metadata = 'gender-age' #gender/age/gender+age/gender-age\n",
    "metadata_weight = 5.0\n",
    "\n",
    "path = os.path.join(os.getcwd(), \"..\",\"datasets\", \"ml1m\", \"movies.dat\")\n",
    "movies = pd.read_table(path, sep=\"::\",  names=[\"MovieID\", 'Title', 'Genre'], header = None, engine='python')\n",
    "\n",
    "if include_metadata == 'gender':\n",
    "    movies = add_gender_metadata(movies)\n",
    "elif include_metadata == 'age':\n",
    "    movies = add_age_metadata(movies)\n",
    "elif include_metadata == 'gender+age':\n",
    "    movies = add_gender_metadata(movies)\n",
    "    movies = add_age_metadata(movies)\n",
    "elif include_metadata == 'gender-age':\n",
    "    movies = add_gender_age_metadata(movies)\n",
    "\n",
    "path = os.path.join(os.getcwd(),\"..\",\"datasets\", \"ml1m.dat\")\n",
    "fo = open(path, \"w\")\n",
    "\n",
    "line = str(movies.shape[0]) + ' '\n",
    "for movie in movies.iterrows():\n",
    "    line += str(movie[0]) + ':' + str(1.0) + ' '\n",
    "line += '\\n'\n",
    "fo.write(line)\n",
    "\n",
    "for user in users.iterrows():\n",
    "    user_index = user[0]\n",
    "    user_id = user[1]['UserID']\n",
    "    \n",
    "    count = 0\n",
    "    doc = ''\n",
    "    \n",
    "    if include_metadata == 'gender':\n",
    "        item = movies[(movies[\"Title\"] == get_gender_item(users.loc[user_index]))].index[0]\n",
    "        doc  += str(item) + \":\" + str(metadata_weight) + ' '\n",
    "        count += 1\n",
    "    elif include_metadata == 'age':\n",
    "        item = movies[(movies[\"Title\"] == get_age_item(users.loc[user_index]))].index[0]\n",
    "        doc  += str(item) + \":\" + str(metadata_weight) + ' '\n",
    "        count += 1\n",
    "    elif include_metadata == 'gender+age':\n",
    "        item = movies[(movies[\"Title\"] == get_gender_item(users.loc[user_index]))].index[0]\n",
    "        doc  += str(item) + \":\" + str(metadata_weight) + ' '\n",
    "        item = movies[(movies[\"Title\"] == get_age_item(users.loc[user_index]))].index[0]\n",
    "        doc  += str(item) + \":\" + str(metadata_weight) + ' '\n",
    "        count += 2\n",
    "    elif include_metadata == 'gender-age':\n",
    "        item = movies[(movies[\"Title\"] == get_gender_age_item(users.loc[user_index]))].index[0]\n",
    "        doc  += str(item) + \":\" + str(metadata_weight) + ' '\n",
    "        count += 1\n",
    "    \n",
    "    user_ratings = ratings.loc[user_id]\n",
    "    mean = user_ratings.mean()\n",
    "    std = user_ratings.std()\n",
    "    user_ratings = user_ratings.subtract(mean)\n",
    "    if std != 0:\n",
    "        user_ratings = user_ratings.divide(std)\n",
    "    mini = np.abs(user_ratings.min()) + 1.0\n",
    "    user_ratings = user_ratings.add(mini).round()\n",
    "    \n",
    "    for movie_id in user_ratings.index:\n",
    "        movie_index = movies[movies[\"MovieID\"] == movie_id].index[0]\n",
    "        doc = doc + str(movie_index) + ':' + str(user_ratings.loc[movie_id]) + \" \"\n",
    "        count += 1\n",
    "    doc = str(count) + \" \" + doc + \"\\n\"\n",
    "\n",
    "    fo.write(doc)\n",
    "fo.close()"
   ]
  },
  {
   "cell_type": "markdown",
   "metadata": {},
   "source": [
    "Load beta"
   ]
  },
  {
   "cell_type": "code",
   "execution_count": 132,
   "metadata": {
    "collapsed": false
   },
   "outputs": [],
   "source": [
    "path = os.path.join(os.getcwd(), \"..\", \"param\", \"ml1m\", \"beta.dat\")\n",
    "beta = pd.read_table(path, sep=\" \", header = None).apply(np.exp, 1)"
   ]
  },
  {
   "cell_type": "code",
   "execution_count": 133,
   "metadata": {
    "collapsed": false
   },
   "outputs": [
    {
     "name": "stdout",
     "output_type": "stream",
     "text": [
      " 0: Popeye | Creature Comforts | Holiday Inn | South Pacific | Shadow of a Doubt | Soapdish | My Own Private Idaho | Coming Home | Jules and Jim (Jules et Jim) | Pet Sematary | American Gigolo | Oliver! | Carnal Knowledge | Last Man Standing | House on Haunted Hill, The | Nosferatu (Nosferatu, eine Symphonie des Grauens) | Funny Face | Hamlet | Boys on the Side | Battleship Potemkin, The (Bronenosets Potyomkin) | \n",
      "\n",
      " 1: Apocalypse Now | Life Is Beautiful (La Vita � bella) | Killing Fields, The | Crimson Tide | Commitments, The | Firm, The | Boogie Nights | Hamlet | Malcolm X | Cyrano de Bergerac | Eat Drink Man Woman | What's Eating Gilbert Grape | Three Days of the Condor | Rob Roy | Copycat | Eraser | Breakdown | River Wild, The | Mis�rables, Les | Six Degrees of Separation | \n",
      "\n",
      " 2: Godfather, The | Godfather: Part II, The | Male - 35-44 | Exorcist, The | Rosemary's Baby | Invasion of the Body Snatchers | American Werewolf in London, An | Clockwork Orange, A | No Way Out | Thing, The | Frankenstein | Chinatown | Omen, The | Dead Zone, The | Manon of the Spring (Manon des sources) | Color of Money, The | Dr. Strangelove or: How I Learned to Stop Worrying and Love the Bomb | Some Kind of Wonderful | Heartbreak Ridge | Hoosiers | \n",
      "\n",
      " 3: Game, The | Basic Instinct | Patriot, The | Gladiator | Shanghai Noon | Dead Again | All That Jazz | Congo | Swiss Family Robinson | Slums of Beverly Hills, The | Brady Bunch Movie, The | Me, Myself and Irene | Inspector Gadget | Dead Ringers | Legends of the Fall | Brazil | Big Kahuna, The | City Slickers II: The Legend of Curly's Gold | Place in the Sun, A | Gone in 60 Seconds | \n",
      "\n",
      " 4: Mission: Impossible 2 | My Cousin Vinny | Cape Fear | Sleepless in Seattle | Man on the Moon | Apartment, The | Secrets & Lies | Frequency | Magnolia | Local Hero | Perfect Storm, The | Chicken Run | Searching for Bobby Fischer | Ghost | Married to the Mob | You've Got Mail | Defending Your Life | Sabrina | Lethal Weapon | Whole Nine Yards, The | \n",
      "\n",
      " 5: Spaceballs | Net, The | Romancing the Stone | Three Amigos! | Clue | Sphere | Event Horizon | Highlander | Mission, The | Soldier | Village of the Damned | Omega Man, The | Mortal Kombat | Scary Movie | Escape from the Planet of the Apes | Virtuosity | Nineteen Eighty-Four | Cat from Outer Space, The | In the Mouth of Madness | Gay Divorcee, The | \n",
      "\n",
      " 6: Dangerous Liaisons | In the Line of Fire | High Fidelity | Broadcast News | Say Anything... | Midnight in the Garden of Good and Evil | Interview with the Vampire | Big Chill, The | Raging Bull | Parenthood | Akira | Six Days Seven Nights | Bridges of Madison County, The | Robin Hood: Prince of Thieves | Three Colors: Blue | Midnight Run | Re-Animator | Lolita | Texas Chainsaw Massacre, The | Happy, Texas | \n",
      "\n",
      " 7: Toy Story 2 | Toy Story | Aladdin | Bug's Life, A | Beauty and the Beast | Babe | Antz | Close Shave, A | Mulan | Tarzan | Sixth Sense, The | Wallace & Gromit: The Best of Aardman Animation | Who Framed Roger Rabbit? | Princess Bride, The | Hercules | American President, The | James and the Giant Peach | Peter Pan | Cinderella | Diva | \n",
      "\n",
      " 8: Back to the Future | Princess Bride, The | E.T. the Extra-Terrestrial | Big | Ferris Bueller's Day Off | Star Wars: Episode IV - A New Hope | Christmas Story, A | Shining, The | Wizard of Oz, The | Ben-Hur | Rain Man | Patton | Mary Poppins | Clockwork Orange, A | Ladyhawke | Toy Story | Splash | Friday | Sound of Music, The | Muppet Movie, The | \n",
      "\n",
      " 9: English Patient, The | Like Water for Chocolate (Como agua para chocolate) | Muriel's Wedding | Welcome to the Dollhouse | Big Night | Howards End | Sweet Hereafter, The | Madness of King George, The | Opposite of Sex, The | Grifters, The | Topsy-Turvy | Piano, The | Clueless | All About My Mother (Todo Sobre Mi Madre) | Some Folks Call It a Sling Blade | Heavenly Creatures | Age of Innocence, The | Buena Vista Social Club | Gods and Monsters | Glengarry Glen Ross | \n",
      "\n",
      "10: North by Northwest | Deer Hunter, The | Strangers on a Train | It Happened One Night | Player, The | Ideal Husband, An | Babe: Pig in the City | Delicatessen | Ice Storm, The | Bullets Over Broadway | Clockwork Orange, A | 101 Dalmatians | Virgin Suicides, The | City of Lost Children, The | Cape Fear | Fearless | Bob Roberts | Brighton Beach Memoirs | Thin Blue Line, The | Dark City | \n",
      "\n",
      "11: And Now for Something Completely Different | Keeping the Faith | Little Women | Bringing Out the Dead | Out of Africa | French Kiss | Pacific Heights | Murphy's Romance | Jumpin' Jack Flash | English Patient, The | Grumpier Old Men | Mission to Mars | Thirty-Two Short Films About Glenn Gould | Mighty Ducks, The | Where the Heart Is | Fools Rush In | It Could Happen to You | World Is Not Enough, The | Soul Man | Dirty Dancing | \n",
      "\n",
      "12: Dave | Tin Cup | Modern Times | Big Daddy | Muppet Movie, The | Unbearable Lightness of Being, The | Dazed and Confused | Dumb & Dumber | General, The | George of the Jungle | Fatal Attraction | Truth About Cats & Dogs, The | Frighteners, The | Fly Away Home | To Be or Not to Be | This Is Spinal Tap | Sixteen Candles | Mission to Mars | Birdcage, The | Rescuers Down Under, The | \n",
      "\n",
      "13: Robocop | Stripes | Ghostbusters | Fly, The | Highlander | Who Framed Roger Rabbit? | Risky Business | Running Man, The | Night of the Living Dead | Moonraker | Klute | Poseidon Adventure, The | Thing, The | Princess Mononoke, The (Mononoke Hime) | Barbarella | Abyss, The | Dogma | Full Metal Jacket | Night Shift | Pelican Brief, The | \n",
      "\n",
      "14: Citizen Kane | Gone with the Wind | Maltese Falcon, The | Graduate, The | Rear Window | To Kill a Mockingbird | Lawrence of Arabia | African Queen, The | Double Indemnity | French Connection, The | Breakfast at Tiffany's | On the Waterfront | Bonnie and Clyde | Doctor Zhivago | Key Largo | Touch of Evil | Grapes of Wrath, The | American Graffiti | Third Man, The | Manhattan | \n",
      "\n",
      "15: 2001: A Space Odyssey | Aliens | Planet of the Apes | Monty Python's Life of Brian | Batman | Army of Darkness | Superman | Star Trek III: The Search for Spock | Mad Max 2 (a.k.a. The Road Warrior) | Cocoon | Star Trek: The Motion Picture | Batman Returns | Alien� | Bringing Up Baby | From Russia with Love | Stuart Little | Willy Wonka and the Chocolate Factory | Buffy the Vampire Slayer | Young Frankenstein | M*A*S*H | \n",
      "\n",
      "16: Do the Right Thing | Lone Star | In the Heat of the Night | Red Dawn | Last Picture Show, The | Jacob's Ladder | Name of the Rose, The | Sleepers | Perfect World, A | Smoke | Wolf | Player, The | Christine | Up in Smoke | Jungle Fever | Object of My Affection, The | Pulp Fiction | L.A. Confidential | Rosencrantz and Guildenstern Are Dead | Walkabout | \n",
      "\n",
      "17: Midnight Cowboy | Dogma | Mrs. Doubtfire | Sliding Doors | Civil Action, A | Analyze This | Boogie Nights | Pushing Tin | Thomas Crown Affair, The | Reality Bites | Truth About Cats & Dogs, The | Ace Ventura: Pet Detective | Cradle Will Rock, The | Rainmaker, The | Client, The | Phenomenon | Prince of Tides, The | Rudy | Paper, The | Mickey Blue Eyes | \n",
      "\n",
      "18: Monty Python and the Holy Grail | Fish Called Wanda, A | Raising Arizona | Animal House | Butch Cassidy and the Sundance Kid | Caddyshack | Blazing Saddles | Young Frankenstein | Trading Places | Princess Bride, The | Full Monty, The | Groundhog Day | Unforgiven | Natural, The | Breakfast Club, The | To Catch a Thief | Crimes and Misdemeanors | Indiana Jones and the Last Crusade | Beetlejuice | Little Big Man | \n",
      "\n",
      "19: Manchurian Candidate, The | Professional, The (a.k.a. Leon: The Professional) | Witness | Annie Hall | Dial M for Murder | Straight Story, The | My Life as a Dog (Mitt liv som hund) | Dr. Strangelove or: How I Learned to Stop Worrying and Love the Bomb | Last Temptation of Christ, The | Room with a View, A | End of the Affair, The | McCabe & Mrs. Miller | Metropolis | Kagemusha | Female - 50-55 | Mulholland Falls | Howling, The | What's Love Got to Do with It? | Clan of the Cave Bear, The | Badlands | \n",
      "\n",
      "20: Terminator, The | Alien | Blade Runner | Star Wars: Episode IV - A New Hope | Predator | Jaws | Time Bandits | Seven Samurai (The Magnificent Seven) (Shichinin no samurai) | Star Trek: The Wrath of Khan | Mad Max | Goldfinger | Star Trek IV: The Voyage Home | Westworld | Excalibur | Escape from New York | Good, The Bad and The Ugly, The | Adventures of Buckaroo Bonzai Across the 8th Dimension, The | Male - 45-49 | Strange Days | Shadowlands | \n",
      "\n",
      "21: Fugitive, The | Die Hard | Raiders of the Lost Ark | Hunt for Red October, The | Matrix, The | Terminator 2: Judgment Day | Saving Private Ryan | Star Wars: Episode V - The Empire Strikes Back | Star Wars: Episode VI - Return of the Jedi | Untouchables, The | Braveheart | Patriot Games | Rocky | Total Recall | Jurassic Park | Clear and Present Danger | Thelma & Louise | Top Gun | Ronin | Midnight Run | \n",
      "\n",
      "22: Jerry Maguire | Leaving Las Vegas | Truman Show, The | Cinema Paradiso | Postino, Il (The Postman) | Elizabeth | Chasing Amy | Philadelphia | Crying Game, The | Joy Luck Club, The | Cider House Rules, The | Clerks | Shine | King and I, The | Hud | William Shakespeare's Romeo and Juliet | High Fidelity | Edward Scissorhands | In the Name of the Father | American History X | \n",
      "\n",
      "23: Indiana Jones and the Last Crusade | Indiana Jones and the Temple of Doom | Lethal Weapon | Blues Brothers, The | Lethal Weapon 2 | Butch Cassidy and the Sundance Kid | Easy Rider | Crocodile Dundee | Evil Dead II (Dead By Dawn) | Dr. No | Jewel of the Nile, The | Harold and Maude | Deliverance | Secret of NIMH, The | Golden Child, The | Angel Heart | Young Guns | Lethal Weapon 4 | Dick Tracy | Man for All Seasons, A | \n",
      "\n",
      "24: Tron | Back to the Future Part II | Dune | Star Trek: First Contact | Dark Crystal, The | NeverEnding Story, The | Goonies, The | Hook | Beetlejuice | Jumanji | Starship Troopers | Labyrinth | Willow | Superman II | Willy Wonka and the Chocolate Factory | Mask, The | Star Trek: The Wrath of Khan | Rocky Horror Picture Show, The | Mad Max Beyond Thunderdome | Batman Forever | \n",
      "\n",
      "25: Speed | Face/Off | Thomas Crown Affair, The | Negotiator, The | Gattaca | Deep Impact | X-Files: Fight the Future, The | Tomorrow Never Dies | Sneakers | Crow, The | Rock, The | X-Men | Mars Attacks! | Heat | Natural Born Killers | Lawnmower Man, The | Twelve Monkeys | End of Days | Batman & Robin | Fallen | \n",
      "\n",
      "26: Wrong Trousers, The | Wayne's World | When Harry Met Sally... | Pee-wee's Big Adventure | Mr. Mom | Wedding Singer, The | L.A. Story | Austin Powers: International Man of Mystery | Airplane! | Cabaret | Addams Family, The | Sister Act | Home Alone | Gremlins | Little Shop of Horrors | Vacation | Hudsucker Proxy, The | Good Morning, Vietnam | So I Married an Axe Murderer | Weird Science | \n",
      "\n",
      "27: Brazil | Bridge on the River Kwai, The | Boat, The (Das Boot) | Last Emperor, The | Body Heat | Marathon Man | Glory | North by Northwest | Vertigo | Inherit the Wind | Guys and Dolls | Shallow Grave | Sling Blade | Mariachi, El | Richard III | Searching for Bobby Fischer | Three Kings | Smilla's Sense of Snow | In the Company of Men | Dead Calm | \n",
      "\n",
      "28: Taxi Driver | Chinatown | Birds, The | Female - 25-34 | Blue Velvet | Sleeper | Sunset Blvd. (a.k.a. Sunset Boulevard) | Elephant Man, The | Five Easy Pieces | Man Who Would Be King, The | My Left Foot | Nashville | Midnight Express | Risky Business | East of Eden | My Man Godfrey | Body Snatchers | Nights of Cabiria (Le Notti di Cabiria) | Grifters, The | City of Angels | \n",
      "\n",
      "29: L.A. Confidential | Pulp Fiction | Usual Suspects, The | Reservoir Dogs | Seven (Se7en) | Sling Blade | GoodFellas | Hoop Dreams | Being John Malkovich | Insider, The | Simple Plan, A | Three Kings | Out of Sight | Nikita (La Femme Nikita) | Dead Man Walking | Twelve Monkeys | Fight Club | Heat | Talented Mr. Ripley, The | Species | \n",
      "\n",
      "30: Sixth Sense, The | Schindler's List | Silence of the Lambs, The | Fargo | Shawshank Redemption, The | American Beauty | Shakespeare in Love | Saving Private Ryan | One Flew Over the Cuckoo's Nest | Good Will Hunting | Apollo 13 | Braveheart | Right Stuff, The | Star Wars: Episode IV - A New Hope | Star Wars: Episode VI - Return of the Jedi | GoodFellas | Star Wars: Episode V - The Empire Strikes Back | Green Mile, The | Erin Brockovich | Raiders of the Lost Ark | \n",
      "\n",
      "31: Psycho | Jaws | Great Escape, The | King Kong | Alien | Stalag 17 | African Queen, The | Good, The Bad and The Ugly, The | Treasure of the Sierra Madre, The | Three Colors: Red | True Grit | Fly, The | Wings of Desire (Der Himmel �ber Berlin) | Fistful of Dollars, A | Goldfinger | Godfather, The | Thin Man, The | Pale Rider | Forbidden Planet | Dr. No | \n",
      "\n",
      "32: Bull Durham | Stand by Me | Heathers | Amadeus | Fast Times at Ridgemont High | Dead Poets Society | Breakfast Club, The | Driving Miss Daisy | Gandhi | Henry V | Platoon | Ed Wood | Chariots of Fire | Star Wars: Episode V - The Empire Strikes Back | Raiders of the Lost Ark | Being There | Close Encounters of the Third Kind | Graduate, The | Kramer Vs. Kramer | Serpico | \n",
      "\n",
      "33: Sleepy Hollow | Entrapment | Scream | Talented Mr. Ripley, The | Runaway Bride | Desperately Seeking Susan | 10 Things I Hate About You | Office Space | Devil's Advocate, The | Stir of Echoes | Erin Brockovich | She's All That | I.Q. | Ghostbusters | Who Framed Roger Rabbit? | Scream 2 | In & Out | Misery | Mosquito Coast, The | Primal Fear | \n",
      "\n",
      "34: Male - 25-34 | Full Monty, The | Apostle, The | Secret of Roan Inish, The | Almost Famous | American Beauty | Quiet Man, The | Single White Female | Evita | Happy Gilmore | Billy Madison | Men in Black | Once Upon a Time in the West | Winslow Boy, The | Brothers McMullen, The | Muse, The | Nightmare Before Christmas, The | Celebration, The (Festen) | Out of the Past | Muppets From Space | \n",
      "\n",
      "35: This Is Spinal Tap | Dirty Dozen, The | Nutty Professor, The | Hard-Boiled (Lashou shentan) | Short Cuts | Killer, The (Die xue shuang xiong) | Wild Bunch, The | Bulworth | Bottle Rocket | Fright Night | Jaws 2 | First Blood | Hang 'em High | Conquest of the Planet of the Apes | When We Were Kings | Kids in the Hall: Brain Candy | 8MM | Ninth Gate, The | Cocoon: The Return | Siege, The | \n",
      "\n",
      "36: American Pie | Male - 18-24 | Blair Witch Project, The | Eyes Wide Shut | General's Daughter, The | Arlington Road | Kingpin | Arachnophobia | Cruel Intentions | Elizabeth | Prince of Egypt, The | Stigmata | Air Force One | Scream 3 | Agnes of God | Haunting, The | Summer of Sam | Magnolia | Muppet Treasure Island | Exotica | \n",
      "\n",
      "37: Austin Powers: The Spy Who Shagged Me | Iron Giant, The | American President, The | Wonder Boys | Year of Living Dangerously | Bananas | Messenger: The Story of Joan of Arc, The | Doctor Dolittle | Bowfinger | Top Hat | Fabulous Baker Boys, The | Big Trouble in Little China | Pitch Black | Laura | Wild Wild West | Bug's Life, A | History of the World: Part I | Flamingo Kid, The | Can't Hardly Wait | Mystery Men | \n",
      "\n",
      "38: Wizard of Oz, The | Diner | Sting, The | Some Like It Hot | Network | Dog Day Afternoon | Mary Poppins | When Harry Met Sally... | Blood Simple | Big Chill, The | Christmas Story, A | Big | Ordinary People | Ferris Bueller's Day Off | Hairspray | Snow White and the Seven Dwarfs | Blues Brothers, The | Purple Rose of Cairo, The | Sound of Music, The | One Flew Over the Cuckoo's Nest | \n",
      "\n",
      "39: Lion King, The | Bone Collector, The | Air Force One | 101 Dalmatians | 13th Warrior, The | World Is Not Enough, The | Rock, The | Tombstone | Ransom | Mummy, The | Blade | Waterworld | Unforgiven | For Love of the Game | Little Mermaid, The | Thirteenth Floor, The | Space Jam | Dragonheart | Fox and the Hound, The | Ghost and the Darkness, The | \n",
      "\n",
      "40: Casablanca | Moonstruck | Rebecca | Room with a View, A | For Your Eyes Only | Drugstore Cowboy | Outlaw Josey Wales, The | Great Dictator, The | Raise the Red Lantern | Out of Africa | Everyone Says I Love You | High Plains Drifter | Prizzi's Honor | Female - 45-49 | Sense and Sensibility | Marty | Meet Me in St. Louis | Jeremiah Johnson | Lady Eve, The | Take the Money and Run | \n",
      "\n",
      "41: Vertigo | Godfather: Part III, The | F/X | Male - 50-55 | Limey, The | Repo Man | Radio Days | Jungle Book, The | Grifters, The | Thomas Crown Affair, The | Birdy | Barry Lyndon | Flashdance | 2 Days in the Valley | Dying Young | Against All Odds | Big Sleep, The | My Fellow Americans | Boxing Helena | Little Princess, The | \n",
      "\n",
      "42: Being John Malkovich | Election | Rushmore | American Beauty | South Park: Bigger, Longer and Uncut | Fight Club | Boys Don't Cry | Ghostbusters | Galaxy Quest | Run Lola Run (Lola rennt) | Doors, The | Roger & Me | Go | Bug's Life, A | Little Voice | Dark City | Abyss, The | Gods and Monsters | Pi | Who Framed Roger Rabbit? | \n",
      "\n",
      "43: Singin' in the Rain | Fantasia | Philadelphia Story, The | Lady and the Tramp | It's a Wonderful Life | M*A*S*H | Arsenic and Old Lace | Annie Hall | Producers, The | Field of Dreams | Cool Hand Luke | 12 Angry Men | Jungle Book, The | Streetcar Named Desire, A | Notorious | Duck Soup | Rocky Horror Picture Show, The | Hard Day's Night, A | Victor/Victoria | Women on the Verge of a Nervous Breakdown | \n",
      "\n",
      "44: As Good As It Gets | Few Good Men, A | Forrest Gump | League of Their Own, A | Groundhog Day | Fisher King, The | Pleasantville | Thelma & Louise | Awakenings | Get Shorty | Dances with Wolves | Fugitive, The | Waking Ned Devine | Shawshank Redemption, The | Quiz Show | Birdcage, The | Spanish Prisoner, The | Ed Wood | Strictly Ballroom | True Lies | \n",
      "\n",
      "45: Full Metal Jacket | GoldenEye | Halloween | Spy Who Loved Me, The | City Lights | True Romance | Ghost in the Shell (Kokaku kidotai) | Long Kiss Goodnight, The | Where Eagles Dare | Road Trip | On Her Majesty's Secret Service | Shining, The | On the Town | Office Space | Saint, The | Great Santini, The | Presidio, The | Friday the 13th | Man with the Golden Gun, The | Wild Things | \n",
      "\n",
      "46: Men in Black | Independence Day (ID4) | Matrix, The | Star Wars: Episode I - The Phantom Menace | Jurassic Park | Fifth Element, The | Terminator 2: Judgment Day | Total Recall | Mission: Impossible | Armageddon | Star Wars: Episode VI - Return of the Jedi | Twister | Lost World: Jurassic Park, The | Star Trek VI: The Undiscovered Country | Stargate | Con Air | Outbreak | Star Trek: Insurrection | Star Wars: Episode V - The Empire Strikes Back | Back to the Future Part III | \n",
      "\n",
      "47: U-571 | Donnie Brasco | Big Lebowski, The | JFK | Harvey | Real Genius | Grosse Pointe Blank | Harold and Maude | Return to Me | Smoke Signals | Liar Liar | Addams Family Values | Absolute Power | Nightmare on Elm Street, A | Casino | Jackie Brown | Dead Man Walking | Sommersby | Once Upon a Time in America | Singles | \n",
      "\n",
      "48: Four Weddings and a Funeral | Pretty Woman | Romancing the Stone | Much Ado About Nothing | Sense and Sensibility | Clueless | My Best Friend's Wedding | Notting Hill | Little Mermaid, The | Splash | Emma | Moonstruck | Grease | Ghost | Arthur | While You Were Sleeping | Witness | Sixteen Candles | Titanic | Speed | \n",
      "\n",
      "49: Rush Hour | American in Paris, An | Predator 2 | Hope Floats | Bicycle Thief, The (Ladri di biciclette) | Devil in a Blue Dress | Titanic | Lock, Stock & Two Smoking Barrels | Drop Dead Gorgeous | Gaslight | White Men Can't Jump | Mercury Rising | Grease 2 | Devil's Advocate, The | Sullivan's Travels | Nighthawks | Sneakers | Death Becomes Her | Fly II, The | Very Bad Things | \n",
      "\n"
     ]
    }
   ],
   "source": [
    "num_words_to_print = 20\n",
    "for topic in range(beta.shape[0]):\n",
    "    top_words = beta.loc[topic].sort_values(ascending=False).index\n",
    "    genre_count = pd.DataFrame(np.zeros(len(genres)), index = genres)\n",
    "    \n",
    "    topic_str = ''\n",
    "    topic_str += '%2d'%topic\n",
    "    topic_str += ': '\n",
    "    \n",
    "    weights = False\n",
    "    \n",
    "    for i in range(num_words_to_print):\n",
    "        movie_name =  movies.loc[top_words[i]][\"Title\"]\n",
    "        movie_name = movie_name[:-7] if movie_name[-1] == ')' else movie_name\n",
    "        topic_str += movie_name \n",
    "        if weights:\n",
    "            topic_str += '(' + str(beta.loc[topic][top_words[i]].round(3)) +  ')'\n",
    "        topic_str += ' | '\n",
    "    print(topic_str)\n",
    "    print()"
   ]
  },
  {
   "cell_type": "code",
   "execution_count": 134,
   "metadata": {
    "collapsed": false
   },
   "outputs": [],
   "source": [
    "path = os.path.join(os.getcwd(), \"..\", \"param\", \"ml1m\", \"theta.dat\")\n",
    "theta = pd.read_table(path, sep=\" \", header = None).apply(np.exp, 1)"
   ]
  },
  {
   "cell_type": "code",
   "execution_count": 147,
   "metadata": {
    "collapsed": false
   },
   "outputs": [
    {
     "data": {
      "text/plain": [
       "UserID          766\n",
       "Gender            F\n",
       "Age              25\n",
       "Occupation        7\n",
       "Zip-code      95128\n",
       "Name: 765, dtype: object"
      ]
     },
     "execution_count": 147,
     "metadata": {},
     "output_type": "execute_result"
    }
   ],
   "source": [
    "chosen_one = 765\n",
    "users.loc[chosen_one]"
   ]
  },
  {
   "cell_type": "code",
   "execution_count": 148,
   "metadata": {
    "collapsed": false
   },
   "outputs": [
    {
     "name": "stdout",
     "output_type": "stream",
     "text": [
      "Princess Bride, The | Monty Python and the Holy Grail | Back to the Future | Fish Called Wanda, A | Raising Arizona | Animal House | Butch Cassidy and the Sundance Kid | Caddyshack | Romancing the Stone | E.T. the Extra-Terrestrial | Big | Breakfast Club, The | Ferris Bueller's Day Off | Stand by Me | Blazing Saddles | Young Frankenstein | Trading Places | Dangerous Liaisons | Wizard of Oz, The | Four Weddings and a Funeral | Bull Durham | Full Monty, The | Christmas Story, A | Groundhog Day | High Fidelity | In the Line of Fire | Splash | Star Wars: Episode IV - A New Hope | Spaceballs | Pretty Woman | Unforgiven | Broadcast News | Crying Game, The | Say Anything... | Shining, The | Heathers | Good Morning, Vietnam | Much Ado About Nothing | Sense and Sensibility | Big Chill, The | When Harry Met Sally... | Amadeus | Clueless | Natural, The | Rain Man | Mary Poppins | Midnight in the Garden of Good and Evil | Taxi Driver | To Catch a Thief | Little Mermaid, The | Dead Poets Society | Airplane! | My Best Friend's Wedding | Fast Times at Ridgemont High | Moonstruck | Ghost | Beetlejuice | Parenthood | Notting Hill | Muppet Movie, The | Ben-Hur | Raiders of the Lost Ark | Driving Miss Daisy | Interview with the Vampire | Indiana Jones and the Last Crusade | Casablanca | Net, The | Little Big Man | Three Amigos! | Star Wars: Episode V - The Empire Strikes Back | Raging Bull | While You Were Sleeping | Do the Right Thing | Vertigo | Gandhi | Grease | Chinatown | Henry V | Toy Story | Crimes and Misdemeanors | Emma | Godfather: Part III, The | Patton | Arthur | Titanic | Wrong Trousers, The | Platoon | Wayne's World | Sting, The | Ed Wood | Gods Must Be Crazy, The | Being There | Clockwork Orange, A | Chariots of Fire | Ladyhawke | Sound of Music, The | Men in Black | Clue | Deliverance | Working Girl | \n"
     ]
    }
   ],
   "source": [
    "most_popular = beta.multiply(theta.loc[chosen_one], 0).sum().sort_values(ascending=False).index\n",
    "pop_str = ''\n",
    "for i in range(100):\n",
    "    movie_name =  movies.loc[most_popular[i]][\"Title\"]\n",
    "    movie_name = movie_name[:-7] if movie_name[-1] == ')' else movie_name\n",
    "    pop_str += movie_name + ' | '\n",
    "print(pop_str)"
   ]
  },
  {
   "cell_type": "code",
   "execution_count": 137,
   "metadata": {
    "collapsed": false
   },
   "outputs": [
    {
     "name": "stdout",
     "output_type": "stream",
     "text": [
      "Male - 25-34 | Casablanca | Godfather, The | This Is Spinal Tap | Star Wars: Episode IV - A New Hope | American Beauty | Godfather: Part II, The | Vertigo | Taxi Driver | Princess Bride, The | Back to the Future | L.A. Confidential | Pulp Fiction | Chinatown | Ghostbusters | Being John Malkovich | Star Wars: Episode V - The Empire Strikes Back | Toy Story | North by Northwest | Full Metal Jacket | Alien | E.T. the Extra-Terrestrial | Who Framed Roger Rabbit? | Terminator, The | Indiana Jones and the Last Crusade | Raiders of the Lost Ark | Austin Powers: The Spy Who Shagged Me | Babe | Dr. Strangelove or: How I Learned to Stop Worrying and Love the Bomb | Professional, The (a.k.a. Leon: The Professional) | Manchurian Candidate, The | Witness | Sixth Sense, The | Men in Black | Groundhog Day | Bug's Life, A | Dirty Dozen, The | Gladiator | Star Wars: Episode VI - Return of the Jedi | Usual Suspects, The | Apocalypse Now | Godfather: Part III, The | Jaws | Full Monty, The | Wizard of Oz, The | Fargo | Romancing the Stone | Game, The | Butch Cassidy and the Sundance Kid | American Pie | Shakespeare in Love | Matrix, The | Brazil | Blade Runner | Forrest Gump | Saving Private Ryan | Spaceballs | Toy Story 2 | Psycho | Annie Hall | Lethal Weapon | English Patient, The | Female - 25-34 | Dave | Monty Python and the Holy Grail | Life Is Beautiful (La Vita � bella) | Sneakers | Do the Right Thing | High Fidelity | Silence of the Lambs, The | Fugitive, The | Shawshank Redemption, The | Twelve Monkeys | Speed | Clockwork Orange, A | Out of Africa | Birds, The | Schindler's List | Dangerous Liaisons | Player, The | GoldenEye | Grifters, The | Boat, The (Das Boot) | Abyss, The | Big | Terminator 2: Judgment Day | Blues Brothers, The | Moonstruck | Ferris Bueller's Day Off | Rock, The | Robocop | American President, The | Aladdin | Lion King, The | In the Line of Fire | Highlander | Die Hard | Male - 35-44 | Shining, The | Keeping the Faith | \n"
     ]
    }
   ],
   "source": [
    "most_popular = beta.sum().sort_values(ascending=False).index\n",
    "pop_str = ''\n",
    "for i in range(100):\n",
    "    movie_name =  movies.loc[most_popular[i]][\"Title\"]\n",
    "    movie_name = movie_name[:-7] if movie_name[-1] == ')' else movie_name\n",
    "    pop_str += movie_name + ' | '\n",
    "print(pop_str)"
   ]
  },
  {
   "cell_type": "code",
   "execution_count": null,
   "metadata": {
    "collapsed": true
   },
   "outputs": [],
   "source": []
  },
  {
   "cell_type": "code",
   "execution_count": null,
   "metadata": {
    "collapsed": false
   },
   "outputs": [],
   "source": [
    "path = os.path.join(os.getcwd(), \"..\", \"param\", \"ml1m\", \"theta.dat\")\n",
    "gamma = pd.read_table(path, sep=\" \", header = None)\n",
    "gamma.loc[8].argmax()"
   ]
  },
  {
   "cell_type": "code",
   "execution_count": null,
   "metadata": {
    "collapsed": false
   },
   "outputs": [],
   "source": [
    "for gen_doc in gender_docs:\n",
    "    topic = gender_docs[gen_doc]\n",
    "    \n",
    "    top_words = beta.loc[topic].sort_values(ascending=False).index\n",
    "    genre_count = pd.DataFrame(np.zeros(len(genres)), index = genres)\n",
    "\n",
    "    if topic < 10:\n",
    "        print topic, \" :\" ,\n",
    "    else:\n",
    "        print topic , \":\" , \n",
    "        \n",
    "    print gen_doc, \" : \"\n",
    "\n",
    "    for i in xrange(50):\n",
    "        movie_name =  movies.loc[top_words[i]][\"Title\"]\n",
    "        if movie_name[-1] == ')':\n",
    "            print movie_name[:-7], ' |', \n",
    "        else:\n",
    "            print movie_name, ' |', \n",
    "\n",
    "    print\n",
    "    print"
   ]
  },
  {
   "cell_type": "code",
   "execution_count": null,
   "metadata": {
    "collapsed": false
   },
   "outputs": [],
   "source": [
    "topic = 6\n",
    "top_words = beta.loc[topic].sort_values(ascending=False).index\n",
    "genre_count = pd.DataFrame(np.zeros(len(genres)), index = genres)\n",
    "\n",
    "if topic < 10:\n",
    "    print topic, \" :\" ,\n",
    "else:\n",
    "    print topic , \":\" , \n",
    "\n",
    "for i in xrange(200):\n",
    "    movie_name =  movies.loc[top_words[i]][\"Title\"]\n",
    "    if movie_name[-1] == ')':\n",
    "        print movie_name[:-7], '(', beta.loc[topic][top_words[i]].round(3),  ') |', \n",
    "    else:\n",
    "        print movie_name, ' |', \n",
    "\n",
    "print\n",
    "print"
   ]
  },
  {
   "cell_type": "code",
   "execution_count": null,
   "metadata": {
    "collapsed": false
   },
   "outputs": [],
   "source": [
    "fig, ax = plt.subplots(figsize=(20,10))\n",
    "\n",
    "ind = np.arange(len(genres)) \n",
    "width = 1.0\n",
    "\n",
    "topic = 29\n",
    "\n",
    "num_items = 50\n",
    "\n",
    "top_words = beta.loc[topic].sort_values(ascending=False).index\n",
    "genre_count = pd.DataFrame(np.zeros(len(genres)), index = genres)\n",
    "\n",
    "for i in xrange(num_items):\n",
    "    for gn in movie_names.loc[movies[top_words[i]]][1].split('|'):\n",
    "        genre_count.loc[gn] = genre_count.loc[gn] + 1\n",
    "\n",
    "ax.bar(ind, genre_count.values, width=width, color='r')\n",
    "ind = ind + width\n",
    "\n",
    "ax.set_ylabel('Count')\n",
    "ax.set_xlabel('Genre')\n",
    "ax.set_title('Genre Counts per Topic')\n",
    "ax.set_xticks(ind-0.5)\n",
    "xlabels = []\n",
    "for item in genres:\n",
    "    xlabels.append(item)\n",
    "ax.set_xticklabels(xlabels)\n",
    "plt.show()\n",
    "\n",
    "for i in xrange(num_items):\n",
    "        print movie_names.loc[movies[top_words[i]]][0][:-7], ' |', "
   ]
  },
  {
   "cell_type": "code",
   "execution_count": null,
   "metadata": {
    "collapsed": true
   },
   "outputs": [],
   "source": []
  }
 ],
 "metadata": {
  "anaconda-cloud": {},
  "kernelspec": {
   "display_name": "Python [conda root]",
   "language": "python",
   "name": "conda-root-py"
  },
  "language_info": {
   "codemirror_mode": {
    "name": "ipython",
    "version": 3
   },
   "file_extension": ".py",
   "mimetype": "text/x-python",
   "name": "python",
   "nbconvert_exporter": "python",
   "pygments_lexer": "ipython3",
   "version": "3.5.2"
  }
 },
 "nbformat": 4,
 "nbformat_minor": 0
}

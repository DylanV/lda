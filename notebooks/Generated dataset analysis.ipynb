{
 "cells": [
  {
   "cell_type": "code",
   "execution_count": 1,
   "metadata": {
    "collapsed": false
   },
   "outputs": [],
   "source": [
    "import os\n",
    "import matplotlib.pyplot as plt\n",
    "import matplotlib.cm as cm\n",
    "import numpy as np\n",
    "import pandas as pd\n",
    "%matplotlib inline"
   ]
  },
  {
   "cell_type": "code",
   "execution_count": 43,
   "metadata": {
    "collapsed": true
   },
   "outputs": [],
   "source": [
    "path = os.path.join(os.getcwd(), \"..\", \"param\", \"dummy\", \"beta.dat\")\n",
    "beta = pd.read_table(path, sep=\" \", header = None)"
   ]
  },
  {
   "cell_type": "code",
   "execution_count": null,
   "metadata": {
    "collapsed": false
   },
   "outputs": [],
   "source": [
    "num_topics = beta.shape[0]\n",
    "num_words = beta.shape[1]\n",
    "\n",
    "plt.figure(1, figsize=(10,10))\n",
    "colors = iter(cm.rainbow(np.linspace(0, 1, num_topics+1)))\n",
    "word_ids = xrange(num_words)\n",
    "\n",
    "for k in xrange(num_topics):\n",
    "    plt.bar(word_ids, beta.loc[k].values,  color=next(colors), alpha=0.4, edgecolor = \"none\")\n",
    "    \n",
    "plt.xlim(0, num_words)\n",
    "plt.show()"
   ]
  },
  {
   "cell_type": "code",
   "execution_count": 42,
   "metadata": {
    "collapsed": false
   },
   "outputs": [
    {
     "data": {
      "image/png": "[encoded data removed]",
      "text/plain": [
       "<matplotlib.figure.Figure at 0x1099d1e10>"
      ]
     },
     "metadata": {},
     "output_type": "display_data"
    }
   ],
   "source": [
    "num_topics = beta.shape[0]\n",
    "num_words = beta.shape[1]\n",
    "\n",
    "plt.figure(1, figsize=(10,10))\n",
    "colors = iter(cm.rainbow(np.linspace(0, 1, num_topics+1)))\n",
    "word_ids = xrange(num_words)\n",
    "\n",
    "plt.bar(word_ids, beta.loc[1].values,  color=next(colors), alpha=0.4, edgecolor = \"none\")\n",
    "    \n",
    "plt.xlim(0, num_words)\n",
    "plt.show()"
   ]
  },
  {
   "cell_type": "code",
   "execution_count": null,
   "metadata": {
    "collapsed": false
   },
   "outputs": [],
   "source": [
    "for i in xrange(100):\n",
    "    path = os.path.join(os.getcwd(), \"..\", \"param\", \"dummy\", str(i)+\".dat\")\n",
    "    beta = pd.read_table(path, sep=\" \", header = None)\n",
    "\n",
    "    num_topics = beta.shape[0]\n",
    "    num_words = beta.shape[1]\n",
    "\n",
    "    plt.figure(1, figsize=(10,10))\n",
    "    colors = iter(cm.rainbow(np.linspace(0, 1, num_topics+1)))\n",
    "    word_ids = xrange(num_words)\n",
    "\n",
    "    for k in xrange(num_topics):\n",
    "        plt.bar(word_ids, beta.loc[k].values,  color=next(colors), alpha=0.4, edgecolor = \"none\")\n",
    "\n",
    "    plt.xlim(0, num_words)\n",
    "    path = os.path.join(os.getcwd(), \"img\", str(i)+\".png\")\n",
    "    plt.savefig(path)"
   ]
  }
 ],
 "metadata": {
  "kernelspec": {
   "display_name": "Python 2",
   "language": "python",
   "name": "python2"
  },
  "language_info": {
   "codemirror_mode": {
    "name": "ipython",
    "version": 2
   },
   "file_extension": ".py",
   "mimetype": "text/x-python",
   "name": "python",
   "nbconvert_exporter": "python",
   "pygments_lexer": "ipython2",
   "version": "2.7.10"
  }
 },
 "nbformat": 4,
 "nbformat_minor": 0
}

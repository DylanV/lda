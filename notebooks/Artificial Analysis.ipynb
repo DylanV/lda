{
 "cells": [
  {
   "cell_type": "code",
   "execution_count": 68,
   "metadata": {
    "collapsed": true
   },
   "outputs": [],
   "source": [
    "import numpy as np\n",
    "import matplotlib.pyplot as plt\n",
    "import matplotlib.cm as cm\n",
    "import pandas as pd\n",
    "import os\n",
    "%matplotlib inline"
   ]
  },
  {
   "cell_type": "markdown",
   "metadata": {},
   "source": [
    "The word topic probability matrix"
   ]
  },
  {
   "cell_type": "code",
   "execution_count": 69,
   "metadata": {
    "collapsed": false
   },
   "outputs": [
    {
     "data": {
      "text/plain": [
       "array([[ 0.2,  0.2,  0.5,  0. ,  0. ,  0. ,  0. ,  0. ,  0. ,  0.1],\n",
       "       [ 0. ,  0. ,  0. ,  0.3,  0.3,  0.3,  0. ,  0. ,  0. ,  0.1],\n",
       "       [ 0. ,  0. ,  0. ,  0. ,  0. ,  0. ,  0.2,  0.3,  0.4,  0.1]])"
      ]
     },
     "execution_count": 69,
     "metadata": {},
     "output_type": "execute_result"
    }
   ],
   "source": [
    "Pword = np.zeros((3,10))\n",
    "Pword[0][0] = 0.2\n",
    "Pword[0][1] = 0.2\n",
    "Pword[0][2] = 0.5\n",
    "Pword[0][9] = 0.1\n",
    "\n",
    "Pword[1][3] = 0.3\n",
    "Pword[1][4] = 0.3\n",
    "Pword[1][5] = 0.3\n",
    "Pword[1][9] = 0.1\n",
    "\n",
    "Pword[2][6] = 0.2\n",
    "Pword[2][7] = 0.3\n",
    "Pword[2][8] = 0.4\n",
    "Pword[2][9] = 0.1\n",
    "Pword"
   ]
  },
  {
   "cell_type": "code",
   "execution_count": 70,
   "metadata": {
    "collapsed": false
   },
   "outputs": [
    {
     "data": {
      "image/png": "[encoded data removed]",
      "text/plain": [
       "<matplotlib.figure.Figure at 0x1171806a0>"
      ]
     },
     "metadata": {},
     "output_type": "display_data"
    }
   ],
   "source": [
    "num_topics = 3\n",
    "num_words = 10\n",
    "\n",
    "plt.figure(1, figsize=(10,10))\n",
    "colors = iter(cm.rainbow(np.linspace(0, 1, num_topics+1)))\n",
    "word_ids = range(num_words)\n",
    "\n",
    "for k in range(num_topics):\n",
    "    plt.bar(word_ids, Pword[k], color=next(colors), alpha=0.4, edgecolor = \"none\")\n",
    "    \n",
    "plt.xlim(0, num_words)\n",
    "plt.ylim(0,1)\n",
    "plt.show()"
   ]
  },
  {
   "cell_type": "markdown",
   "metadata": {},
   "source": [
    "Generate documents"
   ]
  },
  {
   "cell_type": "code",
   "execution_count": 86,
   "metadata": {
    "collapsed": false
   },
   "outputs": [],
   "source": [
    "alpha = (0.1, 0.1, 0.1)\n",
    "# alpha = (1.0, 1.0, 1.0)\n",
    "numDocs = 1000\n",
    "numWords = 10\n",
    "\n",
    "corpus_path = os.path.join(os.getcwd(), \"..\", \"datasets\", \"artificial.dat\")\n",
    "fo = open(corpus_path, \"w\")\n",
    "\n",
    "for d in range(numDocs):\n",
    "    topics = np.random.dirichlet(alpha, 1)\n",
    "    word_counts = np.zeros(10)\n",
    "    for w in range(numWords):\n",
    "        word_topic = np.random.multinomial(1, topics[0].round(2), size=1)\n",
    "        topic =  word_topic[0].nonzero()[0][0]\n",
    "        word = np.random.multinomial(1, Pword[topic], size=1)[0].nonzero()[0][0]\n",
    "        word_counts[word] = word_counts[word] + 1\n",
    "    \n",
    "    doc_line = str(len(word_counts.nonzero()[0])) + \" \"\n",
    "    for w in range(10):\n",
    "        if(word_counts[w] != 0):\n",
    "            doc_line += str(w) + \":\" + str(int(word_counts[w])) + \" \"\n",
    "    if(d != numDocs - 1):\n",
    "        doc_line += \"\\n\"\n",
    "    fo.write(doc_line)\n",
    "fo.close()"
   ]
  },
  {
   "cell_type": "markdown",
   "metadata": {},
   "source": [
    "Load the inferred Pword"
   ]
  },
  {
   "cell_type": "code",
   "execution_count": null,
   "metadata": {
    "collapsed": false
   },
   "outputs": [],
   "source": [
    "path = os.path.join(os.getcwd(), \"..\", \"param\", \"artificial\", \"beta.dat\")\n",
    "beta = pd.read_table(path, sep=\" \", header = None)\n",
    "beta = beta.div(beta.sum(1),0)\n",
    "\n",
    "plt.figure(1, figsize=(10,10))\n",
    "colors = iter(cm.rainbow(np.linspace(0, 1, num_topics+1)))\n",
    "word_ids = range(num_words)\n",
    "\n",
    "for k in range(num_topics):\n",
    "    plt.bar(word_ids, beta.loc[k].values, color=next(colors), alpha=0.4, edgecolor = \"none\")\n",
    "    \n",
    "plt.xlim(0, num_words)\n",
    "plt.ylim(0,1)\n",
    "plt.show()"
   ]
  },
  {
   "cell_type": "code",
   "execution_count": 83,
   "metadata": {
    "collapsed": false
   },
   "outputs": [
    {
     "data": {
      "text/plain": [
       "0    0.032670\n",
       "1    0.008945\n",
       "2    0.032533\n",
       "3    0.116847\n",
       "4    0.023655\n",
       "5    0.085884\n",
       "6    0.185510\n",
       "7    0.244405\n",
       "8    0.269551\n",
       "Name: 1, dtype: float64"
      ]
     },
     "execution_count": 83,
     "metadata": {},
     "output_type": "execute_result"
    }
   ],
   "source": [
    "beta.loc[1]"
   ]
  },
  {
   "cell_type": "code",
   "execution_count": 47,
   "metadata": {
    "collapsed": false
   },
   "outputs": [
    {
     "data": {
      "text/plain": [
       "0    0.151708\n",
       "1    0.006457\n",
       "2    0.180131\n",
       "dtype: float64"
      ]
     },
     "execution_count": 47,
     "metadata": {},
     "output_type": "execute_result"
    }
   ],
   "source": [
    "(Pword - beta).abs().sum(1)/10"
   ]
  },
  {
   "cell_type": "code",
   "execution_count": null,
   "metadata": {
    "collapsed": true
   },
   "outputs": [],
   "source": []
  }
 ],
 "metadata": {
  "anaconda-cloud": {},
  "kernelspec": {
   "display_name": "Python [conda root]",
   "language": "python",
   "name": "conda-root-py"
  },
  "language_info": {
   "codemirror_mode": {
    "name": "ipython",
    "version": 3
   },
   "file_extension": ".py",
   "mimetype": "text/x-python",
   "name": "python",
   "nbconvert_exporter": "python",
   "pygments_lexer": "ipython3",
   "version": "3.5.2"
  }
 },
 "nbformat": 4,
 "nbformat_minor": 0
}

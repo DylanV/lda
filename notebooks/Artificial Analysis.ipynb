{
 "cells": [
  {
   "cell_type": "code",
   "execution_count": 1,
   "metadata": {
    "collapsed": true
   },
   "outputs": [],
   "source": [
    "import numpy as np\n",
    "import matplotlib.pyplot as plt\n",
    "import matplotlib.cm as cm\n",
    "import pandas as pd\n",
    "import os\n",
    "%matplotlib inline"
   ]
  },
  {
   "cell_type": "markdown",
   "metadata": {},
   "source": [
    "The word topic probability matrix"
   ]
  },
  {
   "cell_type": "code",
   "execution_count": 2,
   "metadata": {
    "collapsed": false
   },
   "outputs": [
    {
     "data": {
      "text/plain": [
       "array([[ 0.2,  0.2,  0.5,  0. ,  0. ,  0. ,  0. ,  0. ,  0. ,  0.1],\n",
       "       [ 0. ,  0. ,  0. ,  0.3,  0.3,  0.3,  0. ,  0. ,  0. ,  0.1],\n",
       "       [ 0. ,  0. ,  0. ,  0. ,  0. ,  0. ,  0.2,  0.3,  0.4,  0.1]])"
      ]
     },
     "execution_count": 2,
     "metadata": {},
     "output_type": "execute_result"
    }
   ],
   "source": [
    "Pword = np.zeros((3,10))\n",
    "Pword[0][0] = 0.2\n",
    "Pword[0][1] = 0.2\n",
    "Pword[0][2] = 0.5\n",
    "Pword[0][9] = 0.1\n",
    "\n",
    "Pword[1][3] = 0.3\n",
    "Pword[1][4] = 0.3\n",
    "Pword[1][5] = 0.3\n",
    "Pword[1][9] = 0.1\n",
    "\n",
    "Pword[2][6] = 0.2\n",
    "Pword[2][7] = 0.3\n",
    "Pword[2][8] = 0.4\n",
    "Pword[2][9] = 0.1\n",
    "Pword"
   ]
  },
  {
   "cell_type": "code",
   "execution_count": 3,
   "metadata": {
    "collapsed": false
   },
   "outputs": [
    {
     "data": {
      "image/png": "[encoded data removed]",
      "text/plain": [
       "<matplotlib.figure.Figure at 0x106285fd0>"
      ]
     },
     "metadata": {},
     "output_type": "display_data"
    }
   ],
   "source": [
    "num_topics = 3\n",
    "num_words = 10\n",
    "\n",
    "plt.figure(1, figsize=(10,10))\n",
    "colors = iter(cm.rainbow(np.linspace(0, 1, num_topics+1)))\n",
    "word_ids = xrange(num_words)\n",
    "\n",
    "for k in xrange(num_topics):\n",
    "    plt.bar(word_ids, Pword[k], color=next(colors), alpha=0.4, edgecolor = \"none\")\n",
    "    \n",
    "plt.xlim(0, num_words)\n",
    "plt.ylim(0,1)\n",
    "plt.show()"
   ]
  },
  {
   "cell_type": "markdown",
   "metadata": {},
   "source": [
    "Generate documents"
   ]
  },
  {
   "cell_type": "code",
   "execution_count": 14,
   "metadata": {
    "collapsed": false
   },
   "outputs": [],
   "source": [
    "alpha = (0.01, 0.01, 0.01)\n",
    "#alpha = (1.0, 1.0, 1.0)\n",
    "numDocs = 150\n",
    "numWords = 10\n",
    "\n",
    "corpus_path = os.path.join(os.getcwd(), \"..\", \"datasets\", \"artificial.dat\")\n",
    "fo = open(corpus_path, \"w\")\n",
    "\n",
    "for d in xrange(numDocs):\n",
    "    topics = np.random.dirichlet(alpha, 1)\n",
    "    word_counts = np.zeros(10)\n",
    "    for w in xrange(numWords):\n",
    "        word_topic = np.random.multinomial(1, topics[0].round(2), size=1)\n",
    "        topic =  word_topic[0].nonzero()[0][0]\n",
    "        word = np.random.multinomial(1, Pword[topic], size=1)[0].nonzero()[0][0]\n",
    "        word_counts[word] = word_counts[word] + 1\n",
    "    \n",
    "    doc_line = str(len(word_counts.nonzero()[0])) + \" \"\n",
    "    for w in xrange(10):\n",
    "        if(word_counts[w] != 0):\n",
    "            doc_line += str(w) + \":\" + str(int(word_counts[w])) + \" \"\n",
    "    if(d != numDocs - 1):\n",
    "        doc_line += \"\\n\"\n",
    "    fo.write(doc_line)\n",
    "fo.close()"
   ]
  },
  {
   "cell_type": "markdown",
   "metadata": {},
   "source": [
    "Load the inferred Pword"
   ]
  },
  {
   "cell_type": "code",
   "execution_count": 51,
   "metadata": {
    "collapsed": false
   },
   "outputs": [
    {
     "data": {
      "image/png": "[encoded data removed]",
      "text/plain": [
       "<matplotlib.figure.Figure at 0x106aa2f50>"
      ]
     },
     "metadata": {},
     "output_type": "display_data"
    }
   ],
   "source": [
    "path = os.path.join(os.getcwd(), \"..\", \"param\", \"artificial\", \"beta.dat\")\n",
    "beta = pd.read_table(path, sep=\" \", header = None)\n",
    "\n",
    "plt.figure(1, figsize=(10,10))\n",
    "colors = iter(cm.rainbow(np.linspace(0, 1, num_topics+1)))\n",
    "word_ids = xrange(num_words)\n",
    "\n",
    "for k in xrange(num_topics):\n",
    "    plt.bar(word_ids, beta.loc[k].values, color=next(colors), alpha=0.4, edgecolor = \"none\")\n",
    "    \n",
    "plt.xlim(0, num_words)\n",
    "plt.ylim(0,1)\n",
    "plt.show()"
   ]
  },
  {
   "cell_type": "code",
   "execution_count": 52,
   "metadata": {
    "collapsed": false
   },
   "outputs": [
    {
     "data": {
      "text/html": [
       "<div>\n",
       "<table border=\"1\" class=\"dataframe\">\n",
       "  <thead>\n",
       "    <tr style=\"text-align: right;\">\n",
       "      <th></th>\n",
       "      <th>0</th>\n",
       "      <th>1</th>\n",
       "      <th>2</th>\n",
       "      <th>3</th>\n",
       "      <th>4</th>\n",
       "      <th>5</th>\n",
       "      <th>6</th>\n",
       "      <th>7</th>\n",
       "      <th>8</th>\n",
       "      <th>9</th>\n",
       "    </tr>\n",
       "  </thead>\n",
       "  <tbody>\n",
       "    <tr>\n",
       "      <th>0</th>\n",
       "      <td>1.870940e-01</td>\n",
       "      <td>1.871160e-01</td>\n",
       "      <td>5.348230e-01</td>\n",
       "      <td>9.062960e-08</td>\n",
       "      <td>7.640800e-13</td>\n",
       "      <td>9.518460e-16</td>\n",
       "      <td>1.749200e-21</td>\n",
       "      <td>5.208720e-21</td>\n",
       "      <td>3.052700e-21</td>\n",
       "      <td>0.090967</td>\n",
       "    </tr>\n",
       "    <tr>\n",
       "      <th>1</th>\n",
       "      <td>4.196970e-15</td>\n",
       "      <td>4.599170e-18</td>\n",
       "      <td>3.093870e-03</td>\n",
       "      <td>3.025160e-01</td>\n",
       "      <td>2.953290e-01</td>\n",
       "      <td>2.841780e-01</td>\n",
       "      <td>3.060720e-13</td>\n",
       "      <td>2.269380e-12</td>\n",
       "      <td>1.039180e-14</td>\n",
       "      <td>0.114883</td>\n",
       "    </tr>\n",
       "    <tr>\n",
       "      <th>2</th>\n",
       "      <td>4.569550e-23</td>\n",
       "      <td>1.506100e-23</td>\n",
       "      <td>5.905080e-21</td>\n",
       "      <td>1.128120e-12</td>\n",
       "      <td>3.982360e-16</td>\n",
       "      <td>8.316670e-16</td>\n",
       "      <td>1.812600e-01</td>\n",
       "      <td>3.132220e-01</td>\n",
       "      <td>3.911750e-01</td>\n",
       "      <td>0.114344</td>\n",
       "    </tr>\n",
       "  </tbody>\n",
       "</table>\n",
       "</div>"
      ],
      "text/plain": [
       "              0             1             2             3             4  \\\n",
       "0  1.870940e-01  1.871160e-01  5.348230e-01  9.062960e-08  7.640800e-13   \n",
       "1  4.196970e-15  4.599170e-18  3.093870e-03  3.025160e-01  2.953290e-01   \n",
       "2  4.569550e-23  1.506100e-23  5.905080e-21  1.128120e-12  3.982360e-16   \n",
       "\n",
       "              5             6             7             8         9  \n",
       "0  9.518460e-16  1.749200e-21  5.208720e-21  3.052700e-21  0.090967  \n",
       "1  2.841780e-01  3.060720e-13  2.269380e-12  1.039180e-14  0.114883  \n",
       "2  8.316670e-16  1.812600e-01  3.132220e-01  3.911750e-01  0.114344  "
      ]
     },
     "execution_count": 52,
     "metadata": {},
     "output_type": "execute_result"
    }
   ],
   "source": [
    "beta"
   ]
  },
  {
   "cell_type": "code",
   "execution_count": 53,
   "metadata": {
    "collapsed": false
   },
   "outputs": [
    {
     "data": {
      "text/plain": [
       "0    0.006965\n",
       "1    0.004099\n",
       "2    0.005513\n",
       "dtype: float64"
      ]
     },
     "execution_count": 53,
     "metadata": {},
     "output_type": "execute_result"
    }
   ],
   "source": [
    "(Pword - beta).abs().sum(1)/10"
   ]
  },
  {
   "cell_type": "code",
   "execution_count": null,
   "metadata": {
    "collapsed": true
   },
   "outputs": [],
   "source": []
  }
 ],
 "metadata": {
  "kernelspec": {
   "display_name": "Python 2",
   "language": "python",
   "name": "python2"
  },
  "language_info": {
   "codemirror_mode": {
    "name": "ipython",
    "version": 2
   },
   "file_extension": ".py",
   "mimetype": "text/x-python",
   "name": "python",
   "nbconvert_exporter": "python",
   "pygments_lexer": "ipython2",
   "version": "2.7.10"
  }
 },
 "nbformat": 4,
 "nbformat_minor": 0
}

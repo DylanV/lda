{
 "cells": [
  {
   "cell_type": "code",
   "execution_count": 16,
   "metadata": {
    "collapsed": true
   },
   "outputs": [],
   "source": [
    "import numpy as np\n",
    "import matplotlib.pyplot as plt\n",
    "import matplotlib.cm as cm\n",
    "import pandas as pd\n",
    "import os\n",
    "%matplotlib inline"
   ]
  },
  {
   "cell_type": "markdown",
   "metadata": {},
   "source": [
    "The word topic probability matrix"
   ]
  },
  {
   "cell_type": "code",
   "execution_count": 90,
   "metadata": {
    "collapsed": false
   },
   "outputs": [
    {
     "data": {
      "text/plain": [
       "array([[ 0.2,  0.2,  0.5,  0. ,  0. ,  0. ,  0. ,  0. ,  0. ,  0.1],\n",
       "       [ 0. ,  0. ,  0. ,  0.3,  0.3,  0.3,  0. ,  0. ,  0. ,  0.1],\n",
       "       [ 0. ,  0. ,  0. ,  0. ,  0. ,  0. ,  0.2,  0.3,  0.4,  0.1]])"
      ]
     },
     "execution_count": 90,
     "metadata": {},
     "output_type": "execute_result"
    }
   ],
   "source": [
    "Pword = np.zeros((3,10))\n",
    "Pword[0][0] = 0.2\n",
    "Pword[0][1] = 0.2\n",
    "Pword[0][2] = 0.5\n",
    "Pword[0][9] = 0.1\n",
    "\n",
    "Pword[1][3] = 0.3\n",
    "Pword[1][4] = 0.3\n",
    "Pword[1][5] = 0.3\n",
    "Pword[1][9] = 0.1\n",
    "\n",
    "Pword[2][6] = 0.2\n",
    "Pword[2][7] = 0.3\n",
    "Pword[2][8] = 0.4\n",
    "Pword[2][9] = 0.1\n",
    "Pword"
   ]
  },
  {
   "cell_type": "code",
   "execution_count": 98,
   "metadata": {
    "collapsed": false
   },
   "outputs": [
    {
     "data": {
      "image/png": "[encoded data removed]",
      "text/plain": [
       "<matplotlib.figure.Figure at 0x105bd9250>"
      ]
     },
     "metadata": {},
     "output_type": "display_data"
    }
   ],
   "source": [
    "num_topics = 3\n",
    "num_words = 10\n",
    "\n",
    "plt.figure(1, figsize=(10,10))\n",
    "colors = iter(cm.rainbow(np.linspace(0, 1, num_topics+1)))\n",
    "word_ids = xrange(num_words)\n",
    "\n",
    "for k in xrange(num_topics):\n",
    "    plt.bar(word_ids, Pword[k], color=next(colors), alpha=0.4, edgecolor = \"none\")\n",
    "    \n",
    "plt.xlim(0, num_words)\n",
    "plt.ylim(0,1)\n",
    "plt.show()"
   ]
  },
  {
   "cell_type": "markdown",
   "metadata": {},
   "source": [
    "Generate documents"
   ]
  },
  {
   "cell_type": "code",
   "execution_count": 135,
   "metadata": {
    "collapsed": false
   },
   "outputs": [],
   "source": [
    "alpha = (0.01, 0.01, 0.01)\n",
    "#alpha = (1.0, 1.0, 1.0)\n",
    "numDocs = 100\n",
    "numWords = 20\n",
    "\n",
    "corpus_path = os.path.join(os.getcwd(), \"..\", \"datasets\", \"artificial.dat\")\n",
    "fo = open(corpus_path, \"w\")\n",
    "\n",
    "for d in xrange(numDocs):\n",
    "    topics = np.random.dirichlet(alpha, 1)\n",
    "    word_counts = np.zeros(10)\n",
    "    for w in xrange(numWords):\n",
    "        word_topic = np.random.multinomial(1, topics[0].round(2), size=1)\n",
    "        topic =  word_topic[0].nonzero()[0][0]\n",
    "        word = np.random.multinomial(1, Pword[topic], size=1)[0].nonzero()[0][0]\n",
    "        word_counts[word] = word_counts[word] + 1\n",
    "    \n",
    "    doc_line = str(len(word_counts.nonzero()[0])) + \" \"\n",
    "    for w in xrange(10):\n",
    "        if(word_counts[w] != 0):\n",
    "            doc_line += str(w) + \":\" + str(int(word_counts[w])) + \" \"\n",
    "    if(d != numDocs - 1):\n",
    "        doc_line += \"\\n\"\n",
    "    fo.write(doc_line)\n",
    "fo.close()"
   ]
  },
  {
   "cell_type": "markdown",
   "metadata": {},
   "source": [
    "Load the inferred Pword"
   ]
  },
  {
   "cell_type": "code",
   "execution_count": 141,
   "metadata": {
    "collapsed": false
   },
   "outputs": [
    {
     "data": {
      "image/png": "[encoded data removed]",
      "text/plain": [
       "<matplotlib.figure.Figure at 0x1059b5d50>"
      ]
     },
     "metadata": {},
     "output_type": "display_data"
    }
   ],
   "source": [
    "path = os.path.join(os.getcwd(), \"..\", \"param\", \"artificial\", \"beta.dat\")\n",
    "beta = pd.read_table(path, sep=\" \", header = None)\n",
    "\n",
    "plt.figure(1, figsize=(10,10))\n",
    "colors = iter(cm.rainbow(np.linspace(0, 1, num_topics+1)))\n",
    "word_ids = xrange(num_words)\n",
    "\n",
    "for k in xrange(num_topics):\n",
    "    plt.bar(word_ids, beta.loc[k].values, color=next(colors), alpha=0.4, edgecolor = \"none\")\n",
    "    \n",
    "plt.xlim(0, num_words)\n",
    "plt.ylim(0,1)\n",
    "plt.show()"
   ]
  },
  {
   "cell_type": "code",
   "execution_count": null,
   "metadata": {
    "collapsed": true
   },
   "outputs": [],
   "source": []
  }
 ],
 "metadata": {
  "kernelspec": {
   "display_name": "Python 2",
   "language": "python",
   "name": "python2"
  },
  "language_info": {
   "codemirror_mode": {
    "name": "ipython",
    "version": 2
   },
   "file_extension": ".py",
   "mimetype": "text/x-python",
   "name": "python",
   "nbconvert_exporter": "python",
   "pygments_lexer": "ipython2",
   "version": "2.7.10"
  }
 },
 "nbformat": 4,
 "nbformat_minor": 0
}
